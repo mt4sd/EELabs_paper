{
 "cells": [
  {
   "cell_type": "markdown",
   "metadata": {},
   "source": [
    "# Bibliotecas"
   ]
  },
  {
   "cell_type": "code",
   "execution_count": 1,
   "metadata": {},
   "outputs": [],
   "source": [
    "import numpy as np\n",
    "import pandas as pd"
   ]
  },
  {
   "cell_type": "code",
   "execution_count": 2,
   "metadata": {},
   "outputs": [],
   "source": [
    "import plotly.express as px\n",
    "from plotly.subplots import make_subplots\n",
    "import plotly.graph_objects as go "
   ]
  },
  {
   "cell_type": "code",
   "execution_count": 3,
   "metadata": {},
   "outputs": [],
   "source": [
    "import matplotlib.pyplot as plt"
   ]
  },
  {
   "cell_type": "code",
   "execution_count": 4,
   "metadata": {},
   "outputs": [
    {
     "name": "stderr",
     "output_type": "stream",
     "text": [
      "<frozen importlib._bootstrap>:219: RuntimeWarning: scipy._lib.messagestream.MessageStream size changed, may indicate binary incompatibility. Expected 56 from C header, got 64 from PyObject\n"
     ]
    }
   ],
   "source": [
    "from sklearn.linear_model import LinearRegression\n",
    "from sklearn.model_selection import train_test_split\n",
    "from sklearn.linear_model import RANSACRegressor\n",
    "from sklearn.metrics import mean_squared_error"
   ]
  },
  {
   "cell_type": "code",
   "execution_count": 5,
   "metadata": {
    "scrolled": true
   },
   "outputs": [
    {
     "name": "stdout",
     "output_type": "stream",
     "text": [
      "Requirement already satisfied: folium in c:\\users\\borja\\anaconda3\\envs\\eelabs2\\lib\\site-packages (0.14.0)\n",
      "Requirement already satisfied: branca>=0.6.0 in c:\\users\\borja\\anaconda3\\envs\\eelabs2\\lib\\site-packages (from folium) (0.6.0)\n",
      "Requirement already satisfied: jinja2>=2.9 in c:\\users\\borja\\anaconda3\\envs\\eelabs2\\lib\\site-packages (from folium) (3.1.2)\n",
      "Requirement already satisfied: numpy in c:\\users\\borja\\anaconda3\\envs\\eelabs2\\lib\\site-packages (from folium) (1.22.4)\n",
      "Requirement already satisfied: requests in c:\\users\\borja\\anaconda3\\envs\\eelabs2\\lib\\site-packages (from folium) (2.26.0)\n",
      "Requirement already satisfied: MarkupSafe>=2.0 in c:\\users\\borja\\anaconda3\\envs\\eelabs2\\lib\\site-packages (from jinja2>=2.9->folium) (2.1.1)\n",
      "Requirement already satisfied: urllib3<1.27,>=1.21.1 in c:\\users\\borja\\anaconda3\\envs\\eelabs2\\lib\\site-packages (from requests->folium) (1.26.16)\n",
      "Requirement already satisfied: certifi>=2017.4.17 in c:\\users\\borja\\anaconda3\\envs\\eelabs2\\lib\\site-packages (from requests->folium) (2023.5.7)\n",
      "Requirement already satisfied: charset-normalizer~=2.0.0 in c:\\users\\borja\\anaconda3\\envs\\eelabs2\\lib\\site-packages (from requests->folium) (2.0.12)\n",
      "Requirement already satisfied: idna<4,>=2.5 in c:\\users\\borja\\anaconda3\\envs\\eelabs2\\lib\\site-packages (from requests->folium) (3.4)\n",
      "Note: you may need to restart the kernel to use updated packages.\n"
     ]
    }
   ],
   "source": [
    "pip install folium"
   ]
  },
  {
   "cell_type": "code",
   "execution_count": 6,
   "metadata": {},
   "outputs": [],
   "source": [
    "import folium\n",
    "import branca"
   ]
  },
  {
   "cell_type": "markdown",
   "metadata": {},
   "source": [
    "# Direcciones"
   ]
  },
  {
   "cell_type": "markdown",
   "metadata": {},
   "source": [
    "### DIRECCIÓN DEL CSV DE DATOS SATELLITE UBICACIÓN FOTÓEMTROS"
   ]
  },
  {
   "cell_type": "markdown",
   "metadata": {},
   "source": [
    "Indicar carpeta ubicación de la Satellite_records.csv creada por el script de descarga de los datos de satellite"
   ]
  },
  {
   "cell_type": "code",
   "execution_count": 7,
   "metadata": {},
   "outputs": [],
   "source": [
    "input_satellite_fotometros=r'C:\\Users\\borja\\OneDrive\\Escritorio\\Trabajo\\EELabs\\Datos_CSVs\\Articulo\\Satellite_records.csv'"
   ]
  },
  {
   "cell_type": "markdown",
   "metadata": {},
   "source": [
    "### DIRECCIÓN DEL CSV DE DATOS SATELLITE VALVERDE BURGUILLOS"
   ]
  },
  {
   "cell_type": "markdown",
   "metadata": {},
   "source": [
    "Indicar carpeta ubicación del archivo de los datos del VIIRS de Valverde"
   ]
  },
  {
   "cell_type": "code",
   "execution_count": 8,
   "metadata": {},
   "outputs": [],
   "source": [
    "input_satellite_valverde=r'C:\\Users\\borja\\OneDrive\\Escritorio\\Trabajo\\EELabs\\Datos_CSVs\\Articulo\\Data_tile_VIIRS.csv'"
   ]
  },
  {
   "cell_type": "markdown",
   "metadata": {},
   "source": [
    "### DIRECCIÓN DE CARPETA DATOS SCRIPT DESCARGA EELabs"
   ]
  },
  {
   "cell_type": "markdown",
   "metadata": {},
   "source": [
    "Indicar carpeta ubicación de la carpeta Datos_fotometros creada por el script de descarga de los datos de los fotómetros de EELabs"
   ]
  },
  {
   "cell_type": "code",
   "execution_count": 9,
   "metadata": {},
   "outputs": [],
   "source": [
    "input_EELAbs=r'C:\\Users\\borja\\OneDrive\\Escritorio\\Trabajo\\EELabs\\Datos_CSVs\\Articulo\\Photometer_data'"
   ]
  },
  {
   "cell_type": "markdown",
   "metadata": {},
   "source": [
    "### DIRECCIÓN DE GUARDADO DE LOS DATOS DE LAS FIGUARAS"
   ]
  },
  {
   "cell_type": "markdown",
   "metadata": {},
   "source": [
    "Poner la carpeta donde se quieran guardar las figuras"
   ]
  },
  {
   "cell_type": "code",
   "execution_count": 10,
   "metadata": {},
   "outputs": [],
   "source": [
    "output=r'C:\\Users\\borja\\OneDrive\\Escritorio\\Trabajo\\EELabs\\Datos_CSVs\\Articulo\\Figuras'"
   ]
  },
  {
   "cell_type": "markdown",
   "metadata": {},
   "source": [
    "# Datos satelite"
   ]
  },
  {
   "cell_type": "code",
   "execution_count": 11,
   "metadata": {},
   "outputs": [],
   "source": [
    "Registros_cor=pd.read_csv(input_satellite_fotometros)"
   ]
  },
  {
   "cell_type": "code",
   "execution_count": 12,
   "metadata": {},
   "outputs": [],
   "source": [
    "Registros_corr_r=Registros_cor[['name','DNB_BRDF_Corrected_NTL','Cloud_Detection_Results','Shadow_Detected','Cirrus_Detection','Date']]"
   ]
  },
  {
   "cell_type": "code",
   "execution_count": 13,
   "metadata": {},
   "outputs": [],
   "source": [
    "Registros_corr_F=Registros_corr_r[(Registros_corr_r['Cloud_Detection_Results']=='Confident_clear') & (Registros_corr_r['Shadow_Detected']=='No') & (Registros_corr_r['Cirrus_Detection']=='No_cloud')]"
   ]
  },
  {
   "cell_type": "code",
   "execution_count": 14,
   "metadata": {},
   "outputs": [],
   "source": [
    "Registros_corr_F=Registros_corr_F.dropna()"
   ]
  },
  {
   "cell_type": "code",
   "execution_count": 15,
   "metadata": {},
   "outputs": [
    {
     "name": "stderr",
     "output_type": "stream",
     "text": [
      "c:\\Users\\borja\\anaconda3\\envs\\EELabs2\\lib\\site-packages\\pandas\\core\\arraylike.py:397: RuntimeWarning: divide by zero encountered in log10\n",
      "  result = getattr(ufunc, method)(*inputs, **kwargs)\n"
     ]
    }
   ],
   "source": [
    "Registros_corr_F['DNB_BRDF_Corrected_NTL_log']=np.log10(Registros_corr_F['DNB_BRDF_Corrected_NTL'])"
   ]
  },
  {
   "cell_type": "code",
   "execution_count": 16,
   "metadata": {},
   "outputs": [
    {
     "name": "stderr",
     "output_type": "stream",
     "text": [
      "C:\\Users\\borja\\AppData\\Local\\Temp\\ipykernel_7472\\3028604821.py:5: FutureWarning: Dropping invalid columns in DataFrameGroupBy.quantile is deprecated. In a future version, a TypeError will be raised. Before calling .quantile, select only columns which should be valid for the function.\n",
      "  Sat['Q1_sat']=Registros_corr_F.groupby(['name']).quantile(.25)['DNB_BRDF_Corrected_NTL_log'].values\n",
      "C:\\Users\\borja\\AppData\\Local\\Temp\\ipykernel_7472\\3028604821.py:6: FutureWarning: Dropping invalid columns in DataFrameGroupBy.quantile is deprecated. In a future version, a TypeError will be raised. Before calling .quantile, select only columns which should be valid for the function.\n",
      "  Sat['Q3_sat']=Registros_corr_F.groupby(['name']).quantile(.75)['DNB_BRDF_Corrected_NTL_log'].values\n"
     ]
    }
   ],
   "source": [
    "R=Registros_corr_F.groupby(['name']).median()\n",
    "Sat=pd.DataFrame(R.index)\n",
    "Sat['DNB_BRDF_Corrected_NTL_P50']=R['DNB_BRDF_Corrected_NTL'].values\n",
    "Sat['DNB_BRDF_Corrected_NTL_log_P50']=R['DNB_BRDF_Corrected_NTL_log'].values\n",
    "Sat['Q1_sat']=Registros_corr_F.groupby(['name']).quantile(.25)['DNB_BRDF_Corrected_NTL_log'].values\n",
    "Sat['Q3_sat']=Registros_corr_F.groupby(['name']).quantile(.75)['DNB_BRDF_Corrected_NTL_log'].values\n",
    "Sat['E_sist_sat']=0.1/(Sat['DNB_BRDF_Corrected_NTL_P50']*np.log(10))\n",
    "Sat=Sat[['name','DNB_BRDF_Corrected_NTL_log_P50','Q1_sat','Q3_sat','E_sist_sat']]"
   ]
  },
  {
   "cell_type": "markdown",
   "metadata": {},
   "source": [
    "Menores de 500 datos aplicando filtro galaxia y zodiacal a luminosos y oscuros. El listado se obteien del notebook Paper_1"
   ]
  },
  {
   "cell_type": "code",
   "execution_count": 17,
   "metadata": {},
   "outputs": [],
   "source": [
    "Menores500={'LPL15_004','LPL15_009','LPL15_011','LPL15_014','LPL15_015','LPL15_017','LPL15_018','LPL15_021','LPL15_022','LPL15_023','LPL15_024','LPL15_025','LPL15_026','LPL15_027','LPL15_029','LPL15_030','LPL15_031','LPL15_032','LPL15_035','LPL15_040','LPL16_001','LPL16_003','LPL1_004','LPL1_009','LPL1_010','LPL1_023','LPL1_049','LPL2_003','LPL2_004','LPL2_020','LPL2_025','LPL2_026','LPL3_101','LPL3_102','LPL3_103','LPL3_106','LPL3_112','LPL3_114','LPL3_118','LPL3_121','LPL3_123','LPL3_125','LPL4_103','LPL4_107','LPL4_114','LPL4_115','LPL4_116','LPL5_112','LPL8_005','LW_374','LW_391','LW_397','SG_088','SG_226','stars201','stars218','stars238','stars250','stars258','stars259','stars262','stars275','stars315','stars337','stars34','stars355','stars379','stars384','stars387','stars4','stars464','stars465','stars467','stars490','stars498','stars517','stars554','stars609','stars654','stars662','stars665','stars768','stars773','stars774','stars780','stars788','stars791','stars88','stars983'}"
   ]
  },
  {
   "cell_type": "markdown",
   "metadata": {},
   "source": [
    "# Fotomeros"
   ]
  },
  {
   "cell_type": "code",
   "execution_count": 18,
   "metadata": {},
   "outputs": [],
   "source": [
    "Fotometros_registros=pd.DataFrame()\n",
    "for i in range(1,4):\n",
    "    A=pd.read_csv(input_EELAbs+'\\Records\\Records_'+str(i)+'.csv')\n",
    "    Fotometros_registros=pd.concat([Fotometros_registros,A])"
   ]
  },
  {
   "cell_type": "code",
   "execution_count": 19,
   "metadata": {},
   "outputs": [],
   "source": [
    "Fotometros=pd.read_csv(input_EELAbs+'\\All_devices.csv')\n",
    "Fotometros=Fotometros.drop_duplicates()"
   ]
  },
  {
   "cell_type": "markdown",
   "metadata": {},
   "source": [
    "# Reevaluación filtro galaxia"
   ]
  },
  {
   "cell_type": "markdown",
   "metadata": {},
   "source": [
    "Filtar por luna y nubes, y los fotómetros con menos de 500 datos. También stars679 y stars4 por ser fotómetros anómalos"
   ]
  },
  {
   "cell_type": "code",
   "execution_count": 20,
   "metadata": {},
   "outputs": [],
   "source": [
    "data=Fotometros_registros[(Fotometros_registros['clouds']==False) & (Fotometros_registros['moon']==False)]"
   ]
  },
  {
   "cell_type": "code",
   "execution_count": 21,
   "metadata": {},
   "outputs": [],
   "source": [
    "data=data[~data['name'].isin(Menores500|{'stars679'}|{'stars4'})]"
   ]
  },
  {
   "cell_type": "markdown",
   "metadata": {},
   "source": [
    "Añade el día procurando que correspondan a una única noche, es decir si la noche coincide con el cambio de día lo enmarcar todo en el mismo"
   ]
  },
  {
   "cell_type": "code",
   "execution_count": 22,
   "metadata": {},
   "outputs": [
    {
     "name": "stderr",
     "output_type": "stream",
     "text": [
      "C:\\Users\\borja\\AppData\\Local\\Temp\\ipykernel_7472\\3207899305.py:8: SettingWithCopyWarning: \n",
      "A value is trying to be set on a copy of a slice from a DataFrame.\n",
      "Try using .loc[row_indexer,col_indexer] = value instead\n",
      "\n",
      "See the caveats in the documentation: https://pandas.pydata.org/pandas-docs/stable/user_guide/indexing.html#returning-a-view-versus-a-copy\n",
      "  data_2[data_2['hora_x']<12]['hora_x']=1\n"
     ]
    }
   ],
   "source": [
    "data['time']=pd.to_datetime(data['time'])\n",
    "data['hora']=data['time'].dt.hour\n",
    "c=data.groupby(['name']).min()[['hora']]\n",
    "c[c['hora']==0]=-1\n",
    "c[c['hora']>-1]=0\n",
    "c[c['hora']==-1]=1\n",
    "data_2=data.merge(c,right_on=['name'],left_on=['name'])\n",
    "data_2[data_2['hora_x']<12]['hora_x']=1\n",
    "data_2.loc[data_2['hora_x']<12, 'hora_x']=1\n",
    "data_2.loc[data_2['hora_x']>12, 'hora_x']=0\n",
    "data_2['dia']=data_2['time'].dt.dayofyear-data_2['hora_x']*data_2['hora_y']\n",
    "data_2=data_2[list(data_2.columns[:7])+['dia']]"
   ]
  },
  {
   "cell_type": "markdown",
   "metadata": {},
   "source": [
    "Función para calcular las P50 diarias cuando hay galaxia y cuando no"
   ]
  },
  {
   "cell_type": "code",
   "execution_count": 23,
   "metadata": {},
   "outputs": [],
   "source": [
    "def P50_diarias_galaxia(galaxy_bool):\n",
    "    p50=data_2[data_2['galaxy']==galaxy_bool].groupby(['name','dia']).median()[['mag']]\n",
    "    n=data_2[data_2['galaxy']==galaxy_bool].groupby(['name','dia']).count()[['mag']]\n",
    "    Q1=data_2[data_2['galaxy']==galaxy_bool][['name','dia','mag']].groupby(['name','dia']).quantile(.25)[['mag']]\n",
    "    Q3=data_2[data_2['galaxy']==galaxy_bool][['name','dia','mag']].groupby(['name','dia']).quantile(.75)[['mag']]\n",
    "    df=pd.DataFrame(list(p50.index))\n",
    "    df['P50']=p50['mag'].values\n",
    "    df['n']=n['mag'].values\n",
    "    df['Q1']=Q1['mag'].values\n",
    "    df['Q3']=Q3['mag'].values\n",
    "    df['Q3-Q1']=(df['Q3']-df['Q1'])/2\n",
    "    if galaxy_bool:\n",
    "        string='con'\n",
    "    else:\n",
    "        string='sin'\n",
    "    df.columns=list(df.columns[:2])+[i+'_'+string for i in list(df.columns[2:])]\n",
    "    return df\n",
    "    "
   ]
  },
  {
   "cell_type": "markdown",
   "metadata": {},
   "source": [
    "Crea un dataset P50 sin galaxia y la diferencia con galaxia y sin ella diarios y por fotómetro"
   ]
  },
  {
   "cell_type": "code",
   "execution_count": 24,
   "metadata": {},
   "outputs": [],
   "source": [
    "galaxia=P50_diarias_galaxia(True).merge(P50_diarias_galaxia(False),left_on=[0,1],right_on=[0,1])\n",
    "galaxia['Sin-con']=galaxia['P50_sin']-galaxia['P50_con']\n",
    "galaxia['E_Sin-con']=np.sqrt(galaxia['Q3-Q1_sin']**2+galaxia['Q3-Q1_con']**2)\n",
    "galaxia['E_sin']=galaxia['Q3-Q1_sin']\n",
    "galaxia=galaxia.merge(Fotometros[['name','TYPE']],right_on='name',left_on=0)\n",
    "galaxia['n_min']=galaxia['TYPE'].replace('SG',10).replace('TESS-W',50)\n",
    "galaxia=galaxia[(galaxia['n_con']>galaxia['n_min']) & (galaxia['n_sin']>galaxia['n_min'])]\n",
    "galaxia=galaxia[[0,1,'P50_sin','E_sin','Sin-con','E_Sin-con','TYPE']]"
   ]
  },
  {
   "cell_type": "markdown",
   "metadata": {},
   "source": [
    "Realizamos la agrupación por fotómetro"
   ]
  },
  {
   "cell_type": "code",
   "execution_count": 25,
   "metadata": {},
   "outputs": [],
   "source": [
    "G=galaxia.groupby([0]).mean()\n",
    "G=G[['P50_sin','Sin-con']]\n",
    "G=G.reset_index()\n",
    "G.columns=['name','P50_sin_media','Sin-con_media']\n",
    "G=G.merge(galaxia.groupby([0]).std()[['Sin-con','P50_sin']],left_on='name',right_on=0)\n",
    "G.columns=list(G.columns)[:-2]+['std_Sin-con','std_sin']\n",
    "G=G.merge(galaxia.groupby([0]).count()[['Sin-con','P50_sin']],left_on='name',right_on=0)\n",
    "G.columns=list(G.columns)[:-2]+['n_Sin-con','n_sin']\n",
    "G['E_Sin-con']=G['std_Sin-con']/np.sqrt(G['n_Sin-con'])\n",
    "G['E_sin']=G['std_sin']/np.sqrt(G['n_sin'])"
   ]
  },
  {
   "cell_type": "code",
   "execution_count": 26,
   "metadata": {},
   "outputs": [],
   "source": [
    "Er_sin_con=[]\n",
    "Er_sin=[]\n",
    "E_sist=[]\n",
    "for i in G['name']:\n",
    "    Er_sin_con=Er_sin_con+[np.sqrt(sum(galaxia[galaxia[0]==i]['E_Sin-con']**2))/galaxia[galaxia[0]==i].count()[0]]\n",
    "    Er_sin=Er_sin+[np.sqrt(sum(galaxia[galaxia[0]==i]['E_sin']**2))/galaxia[galaxia[0]==i].count()[0]]\n",
    "    E_sist=E_sist+[galaxia[galaxia[0]==i]['TYPE'].values[0]]"
   ]
  },
  {
   "cell_type": "code",
   "execution_count": 27,
   "metadata": {},
   "outputs": [],
   "source": [
    "G['E_Sin-con_previo']=Er_sin_con\n",
    "G['E_sin_previo']=Er_sin\n",
    "G['E_sist']=E_sist\n",
    "G['E_sist']=G['E_sist'].replace({'SG':0.02,'TESS-W':0.04})\n",
    "G['E_Sin_con_total']=np.sqrt(G['E_Sin-con_previo']**2+G['E_Sin-con']**2+G['E_sist']**2)\n",
    "G['E_sin_total']=np.sqrt(G['E_sin_previo']**2+G['E_sin']**2+G['E_sist']**2)"
   ]
  },
  {
   "cell_type": "markdown",
   "metadata": {},
   "source": [
    "Representación dela diferencia con galaxia y sin ella fernte al brillo característico, represetnado por fotómetro"
   ]
  },
  {
   "cell_type": "code",
   "execution_count": 28,
   "metadata": {},
   "outputs": [
    {
     "data": {
      "application/vnd.plotly.v1+json": {
       "config": {
        "plotlyServerURL": "https://plot.ly"
       },
       "data": [
        {
         "customdata": [
          [
           "LPL15_001",
           13
          ],
          [
           "LPL15_002",
           13
          ],
          [
           "LPL15_005",
           28
          ],
          [
           "LPL15_006",
           25
          ],
          [
           "LPL15_007",
           38
          ],
          [
           "LPL15_008",
           21
          ],
          [
           "LPL15_012",
           12
          ],
          [
           "LPL15_020",
           13
          ],
          [
           "LPL15_028",
           11
          ],
          [
           "LPL15_033",
           12
          ],
          [
           "LPL15_036",
           12
          ],
          [
           "LPL15_043",
           35
          ],
          [
           "LPL15_045",
           20
          ],
          [
           "LPL15_046",
           38
          ],
          [
           "LPL15_052",
           13
          ],
          [
           "LPL15_055",
           29
          ],
          [
           "LPL15_057",
           28
          ],
          [
           "LPL15_058",
           11
          ],
          [
           "LPL15_059",
           11
          ],
          [
           "LPL15_064",
           12
          ],
          [
           "LPL15_081",
           11
          ],
          [
           "LPL15_088",
           13
          ],
          [
           "LPL15_090",
           13
          ],
          [
           "LPL15_094",
           13
          ],
          [
           "LPL15_103",
           12
          ],
          [
           "LPL15_105",
           11
          ],
          [
           "LPL15_107",
           11
          ],
          [
           "LPL15_110",
           12
          ],
          [
           "LPL15_117",
           12
          ],
          [
           "LPL1_001",
           20
          ],
          [
           "LPL1_002",
           38
          ],
          [
           "LPL1_003",
           51
          ],
          [
           "LPL1_011",
           28
          ],
          [
           "LPL1_042",
           58
          ],
          [
           "LPL1_044",
           59
          ],
          [
           "LPL1_045",
           39
          ],
          [
           "LPL1_050",
           73
          ],
          [
           "LPL1_051",
           37
          ],
          [
           "LPL1_102",
           38
          ],
          [
           "LPL2_001",
           22
          ],
          [
           "LPL2_002",
           25
          ],
          [
           "LPL2_010",
           25
          ],
          [
           "LPL2_015",
           36
          ],
          [
           "LPL2_016",
           30
          ],
          [
           "LPL2_017",
           40
          ],
          [
           "LPL2_018",
           30
          ],
          [
           "LPL2_022",
           24
          ],
          [
           "LPL2_023",
           40
          ],
          [
           "LPL2_104",
           68
          ],
          [
           "LPL2_105",
           60
          ],
          [
           "LPL2_106",
           72
          ],
          [
           "LPL2_108",
           19
          ],
          [
           "LPL3_104",
           23
          ],
          [
           "LPL3_105",
           11
          ],
          [
           "LPL3_110",
           30
          ],
          [
           "LPL3_111",
           26
          ],
          [
           "LPL3_113",
           24
          ],
          [
           "LPL3_116",
           42
          ],
          [
           "LPL3_119",
           32
          ],
          [
           "LPL3_124",
           54
          ],
          [
           "LPL5_001",
           59
          ],
          [
           "LPL5_002",
           38
          ],
          [
           "LPL5_010",
           39
          ],
          [
           "LPL5_012",
           41
          ],
          [
           "LPL5_013",
           40
          ],
          [
           "LPL5_100",
           21
          ],
          [
           "LPL5_101",
           41
          ],
          [
           "LPL5_102",
           31
          ],
          [
           "LPL5_103",
           17
          ],
          [
           "LPL5_104",
           58
          ],
          [
           "LPL5_105",
           49
          ],
          [
           "LPL5_106",
           65
          ],
          [
           "LPL5_107",
           57
          ],
          [
           "LPL5_109",
           41
          ],
          [
           "LPL8_001",
           52
          ],
          [
           "LPL8_003",
           18
          ],
          [
           "LPL8_004",
           42
          ],
          [
           "LPL8_007",
           53
          ],
          [
           "LPL8_010",
           29
          ],
          [
           "LPL8_011",
           51
          ],
          [
           "LPL8_012",
           42
          ],
          [
           "LW_385",
           28
          ],
          [
           "SG_074",
           45
          ],
          [
           "SG_098",
           42
          ],
          [
           "SG_162",
           47
          ],
          [
           "SG_164",
           37
          ],
          [
           "SG_218",
           40
          ],
          [
           "SG_219",
           41
          ],
          [
           "SG_229",
           59
          ],
          [
           "SG_230",
           36
          ],
          [
           "UEX1_001",
           56
          ],
          [
           "stars1",
           44
          ],
          [
           "stars15",
           32
          ],
          [
           "stars17",
           21
          ],
          [
           "stars18",
           15
          ],
          [
           "stars19",
           22
          ],
          [
           "stars2",
           17
          ],
          [
           "stars202",
           24
          ],
          [
           "stars211",
           25
          ],
          [
           "stars220",
           24
          ],
          [
           "stars221",
           20
          ],
          [
           "stars222",
           22
          ],
          [
           "stars225",
           14
          ],
          [
           "stars246",
           24
          ],
          [
           "stars251",
           47
          ],
          [
           "stars288",
           31
          ],
          [
           "stars289",
           27
          ],
          [
           "stars29",
           27
          ],
          [
           "stars290",
           34
          ],
          [
           "stars291",
           35
          ],
          [
           "stars292",
           20
          ],
          [
           "stars296",
           24
          ],
          [
           "stars312",
           14
          ],
          [
           "stars313",
           23
          ],
          [
           "stars33",
           14
          ],
          [
           "stars334",
           13
          ],
          [
           "stars347",
           41
          ],
          [
           "stars36",
           32
          ],
          [
           "stars382",
           19
          ],
          [
           "stars383",
           21
          ],
          [
           "stars385",
           33
          ],
          [
           "stars391",
           31
          ],
          [
           "stars393",
           18
          ],
          [
           "stars394",
           33
          ],
          [
           "stars40",
           19
          ],
          [
           "stars403",
           18
          ],
          [
           "stars41",
           18
          ],
          [
           "stars411",
           11
          ],
          [
           "stars412",
           21
          ],
          [
           "stars414",
           43
          ],
          [
           "stars417",
           14
          ],
          [
           "stars425",
           13
          ],
          [
           "stars426",
           29
          ],
          [
           "stars427",
           30
          ],
          [
           "stars430",
           15
          ],
          [
           "stars431",
           23
          ],
          [
           "stars434",
           11
          ],
          [
           "stars435",
           29
          ],
          [
           "stars436",
           17
          ],
          [
           "stars44",
           21
          ],
          [
           "stars455",
           13
          ],
          [
           "stars457",
           13
          ],
          [
           "stars459",
           15
          ],
          [
           "stars46",
           14
          ],
          [
           "stars460",
           12
          ],
          [
           "stars473",
           16
          ],
          [
           "stars475",
           11
          ],
          [
           "stars477",
           23
          ],
          [
           "stars486",
           13
          ],
          [
           "stars489",
           11
          ],
          [
           "stars495",
           26
          ],
          [
           "stars505",
           12
          ],
          [
           "stars507",
           33
          ],
          [
           "stars508",
           42
          ],
          [
           "stars51",
           19
          ],
          [
           "stars52",
           44
          ],
          [
           "stars525",
           25
          ],
          [
           "stars555",
           25
          ],
          [
           "stars602",
           24
          ],
          [
           "stars608",
           20
          ],
          [
           "stars612",
           21
          ],
          [
           "stars613",
           18
          ],
          [
           "stars62",
           19
          ],
          [
           "stars628",
           20
          ],
          [
           "stars635",
           28
          ],
          [
           "stars639",
           22
          ],
          [
           "stars64",
           12
          ],
          [
           "stars646",
           20
          ],
          [
           "stars651",
           22
          ],
          [
           "stars652",
           18
          ],
          [
           "stars660",
           17
          ],
          [
           "stars671",
           23
          ],
          [
           "stars676",
           25
          ],
          [
           "stars69",
           15
          ],
          [
           "stars712",
           11
          ],
          [
           "stars714",
           19
          ],
          [
           "stars715",
           29
          ],
          [
           "stars716",
           36
          ],
          [
           "stars722",
           17
          ],
          [
           "stars73",
           22
          ],
          [
           "stars743",
           17
          ],
          [
           "stars746",
           20
          ],
          [
           "stars749",
           12
          ],
          [
           "stars75",
           27
          ],
          [
           "stars76",
           22
          ],
          [
           "stars767",
           13
          ],
          [
           "stars793",
           25
          ],
          [
           "stars8",
           15
          ],
          [
           "stars89",
           22
          ],
          [
           "stars9",
           38
          ],
          [
           "stars90",
           33
          ],
          [
           "stars985",
           11
          ]
         ],
         "error_x": {
          "array": [
           0.09182235741770953,
           0.06311890898611663,
           0.04821242806257426,
           0.031125416730811116,
           0.06366838118146904,
           0.040733119599570614,
           0.09010221829650326,
           0.16228705152659376,
           0.2512754598341748,
           0.34755454361518995,
           0.3988545314687072,
           0.04497215406622784,
           0.026637641627596305,
           0.07565989305605142,
           0.2833282296101708,
           0.04035016480448932,
           0.03854745289271111,
           0.08874887585133681,
           0.16255286274619554,
           0.11773671960115097,
           0.22116324488583014,
           0.25694901232235146,
           0.26444463466901125,
           0.08624461078552284,
           0.08900257115627297,
           0.07453550359719596,
           0.39879960040224666,
           0.2880329526807981,
           0.13760417035848657,
           0.15337529825068588,
           0.07044214737662932,
           0.0643558457709946,
           0.07525039645748839,
           0.044310884636213015,
           0.04192855033704792,
           0.03403725929235161,
           0.0403417824352683,
           0.047476704247767815,
           0.055634278660151304,
           0.03295319657823097,
           0.05138328489564167,
           0.08385767933429446,
           0.067309553886669,
           0.030951692843376063,
           0.036911859911733354,
           0.04180647602202641,
           0.040875884291013354,
           0.036863901099542365,
           0.026305796693090085,
           0.03345525510487902,
           0.05223623819562792,
           0.04677024305461558,
           0.08014579339756696,
           0.24952492722742417,
           0.06113931539699022,
           0.1273777338988068,
           0.10964381050263093,
           0.0717680837326692,
           0.08643321489069292,
           0.0688281708307424,
           0.06314975546500276,
           0.06611209910692165,
           0.0536355537463237,
           0.069142968405598,
           0.05561654483465283,
           0.10641172259302742,
           0.10854615238563071,
           0.11285999927595183,
           0.04108702009340318,
           0.06093082332483432,
           0.05925762730831156,
           0.060636761623680854,
           0.06732781456183129,
           0.14500956806648965,
           0.06639305640383637,
           0.0959727749917869,
           0.07994897086091146,
           0.06509008307518839,
           0.1278384776939167,
           0.05099561468620755,
           0.0847914046772152,
           0.1166116643305313,
           0.08363997405691438,
           0.061109774662140806,
           0.039415115700148856,
           0.03226054162216145,
           0.079532911430747,
           0.09807426267771233,
           0.12001730076701987,
           0.09698401940692868,
           0.11384471152598456,
           0.04558567856123286,
           0.04742423837078619,
           0.046829775992429615,
           0.05954396801510752,
           0.06330536914157232,
           0.060063673682132966,
           0.04657561270758187,
           0.04772255755929281,
           0.04882188698075891,
           0.057738772333607156,
           0.04800089059419102,
           0.046018083148349063,
           0.04712886544672587,
           0.04649763161868763,
           0.04465509685539558,
           0.047438874411432366,
           0.053388658635994284,
           0.059300988139729414,
           0.050706219769268056,
           0.04726043944477404,
           0.14782188442074531,
           0.06522967663790546,
           0.05003047007216577,
           0.05762797384351857,
           0.07036990178281531,
           0.047548866891995174,
           0.14954915076389982,
           0.09994146486264818,
           0.04786503429369407,
           0.044795458389065575,
           0.04440749074346708,
           0.045228988760439154,
           0.06496427463521558,
           0.05805238785849085,
           0.04703230082310816,
           0.0604819673771787,
           0.059337096427080835,
           0.04852319471314786,
           0.04501647995540954,
           0.05350136214686354,
           0.05180488685225687,
           0.044833195817069876,
           0.04464407050896229,
           0.049921307121928375,
           0.05007064791051808,
           0.04838619817214108,
           0.04965859854935688,
           0.052292647451708245,
           0.06432900328207593,
           0.05697748936967791,
           0.05526022132731626,
           0.05060077560733115,
           0.04696917541294231,
           0.05563708407783726,
           0.24180998803295953,
           0.07901807317588656,
           0.045471261855722346,
           0.045855707735816875,
           0.04844935372152095,
           0.04793932135319323,
           0.048214980487752496,
           0.044082528751634216,
           0.045530245035274974,
           0.053333662460030254,
           0.05110936071312738,
           0.04814563843174165,
           0.05057659208237214,
           0.047736065309521514,
           0.04297410193942394,
           0.04684165291538937,
           0.10540690454208979,
           0.046961924380179244,
           0.05273310171464779,
           0.06373917820220228,
           0.04566863307436687,
           0.0537815839052842,
           0.04278030868115915,
           0.07518510808932932,
           0.28059297297885544,
           0.08368903684200969,
           0.06479751615755838,
           0.21444311988652526,
           0.04967515507520876,
           0.077508047436091,
           0.07992239642678489,
           0.053723340752415326,
           0.05797930052200652,
           0.04865369557829715,
           0.044823537118143464,
           0.04409705401736466,
           0.06729607964455528,
           0.2001923963125245,
           0.07108426912459553,
           0.049125908501702766,
           0.06068678986811751,
           0.05945785622326688,
           0.045194882242930834,
           0.05550817743983176,
           0.053107909108025604,
           0.047357847559155286,
           0.33374502813023765
          ]
         },
         "error_y": {
          "array": [
           0.08754887248121346,
           0.05547045520269759,
           0.05452807651596821,
           0.034689329291104215,
           0.05878892841414957,
           0.03729465318866216,
           0.07575191032319688,
           0.15065788053552173,
           0.11172634266662974,
           0.3167801384740351,
           0.37274055062630723,
           0.04764785553416653,
           0.02579228276692367,
           0.06238597672904938,
           0.26976665035222286,
           0.033065960523625086,
           0.05327436700930927,
           0.10626026651906377,
           0.13033846355794065,
           0.22459460682125584,
           0.23865313339345093,
           0.21923073141587618,
           0.23231027768821583,
           0.14782631192479925,
           0.10717370869400412,
           0.06382258426604742,
           0.3290330228707491,
           0.28863500321083635,
           0.11669680452352008,
           0.0920553613643499,
           0.05415883471870747,
           0.048561425232555404,
           0.06008707883613816,
           0.04068551685410264,
           0.0362580603846379,
           0.03887952770957416,
           0.03405638313163658,
           0.042426977991228944,
           0.03614953924559002,
           0.04346005354129788,
           0.05402665090798552,
           0.05611726620806362,
           0.0710316825552418,
           0.03863387164231295,
           0.03585386240167983,
           0.04060215224740736,
           0.04917446896427603,
           0.041936624223010116,
           0.02918666100039579,
           0.03655797935901317,
           0.04358304114312711,
           0.056390841596884525,
           0.09253303268584247,
           0.30234526009456986,
           0.07791617480943777,
           0.08073909736082338,
           0.0955815835549213,
           0.0738522720006444,
           0.07183676514004496,
           0.05294880811511841,
           0.04502379452169956,
           0.06505386309915631,
           0.0671712578886651,
           0.06308767706157498,
           0.06128391680150389,
           0.10898649347994653,
           0.0800249796594621,
           0.10402610687616175,
           0.040298996055050544,
           0.043979029901121805,
           0.04105518029574758,
           0.049708712518248724,
           0.045330066663820695,
           0.11639997148236154,
           0.06527739778140035,
           0.06987512615806471,
           0.08057677957296532,
           0.05370410516552904,
           0.11452845976444735,
           0.04773905300540782,
           0.0860564695285781,
           0.14409393473560506,
           0.09042204380122588,
           0.04235892589848232,
           0.03678357029912455,
           0.03805190844869593,
           0.07853460887351177,
           0.07353953856617051,
           0.10489945375372949,
           0.09692060557663812,
           0.11739535154657105,
           0.053490696443087286,
           0.059838239360978006,
           0.05013757999183484,
           0.05402558550250886,
           0.05551755826429746,
           0.055819527377775256,
           0.05431377542343458,
           0.04859040543152526,
           0.056720498768638425,
           0.10242711123904798,
           0.06132845186386574,
           0.046146291612564484,
           0.056802585522767006,
           0.05898486495532645,
           0.05000729872153573,
           0.05295271714196635,
           0.04429147948362731,
           0.051322503105337515,
           0.050413279247533554,
           0.05660643285114833,
           0.20876263682045998,
           0.0737982814646453,
           0.05052885588986854,
           0.07757593557298263,
           0.06850748422236307,
           0.049476381526652215,
           0.07088594424439058,
           0.0536361234365775,
           0.06503014737817535,
           0.05352752557358901,
           0.06575475564716605,
           0.0538367382082209,
           0.054728556836674956,
           0.06752977823711152,
           0.05283507865082144,
           0.07135994452459064,
           0.07006073958648287,
           0.06629092669024356,
           0.27863233737426213,
           0.05834823924640238,
           0.061766629291898724,
           0.05390104241524441,
           0.053310480242067304,
           0.055236827776920086,
           0.07836629475449713,
           0.05311376278819497,
           0.057484495346857026,
           0.0594289615472811,
           0.0808175084446545,
           0.11100825850632694,
           0.10936118185465511,
           0.10089721018843636,
           0.062473002410799616,
           0.10898631332903927,
           0.05196337618162144,
           0.08492849143264451,
           0.08155989225771594,
           0.05726061781938083,
           0.05238128549632901,
           0.050734474189664897,
           0.052854853840446504,
           0.05444121457877067,
           0.04215143378477502,
           0.0654403308645568,
           0.06699661373989493,
           0.050634202867231914,
           0.06161044283777447,
           0.05538945521265342,
           0.049418495582039916,
           0.05136783367764985,
           0.0594174278903897,
           0.0631573312596696,
           0.04941332207033157,
           0.047778790223874386,
           0.054150163134592214,
           0.05688394000943932,
           0.04598088043014814,
           0.047698457145895004,
           0.045192473850406485,
           0.06343274576505512,
           0.07042783629681598,
           0.1479189614845462,
           0.06597322388546187,
           0.08045501091288068,
           0.0603643467539702,
           0.05768802436972518,
           0.06282319653892665,
           0.0873055798523577,
           0.04495107225463921,
           0.10024936469178879,
           0.054347592154816854,
           0.0585587584911319,
           0.12255173357887132,
           0.1093016001534015,
           0.050982790682340705,
           0.05250999904780041,
           0.060185180504680205,
           0.04979170320137505,
           0.06566732592998493,
           0.05611338117856644,
           0.07297227906812745
          ]
         },
         "hovertemplate": "P50_sin_media=%{x}<br>Sin-con_media=%{y}<br>name=%{customdata[0]}<br>n_Sin-con=%{customdata[1]}<extra></extra>",
         "legendgroup": "",
         "marker": {
          "color": "#636efa",
          "symbol": "circle"
         },
         "mode": "markers",
         "name": "",
         "orientation": "v",
         "showlegend": false,
         "type": "scatter",
         "x": [
          21.02,
          21.148923076923076,
          21.032660714285715,
          20.9277,
          20.984763157894736,
          21.144523809523808,
          20.86820833333333,
          19.13080769230769,
          20.769000000000002,
          18.958166666666667,
          19.89045833333333,
          20.639914285714287,
          20.5238,
          20.962315789473685,
          18.762807692307693,
          21.150155172413793,
          20.85182142857143,
          20.185636363636362,
          17.422,
          20.027874999999998,
          20.41868181818182,
          19.19426923076923,
          20.087346153846152,
          20.617423076923078,
          20.984333333333336,
          21.060318181818182,
          18.586454545454544,
          20.127791666666667,
          20.52775,
          20.90675,
          21.122631578947367,
          21.063490196078433,
          20.648303571428574,
          21.290293103448274,
          21.265381355932202,
          21.299589743589742,
          21.241890410958902,
          21.304243243243246,
          21.267473684210525,
          21.52175,
          21.50842,
          21.56234,
          21.088194444444444,
          21.440683333333332,
          21.5578,
          21.50773333333333,
          21.513,
          21.524324999999997,
          21.517764705882353,
          21.45720833333333,
          21.231895833333333,
          21.478684210526318,
          20.504195652173912,
          19.60859090909091,
          20.698116666666667,
          20.665,
          20.419791666666665,
          20.923440476190475,
          20.781140625,
          20.914407407407406,
          20.773983050847455,
          20.85721052631579,
          20.69720512820513,
          19.376756097560975,
          20.853537499999998,
          20.46097619047619,
          20.569146341463416,
          20.50427419354839,
          20.63538235294118,
          20.83228448275862,
          20.898,
          20.845346153846155,
          20.84727192982456,
          18.922963414634147,
          20.985009615384612,
          21.120666666666665,
          20.94763095238095,
          21.113603773584906,
          20.746137931034482,
          21.262480392156863,
          20.863892857142858,
          18.877410714285713,
          21.03608888888889,
          21.17142857142857,
          21.249648936170214,
          21.449527027027024,
          20.950387499999998,
          20.13391463414634,
          18.531822033898305,
          20.03183333333333,
          18.525803571428572,
          18.355,
          20.4815625,
          21.22357142857143,
          21.798333333333336,
          20.20590909090909,
          20.761176470588236,
          21.437708333333333,
          21.2326,
          21.25375,
          21.09375,
          18.796818181818182,
          20.549642857142857,
          21.234166666666667,
          20.682340425531915,
          21.279032258064515,
          21.530740740740743,
          18.49462962962963,
          18.38441176470588,
          21.249714285714287,
          21.35025,
          21.254791666666666,
          21.45285714285714,
          21.454565217391302,
          18.061071428571427,
          21.39076923076923,
          20.96170731707317,
          19.6375,
          20.39894736842105,
          21.42642857142857,
          21.2280303030303,
          21.473709677419357,
          21.329722222222223,
          21.665303030303033,
          18.09526315789474,
          21.6,
          18.318055555555556,
          21.36909090909091,
          21.405,
          20.142790697674418,
          21.267142857142858,
          20.465384615384615,
          21.18793103448276,
          21.204666666666665,
          21.33,
          20.971739130434784,
          21.384545454545453,
          20.428275862068965,
          21.428235294117645,
          20.903809523809525,
          21.419615384615383,
          21.456923076923076,
          21.360666666666663,
          17.767857142857142,
          21.38416666666667,
          19.39,
          21.565454545454546,
          21.503478260869564,
          19.470000000000002,
          21.062272727272727,
          21.16653846153846,
          21.265416666666667,
          21.355757575757575,
          18.828214285714285,
          18.252894736842105,
          18.730681818181818,
          21.3638,
          19.868199999999998,
          21.332083333333333,
          20.092750000000002,
          21.40904761904762,
          21.641111111111112,
          21.70684210526316,
          21.341749999999998,
          20.103928571428572,
          21.554772727272727,
          20.15875,
          20.051750000000002,
          20.14590909090909,
          20.52305555555556,
          21.374117647058824,
          20.75717391304348,
          18.803600000000003,
          20.796666666666667,
          21.083636363636366,
          19.641052631578948,
          21.221896551724136,
          19.20861111111111,
          21.434117647058823,
          20.63181818181818,
          21.099999999999998,
          21.4,
          21.109583333333333,
          18.366296296296294,
          18.406363636363636,
          20.599230769230772,
          20.2896,
          21.295666666666666,
          21.701136363636365,
          20.333815789473686,
          21.44363636363636,
          20.015454545454546
         ],
         "xaxis": "x",
         "y": [
          0.14330769230769308,
          0.12296153846153884,
          0.13492857142857112,
          0.10703999999999979,
          0.07632894736842098,
          0.10316666666666612,
          0.13845833333333366,
          0.0737307692307693,
          0.19186363636363588,
          -0.15750000000000064,
          -0.43387499999999984,
          0.06731428571428597,
          0.06045000000000052,
          0.049960526315789344,
          0.03557692307692242,
          0.1132586206896551,
          0.10319642857142826,
          0.08872727272727297,
          0.05086363636363667,
          0.2738749999999994,
          0.13018181818181807,
          0.0003846153846155814,
          -0.15911538461538435,
          0.19473076923076932,
          0.1309166666666662,
          0.13354545454545466,
          -0.2848636363636365,
          0.25775,
          0.043916666666667346,
          0.2105000000000004,
          0.13026315789473672,
          0.1284019607843136,
          0.2625535714285716,
          0.2465603448275862,
          0.18714406779661039,
          0.16352564102564124,
          0.22423287671232892,
          0.15637837837837862,
          0.18815789473684236,
          0.19838636363636378,
          0.19365999999999986,
          0.19824000000000097,
          0.150652777777778,
          0.13029999999999997,
          0.15035000000000015,
          0.11493333333333311,
          0.1660000000000005,
          0.18646250000000011,
          0.18901470588235347,
          0.19509999999999988,
          0.19756944444444435,
          0.168868421052632,
          0.05482608695652124,
          0.3446363636363643,
          0.08411666666666649,
          0.20523076923076986,
          -0.030625000000000274,
          0.14574999999999994,
          0.1474687499999997,
          0.18747222222222248,
          0.11092372881355901,
          0.05319736842105244,
          0.09002564102564083,
          0.017195121951219212,
          0.09477500000000001,
          -0.06347619047619057,
          0.1386707317073171,
          0.0884354838709677,
          0.021470588235294026,
          0.13806896551724138,
          0.16165306122448986,
          0.13892307692307743,
          0.1669473684210526,
          0.13737804878048798,
          0.20391346153846182,
          0.30213888888888757,
          0.2165833333333335,
          0.18300943396226355,
          0.1943620689655173,
          0.15713725490196048,
          0.20277380952380997,
          -0.010535714285713966,
          0.2788999999999996,
          0.16744047619047642,
          0.1323723404255322,
          0.1528783783783783,
          0.21521249999999997,
          0.10212195121951179,
          -0.03555084745762664,
          0.05241666666666678,
          0.11741964285714272,
          0.09659090909090909,
          0.1245312500000002,
          0.1759523809523813,
          0.17166666666666686,
          0.14136363636363586,
          0.10235294117647091,
          0.20374999999999974,
          0.29019999999999996,
          0.1379166666666669,
          0.5087500000000003,
          0.11363636363636363,
          0.062142857142857215,
          0.16333333333333297,
          0.1512765957446807,
          0.19774193548387092,
          0.17444444444444407,
          0.07537037037037012,
          0.06926470588235274,
          0.18771428571428583,
          0.23324999999999943,
          0.7141666666666668,
          0.15999999999999964,
          0.041521739130434554,
          0.06321428571428532,
          0.1400000000000003,
          0.09658536585365882,
          0.07593749999999994,
          0.18763157894736848,
          0.12880952380952407,
          0.19030303030303033,
          0.3706451612903231,
          0.3144444444444441,
          0.21166666666666653,
          0.11947368421052611,
          0.23777777777777764,
          0.12722222222222257,
          0.1009090909090915,
          0.15500000000000047,
          0.5494186046511633,
          0.29607142857142804,
          -0.02076923076923101,
          0.18913793103448298,
          0.1921666666666668,
          0.22600000000000003,
          0.3032608695652176,
          0.33181818181818235,
          0.009482758620689483,
          0.24676470588235316,
          0.266428571428571,
          0.520384615384616,
          0.4400000000000007,
          0.493333333333333,
          0.08785714285714288,
          0.27833333333333243,
          0.06437499999999985,
          0.18227272727272686,
          0.6582608695652175,
          0.16538461538461555,
          0.1586363636363634,
          0.19057692307692328,
          0.3145833333333332,
          0.2660606060606061,
          0.04309523809523798,
          0.12526315789473697,
          0.09352272727272731,
          0.2066000000000004,
          0.13640000000000016,
          0.2402083333333335,
          0.10699999999999968,
          0.1769047619047619,
          0.2205555555555561,
          0.2678947368421058,
          0.16524999999999998,
          0.07339285714285688,
          0.23454545454545472,
          0.18333333333333268,
          0.05775000000000041,
          0.022045454545454844,
          0.055833333333333277,
          0.21852941176470586,
          0.2626086956521739,
          0.02039999999999985,
          0.1563333333333328,
          -0.01090909090909003,
          0.10921052631578944,
          0.2060344827586205,
          0.12777777777777802,
          0.5323529411764706,
          0.10318181818181832,
          0.41647058823529404,
          0.21324999999999986,
          0.17333333333333378,
          0.38444444444444453,
          0.4793181818181822,
          0.03307692307692333,
          -0.058799999999999956,
          0.17466666666666722,
          0.20227272727272788,
          0.08276315789473711,
          0.20818181818181844,
          0.08909090909090912
         ],
         "yaxis": "y"
        }
       ],
       "layout": {
        "legend": {
         "tracegroupgap": 0
        },
        "margin": {
         "t": 60
        },
        "template": {
         "data": {
          "bar": [
           {
            "error_x": {
             "color": "#2a3f5f"
            },
            "error_y": {
             "color": "#2a3f5f"
            },
            "marker": {
             "line": {
              "color": "#E5ECF6",
              "width": 0.5
             },
             "pattern": {
              "fillmode": "overlay",
              "size": 10,
              "solidity": 0.2
             }
            },
            "type": "bar"
           }
          ],
          "barpolar": [
           {
            "marker": {
             "line": {
              "color": "#E5ECF6",
              "width": 0.5
             },
             "pattern": {
              "fillmode": "overlay",
              "size": 10,
              "solidity": 0.2
             }
            },
            "type": "barpolar"
           }
          ],
          "carpet": [
           {
            "aaxis": {
             "endlinecolor": "#2a3f5f",
             "gridcolor": "white",
             "linecolor": "white",
             "minorgridcolor": "white",
             "startlinecolor": "#2a3f5f"
            },
            "baxis": {
             "endlinecolor": "#2a3f5f",
             "gridcolor": "white",
             "linecolor": "white",
             "minorgridcolor": "white",
             "startlinecolor": "#2a3f5f"
            },
            "type": "carpet"
           }
          ],
          "choropleth": [
           {
            "colorbar": {
             "outlinewidth": 0,
             "ticks": ""
            },
            "type": "choropleth"
           }
          ],
          "contour": [
           {
            "colorbar": {
             "outlinewidth": 0,
             "ticks": ""
            },
            "colorscale": [
             [
              0,
              "#0d0887"
             ],
             [
              0.1111111111111111,
              "#46039f"
             ],
             [
              0.2222222222222222,
              "#7201a8"
             ],
             [
              0.3333333333333333,
              "#9c179e"
             ],
             [
              0.4444444444444444,
              "#bd3786"
             ],
             [
              0.5555555555555556,
              "#d8576b"
             ],
             [
              0.6666666666666666,
              "#ed7953"
             ],
             [
              0.7777777777777778,
              "#fb9f3a"
             ],
             [
              0.8888888888888888,
              "#fdca26"
             ],
             [
              1,
              "#f0f921"
             ]
            ],
            "type": "contour"
           }
          ],
          "contourcarpet": [
           {
            "colorbar": {
             "outlinewidth": 0,
             "ticks": ""
            },
            "type": "contourcarpet"
           }
          ],
          "heatmap": [
           {
            "colorbar": {
             "outlinewidth": 0,
             "ticks": ""
            },
            "colorscale": [
             [
              0,
              "#0d0887"
             ],
             [
              0.1111111111111111,
              "#46039f"
             ],
             [
              0.2222222222222222,
              "#7201a8"
             ],
             [
              0.3333333333333333,
              "#9c179e"
             ],
             [
              0.4444444444444444,
              "#bd3786"
             ],
             [
              0.5555555555555556,
              "#d8576b"
             ],
             [
              0.6666666666666666,
              "#ed7953"
             ],
             [
              0.7777777777777778,
              "#fb9f3a"
             ],
             [
              0.8888888888888888,
              "#fdca26"
             ],
             [
              1,
              "#f0f921"
             ]
            ],
            "type": "heatmap"
           }
          ],
          "heatmapgl": [
           {
            "colorbar": {
             "outlinewidth": 0,
             "ticks": ""
            },
            "colorscale": [
             [
              0,
              "#0d0887"
             ],
             [
              0.1111111111111111,
              "#46039f"
             ],
             [
              0.2222222222222222,
              "#7201a8"
             ],
             [
              0.3333333333333333,
              "#9c179e"
             ],
             [
              0.4444444444444444,
              "#bd3786"
             ],
             [
              0.5555555555555556,
              "#d8576b"
             ],
             [
              0.6666666666666666,
              "#ed7953"
             ],
             [
              0.7777777777777778,
              "#fb9f3a"
             ],
             [
              0.8888888888888888,
              "#fdca26"
             ],
             [
              1,
              "#f0f921"
             ]
            ],
            "type": "heatmapgl"
           }
          ],
          "histogram": [
           {
            "marker": {
             "pattern": {
              "fillmode": "overlay",
              "size": 10,
              "solidity": 0.2
             }
            },
            "type": "histogram"
           }
          ],
          "histogram2d": [
           {
            "colorbar": {
             "outlinewidth": 0,
             "ticks": ""
            },
            "colorscale": [
             [
              0,
              "#0d0887"
             ],
             [
              0.1111111111111111,
              "#46039f"
             ],
             [
              0.2222222222222222,
              "#7201a8"
             ],
             [
              0.3333333333333333,
              "#9c179e"
             ],
             [
              0.4444444444444444,
              "#bd3786"
             ],
             [
              0.5555555555555556,
              "#d8576b"
             ],
             [
              0.6666666666666666,
              "#ed7953"
             ],
             [
              0.7777777777777778,
              "#fb9f3a"
             ],
             [
              0.8888888888888888,
              "#fdca26"
             ],
             [
              1,
              "#f0f921"
             ]
            ],
            "type": "histogram2d"
           }
          ],
          "histogram2dcontour": [
           {
            "colorbar": {
             "outlinewidth": 0,
             "ticks": ""
            },
            "colorscale": [
             [
              0,
              "#0d0887"
             ],
             [
              0.1111111111111111,
              "#46039f"
             ],
             [
              0.2222222222222222,
              "#7201a8"
             ],
             [
              0.3333333333333333,
              "#9c179e"
             ],
             [
              0.4444444444444444,
              "#bd3786"
             ],
             [
              0.5555555555555556,
              "#d8576b"
             ],
             [
              0.6666666666666666,
              "#ed7953"
             ],
             [
              0.7777777777777778,
              "#fb9f3a"
             ],
             [
              0.8888888888888888,
              "#fdca26"
             ],
             [
              1,
              "#f0f921"
             ]
            ],
            "type": "histogram2dcontour"
           }
          ],
          "mesh3d": [
           {
            "colorbar": {
             "outlinewidth": 0,
             "ticks": ""
            },
            "type": "mesh3d"
           }
          ],
          "parcoords": [
           {
            "line": {
             "colorbar": {
              "outlinewidth": 0,
              "ticks": ""
             }
            },
            "type": "parcoords"
           }
          ],
          "pie": [
           {
            "automargin": true,
            "type": "pie"
           }
          ],
          "scatter": [
           {
            "marker": {
             "colorbar": {
              "outlinewidth": 0,
              "ticks": ""
             }
            },
            "type": "scatter"
           }
          ],
          "scatter3d": [
           {
            "line": {
             "colorbar": {
              "outlinewidth": 0,
              "ticks": ""
             }
            },
            "marker": {
             "colorbar": {
              "outlinewidth": 0,
              "ticks": ""
             }
            },
            "type": "scatter3d"
           }
          ],
          "scattercarpet": [
           {
            "marker": {
             "colorbar": {
              "outlinewidth": 0,
              "ticks": ""
             }
            },
            "type": "scattercarpet"
           }
          ],
          "scattergeo": [
           {
            "marker": {
             "colorbar": {
              "outlinewidth": 0,
              "ticks": ""
             }
            },
            "type": "scattergeo"
           }
          ],
          "scattergl": [
           {
            "marker": {
             "colorbar": {
              "outlinewidth": 0,
              "ticks": ""
             }
            },
            "type": "scattergl"
           }
          ],
          "scattermapbox": [
           {
            "marker": {
             "colorbar": {
              "outlinewidth": 0,
              "ticks": ""
             }
            },
            "type": "scattermapbox"
           }
          ],
          "scatterpolar": [
           {
            "marker": {
             "colorbar": {
              "outlinewidth": 0,
              "ticks": ""
             }
            },
            "type": "scatterpolar"
           }
          ],
          "scatterpolargl": [
           {
            "marker": {
             "colorbar": {
              "outlinewidth": 0,
              "ticks": ""
             }
            },
            "type": "scatterpolargl"
           }
          ],
          "scatterternary": [
           {
            "marker": {
             "colorbar": {
              "outlinewidth": 0,
              "ticks": ""
             }
            },
            "type": "scatterternary"
           }
          ],
          "surface": [
           {
            "colorbar": {
             "outlinewidth": 0,
             "ticks": ""
            },
            "colorscale": [
             [
              0,
              "#0d0887"
             ],
             [
              0.1111111111111111,
              "#46039f"
             ],
             [
              0.2222222222222222,
              "#7201a8"
             ],
             [
              0.3333333333333333,
              "#9c179e"
             ],
             [
              0.4444444444444444,
              "#bd3786"
             ],
             [
              0.5555555555555556,
              "#d8576b"
             ],
             [
              0.6666666666666666,
              "#ed7953"
             ],
             [
              0.7777777777777778,
              "#fb9f3a"
             ],
             [
              0.8888888888888888,
              "#fdca26"
             ],
             [
              1,
              "#f0f921"
             ]
            ],
            "type": "surface"
           }
          ],
          "table": [
           {
            "cells": {
             "fill": {
              "color": "#EBF0F8"
             },
             "line": {
              "color": "white"
             }
            },
            "header": {
             "fill": {
              "color": "#C8D4E3"
             },
             "line": {
              "color": "white"
             }
            },
            "type": "table"
           }
          ]
         },
         "layout": {
          "annotationdefaults": {
           "arrowcolor": "#2a3f5f",
           "arrowhead": 0,
           "arrowwidth": 1
          },
          "autotypenumbers": "strict",
          "coloraxis": {
           "colorbar": {
            "outlinewidth": 0,
            "ticks": ""
           }
          },
          "colorscale": {
           "diverging": [
            [
             0,
             "#8e0152"
            ],
            [
             0.1,
             "#c51b7d"
            ],
            [
             0.2,
             "#de77ae"
            ],
            [
             0.3,
             "#f1b6da"
            ],
            [
             0.4,
             "#fde0ef"
            ],
            [
             0.5,
             "#f7f7f7"
            ],
            [
             0.6,
             "#e6f5d0"
            ],
            [
             0.7,
             "#b8e186"
            ],
            [
             0.8,
             "#7fbc41"
            ],
            [
             0.9,
             "#4d9221"
            ],
            [
             1,
             "#276419"
            ]
           ],
           "sequential": [
            [
             0,
             "#0d0887"
            ],
            [
             0.1111111111111111,
             "#46039f"
            ],
            [
             0.2222222222222222,
             "#7201a8"
            ],
            [
             0.3333333333333333,
             "#9c179e"
            ],
            [
             0.4444444444444444,
             "#bd3786"
            ],
            [
             0.5555555555555556,
             "#d8576b"
            ],
            [
             0.6666666666666666,
             "#ed7953"
            ],
            [
             0.7777777777777778,
             "#fb9f3a"
            ],
            [
             0.8888888888888888,
             "#fdca26"
            ],
            [
             1,
             "#f0f921"
            ]
           ],
           "sequentialminus": [
            [
             0,
             "#0d0887"
            ],
            [
             0.1111111111111111,
             "#46039f"
            ],
            [
             0.2222222222222222,
             "#7201a8"
            ],
            [
             0.3333333333333333,
             "#9c179e"
            ],
            [
             0.4444444444444444,
             "#bd3786"
            ],
            [
             0.5555555555555556,
             "#d8576b"
            ],
            [
             0.6666666666666666,
             "#ed7953"
            ],
            [
             0.7777777777777778,
             "#fb9f3a"
            ],
            [
             0.8888888888888888,
             "#fdca26"
            ],
            [
             1,
             "#f0f921"
            ]
           ]
          },
          "colorway": [
           "#636efa",
           "#EF553B",
           "#00cc96",
           "#ab63fa",
           "#FFA15A",
           "#19d3f3",
           "#FF6692",
           "#B6E880",
           "#FF97FF",
           "#FECB52"
          ],
          "font": {
           "color": "#2a3f5f"
          },
          "geo": {
           "bgcolor": "white",
           "lakecolor": "white",
           "landcolor": "#E5ECF6",
           "showlakes": true,
           "showland": true,
           "subunitcolor": "white"
          },
          "hoverlabel": {
           "align": "left"
          },
          "hovermode": "closest",
          "mapbox": {
           "style": "light"
          },
          "paper_bgcolor": "white",
          "plot_bgcolor": "#E5ECF6",
          "polar": {
           "angularaxis": {
            "gridcolor": "white",
            "linecolor": "white",
            "ticks": ""
           },
           "bgcolor": "#E5ECF6",
           "radialaxis": {
            "gridcolor": "white",
            "linecolor": "white",
            "ticks": ""
           }
          },
          "scene": {
           "xaxis": {
            "backgroundcolor": "#E5ECF6",
            "gridcolor": "white",
            "gridwidth": 2,
            "linecolor": "white",
            "showbackground": true,
            "ticks": "",
            "zerolinecolor": "white"
           },
           "yaxis": {
            "backgroundcolor": "#E5ECF6",
            "gridcolor": "white",
            "gridwidth": 2,
            "linecolor": "white",
            "showbackground": true,
            "ticks": "",
            "zerolinecolor": "white"
           },
           "zaxis": {
            "backgroundcolor": "#E5ECF6",
            "gridcolor": "white",
            "gridwidth": 2,
            "linecolor": "white",
            "showbackground": true,
            "ticks": "",
            "zerolinecolor": "white"
           }
          },
          "shapedefaults": {
           "line": {
            "color": "#2a3f5f"
           }
          },
          "ternary": {
           "aaxis": {
            "gridcolor": "white",
            "linecolor": "white",
            "ticks": ""
           },
           "baxis": {
            "gridcolor": "white",
            "linecolor": "white",
            "ticks": ""
           },
           "bgcolor": "#E5ECF6",
           "caxis": {
            "gridcolor": "white",
            "linecolor": "white",
            "ticks": ""
           }
          },
          "title": {
           "x": 0.05
          },
          "xaxis": {
           "automargin": true,
           "gridcolor": "white",
           "linecolor": "white",
           "ticks": "",
           "title": {
            "standoff": 15
           },
           "zerolinecolor": "white",
           "zerolinewidth": 2
          },
          "yaxis": {
           "automargin": true,
           "gridcolor": "white",
           "linecolor": "white",
           "ticks": "",
           "title": {
            "standoff": 15
           },
           "zerolinecolor": "white",
           "zerolinewidth": 2
          }
         }
        },
        "xaxis": {
         "anchor": "y",
         "domain": [
          0,
          1
         ],
         "title": {
          "text": "P50_sin_media"
         }
        },
        "yaxis": {
         "anchor": "x",
         "domain": [
          0,
          1
         ],
         "title": {
          "text": "Sin-con_media"
         }
        }
       }
      }
     },
     "metadata": {},
     "output_type": "display_data"
    }
   ],
   "source": [
    "fig = px.scatter(G[(G['n_Sin-con']>10)],y='Sin-con_media',x='P50_sin_media',error_x=\"E_sin_total\",error_y=\"E_Sin_con_total\",hover_data=['name','n_Sin-con'])\n",
    "fig.show()"
   ]
  },
  {
   "cell_type": "markdown",
   "metadata": {},
   "source": [
    "Agrupamos por intervalos de magnitudes"
   ]
  },
  {
   "cell_type": "code",
   "execution_count": 29,
   "metadata": {},
   "outputs": [],
   "source": [
    "G2=G[(G['n_Sin-con']>10)][['name','P50_sin_media','Sin-con_media','E_Sin-con','E_sin','E_Sin-con_previo','E_sin_previo','E_sist']]\n",
    "G2['E_Sin-con_previo']=np.sqrt(G2['E_Sin-con_previo']**2+G2['E_Sin-con']**2)\n",
    "G2['E_sin_previo']=np.sqrt(G2['E_sin_previo']**2+G2['E_sin']**2)"
   ]
  },
  {
   "cell_type": "code",
   "execution_count": 30,
   "metadata": {},
   "outputs": [],
   "source": [
    "intervalos=(np.array(list(range(170,221)))/10)[::1]\n",
    "M=[]\n",
    "C=[]\n",
    "STD=[]\n",
    "ERR_PRE_SIN_CON=[]\n",
    "ERR_PRE_SIN=[]\n",
    "ERR_SIST=[]\n",
    "for i in range(0,len(intervalos[:-1])):\n",
    "    m=G2[G2['P50_sin_media'].between(intervalos[i],intervalos[i+1])].mean(numeric_only=True)\n",
    "    c=G2[G2['P50_sin_media'].between(intervalos[i],intervalos[i+1])].count()\n",
    "    std=G2[G2['P50_sin_media'].between(intervalos[i],intervalos[i+1])].std(numeric_only=True)\n",
    "    if (m[0]>0) or (m[0]<=0):\n",
    "        Err_pre_sin_con=np.sqrt(sum(G2[G2['P50_sin_media'].between(intervalos[i],intervalos[i+1])]['E_Sin-con_previo']**2))/c[0]\n",
    "        Err_pre_sin=np.sqrt(sum(G2[G2['P50_sin_media'].between(intervalos[i],intervalos[i+1])]['E_sin_previo']**2))/c[0]\n",
    "        Err_sist=sum(G2[G2['P50_sin_media'].between(intervalos[i],intervalos[i+1])]['E_sist'])/c[0]\n",
    "    else:\n",
    "        Err_pre_sin_con=np.nan\n",
    "        Err_pre_sin=np.nan\n",
    "        Err_sist=np.nan\n",
    "    M=M+[m]\n",
    "    C=C+[c]\n",
    "    STD=STD+[std]\n",
    "    ERR_PRE_SIN_CON=ERR_PRE_SIN_CON+[Err_pre_sin_con]\n",
    "    ERR_PRE_SIN=ERR_PRE_SIN+[Err_pre_sin]\n",
    "    ERR_SIST=ERR_SIST+[Err_sist]\n",
    "G3=pd.DataFrame(M)[['P50_sin_media','Sin-con_media']]\n",
    "G3['n']=pd.DataFrame(C)['name']\n",
    "G3['std_sin']=pd.DataFrame(STD)['P50_sin_media'].replace({np.nan:0})\n",
    "G3['std_Sin-con']=pd.DataFrame(STD)['Sin-con_media'].replace({np.nan:0})\n",
    "G3['E_Sin-con']=np.sqrt((G3['std_Sin-con']/np.sqrt(G3['n']))**2+(np.array(ERR_PRE_SIN_CON)**2)+(np.array(ERR_SIST)**2))\n",
    "G3['E_sin']=np.sqrt((G3['std_sin']/np.sqrt(G3['n']))**2+(np.array(ERR_PRE_SIN)**2)+(np.array(ERR_SIST)**2))"
   ]
  },
  {
   "cell_type": "markdown",
   "metadata": {},
   "source": [
    "El gráfico por intervalos"
   ]
  },
  {
   "cell_type": "code",
   "execution_count": 31,
   "metadata": {},
   "outputs": [
    {
     "data": {
      "application/vnd.plotly.v1+json": {
       "config": {
        "plotlyServerURL": "https://plot.ly"
       },
       "data": [
        {
         "customdata": [
          [
           0
          ],
          [
           0
          ],
          [
           0
          ],
          [
           0
          ],
          [
           1
          ],
          [
           0
          ],
          [
           0
          ],
          [
           1
          ],
          [
           0
          ],
          [
           0
          ],
          [
           2
          ],
          [
           0
          ],
          [
           1
          ],
          [
           4
          ],
          [
           2
          ],
          [
           3
          ],
          [
           0
          ],
          [
           3
          ],
          [
           3
          ],
          [
           2
          ],
          [
           0
          ],
          [
           2
          ],
          [
           1
          ],
          [
           2
          ],
          [
           1
          ],
          [
           0
          ],
          [
           3
          ],
          [
           0
          ],
          [
           2
          ],
          [
           0
          ],
          [
           6
          ],
          [
           7
          ],
          [
           2
          ],
          [
           2
          ],
          [
           6
          ],
          [
           8
          ],
          [
           9
          ],
          [
           7
          ],
          [
           9
          ],
          [
           13
          ],
          [
           10
          ],
          [
           10
          ],
          [
           21
          ],
          [
           15
          ],
          [
           17
          ],
          [
           13
          ],
          [
           3
          ],
          [
           3
          ],
          [
           0
          ],
          [
           0
          ]
         ],
         "error_x": {
          "array": [
           null,
           null,
           null,
           null,
           0.16255286274619554,
           null,
           null,
           0.04696917541294231,
           null,
           null,
           0.05258359406578367,
           null,
           0.053333662460030254,
           0.0478568056987973,
           0.06374674368997439,
           0.1461185321871323,
           null,
           0.10267128768520423,
           0.0896252827250849,
           0.18964519804892108,
           null,
           0.15587434754517224,
           0.05797930052200652,
           0.12750315814152605,
           0.045855707735816875,
           null,
           0.10454466739695695,
           null,
           0.20232298580646144,
           null,
           0.08180899114500097,
           0.05722472383646981,
           0.06660888584355817,
           0.07115277398825567,
           0.055375306503852535,
           0.053834134369742936,
           0.03409341294197717,
           0.052828574038435945,
           0.029724092709399772,
           0.03294370506091798,
           0.03504871538065302,
           0.03753235248536595,
           0.03427800466744766,
           0.04059539426713892,
           0.03662127858488912,
           0.030964926240545837,
           0.058131019557938486,
           0.05513346416847923,
           null,
           null
          ]
         },
         "error_y": {
          "array": [
           null,
           null,
           null,
           null,
           0.13033846355794065,
           null,
           null,
           0.062473002410799616,
           null,
           null,
           0.06508343999808214,
           null,
           0.06544033086455682,
           0.08988702845990391,
           0.21229838042506338,
           0.16968684597810207,
           null,
           0.10129799072755023,
           0.07673475977264885,
           0.22452821267343645,
           null,
           0.13868991388040736,
           0.06282319653892665,
           0.051249849643477216,
           0.05726061781938083,
           null,
           0.13777883928439438,
           null,
           0.3426167466619478,
           null,
           0.08589196553776299,
           0.09600542376564372,
           0.11079821816927324,
           0.07312047792200661,
           0.0658580719461882,
           0.038961045623487844,
           0.042795893135693375,
           0.04521951426142911,
           0.031135268524779165,
           0.03746265259352229,
           0.060601892893818884,
           0.03466049694180522,
           0.04372892267255061,
           0.047642307651901486,
           0.05105723166879534,
           0.04825387266767443,
           0.04648284619115721,
           0.05399407002022811,
           null,
           null
          ]
         },
         "hovertemplate": "P50_sin_media=%{x}<br>Sin-con_media=%{y}<br>n=%{customdata[0]}<extra></extra>",
         "legendgroup": "",
         "marker": {
          "color": "#636efa",
          "symbol": "circle"
         },
         "mode": "markers",
         "name": "",
         "orientation": "v",
         "showlegend": false,
         "type": "scatter",
         "x": [
          null,
          null,
          null,
          null,
          17.422,
          null,
          null,
          17.767857142857142,
          null,
          null,
          18.078167293233083,
          null,
          18.252894736842105,
          18.355940904139434,
          18.450496632996632,
          18.54802671692714,
          null,
          18.763435897435897,
          18.836408333333335,
          18.940565040650405,
          null,
          19.16253846153846,
          19.20861111111111,
          19.383378048780486,
          19.470000000000002,
          null,
          19.62904784688995,
          null,
          19.879329166666665,
          null,
          20.051168172105672,
          20.14267443206592,
          20.247754545454544,
          20.36638157894737,
          20.445778775463044,
          20.537636921139363,
          20.657278187692114,
          20.76932552245433,
          20.857508134643638,
          20.947999554106364,
          21.064041151642478,
          21.143598547884274,
          21.25329045130385,
          21.358064196623605,
          21.43929101364992,
          21.535967639504097,
          21.635471380471383,
          21.735437267410955,
          null,
          null
         ],
         "xaxis": "x",
         "y": [
          null,
          null,
          null,
          null,
          0.05086363636363667,
          null,
          null,
          0.08785714285714288,
          null,
          null,
          0.09134398496240571,
          null,
          0.12526315789473697,
          0.16938057040998222,
          0.27734427609427614,
          -0.06766494698804014,
          null,
          0.08091200466200445,
          0.01765317460317462,
          -0.010060975609756329,
          null,
          0.03705769230769244,
          0.12777777777777802,
          0.04078506097560953,
          0.16538461538461555,
          null,
          0.1765947966507179,
          null,
          -0.14873749999999986,
          null,
          0.07016953185703184,
          0.18239849623137036,
          0.04128181818181795,
          0.1351973684210528,
          0.024887567592847645,
          0.06716901034432346,
          0.13110007838427745,
          0.16655902204352707,
          0.13311037910394286,
          0.1699963434071032,
          0.20426843178063775,
          0.16752869701989642,
          0.22559765438037602,
          0.23895767422502714,
          0.23792423918772426,
          0.22187293665059024,
          0.2233333333333334,
          0.2139447102605002,
          null,
          null
         ],
         "yaxis": "y"
        }
       ],
       "layout": {
        "legend": {
         "tracegroupgap": 0
        },
        "margin": {
         "t": 60
        },
        "template": {
         "data": {
          "bar": [
           {
            "error_x": {
             "color": "#2a3f5f"
            },
            "error_y": {
             "color": "#2a3f5f"
            },
            "marker": {
             "line": {
              "color": "#E5ECF6",
              "width": 0.5
             },
             "pattern": {
              "fillmode": "overlay",
              "size": 10,
              "solidity": 0.2
             }
            },
            "type": "bar"
           }
          ],
          "barpolar": [
           {
            "marker": {
             "line": {
              "color": "#E5ECF6",
              "width": 0.5
             },
             "pattern": {
              "fillmode": "overlay",
              "size": 10,
              "solidity": 0.2
             }
            },
            "type": "barpolar"
           }
          ],
          "carpet": [
           {
            "aaxis": {
             "endlinecolor": "#2a3f5f",
             "gridcolor": "white",
             "linecolor": "white",
             "minorgridcolor": "white",
             "startlinecolor": "#2a3f5f"
            },
            "baxis": {
             "endlinecolor": "#2a3f5f",
             "gridcolor": "white",
             "linecolor": "white",
             "minorgridcolor": "white",
             "startlinecolor": "#2a3f5f"
            },
            "type": "carpet"
           }
          ],
          "choropleth": [
           {
            "colorbar": {
             "outlinewidth": 0,
             "ticks": ""
            },
            "type": "choropleth"
           }
          ],
          "contour": [
           {
            "colorbar": {
             "outlinewidth": 0,
             "ticks": ""
            },
            "colorscale": [
             [
              0,
              "#0d0887"
             ],
             [
              0.1111111111111111,
              "#46039f"
             ],
             [
              0.2222222222222222,
              "#7201a8"
             ],
             [
              0.3333333333333333,
              "#9c179e"
             ],
             [
              0.4444444444444444,
              "#bd3786"
             ],
             [
              0.5555555555555556,
              "#d8576b"
             ],
             [
              0.6666666666666666,
              "#ed7953"
             ],
             [
              0.7777777777777778,
              "#fb9f3a"
             ],
             [
              0.8888888888888888,
              "#fdca26"
             ],
             [
              1,
              "#f0f921"
             ]
            ],
            "type": "contour"
           }
          ],
          "contourcarpet": [
           {
            "colorbar": {
             "outlinewidth": 0,
             "ticks": ""
            },
            "type": "contourcarpet"
           }
          ],
          "heatmap": [
           {
            "colorbar": {
             "outlinewidth": 0,
             "ticks": ""
            },
            "colorscale": [
             [
              0,
              "#0d0887"
             ],
             [
              0.1111111111111111,
              "#46039f"
             ],
             [
              0.2222222222222222,
              "#7201a8"
             ],
             [
              0.3333333333333333,
              "#9c179e"
             ],
             [
              0.4444444444444444,
              "#bd3786"
             ],
             [
              0.5555555555555556,
              "#d8576b"
             ],
             [
              0.6666666666666666,
              "#ed7953"
             ],
             [
              0.7777777777777778,
              "#fb9f3a"
             ],
             [
              0.8888888888888888,
              "#fdca26"
             ],
             [
              1,
              "#f0f921"
             ]
            ],
            "type": "heatmap"
           }
          ],
          "heatmapgl": [
           {
            "colorbar": {
             "outlinewidth": 0,
             "ticks": ""
            },
            "colorscale": [
             [
              0,
              "#0d0887"
             ],
             [
              0.1111111111111111,
              "#46039f"
             ],
             [
              0.2222222222222222,
              "#7201a8"
             ],
             [
              0.3333333333333333,
              "#9c179e"
             ],
             [
              0.4444444444444444,
              "#bd3786"
             ],
             [
              0.5555555555555556,
              "#d8576b"
             ],
             [
              0.6666666666666666,
              "#ed7953"
             ],
             [
              0.7777777777777778,
              "#fb9f3a"
             ],
             [
              0.8888888888888888,
              "#fdca26"
             ],
             [
              1,
              "#f0f921"
             ]
            ],
            "type": "heatmapgl"
           }
          ],
          "histogram": [
           {
            "marker": {
             "pattern": {
              "fillmode": "overlay",
              "size": 10,
              "solidity": 0.2
             }
            },
            "type": "histogram"
           }
          ],
          "histogram2d": [
           {
            "colorbar": {
             "outlinewidth": 0,
             "ticks": ""
            },
            "colorscale": [
             [
              0,
              "#0d0887"
             ],
             [
              0.1111111111111111,
              "#46039f"
             ],
             [
              0.2222222222222222,
              "#7201a8"
             ],
             [
              0.3333333333333333,
              "#9c179e"
             ],
             [
              0.4444444444444444,
              "#bd3786"
             ],
             [
              0.5555555555555556,
              "#d8576b"
             ],
             [
              0.6666666666666666,
              "#ed7953"
             ],
             [
              0.7777777777777778,
              "#fb9f3a"
             ],
             [
              0.8888888888888888,
              "#fdca26"
             ],
             [
              1,
              "#f0f921"
             ]
            ],
            "type": "histogram2d"
           }
          ],
          "histogram2dcontour": [
           {
            "colorbar": {
             "outlinewidth": 0,
             "ticks": ""
            },
            "colorscale": [
             [
              0,
              "#0d0887"
             ],
             [
              0.1111111111111111,
              "#46039f"
             ],
             [
              0.2222222222222222,
              "#7201a8"
             ],
             [
              0.3333333333333333,
              "#9c179e"
             ],
             [
              0.4444444444444444,
              "#bd3786"
             ],
             [
              0.5555555555555556,
              "#d8576b"
             ],
             [
              0.6666666666666666,
              "#ed7953"
             ],
             [
              0.7777777777777778,
              "#fb9f3a"
             ],
             [
              0.8888888888888888,
              "#fdca26"
             ],
             [
              1,
              "#f0f921"
             ]
            ],
            "type": "histogram2dcontour"
           }
          ],
          "mesh3d": [
           {
            "colorbar": {
             "outlinewidth": 0,
             "ticks": ""
            },
            "type": "mesh3d"
           }
          ],
          "parcoords": [
           {
            "line": {
             "colorbar": {
              "outlinewidth": 0,
              "ticks": ""
             }
            },
            "type": "parcoords"
           }
          ],
          "pie": [
           {
            "automargin": true,
            "type": "pie"
           }
          ],
          "scatter": [
           {
            "marker": {
             "colorbar": {
              "outlinewidth": 0,
              "ticks": ""
             }
            },
            "type": "scatter"
           }
          ],
          "scatter3d": [
           {
            "line": {
             "colorbar": {
              "outlinewidth": 0,
              "ticks": ""
             }
            },
            "marker": {
             "colorbar": {
              "outlinewidth": 0,
              "ticks": ""
             }
            },
            "type": "scatter3d"
           }
          ],
          "scattercarpet": [
           {
            "marker": {
             "colorbar": {
              "outlinewidth": 0,
              "ticks": ""
             }
            },
            "type": "scattercarpet"
           }
          ],
          "scattergeo": [
           {
            "marker": {
             "colorbar": {
              "outlinewidth": 0,
              "ticks": ""
             }
            },
            "type": "scattergeo"
           }
          ],
          "scattergl": [
           {
            "marker": {
             "colorbar": {
              "outlinewidth": 0,
              "ticks": ""
             }
            },
            "type": "scattergl"
           }
          ],
          "scattermapbox": [
           {
            "marker": {
             "colorbar": {
              "outlinewidth": 0,
              "ticks": ""
             }
            },
            "type": "scattermapbox"
           }
          ],
          "scatterpolar": [
           {
            "marker": {
             "colorbar": {
              "outlinewidth": 0,
              "ticks": ""
             }
            },
            "type": "scatterpolar"
           }
          ],
          "scatterpolargl": [
           {
            "marker": {
             "colorbar": {
              "outlinewidth": 0,
              "ticks": ""
             }
            },
            "type": "scatterpolargl"
           }
          ],
          "scatterternary": [
           {
            "marker": {
             "colorbar": {
              "outlinewidth": 0,
              "ticks": ""
             }
            },
            "type": "scatterternary"
           }
          ],
          "surface": [
           {
            "colorbar": {
             "outlinewidth": 0,
             "ticks": ""
            },
            "colorscale": [
             [
              0,
              "#0d0887"
             ],
             [
              0.1111111111111111,
              "#46039f"
             ],
             [
              0.2222222222222222,
              "#7201a8"
             ],
             [
              0.3333333333333333,
              "#9c179e"
             ],
             [
              0.4444444444444444,
              "#bd3786"
             ],
             [
              0.5555555555555556,
              "#d8576b"
             ],
             [
              0.6666666666666666,
              "#ed7953"
             ],
             [
              0.7777777777777778,
              "#fb9f3a"
             ],
             [
              0.8888888888888888,
              "#fdca26"
             ],
             [
              1,
              "#f0f921"
             ]
            ],
            "type": "surface"
           }
          ],
          "table": [
           {
            "cells": {
             "fill": {
              "color": "#EBF0F8"
             },
             "line": {
              "color": "white"
             }
            },
            "header": {
             "fill": {
              "color": "#C8D4E3"
             },
             "line": {
              "color": "white"
             }
            },
            "type": "table"
           }
          ]
         },
         "layout": {
          "annotationdefaults": {
           "arrowcolor": "#2a3f5f",
           "arrowhead": 0,
           "arrowwidth": 1
          },
          "autotypenumbers": "strict",
          "coloraxis": {
           "colorbar": {
            "outlinewidth": 0,
            "ticks": ""
           }
          },
          "colorscale": {
           "diverging": [
            [
             0,
             "#8e0152"
            ],
            [
             0.1,
             "#c51b7d"
            ],
            [
             0.2,
             "#de77ae"
            ],
            [
             0.3,
             "#f1b6da"
            ],
            [
             0.4,
             "#fde0ef"
            ],
            [
             0.5,
             "#f7f7f7"
            ],
            [
             0.6,
             "#e6f5d0"
            ],
            [
             0.7,
             "#b8e186"
            ],
            [
             0.8,
             "#7fbc41"
            ],
            [
             0.9,
             "#4d9221"
            ],
            [
             1,
             "#276419"
            ]
           ],
           "sequential": [
            [
             0,
             "#0d0887"
            ],
            [
             0.1111111111111111,
             "#46039f"
            ],
            [
             0.2222222222222222,
             "#7201a8"
            ],
            [
             0.3333333333333333,
             "#9c179e"
            ],
            [
             0.4444444444444444,
             "#bd3786"
            ],
            [
             0.5555555555555556,
             "#d8576b"
            ],
            [
             0.6666666666666666,
             "#ed7953"
            ],
            [
             0.7777777777777778,
             "#fb9f3a"
            ],
            [
             0.8888888888888888,
             "#fdca26"
            ],
            [
             1,
             "#f0f921"
            ]
           ],
           "sequentialminus": [
            [
             0,
             "#0d0887"
            ],
            [
             0.1111111111111111,
             "#46039f"
            ],
            [
             0.2222222222222222,
             "#7201a8"
            ],
            [
             0.3333333333333333,
             "#9c179e"
            ],
            [
             0.4444444444444444,
             "#bd3786"
            ],
            [
             0.5555555555555556,
             "#d8576b"
            ],
            [
             0.6666666666666666,
             "#ed7953"
            ],
            [
             0.7777777777777778,
             "#fb9f3a"
            ],
            [
             0.8888888888888888,
             "#fdca26"
            ],
            [
             1,
             "#f0f921"
            ]
           ]
          },
          "colorway": [
           "#636efa",
           "#EF553B",
           "#00cc96",
           "#ab63fa",
           "#FFA15A",
           "#19d3f3",
           "#FF6692",
           "#B6E880",
           "#FF97FF",
           "#FECB52"
          ],
          "font": {
           "color": "#2a3f5f"
          },
          "geo": {
           "bgcolor": "white",
           "lakecolor": "white",
           "landcolor": "#E5ECF6",
           "showlakes": true,
           "showland": true,
           "subunitcolor": "white"
          },
          "hoverlabel": {
           "align": "left"
          },
          "hovermode": "closest",
          "mapbox": {
           "style": "light"
          },
          "paper_bgcolor": "white",
          "plot_bgcolor": "#E5ECF6",
          "polar": {
           "angularaxis": {
            "gridcolor": "white",
            "linecolor": "white",
            "ticks": ""
           },
           "bgcolor": "#E5ECF6",
           "radialaxis": {
            "gridcolor": "white",
            "linecolor": "white",
            "ticks": ""
           }
          },
          "scene": {
           "xaxis": {
            "backgroundcolor": "#E5ECF6",
            "gridcolor": "white",
            "gridwidth": 2,
            "linecolor": "white",
            "showbackground": true,
            "ticks": "",
            "zerolinecolor": "white"
           },
           "yaxis": {
            "backgroundcolor": "#E5ECF6",
            "gridcolor": "white",
            "gridwidth": 2,
            "linecolor": "white",
            "showbackground": true,
            "ticks": "",
            "zerolinecolor": "white"
           },
           "zaxis": {
            "backgroundcolor": "#E5ECF6",
            "gridcolor": "white",
            "gridwidth": 2,
            "linecolor": "white",
            "showbackground": true,
            "ticks": "",
            "zerolinecolor": "white"
           }
          },
          "shapedefaults": {
           "line": {
            "color": "#2a3f5f"
           }
          },
          "ternary": {
           "aaxis": {
            "gridcolor": "white",
            "linecolor": "white",
            "ticks": ""
           },
           "baxis": {
            "gridcolor": "white",
            "linecolor": "white",
            "ticks": ""
           },
           "bgcolor": "#E5ECF6",
           "caxis": {
            "gridcolor": "white",
            "linecolor": "white",
            "ticks": ""
           }
          },
          "title": {
           "x": 0.05
          },
          "xaxis": {
           "automargin": true,
           "gridcolor": "white",
           "linecolor": "white",
           "ticks": "",
           "title": {
            "standoff": 15
           },
           "zerolinecolor": "white",
           "zerolinewidth": 2
          },
          "yaxis": {
           "automargin": true,
           "gridcolor": "white",
           "linecolor": "white",
           "ticks": "",
           "title": {
            "standoff": 15
           },
           "zerolinecolor": "white",
           "zerolinewidth": 2
          }
         }
        },
        "xaxis": {
         "anchor": "y",
         "domain": [
          0,
          1
         ],
         "title": {
          "text": "P50_sin_media"
         }
        },
        "yaxis": {
         "anchor": "x",
         "domain": [
          0,
          1
         ],
         "title": {
          "text": "Sin-con_media"
         }
        }
       }
      }
     },
     "metadata": {},
     "output_type": "display_data"
    }
   ],
   "source": [
    "fig = px.scatter(G3,y='Sin-con_media',x='P50_sin_media',error_x=\"E_sin\",error_y=\"E_Sin-con\",hover_data=['n'])\n",
    "fig.show()"
   ]
  },
  {
   "cell_type": "markdown",
   "metadata": {},
   "source": [
    "Guardado de la Figura_4 del paper"
   ]
  },
  {
   "cell_type": "code",
   "execution_count": 32,
   "metadata": {},
   "outputs": [],
   "source": [
    "guardar=G3[['P50_sin_media','Sin-con_media','E_Sin-con','E_sin','n']]\n",
    "guardar.to_csv(output+'\\Figura_4.csv',index=False)"
   ]
  },
  {
   "cell_type": "markdown",
   "metadata": {},
   "source": [
    "# Fotómetros vs Satelite"
   ]
  },
  {
   "cell_type": "markdown",
   "metadata": {},
   "source": [
    "Menores de 500 datos aplicando filtro galaxia y zodiacal solo a muy oscuros. El listado se obteien del notebook Paper_1"
   ]
  },
  {
   "cell_type": "code",
   "execution_count": 33,
   "metadata": {},
   "outputs": [],
   "source": [
    "Menores500_2={'LPL15_004','LPL15_009','LPL15_011','LPL15_014','LPL15_015','LPL15_017','LPL15_018','LPL15_021','LPL15_022','LPL15_023','LPL15_024','LPL15_025','LPL15_026','LPL15_027','LPL15_029','LPL15_030','LPL15_035','LPL16_001','LPL16_003','LPL1_004','LPL1_009','LPL1_010','LPL1_023','LPL1_049','LPL2_003','LPL2_004','LPL2_020','LPL2_025','LPL2_026','LPL3_101','LPL3_102','LPL3_106','LPL3_112','LPL3_114','LPL3_118','LPL3_121','LPL3_123','LPL3_125','LPL4_103','LPL4_107','LPL5_112','LPL8_005','LW_374','LW_391','LW_397','SG_088','SG_226','stars218','stars258','stars259','stars262','stars315','stars337','stars34','stars355','stars379','stars384','stars387','stars464','stars465','stars467','stars490','stars498','stars517','stars554','stars609','stars654','stars662','stars665','stars773','stars774','stars788','stars791','stars983'}"
   ]
  },
  {
   "cell_type": "markdown",
   "metadata": {},
   "source": [
    "Filtrado de los datos con los filtros de EELabs y fotómetros quitados por falta de datos"
   ]
  },
  {
   "cell_type": "code",
   "execution_count": 34,
   "metadata": {},
   "outputs": [],
   "source": [
    "data_filtrado=Fotometros_registros[(Fotometros_registros['clouds']==False) & (Fotometros_registros['moon']==False) & (Fotometros_registros['galaxy']==False) & (Fotometros_registros['zodiacal']==False) ]\n",
    "M=data_filtrado.groupby(['name']).median(numeric_only=True)[['mag']]\n",
    "M.columns=['mediana_estricto']\n",
    "data_filtrado=Fotometros_registros[(Fotometros_registros['clouds']==False) & (Fotometros_registros['moon']==False)]\n",
    "data_filtrado=data_filtrado.merge(M,left_on='name',right_on='name')\n",
    "data_filtrado=data_filtrado[((data_filtrado['galaxy']==False) & (data_filtrado['zodiacal']==False) & (data_filtrado['mediana_estricto']>20)) | (data_filtrado['mediana_estricto']<=20)]\n",
    "data_filtrado=data_filtrado[~data_filtrado['name'].isin(Menores500_2|{'stars679'}|{'stars4'})]"
   ]
  },
  {
   "cell_type": "markdown",
   "metadata": {},
   "source": [
    "P50 fotómetros durante el año, con sus errores"
   ]
  },
  {
   "cell_type": "code",
   "execution_count": 36,
   "metadata": {},
   "outputs": [
    {
     "name": "stderr",
     "output_type": "stream",
     "text": [
      "C:\\Users\\borja\\AppData\\Local\\Temp\\ipykernel_7472\\1112019336.py:2: FutureWarning:\n",
      "\n",
      "Dropping invalid columns in DataFrameGroupBy.quantile is deprecated. In a future version, a TypeError will be raised. Before calling .quantile, select only columns which should be valid for the function.\n",
      "\n",
      "C:\\Users\\borja\\AppData\\Local\\Temp\\ipykernel_7472\\1112019336.py:3: FutureWarning:\n",
      "\n",
      "Dropping invalid columns in DataFrameGroupBy.quantile is deprecated. In a future version, a TypeError will be raised. Before calling .quantile, select only columns which should be valid for the function.\n",
      "\n"
     ]
    }
   ],
   "source": [
    "M=data_filtrado.groupby(['name']).median()[['mag']]\n",
    "Q1=data_filtrado.groupby(['name']).quantile(.25)[['mag']]\n",
    "Q3=data_filtrado.groupby(['name']).quantile(.75)[['mag']]\n",
    "FOT=pd.DataFrame(M.index)\n",
    "FOT=FOT.merge(Fotometros[['name','TYPE']],right_on='name',left_on='name')\n",
    "FOT['E_sist_fot']=FOT['TYPE']\n",
    "FOT['E_sist_fot']=FOT['E_sist_fot'].replace('SG',0.02)\n",
    "FOT['E_sist_fot']=FOT['E_sist_fot'].replace('TESS-W',0.04)\n",
    "FOT['P50_fot']=M['mag'].values\n",
    "FOT['Q1_fot']=Q1.values\n",
    "FOT['Q3_fot']=Q3.values"
   ]
  },
  {
   "cell_type": "markdown",
   "metadata": {},
   "source": [
    "Unión datos satelite y fotómetros"
   ]
  },
  {
   "cell_type": "code",
   "execution_count": 37,
   "metadata": {},
   "outputs": [],
   "source": [
    "FIN=FOT.merge(Sat,left_on='name',right_on='name')\n",
    "FIN=FIN[['name','TYPE','P50_fot','DNB_BRDF_Corrected_NTL_log_P50','Q1_fot','Q3_fot','Q1_sat','Q3_sat','E_sist_fot','E_sist_sat']]"
   ]
  },
  {
   "cell_type": "markdown",
   "metadata": {},
   "source": [
    "Fotómetros eleminados por demasiada RIC, consultar Paper_1"
   ]
  },
  {
   "cell_type": "code",
   "execution_count": 38,
   "metadata": {},
   "outputs": [],
   "source": [
    "Excluidos={'LPL15_032','LPL15_040','LPL3_103','LPL3_113','LPL3_116','LPL4_101','LPL4_115','LPL4_116','LPL5_012','LPL5_109','LW_385','SG_219','SG_229','SG_230','UEX1_001','stars231','stars238','stars243','stars271','stars275','stars290','stars36','stars46','stars47','stars473','stars474','stars51','stars529','stars531','stars60','stars603','stars610','stars651','stars652','stars653','stars671','stars676','stars71','stars716','stars726','stars75','stars76'}"
   ]
  },
  {
   "cell_type": "markdown",
   "metadata": {},
   "source": [
    "Convierte vector en listado de texto, para las listas de fotóemtros"
   ]
  },
  {
   "cell_type": "code",
   "execution_count": 39,
   "metadata": {},
   "outputs": [],
   "source": [
    "def texto(v):\n",
    "    text=''\n",
    "    for i in v:\n",
    "        text=text+i+','\n",
    "    return text[:-1]"
   ]
  },
  {
   "cell_type": "markdown",
   "metadata": {},
   "source": [
    "Realiza el primedio de aquellos fotómetros ubicados en el mismo pixel"
   ]
  },
  {
   "cell_type": "code",
   "execution_count": 40,
   "metadata": {},
   "outputs": [],
   "source": [
    "def Mismo_pixel(Fotometros,FIN,TYPE='Ambos'):\n",
    "    v=np.floor((90-Fotometros['latitude'])/10)\n",
    "    h=np.floor((Fotometros['longitude']+180)/10)\n",
    "    cuadricula=15/60/60 #En grados\n",
    "    #Calculo de posiciones en la cuadricula\n",
    "    Pos_1=np.round((Fotometros['longitude']-(-180+h*10))/cuadricula)\n",
    "    Pos_2=np.round((-Fotometros['latitude']+(90-v*10))/cuadricula)\n",
    "    codigo=v.astype('int').astype('str')+h.astype('int').astype('str')+Pos_1.astype('int').astype('str')+Pos_2.astype('int').astype('str')\n",
    "    Fotometros_iguales=Fotometros\n",
    "    Fotometros_iguales['codigo']=codigo\n",
    "    agrup_repe=FIN.reset_index(drop=True).merge(Fotometros_iguales[['name','codigo']],left_on='name',right_on='name')\n",
    "    if TYPE=='SG':\n",
    "        agrup_limpio=agrup_repe[agrup_repe['TYPE']=='SG']\n",
    "    elif TYPE=='TESS-W':\n",
    "        agrup_limpio=agrup_repe[agrup_repe['TYPE']=='TESS-W']\n",
    "    else:\n",
    "        agrup_limpio=agrup_repe\n",
    "    A=agrup_limpio.groupby(['codigo']).mean(numeric_only=True)\n",
    "    I=[]\n",
    "    T=[]\n",
    "    for i in set(list(agrup_limpio['codigo'])):\n",
    "        T=T+[texto(agrup_limpio[agrup_limpio['codigo']==i]['name'].values)]\n",
    "        I=I+[i]\n",
    "    Nombres=pd.DataFrame({'codigo':I,'name':T})\n",
    "    A=A.merge(Nombres,left_on='codigo',right_on='codigo')\n",
    "    A['name']=A['name'].astype('str')\n",
    "    return A[['name','P50_fot','DNB_BRDF_Corrected_NTL_log_P50','Q1_fot','Q3_fot','Q1_sat','Q3_sat','E_sist_fot','E_sist_sat']]"
   ]
  },
  {
   "cell_type": "code",
   "execution_count": 41,
   "metadata": {},
   "outputs": [],
   "source": [
    "A=Mismo_pixel(Fotometros,FIN)"
   ]
  },
  {
   "cell_type": "markdown",
   "metadata": {},
   "source": [
    "Obtiene los rangos de incertidumbre y diferencia los que son descartados por demasiada RIC"
   ]
  },
  {
   "cell_type": "code",
   "execution_count": 42,
   "metadata": {},
   "outputs": [],
   "source": [
    "A['Ext_fot_izq']=A['Q1_fot']+(A['Q3_fot']-A['Q1_fot'])/2-np.sqrt((A['Q3_fot']-A['Q1_fot'])**2+(A['E_sist_fot'])**2)/2\n",
    "A['Ext_fot_der']=A['Q1_fot']+(A['Q3_fot']-A['Q1_fot'])/2+np.sqrt((A['Q3_fot']-A['Q1_fot'])**2+(A['E_sist_fot'])**2)/2\n",
    "A['Ext_sat_izq']=A['Q1_sat']+(A['Q3_sat']-A['Q1_sat'])/2-np.sqrt((A['Q3_sat']-A['Q1_sat'])**2+(A['E_sist_sat'])**2)/2\n",
    "A['Ext_sat_der']=A['Q1_sat']+(A['Q3_sat']-A['Q1_sat'])/2+np.sqrt((A['Q3_sat']-A['Q1_sat'])**2+(A['E_sist_sat'])**2)/2\n",
    "A.loc[A['name'].isin(Excluidos),'Descartados']=True\n",
    "A.loc[~A['name'].isin(Excluidos),'Descartados']=False"
   ]
  },
  {
   "cell_type": "code",
   "execution_count": 43,
   "metadata": {},
   "outputs": [
    {
     "data": {
      "application/vnd.plotly.v1+json": {
       "config": {
        "plotlyServerURL": "https://plot.ly"
       },
       "data": [
        {
         "hovertemplate": "Descartados=False<br>DNB_BRDF_Corrected_NTL_log_P50=%{x}<br>P50_fot=%{y}<br>name=%{text}<extra></extra>",
         "legendgroup": "False",
         "marker": {
          "color": "#636efa",
          "symbol": "circle"
         },
         "mode": "markers+text",
         "name": "False",
         "orientation": "v",
         "showlegend": true,
         "text": [
          "stars391",
          "stars646",
          "stars251",
          "stars722",
          "stars221",
          "stars29",
          "stars220",
          "stars743",
          "stars477",
          "stars215",
          "stars459",
          "stars54",
          "stars312,stars313,stars344,stars460",
          "stars457",
          "stars456",
          "stars455",
          "stars509",
          "stars486",
          "stars634",
          "stars86",
          "stars87",
          "stars241",
          "stars293",
          "stars647",
          "stars354",
          "stars551",
          "stars550",
          "stars721",
          "stars400",
          "stars482",
          "stars539",
          "stars352",
          "stars478",
          "stars485",
          "stars530",
          "stars472",
          "stars471",
          "stars237,stars657",
          "stars475",
          "stars417",
          "stars405",
          "stars525",
          "stars602",
          "stars250",
          "stars555",
          "stars33",
          "stars1",
          "stars88",
          "stars641",
          "stars2,stars489",
          "stars536",
          "stars749",
          "stars660",
          "stars8",
          "stars640",
          "stars7",
          "stars305",
          "stars44",
          "stars225",
          "stars304",
          "stars632",
          "stars73",
          "stars334",
          "stars18",
          "stars746",
          "stars31",
          "stars40,stars41",
          "stars69",
          "stars430",
          "stars495",
          "stars714",
          "stars715",
          "stars612,stars62",
          "stars639",
          "stars613",
          "stars608",
          "stars633",
          "stars64",
          "stars440",
          "stars673",
          "stars487",
          "stars35",
          "stars413",
          "stars416",
          "stars493",
          "stars549",
          "stars548",
          "stars444",
          "stars724",
          "LPL3_124",
          "LPL3_110",
          "LPL3_119",
          "LPL3_104",
          "LPL3_111",
          "stars296",
          "stars436",
          "stars414",
          "stars15",
          "stars292",
          "stars202",
          "stars793",
          "stars9",
          "stars246",
          "stars52",
          "stars289",
          "stars17",
          "stars75,stars76",
          "stars222",
          "stars431",
          "stars201",
          "stars288",
          "stars780",
          "LPL15_055",
          "LPL15_002",
          "LPL15_005",
          "LPL15_043",
          "LPL15_045,stars767,stars770",
          "LPL15_057",
          "LPL15_046",
          "LPL15_007",
          "LPL15_006",
          "LPL15_008",
          "stars768",
          "LPL15_031",
          "SG_164",
          "SG_162",
          "SG_074,SG_098,stars66",
          "stars624",
          "stars291",
          "stars635",
          "stars628",
          "stars347",
          "stars19",
          "stars89",
          "LPL5_107",
          "LPL5_105",
          "LPL5_104",
          "LPL5_013",
          "LPL5_001",
          "LPL5_106",
          "LPL5_002",
          "stars425,stars435",
          "LPL5_100",
          "LPL5_101",
          "LPL5_103",
          "LPL5_102",
          "LPL5_010",
          "LPL8_011",
          "LPL8_003",
          "LPL8_001",
          "LPL8_007",
          "SG_218",
          "LPL8_012",
          "LPL8_004",
          "LPL8_010",
          "stars382",
          "LPL2_105",
          "LPL2_015",
          "LPL2_106",
          "stars411",
          "stars403",
          "LPL2_017",
          "LPL2_018",
          "LPL2_016",
          "LPL2_023",
          "stars412",
          "stars90",
          "LPL2_108",
          "LPL2_010,LPL2_104,stars394",
          "LPL2_001,stars383",
          "LPL2_002",
          "LPL2_022",
          "LPL2_036",
          "LPL1_051,stars507",
          "LPL1_102",
          "LPL1_050",
          "stars393",
          "LPL1_045",
          "LPL1_042",
          "LPL1_044",
          "stars211,stars385,stars426,stars427",
          "stars434,stars505",
          "LPL1_002",
          "LPL1_001,LPL1_003",
          "LPL1_011",
          "stars508"
         ],
         "type": "scatter",
         "x": [
          -0.3010299956639812,
          0.3424226808222063,
          0.8260748027008264,
          -0.6989700043360187,
          -0.6989700043360187,
          1.667452952889954,
          -0.6989700043360187,
          -0.6989700043360187,
          -0.6989700043360187,
          -0.09691001300805639,
          -0.6989700043360187,
          -1,
          -1,
          -1,
          -1,
          -1,
          0.9684829485539351,
          1.209515014542631,
          -0.6989700043360187,
          -0.2218487496163563,
          0.9084850188786497,
          -0.2218487496163563,
          0,
          -0.3979400086720376,
          0.6127838567197356,
          -0.045757490560675115,
          1.414973347970818,
          0.8512583487190754,
          -0.3979400086720376,
          -0.3010299956639812,
          1.2041199826559248,
          1.1156073239813005,
          -0.045757490560675115,
          1.3738301744901054,
          -0.3979400086720376,
          -0.3010299956639812,
          1.02734482147499,
          -0.3010299956639812,
          -0.5228787452803376,
          -0.3010299956639812,
          -0.5228787452803376,
          0.07918124604762489,
          -0.5228787452803376,
          1.6963563887333322,
          1.2442753582502222,
          2.050959416840212,
          1.6464026197318558,
          2.2538224387080734,
          1.2810333672477277,
          -0.09691001300805639,
          -0.15490195998574313,
          -0.5228787452803376,
          0.04139268515822508,
          -0.3979400086720376,
          0.6627578316815741,
          1.9719697322361083,
          -0.5228787452803376,
          0.43136376415898736,
          1.2741578492636798,
          -0.2218487496163563,
          0.3802112417116061,
          0.3802112417116061,
          -0.3010299956639812,
          -0.5228787452803376,
          -0.6989700043360187,
          -0.5228787452803376,
          1.9978230807457256,
          -0.09691001300805639,
          -0.3010299956639812,
          -0.3979400086720376,
          1.1818435879447726,
          0.2041199826559248,
          -0.5228787452803376,
          -0.5228787452803376,
          -0.6989700043360187,
          0.7923916894982539,
          0.07918124604762489,
          0.5965622991772308,
          1.0530784434834197,
          -0.3979400086720376,
          -0.5228787452803376,
          -0.15490195998574313,
          1.1366742843745508,
          0.6334684555795865,
          -0.5228787452803376,
          0.6812412373755873,
          -0.3010299956639812,
          -0.5228787452803376,
          0.11394335230683679,
          -0.15490195998574313,
          -0.2218487496163563,
          -0.3979400086720376,
          -0.045757490560675115,
          -0.3979400086720376,
          -0.5228787452803376,
          -0.5228787452803376,
          1.4913616938342726,
          1.320146286111054,
          -0.5228787452803376,
          -0.5228787452803376,
          1.1789769472931695,
          0.7817405426972053,
          -0.6989700043360187,
          1.792391689498254,
          -0.5228787452803376,
          -0.5228787452803376,
          1.8564266673125915,
          1.8488047010518038,
          0.43136376415898736,
          -0.3010299956639812,
          -0.5228787452803376,
          1.414973347970818,
          -0.5228787452803376,
          -0.5228787452803376,
          -0.5228787452803376,
          0.6627578316815741,
          0.34242268082220634,
          0.25527250510330607,
          -0.15490195998574313,
          -0.3979400086720376,
          -0.2218487496163563,
          -0.5228787452803376,
          1.0086001717619175,
          1.173186268412274,
          -0.5228787452803376,
          -0.2218487496163563,
          -0.15490195998574313,
          -0.6109243748081782,
          -0.15490195998574313,
          0.3010299956639812,
          -0.3979400086720376,
          -0.5228787452803376,
          0.7558748556724915,
          -0.5228787452803376,
          -0.2218487496163563,
          0.04139268515822508,
          -0.3010299956639812,
          -0.3010299956639812,
          -0.3010299956639812,
          -0.3010299956639812,
          -0.15490195998574313,
          0.7403626894942439,
          -0.2218487496163563,
          0.07918124604762489,
          0.3222192947339193,
          -0.15490195998574313,
          0,
          -0.4604093769761876,
          -0.5228787452803376,
          -0.5228787452803376,
          -0.3979400086720376,
          -0.3979400086720376,
          -0.3979400086720376,
          -0.3979400086720376,
          -0.3979400086720376,
          0.3222192947339193,
          -0.5228787452803376,
          -0.3010299956639812,
          -0.3979400086720376,
          -0.3979400086720376,
          -0.3979400086720376,
          -0.5228787452803376,
          -0.5228787452803376,
          -0.3979400086720376,
          -0.5228787452803376,
          -0.5228787452803376,
          -0.5228787452803376,
          -0.5228787452803376,
          -0.6989700043360187,
          -0.6989700043360187,
          -0.5228787452803376,
          -0.6989700043360187,
          -0.2218487496163563,
          null,
          null,
          -0.5228787452803376,
          -0.5228787452803376,
          -0.6989700043360187,
          -1,
          -0.8494850021680094,
          -0.5228787452803376,
          -0.5228787452803376,
          -0.5228787452803376,
          -0.5228787452803376,
          -0.5228787452803376,
          1.212187604403958
         ],
         "xaxis": "x",
         "y": [
          21.41,
          20.04,
          20.68,
          21.51,
          21.16,
          18.53,
          21.35,
          21.11,
          21.53,
          20.71,
          21.5,
          21.87,
          21.475,
          21.62,
          21.56,
          21.54,
          19.87,
          19.34,
          21.64,
          21.4,
          20.05,
          21.17,
          20.18,
          21.39,
          20.24,
          20.3,
          18.87,
          19.89,
          21.32,
          21.31,
          19.72,
          19.89,
          20.31,
          19.27,
          21.25,
          21.23,
          19.57,
          21.545,
          21.515,
          21.26,
          21.33,
          21.38,
          21.36,
          19.01,
          19.83,
          18.11,
          18.34,
          17.56,
          20.18,
          20.92,
          20.91,
          21.45,
          21.46,
          21.26,
          19.96,
          18.76,
          21.27,
          20.79,
          20.51,
          21.07,
          21,
          20.58,
          21.43,
          21.86,
          21.4,
          21.64,
          18.13,
          20.82,
          21.35,
          21.17,
          19.66,
          21.25,
          21.57,
          21.56,
          21.49,
          20.02,
          21.35,
          20.09,
          19.48,
          21.12,
          21.08,
          21.52,
          20.14,
          20.71,
          21.48,
          19.97,
          21.21,
          21.63,
          20.57,
          21.107,
          20.778,
          20.9605,
          20.618,
          20.989,
          21.38,
          21.49,
          20.1,
          20.46,
          21.37,
          21.46,
          20.37,
          20.38,
          21.29,
          18.7,
          21.56,
          21.25,
          18.255000000000003,
          18.72,
          20.96,
          20.53,
          21.22,
          19.42,
          21.18,
          21.197,
          21.094,
          20.691499999999998,
          20.609333333333336,
          20.864,
          21.081,
          21.101,
          20.941,
          21.163,
          19.74,
          19.681,
          21.506,
          21.274,
          21.257,
          21.49,
          21.32,
          20.1,
          21.27,
          20.95,
          20.29,
          21.82,
          21.002,
          20.993,
          20.969,
          20.976,
          20.924500000000002,
          20.987,
          20.927,
          20.525,
          20.7175,
          20.831,
          20.657,
          20.779,
          20.7635,
          21.284,
          21.239,
          21.141,
          21.208,
          21.145,
          21.096,
          21.137500000000003,
          21.049500000000002,
          20.66,
          21.473,
          21.211,
          21.308,
          21.3,
          21.62,
          21.564,
          21.515,
          21.4495,
          21.518,
          21.41,
          21.43,
          21.503,
          21.52433333333333,
          21.483249999999998,
          21.495,
          21.507,
          21.112,
          21.314500000000002,
          21.298,
          21.283,
          21.29,
          21.285,
          21.328,
          21.272,
          21.23,
          21.33,
          21.19,
          21.15,
          20.76,
          18.78
         ],
         "yaxis": "y"
        },
        {
         "hovertemplate": "Descartados=True<br>DNB_BRDF_Corrected_NTL_log_P50=%{x}<br>P50_fot=%{y}<br>name=%{text}<extra></extra>",
         "legendgroup": "True",
         "marker": {
          "color": "#EF553B",
          "symbol": "circle"
         },
         "mode": "markers+text",
         "name": "True",
         "orientation": "v",
         "showlegend": true,
         "text": [
          "stars671",
          "stars603",
          "stars243",
          "stars529",
          "stars531",
          "stars473",
          "stars36",
          "stars651",
          "stars60",
          "stars653",
          "stars474",
          "stars652",
          "stars51",
          "stars231",
          "stars71",
          "stars676",
          "stars47",
          "stars726",
          "LPL3_113",
          "LPL3_103",
          "LPL3_116",
          "stars46",
          "stars271",
          "UEX1_001",
          "LPL15_040",
          "LPL15_032",
          "LW_385",
          "LPL5_012",
          "SG_219",
          "SG_229",
          "SG_230",
          "stars610",
          "stars275",
          "stars238",
          "stars290"
         ],
         "type": "scatter",
         "x": [
          -1,
          1.8432327780980093,
          0.6901056208558031,
          -0.3979400086720376,
          -0.2218487496163563,
          -0.2218487496163563,
          0,
          -0.3010299956639812,
          -0.3979400086720376,
          -0.3494850021680094,
          -0.5228787452803376,
          -0.6109243748081782,
          1.4578818967339924,
          0.7323937598229685,
          0.9395192526186186,
          1.7189149032041096,
          1.8182258936139555,
          1.4471580313422192,
          0.7323937598229685,
          -0.15490195998574313,
          -0.3010299956639812,
          -0.3979400086720376,
          -0.15490195998574313,
          1.5774917998372253,
          1.2810333672477277,
          1.0354251267137866,
          1.5987905067631152,
          0.505149978319906,
          0.919078092376074,
          0.9294189257142927,
          -0.022878745280337558,
          1.08278537031645,
          1.437750562820388,
          1.5646660642520893,
          1.743901373925553
         ],
         "xaxis": "x",
         "y": [
          20.77,
          18.48,
          19.71,
          20.51,
          20.65,
          20.3,
          19.88,
          20.16,
          21.25,
          21.23,
          21.3,
          21.12,
          17.55,
          20.63,
          19.405,
          19.03,
          18.35,
          20.16,
          20.695,
          20.596,
          21.091,
          17.86,
          19.2,
          18.7365,
          18.626,
          19.7,
          18.891,
          19.332,
          20.339,
          18.738,
          20.387,
          18.24,
          17.08,
          18,
          18.38
         ],
         "yaxis": "y"
        }
       ],
       "layout": {
        "legend": {
         "title": {
          "text": "Descartados"
         },
         "tracegroupgap": 0
        },
        "margin": {
         "t": 60
        },
        "template": {
         "data": {
          "bar": [
           {
            "error_x": {
             "color": "#2a3f5f"
            },
            "error_y": {
             "color": "#2a3f5f"
            },
            "marker": {
             "line": {
              "color": "#E5ECF6",
              "width": 0.5
             },
             "pattern": {
              "fillmode": "overlay",
              "size": 10,
              "solidity": 0.2
             }
            },
            "type": "bar"
           }
          ],
          "barpolar": [
           {
            "marker": {
             "line": {
              "color": "#E5ECF6",
              "width": 0.5
             },
             "pattern": {
              "fillmode": "overlay",
              "size": 10,
              "solidity": 0.2
             }
            },
            "type": "barpolar"
           }
          ],
          "carpet": [
           {
            "aaxis": {
             "endlinecolor": "#2a3f5f",
             "gridcolor": "white",
             "linecolor": "white",
             "minorgridcolor": "white",
             "startlinecolor": "#2a3f5f"
            },
            "baxis": {
             "endlinecolor": "#2a3f5f",
             "gridcolor": "white",
             "linecolor": "white",
             "minorgridcolor": "white",
             "startlinecolor": "#2a3f5f"
            },
            "type": "carpet"
           }
          ],
          "choropleth": [
           {
            "colorbar": {
             "outlinewidth": 0,
             "ticks": ""
            },
            "type": "choropleth"
           }
          ],
          "contour": [
           {
            "colorbar": {
             "outlinewidth": 0,
             "ticks": ""
            },
            "colorscale": [
             [
              0,
              "#0d0887"
             ],
             [
              0.1111111111111111,
              "#46039f"
             ],
             [
              0.2222222222222222,
              "#7201a8"
             ],
             [
              0.3333333333333333,
              "#9c179e"
             ],
             [
              0.4444444444444444,
              "#bd3786"
             ],
             [
              0.5555555555555556,
              "#d8576b"
             ],
             [
              0.6666666666666666,
              "#ed7953"
             ],
             [
              0.7777777777777778,
              "#fb9f3a"
             ],
             [
              0.8888888888888888,
              "#fdca26"
             ],
             [
              1,
              "#f0f921"
             ]
            ],
            "type": "contour"
           }
          ],
          "contourcarpet": [
           {
            "colorbar": {
             "outlinewidth": 0,
             "ticks": ""
            },
            "type": "contourcarpet"
           }
          ],
          "heatmap": [
           {
            "colorbar": {
             "outlinewidth": 0,
             "ticks": ""
            },
            "colorscale": [
             [
              0,
              "#0d0887"
             ],
             [
              0.1111111111111111,
              "#46039f"
             ],
             [
              0.2222222222222222,
              "#7201a8"
             ],
             [
              0.3333333333333333,
              "#9c179e"
             ],
             [
              0.4444444444444444,
              "#bd3786"
             ],
             [
              0.5555555555555556,
              "#d8576b"
             ],
             [
              0.6666666666666666,
              "#ed7953"
             ],
             [
              0.7777777777777778,
              "#fb9f3a"
             ],
             [
              0.8888888888888888,
              "#fdca26"
             ],
             [
              1,
              "#f0f921"
             ]
            ],
            "type": "heatmap"
           }
          ],
          "heatmapgl": [
           {
            "colorbar": {
             "outlinewidth": 0,
             "ticks": ""
            },
            "colorscale": [
             [
              0,
              "#0d0887"
             ],
             [
              0.1111111111111111,
              "#46039f"
             ],
             [
              0.2222222222222222,
              "#7201a8"
             ],
             [
              0.3333333333333333,
              "#9c179e"
             ],
             [
              0.4444444444444444,
              "#bd3786"
             ],
             [
              0.5555555555555556,
              "#d8576b"
             ],
             [
              0.6666666666666666,
              "#ed7953"
             ],
             [
              0.7777777777777778,
              "#fb9f3a"
             ],
             [
              0.8888888888888888,
              "#fdca26"
             ],
             [
              1,
              "#f0f921"
             ]
            ],
            "type": "heatmapgl"
           }
          ],
          "histogram": [
           {
            "marker": {
             "pattern": {
              "fillmode": "overlay",
              "size": 10,
              "solidity": 0.2
             }
            },
            "type": "histogram"
           }
          ],
          "histogram2d": [
           {
            "colorbar": {
             "outlinewidth": 0,
             "ticks": ""
            },
            "colorscale": [
             [
              0,
              "#0d0887"
             ],
             [
              0.1111111111111111,
              "#46039f"
             ],
             [
              0.2222222222222222,
              "#7201a8"
             ],
             [
              0.3333333333333333,
              "#9c179e"
             ],
             [
              0.4444444444444444,
              "#bd3786"
             ],
             [
              0.5555555555555556,
              "#d8576b"
             ],
             [
              0.6666666666666666,
              "#ed7953"
             ],
             [
              0.7777777777777778,
              "#fb9f3a"
             ],
             [
              0.8888888888888888,
              "#fdca26"
             ],
             [
              1,
              "#f0f921"
             ]
            ],
            "type": "histogram2d"
           }
          ],
          "histogram2dcontour": [
           {
            "colorbar": {
             "outlinewidth": 0,
             "ticks": ""
            },
            "colorscale": [
             [
              0,
              "#0d0887"
             ],
             [
              0.1111111111111111,
              "#46039f"
             ],
             [
              0.2222222222222222,
              "#7201a8"
             ],
             [
              0.3333333333333333,
              "#9c179e"
             ],
             [
              0.4444444444444444,
              "#bd3786"
             ],
             [
              0.5555555555555556,
              "#d8576b"
             ],
             [
              0.6666666666666666,
              "#ed7953"
             ],
             [
              0.7777777777777778,
              "#fb9f3a"
             ],
             [
              0.8888888888888888,
              "#fdca26"
             ],
             [
              1,
              "#f0f921"
             ]
            ],
            "type": "histogram2dcontour"
           }
          ],
          "mesh3d": [
           {
            "colorbar": {
             "outlinewidth": 0,
             "ticks": ""
            },
            "type": "mesh3d"
           }
          ],
          "parcoords": [
           {
            "line": {
             "colorbar": {
              "outlinewidth": 0,
              "ticks": ""
             }
            },
            "type": "parcoords"
           }
          ],
          "pie": [
           {
            "automargin": true,
            "type": "pie"
           }
          ],
          "scatter": [
           {
            "marker": {
             "colorbar": {
              "outlinewidth": 0,
              "ticks": ""
             }
            },
            "type": "scatter"
           }
          ],
          "scatter3d": [
           {
            "line": {
             "colorbar": {
              "outlinewidth": 0,
              "ticks": ""
             }
            },
            "marker": {
             "colorbar": {
              "outlinewidth": 0,
              "ticks": ""
             }
            },
            "type": "scatter3d"
           }
          ],
          "scattercarpet": [
           {
            "marker": {
             "colorbar": {
              "outlinewidth": 0,
              "ticks": ""
             }
            },
            "type": "scattercarpet"
           }
          ],
          "scattergeo": [
           {
            "marker": {
             "colorbar": {
              "outlinewidth": 0,
              "ticks": ""
             }
            },
            "type": "scattergeo"
           }
          ],
          "scattergl": [
           {
            "marker": {
             "colorbar": {
              "outlinewidth": 0,
              "ticks": ""
             }
            },
            "type": "scattergl"
           }
          ],
          "scattermapbox": [
           {
            "marker": {
             "colorbar": {
              "outlinewidth": 0,
              "ticks": ""
             }
            },
            "type": "scattermapbox"
           }
          ],
          "scatterpolar": [
           {
            "marker": {
             "colorbar": {
              "outlinewidth": 0,
              "ticks": ""
             }
            },
            "type": "scatterpolar"
           }
          ],
          "scatterpolargl": [
           {
            "marker": {
             "colorbar": {
              "outlinewidth": 0,
              "ticks": ""
             }
            },
            "type": "scatterpolargl"
           }
          ],
          "scatterternary": [
           {
            "marker": {
             "colorbar": {
              "outlinewidth": 0,
              "ticks": ""
             }
            },
            "type": "scatterternary"
           }
          ],
          "surface": [
           {
            "colorbar": {
             "outlinewidth": 0,
             "ticks": ""
            },
            "colorscale": [
             [
              0,
              "#0d0887"
             ],
             [
              0.1111111111111111,
              "#46039f"
             ],
             [
              0.2222222222222222,
              "#7201a8"
             ],
             [
              0.3333333333333333,
              "#9c179e"
             ],
             [
              0.4444444444444444,
              "#bd3786"
             ],
             [
              0.5555555555555556,
              "#d8576b"
             ],
             [
              0.6666666666666666,
              "#ed7953"
             ],
             [
              0.7777777777777778,
              "#fb9f3a"
             ],
             [
              0.8888888888888888,
              "#fdca26"
             ],
             [
              1,
              "#f0f921"
             ]
            ],
            "type": "surface"
           }
          ],
          "table": [
           {
            "cells": {
             "fill": {
              "color": "#EBF0F8"
             },
             "line": {
              "color": "white"
             }
            },
            "header": {
             "fill": {
              "color": "#C8D4E3"
             },
             "line": {
              "color": "white"
             }
            },
            "type": "table"
           }
          ]
         },
         "layout": {
          "annotationdefaults": {
           "arrowcolor": "#2a3f5f",
           "arrowhead": 0,
           "arrowwidth": 1
          },
          "autotypenumbers": "strict",
          "coloraxis": {
           "colorbar": {
            "outlinewidth": 0,
            "ticks": ""
           }
          },
          "colorscale": {
           "diverging": [
            [
             0,
             "#8e0152"
            ],
            [
             0.1,
             "#c51b7d"
            ],
            [
             0.2,
             "#de77ae"
            ],
            [
             0.3,
             "#f1b6da"
            ],
            [
             0.4,
             "#fde0ef"
            ],
            [
             0.5,
             "#f7f7f7"
            ],
            [
             0.6,
             "#e6f5d0"
            ],
            [
             0.7,
             "#b8e186"
            ],
            [
             0.8,
             "#7fbc41"
            ],
            [
             0.9,
             "#4d9221"
            ],
            [
             1,
             "#276419"
            ]
           ],
           "sequential": [
            [
             0,
             "#0d0887"
            ],
            [
             0.1111111111111111,
             "#46039f"
            ],
            [
             0.2222222222222222,
             "#7201a8"
            ],
            [
             0.3333333333333333,
             "#9c179e"
            ],
            [
             0.4444444444444444,
             "#bd3786"
            ],
            [
             0.5555555555555556,
             "#d8576b"
            ],
            [
             0.6666666666666666,
             "#ed7953"
            ],
            [
             0.7777777777777778,
             "#fb9f3a"
            ],
            [
             0.8888888888888888,
             "#fdca26"
            ],
            [
             1,
             "#f0f921"
            ]
           ],
           "sequentialminus": [
            [
             0,
             "#0d0887"
            ],
            [
             0.1111111111111111,
             "#46039f"
            ],
            [
             0.2222222222222222,
             "#7201a8"
            ],
            [
             0.3333333333333333,
             "#9c179e"
            ],
            [
             0.4444444444444444,
             "#bd3786"
            ],
            [
             0.5555555555555556,
             "#d8576b"
            ],
            [
             0.6666666666666666,
             "#ed7953"
            ],
            [
             0.7777777777777778,
             "#fb9f3a"
            ],
            [
             0.8888888888888888,
             "#fdca26"
            ],
            [
             1,
             "#f0f921"
            ]
           ]
          },
          "colorway": [
           "#636efa",
           "#EF553B",
           "#00cc96",
           "#ab63fa",
           "#FFA15A",
           "#19d3f3",
           "#FF6692",
           "#B6E880",
           "#FF97FF",
           "#FECB52"
          ],
          "font": {
           "color": "#2a3f5f"
          },
          "geo": {
           "bgcolor": "white",
           "lakecolor": "white",
           "landcolor": "#E5ECF6",
           "showlakes": true,
           "showland": true,
           "subunitcolor": "white"
          },
          "hoverlabel": {
           "align": "left"
          },
          "hovermode": "closest",
          "mapbox": {
           "style": "light"
          },
          "paper_bgcolor": "white",
          "plot_bgcolor": "#E5ECF6",
          "polar": {
           "angularaxis": {
            "gridcolor": "white",
            "linecolor": "white",
            "ticks": ""
           },
           "bgcolor": "#E5ECF6",
           "radialaxis": {
            "gridcolor": "white",
            "linecolor": "white",
            "ticks": ""
           }
          },
          "scene": {
           "xaxis": {
            "backgroundcolor": "#E5ECF6",
            "gridcolor": "white",
            "gridwidth": 2,
            "linecolor": "white",
            "showbackground": true,
            "ticks": "",
            "zerolinecolor": "white"
           },
           "yaxis": {
            "backgroundcolor": "#E5ECF6",
            "gridcolor": "white",
            "gridwidth": 2,
            "linecolor": "white",
            "showbackground": true,
            "ticks": "",
            "zerolinecolor": "white"
           },
           "zaxis": {
            "backgroundcolor": "#E5ECF6",
            "gridcolor": "white",
            "gridwidth": 2,
            "linecolor": "white",
            "showbackground": true,
            "ticks": "",
            "zerolinecolor": "white"
           }
          },
          "shapedefaults": {
           "line": {
            "color": "#2a3f5f"
           }
          },
          "ternary": {
           "aaxis": {
            "gridcolor": "white",
            "linecolor": "white",
            "ticks": ""
           },
           "baxis": {
            "gridcolor": "white",
            "linecolor": "white",
            "ticks": ""
           },
           "bgcolor": "#E5ECF6",
           "caxis": {
            "gridcolor": "white",
            "linecolor": "white",
            "ticks": ""
           }
          },
          "title": {
           "x": 0.05
          },
          "xaxis": {
           "automargin": true,
           "gridcolor": "white",
           "linecolor": "white",
           "ticks": "",
           "title": {
            "standoff": 15
           },
           "zerolinecolor": "white",
           "zerolinewidth": 2
          },
          "yaxis": {
           "automargin": true,
           "gridcolor": "white",
           "linecolor": "white",
           "ticks": "",
           "title": {
            "standoff": 15
           },
           "zerolinecolor": "white",
           "zerolinewidth": 2
          }
         }
        },
        "xaxis": {
         "anchor": "y",
         "domain": [
          0,
          1
         ],
         "title": {
          "text": "DNB_BRDF_Corrected_NTL_log_P50"
         }
        },
        "yaxis": {
         "anchor": "x",
         "autorange": "reversed",
         "domain": [
          0,
          1
         ],
         "title": {
          "text": "P50_fot"
         }
        }
       }
      }
     },
     "metadata": {},
     "output_type": "display_data"
    }
   ],
   "source": [
    "fig = px.scatter(A,y='P50_fot',x='DNB_BRDF_Corrected_NTL_log_P50',text='name',color='Descartados')\n",
    "fig.update_yaxes(autorange=\"reversed\")\n",
    "fig.show()"
   ]
  },
  {
   "cell_type": "markdown",
   "metadata": {},
   "source": [
    "Guardado para la Figura_10"
   ]
  },
  {
   "cell_type": "code",
   "execution_count": 44,
   "metadata": {},
   "outputs": [],
   "source": [
    "guardar=A\n",
    "guardar.to_csv(output+'\\Figura_10.csv',index=False)"
   ]
  },
  {
   "cell_type": "markdown",
   "metadata": {},
   "source": [
    "### Cantidades de datos"
   ]
  },
  {
   "cell_type": "code",
   "execution_count": 45,
   "metadata": {},
   "outputs": [
    {
     "name": "stdout",
     "output_type": "stream",
     "text": [
      "Numero de TESS: 263\n",
      "Numero de SG: 239\n"
     ]
    }
   ],
   "source": [
    "a=Fotometros_registros.groupby(['name']).count().reset_index()[['name']].merge(Fotometros[['name','TYPE']],left_on='name',right_on='name')\n",
    "a=a[~a['name'].isin({'stars679'}|{'stars4'})]\n",
    "print('Numero de TESS: '+str(len(a[a['TYPE']=='TESS-W'])))\n",
    "print('Numero de SG: '+str(len(a[a['TYPE']=='SG'])))"
   ]
  },
  {
   "cell_type": "code",
   "execution_count": 46,
   "metadata": {},
   "outputs": [
    {
     "name": "stdout",
     "output_type": "stream",
     "text": [
      "Numero de TESS: 252\n",
      "Numero de SG: 239\n"
     ]
    }
   ],
   "source": [
    "data_filtrado_1=Fotometros_registros[(Fotometros_registros['clouds']==False) & (Fotometros_registros['moon']==False)]\n",
    "b=data_filtrado_1.groupby(['name']).count().reset_index()[['name']].merge(Fotometros[['name','TYPE']],left_on='name',right_on='name')\n",
    "b=b[~b['name'].isin({'stars679'}|{'stars4'})]\n",
    "print('Numero de TESS: '+str(len(b[b['TYPE']=='TESS-W'])))\n",
    "print('Numero de SG: '+str(len(b[b['TYPE']=='SG'])))"
   ]
  },
  {
   "cell_type": "code",
   "execution_count": 47,
   "metadata": {},
   "outputs": [
    {
     "name": "stdout",
     "output_type": "stream",
     "text": [
      "Numero de TESS: 201\n",
      "Numero de SG: 127\n"
     ]
    }
   ],
   "source": [
    "data_filtrado2=Fotometros_registros[(Fotometros_registros['clouds']==False) & (Fotometros_registros['moon']==False) & (Fotometros_registros['galaxy']==False) & (Fotometros_registros['zodiacal']==False) ]\n",
    "M=data_filtrado2.groupby(['name']).median(numeric_only=True)[['mag']]\n",
    "M.columns=['mediana_estricto']\n",
    "data_filtrado2=Fotometros_registros[(Fotometros_registros['clouds']==False) & (Fotometros_registros['moon']==False)]\n",
    "data_filtrado2=data_filtrado2.merge(M,left_on='name',right_on='name')\n",
    "data_filtrado2=data_filtrado2[((data_filtrado2['galaxy']==False) & (data_filtrado2['zodiacal']==False) & (data_filtrado2['mediana_estricto']>20)) | (data_filtrado2['mediana_estricto']<=20)]\n",
    "c=data_filtrado2.groupby(['name']).count().reset_index()[['name']].merge(Fotometros[['name','TYPE']],left_on='name',right_on='name')\n",
    "c=c[~c['name'].isin({'stars679'}|{'stars4'})]\n",
    "print('Numero de TESS: '+str(len(c[c['TYPE']=='TESS-W'])))\n",
    "print('Numero de SG: '+str(len(c[c['TYPE']=='SG'])))"
   ]
  },
  {
   "cell_type": "code",
   "execution_count": 48,
   "metadata": {},
   "outputs": [
    {
     "name": "stdout",
     "output_type": "stream",
     "text": [
      "Numero de TESS: 174\n",
      "Numero de SG: 80\n"
     ]
    }
   ],
   "source": [
    "data_filtrado3=data_filtrado2[~data_filtrado2['name'].isin(Menores500_2|{'stars679'}|{'stars4'})]\n",
    "d=data_filtrado3.groupby(['name']).count().reset_index()[['name']].merge(Fotometros[['name','TYPE']],left_on='name',right_on='name')\n",
    "print('Numero de TESS: '+str(len(d[d['TYPE']=='TESS-W'])))\n",
    "print('Numero de SG: '+str(len(d[d['TYPE']=='SG'])))"
   ]
  },
  {
   "cell_type": "code",
   "execution_count": 49,
   "metadata": {},
   "outputs": [
    {
     "name": "stdout",
     "output_type": "stream",
     "text": [
      "Numero de TESS: 147\n",
      "Numero de SG: 65\n"
     ]
    }
   ],
   "source": [
    "data_filtrado4=data_filtrado3[~data_filtrado3['name'].isin(Excluidos)]\n",
    "f=data_filtrado4.groupby(['name']).count().reset_index()[['name']].merge(Fotometros[['name','TYPE']],left_on='name',right_on='name')\n",
    "print('Numero de TESS: '+str(len(f[f['TYPE']=='TESS-W'])))\n",
    "print('Numero de SG: '+str(len(f[f['TYPE']=='SG'])))"
   ]
  },
  {
   "cell_type": "markdown",
   "metadata": {},
   "source": [
    "### Mapa fotóemtros usados"
   ]
  },
  {
   "cell_type": "markdown",
   "metadata": {},
   "source": [
    "Mapa de los fotómetros utilizados"
   ]
  },
  {
   "cell_type": "code",
   "execution_count": 50,
   "metadata": {},
   "outputs": [],
   "source": [
    "Fot_usados=Fotometros[Fotometros['name'].isin(set(FIN['name'])-Excluidos)]"
   ]
  },
  {
   "cell_type": "code",
   "execution_count": 51,
   "metadata": {},
   "outputs": [
    {
     "data": {
      "text/html": [
       "<div style=\"width:100%;\"><div style=\"position:relative;width:100%;height:0;padding-bottom:60%;\"><span style=\"color:#565656\">Make this Notebook Trusted to load map: File -> Trust Notebook</span><iframe srcdoc=\"&lt;!DOCTYPE html&gt;\n",
       "&lt;html&gt;\n",
       "&lt;head&gt;\n",
       "    \n",
       "    &lt;meta http-equiv=&quot;content-type&quot; content=&quot;text/html; charset=UTF-8&quot; /&gt;\n",
       "    \n",
       "        &lt;script&gt;\n",
       "            L_NO_TOUCH = false;\n",
       "            L_DISABLE_3D = false;\n",
       "        &lt;/script&gt;\n",
       "    \n",
       "    &lt;style&gt;html, body {width: 100%;height: 100%;margin: 0;padding: 0;}&lt;/style&gt;\n",
       "    &lt;style&gt;#map {position:absolute;top:0;bottom:0;right:0;left:0;}&lt;/style&gt;\n",
       "    &lt;script src=&quot;https://cdn.jsdelivr.net/npm/leaflet@1.9.3/dist/leaflet.js&quot;&gt;&lt;/script&gt;\n",
       "    &lt;script src=&quot;https://code.jquery.com/jquery-1.12.4.min.js&quot;&gt;&lt;/script&gt;\n",
       "    &lt;script src=&quot;https://cdn.jsdelivr.net/npm/bootstrap@5.2.2/dist/js/bootstrap.bundle.min.js&quot;&gt;&lt;/script&gt;\n",
       "    &lt;script src=&quot;https://cdnjs.cloudflare.com/ajax/libs/Leaflet.awesome-markers/2.0.2/leaflet.awesome-markers.js&quot;&gt;&lt;/script&gt;\n",
       "    &lt;link rel=&quot;stylesheet&quot; href=&quot;https://cdn.jsdelivr.net/npm/leaflet@1.9.3/dist/leaflet.css&quot;/&gt;\n",
       "    &lt;link rel=&quot;stylesheet&quot; href=&quot;https://cdn.jsdelivr.net/npm/bootstrap@5.2.2/dist/css/bootstrap.min.css&quot;/&gt;\n",
       "    &lt;link rel=&quot;stylesheet&quot; href=&quot;https://netdna.bootstrapcdn.com/bootstrap/3.0.0/css/bootstrap.min.css&quot;/&gt;\n",
       "    &lt;link rel=&quot;stylesheet&quot; href=&quot;https://cdn.jsdelivr.net/npm/@fortawesome/fontawesome-free@6.2.0/css/all.min.css&quot;/&gt;\n",
       "    &lt;link rel=&quot;stylesheet&quot; href=&quot;https://cdnjs.cloudflare.com/ajax/libs/Leaflet.awesome-markers/2.0.2/leaflet.awesome-markers.css&quot;/&gt;\n",
       "    &lt;link rel=&quot;stylesheet&quot; href=&quot;https://cdn.jsdelivr.net/gh/python-visualization/folium/folium/templates/leaflet.awesome.rotate.min.css&quot;/&gt;\n",
       "    \n",
       "            &lt;meta name=&quot;viewport&quot; content=&quot;width=device-width,\n",
       "                initial-scale=1.0, maximum-scale=1.0, user-scalable=no&quot; /&gt;\n",
       "            &lt;style&gt;\n",
       "                #map_19773f9a8a29308e264abaa46626bf01 {\n",
       "                    position: relative;\n",
       "                    width: 100.0%;\n",
       "                    height: 100.0%;\n",
       "                    left: 0.0%;\n",
       "                    top: 0.0%;\n",
       "                }\n",
       "                .leaflet-container { font-size: 1rem; }\n",
       "            &lt;/style&gt;\n",
       "        \n",
       "&lt;/head&gt;\n",
       "&lt;body&gt;\n",
       "    \n",
       "    \n",
       "            &lt;div class=&quot;folium-map&quot; id=&quot;map_19773f9a8a29308e264abaa46626bf01&quot; &gt;&lt;/div&gt;\n",
       "        \n",
       "&lt;/body&gt;\n",
       "&lt;script&gt;\n",
       "    \n",
       "    \n",
       "            var map_19773f9a8a29308e264abaa46626bf01 = L.map(\n",
       "                &quot;map_19773f9a8a29308e264abaa46626bf01&quot;,\n",
       "                {\n",
       "                    center: [37.0, 0.0],\n",
       "                    crs: L.CRS.EPSG3857,\n",
       "                    zoom: 3,\n",
       "                    zoomControl: true,\n",
       "                    preferCanvas: false,\n",
       "                }\n",
       "            );\n",
       "\n",
       "            \n",
       "\n",
       "        \n",
       "    \n",
       "            var tile_layer_02854f8fc307120aff80f38738e429c8 = L.tileLayer(\n",
       "                &quot;https://{s}.tile.openstreetmap.org/{z}/{x}/{y}.png&quot;,\n",
       "                {&quot;attribution&quot;: &quot;Data by \\u0026copy; \\u003ca target=\\&quot;_blank\\&quot; href=\\&quot;http://openstreetmap.org\\&quot;\\u003eOpenStreetMap\\u003c/a\\u003e, under \\u003ca target=\\&quot;_blank\\&quot; href=\\&quot;http://www.openstreetmap.org/copyright\\&quot;\\u003eODbL\\u003c/a\\u003e.&quot;, &quot;detectRetina&quot;: false, &quot;maxNativeZoom&quot;: 18, &quot;maxZoom&quot;: 18, &quot;minZoom&quot;: 0, &quot;noWrap&quot;: false, &quot;opacity&quot;: 1, &quot;subdomains&quot;: &quot;abc&quot;, &quot;tms&quot;: false}\n",
       "            ).addTo(map_19773f9a8a29308e264abaa46626bf01);\n",
       "        \n",
       "    \n",
       "            var feature_group_accd16c10b5c05b7599e9ef80b7ed376 = L.featureGroup(\n",
       "                {}\n",
       "            ).addTo(map_19773f9a8a29308e264abaa46626bf01);\n",
       "        \n",
       "    \n",
       "            var circle_marker_79a4996b80ef9e60ef02491bfdc42280 = L.circleMarker(\n",
       "                [28.298744, -16.510332],\n",
       "                {&quot;bubblingMouseEvents&quot;: true, &quot;color&quot;: &quot;darkblue&quot;, &quot;dashArray&quot;: null, &quot;dashOffset&quot;: null, &quot;fill&quot;: true, &quot;fillColor&quot;: &quot;darkblue&quot;, &quot;fillOpacity&quot;: 0.8, &quot;fillRule&quot;: &quot;evenodd&quot;, &quot;lineCap&quot;: &quot;round&quot;, &quot;lineJoin&quot;: &quot;round&quot;, &quot;opacity&quot;: 1.0, &quot;radius&quot;: 4, &quot;stroke&quot;: true, &quot;weight&quot;: 1}\n",
       "            ).addTo(feature_group_accd16c10b5c05b7599e9ef80b7ed376);\n",
       "        \n",
       "    \n",
       "            var circle_marker_f3b4d6a11f5ec55b2fb1ceff758f1535 = L.circleMarker(\n",
       "                [28.298744, -16.510332],\n",
       "                {&quot;bubblingMouseEvents&quot;: true, &quot;color&quot;: &quot;darkblue&quot;, &quot;dashArray&quot;: null, &quot;dashOffset&quot;: null, &quot;fill&quot;: true, &quot;fillColor&quot;: &quot;darkblue&quot;, &quot;fillOpacity&quot;: 0.8, &quot;fillRule&quot;: &quot;evenodd&quot;, &quot;lineCap&quot;: &quot;round&quot;, &quot;lineJoin&quot;: &quot;round&quot;, &quot;opacity&quot;: 1.0, &quot;radius&quot;: 4, &quot;stroke&quot;: true, &quot;weight&quot;: 1}\n",
       "            ).addTo(feature_group_accd16c10b5c05b7599e9ef80b7ed376);\n",
       "        \n",
       "    \n",
       "            var circle_marker_41c0fb54af6b32d6c96948dc9362e336 = L.circleMarker(\n",
       "                [28.756002, -17.895484],\n",
       "                {&quot;bubblingMouseEvents&quot;: true, &quot;color&quot;: &quot;darkblue&quot;, &quot;dashArray&quot;: null, &quot;dashOffset&quot;: null, &quot;fill&quot;: true, &quot;fillColor&quot;: &quot;darkblue&quot;, &quot;fillOpacity&quot;: 0.8, &quot;fillRule&quot;: &quot;evenodd&quot;, &quot;lineCap&quot;: &quot;round&quot;, &quot;lineJoin&quot;: &quot;round&quot;, &quot;opacity&quot;: 1.0, &quot;radius&quot;: 4, &quot;stroke&quot;: true, &quot;weight&quot;: 1}\n",
       "            ).addTo(feature_group_accd16c10b5c05b7599e9ef80b7ed376);\n",
       "        \n",
       "    \n",
       "            var circle_marker_909066991c317e7cd83ad21aa1a7e0b2 = L.circleMarker(\n",
       "                [28.300629, -16.512165],\n",
       "                {&quot;bubblingMouseEvents&quot;: true, &quot;color&quot;: &quot;darkblue&quot;, &quot;dashArray&quot;: null, &quot;dashOffset&quot;: null, &quot;fill&quot;: true, &quot;fillColor&quot;: &quot;darkblue&quot;, &quot;fillOpacity&quot;: 0.8, &quot;fillRule&quot;: &quot;evenodd&quot;, &quot;lineCap&quot;: &quot;round&quot;, &quot;lineJoin&quot;: &quot;round&quot;, &quot;opacity&quot;: 1.0, &quot;radius&quot;: 4, &quot;stroke&quot;: true, &quot;weight&quot;: 1}\n",
       "            ).addTo(feature_group_accd16c10b5c05b7599e9ef80b7ed376);\n",
       "        \n",
       "    \n",
       "            var circle_marker_9fe55ad20763f722f558900c8b61af0b = L.circleMarker(\n",
       "                [38.4115067, -4.89909472],\n",
       "                {&quot;bubblingMouseEvents&quot;: true, &quot;color&quot;: &quot;darkblue&quot;, &quot;dashArray&quot;: null, &quot;dashOffset&quot;: null, &quot;fill&quot;: true, &quot;fillColor&quot;: &quot;darkblue&quot;, &quot;fillOpacity&quot;: 0.8, &quot;fillRule&quot;: &quot;evenodd&quot;, &quot;lineCap&quot;: &quot;round&quot;, &quot;lineJoin&quot;: &quot;round&quot;, &quot;opacity&quot;: 1.0, &quot;radius&quot;: 4, &quot;stroke&quot;: true, &quot;weight&quot;: 1}\n",
       "            ).addTo(feature_group_accd16c10b5c05b7599e9ef80b7ed376);\n",
       "        \n",
       "    \n",
       "            var circle_marker_56978537452e25156c343e1d8121cfdd = L.circleMarker(\n",
       "                [38.38266983530801, -6.5921306902661],\n",
       "                {&quot;bubblingMouseEvents&quot;: true, &quot;color&quot;: &quot;darkblue&quot;, &quot;dashArray&quot;: null, &quot;dashOffset&quot;: null, &quot;fill&quot;: true, &quot;fillColor&quot;: &quot;darkblue&quot;, &quot;fillOpacity&quot;: 0.8, &quot;fillRule&quot;: &quot;evenodd&quot;, &quot;lineCap&quot;: &quot;round&quot;, &quot;lineJoin&quot;: &quot;round&quot;, &quot;opacity&quot;: 1.0, &quot;radius&quot;: 4, &quot;stroke&quot;: true, &quot;weight&quot;: 1}\n",
       "            ).addTo(feature_group_accd16c10b5c05b7599e9ef80b7ed376);\n",
       "        \n",
       "    \n",
       "            var circle_marker_9d34b7a3efa4aaf8221b48eb7b7093f1 = L.circleMarker(\n",
       "                [38.326906, -6.53611],\n",
       "                {&quot;bubblingMouseEvents&quot;: true, &quot;color&quot;: &quot;darkblue&quot;, &quot;dashArray&quot;: null, &quot;dashOffset&quot;: null, &quot;fill&quot;: true, &quot;fillColor&quot;: &quot;darkblue&quot;, &quot;fillOpacity&quot;: 0.8, &quot;fillRule&quot;: &quot;evenodd&quot;, &quot;lineCap&quot;: &quot;round&quot;, &quot;lineJoin&quot;: &quot;round&quot;, &quot;opacity&quot;: 1.0, &quot;radius&quot;: 4, &quot;stroke&quot;: true, &quot;weight&quot;: 1}\n",
       "            ).addTo(feature_group_accd16c10b5c05b7599e9ef80b7ed376);\n",
       "        \n",
       "    \n",
       "            var circle_marker_d2a71efcc5105467a3eaf5f4f941cb5c = L.circleMarker(\n",
       "                [38.34136, -6.41404],\n",
       "                {&quot;bubblingMouseEvents&quot;: true, &quot;color&quot;: &quot;darkblue&quot;, &quot;dashArray&quot;: null, &quot;dashOffset&quot;: null, &quot;fill&quot;: true, &quot;fillColor&quot;: &quot;darkblue&quot;, &quot;fillOpacity&quot;: 0.8, &quot;fillRule&quot;: &quot;evenodd&quot;, &quot;lineCap&quot;: &quot;round&quot;, &quot;lineJoin&quot;: &quot;round&quot;, &quot;opacity&quot;: 1.0, &quot;radius&quot;: 4, &quot;stroke&quot;: true, &quot;weight&quot;: 1}\n",
       "            ).addTo(feature_group_accd16c10b5c05b7599e9ef80b7ed376);\n",
       "        \n",
       "    \n",
       "            var circle_marker_b94ba9313beb5641e66455ab4adff9f1 = L.circleMarker(\n",
       "                [38.326608, -6.537493],\n",
       "                {&quot;bubblingMouseEvents&quot;: true, &quot;color&quot;: &quot;darkblue&quot;, &quot;dashArray&quot;: null, &quot;dashOffset&quot;: null, &quot;fill&quot;: true, &quot;fillColor&quot;: &quot;darkblue&quot;, &quot;fillOpacity&quot;: 0.8, &quot;fillRule&quot;: &quot;evenodd&quot;, &quot;lineCap&quot;: &quot;round&quot;, &quot;lineJoin&quot;: &quot;round&quot;, &quot;opacity&quot;: 1.0, &quot;radius&quot;: 4, &quot;stroke&quot;: true, &quot;weight&quot;: 1}\n",
       "            ).addTo(feature_group_accd16c10b5c05b7599e9ef80b7ed376);\n",
       "        \n",
       "    \n",
       "            var circle_marker_c2916fa5fc0ea3396f4b89c468b1140f = L.circleMarker(\n",
       "                [40.417323, -1.91062],\n",
       "                {&quot;bubblingMouseEvents&quot;: true, &quot;color&quot;: &quot;darkblue&quot;, &quot;dashArray&quot;: null, &quot;dashOffset&quot;: null, &quot;fill&quot;: true, &quot;fillColor&quot;: &quot;darkblue&quot;, &quot;fillOpacity&quot;: 0.8, &quot;fillRule&quot;: &quot;evenodd&quot;, &quot;lineCap&quot;: &quot;round&quot;, &quot;lineJoin&quot;: &quot;round&quot;, &quot;opacity&quot;: 1.0, &quot;radius&quot;: 4, &quot;stroke&quot;: true, &quot;weight&quot;: 1}\n",
       "            ).addTo(feature_group_accd16c10b5c05b7599e9ef80b7ed376);\n",
       "        \n",
       "    \n",
       "            var circle_marker_d29acae59c23e2578f75598426709cd9 = L.circleMarker(\n",
       "                [40.9535, -0.8932],\n",
       "                {&quot;bubblingMouseEvents&quot;: true, &quot;color&quot;: &quot;darkblue&quot;, &quot;dashArray&quot;: null, &quot;dashOffset&quot;: null, &quot;fill&quot;: true, &quot;fillColor&quot;: &quot;darkblue&quot;, &quot;fillOpacity&quot;: 0.8, &quot;fillRule&quot;: &quot;evenodd&quot;, &quot;lineCap&quot;: &quot;round&quot;, &quot;lineJoin&quot;: &quot;round&quot;, &quot;opacity&quot;: 1.0, &quot;radius&quot;: 4, &quot;stroke&quot;: true, &quot;weight&quot;: 1}\n",
       "            ).addTo(feature_group_accd16c10b5c05b7599e9ef80b7ed376);\n",
       "        \n",
       "    \n",
       "            var circle_marker_83ad9c15c74bde987487d6f5f9b37331 = L.circleMarker(\n",
       "                [-31.3560286173665, 115.71230635863],\n",
       "                {&quot;bubblingMouseEvents&quot;: true, &quot;color&quot;: &quot;darkblue&quot;, &quot;dashArray&quot;: null, &quot;dashOffset&quot;: null, &quot;fill&quot;: true, &quot;fillColor&quot;: &quot;darkblue&quot;, &quot;fillOpacity&quot;: 0.8, &quot;fillRule&quot;: &quot;evenodd&quot;, &quot;lineCap&quot;: &quot;round&quot;, &quot;lineJoin&quot;: &quot;round&quot;, &quot;opacity&quot;: 1.0, &quot;radius&quot;: 4, &quot;stroke&quot;: true, &quot;weight&quot;: 1}\n",
       "            ).addTo(feature_group_accd16c10b5c05b7599e9ef80b7ed376);\n",
       "        \n",
       "    \n",
       "            var circle_marker_89d9f09dc341dbf828520e44269c7241 = L.circleMarker(\n",
       "                [38.6889427, -27.2666974],\n",
       "                {&quot;bubblingMouseEvents&quot;: true, &quot;color&quot;: &quot;darkblue&quot;, &quot;dashArray&quot;: null, &quot;dashOffset&quot;: null, &quot;fill&quot;: true, &quot;fillColor&quot;: &quot;darkblue&quot;, &quot;fillOpacity&quot;: 0.8, &quot;fillRule&quot;: &quot;evenodd&quot;, &quot;lineCap&quot;: &quot;round&quot;, &quot;lineJoin&quot;: &quot;round&quot;, &quot;opacity&quot;: 1.0, &quot;radius&quot;: 4, &quot;stroke&quot;: true, &quot;weight&quot;: 1}\n",
       "            ).addTo(feature_group_accd16c10b5c05b7599e9ef80b7ed376);\n",
       "        \n",
       "    \n",
       "            var circle_marker_dd30ca253c74d4d2085059a83aa365a1 = L.circleMarker(\n",
       "                [-28.250664, 152.1396389],\n",
       "                {&quot;bubblingMouseEvents&quot;: true, &quot;color&quot;: &quot;darkblue&quot;, &quot;dashArray&quot;: null, &quot;dashOffset&quot;: null, &quot;fill&quot;: true, &quot;fillColor&quot;: &quot;darkblue&quot;, &quot;fillOpacity&quot;: 0.8, &quot;fillRule&quot;: &quot;evenodd&quot;, &quot;lineCap&quot;: &quot;round&quot;, &quot;lineJoin&quot;: &quot;round&quot;, &quot;opacity&quot;: 1.0, &quot;radius&quot;: 4, &quot;stroke&quot;: true, &quot;weight&quot;: 1}\n",
       "            ).addTo(feature_group_accd16c10b5c05b7599e9ef80b7ed376);\n",
       "        \n",
       "    \n",
       "            var circle_marker_eee0f982203d1a8d3216f3bb27704742 = L.circleMarker(\n",
       "                [51.19, 5.226],\n",
       "                {&quot;bubblingMouseEvents&quot;: true, &quot;color&quot;: &quot;darkblue&quot;, &quot;dashArray&quot;: null, &quot;dashOffset&quot;: null, &quot;fill&quot;: true, &quot;fillColor&quot;: &quot;darkblue&quot;, &quot;fillOpacity&quot;: 0.8, &quot;fillRule&quot;: &quot;evenodd&quot;, &quot;lineCap&quot;: &quot;round&quot;, &quot;lineJoin&quot;: &quot;round&quot;, &quot;opacity&quot;: 1.0, &quot;radius&quot;: 4, &quot;stroke&quot;: true, &quot;weight&quot;: 1}\n",
       "            ).addTo(feature_group_accd16c10b5c05b7599e9ef80b7ed376);\n",
       "        \n",
       "    \n",
       "            var circle_marker_113172ddf53914182d4cee978eb88a2d = L.circleMarker(\n",
       "                [42.112192, 0.563138],\n",
       "                {&quot;bubblingMouseEvents&quot;: true, &quot;color&quot;: &quot;darkblue&quot;, &quot;dashArray&quot;: null, &quot;dashOffset&quot;: null, &quot;fill&quot;: true, &quot;fillColor&quot;: &quot;darkblue&quot;, &quot;fillOpacity&quot;: 0.8, &quot;fillRule&quot;: &quot;evenodd&quot;, &quot;lineCap&quot;: &quot;round&quot;, &quot;lineJoin&quot;: &quot;round&quot;, &quot;opacity&quot;: 1.0, &quot;radius&quot;: 4, &quot;stroke&quot;: true, &quot;weight&quot;: 1}\n",
       "            ).addTo(feature_group_accd16c10b5c05b7599e9ef80b7ed376);\n",
       "        \n",
       "    \n",
       "            var circle_marker_bc6d9b79c338e02acaf7d49b9bdc0feb = L.circleMarker(\n",
       "                [41.561767, 0.5180167],\n",
       "                {&quot;bubblingMouseEvents&quot;: true, &quot;color&quot;: &quot;darkblue&quot;, &quot;dashArray&quot;: null, &quot;dashOffset&quot;: null, &quot;fill&quot;: true, &quot;fillColor&quot;: &quot;darkblue&quot;, &quot;fillOpacity&quot;: 0.8, &quot;fillRule&quot;: &quot;evenodd&quot;, &quot;lineCap&quot;: &quot;round&quot;, &quot;lineJoin&quot;: &quot;round&quot;, &quot;opacity&quot;: 1.0, &quot;radius&quot;: 4, &quot;stroke&quot;: true, &quot;weight&quot;: 1}\n",
       "            ).addTo(feature_group_accd16c10b5c05b7599e9ef80b7ed376);\n",
       "        \n",
       "    \n",
       "            var circle_marker_603ed71fe172760340b8b8acda1ed0b6 = L.circleMarker(\n",
       "                [46.452898, 11.462646],\n",
       "                {&quot;bubblingMouseEvents&quot;: true, &quot;color&quot;: &quot;darkblue&quot;, &quot;dashArray&quot;: null, &quot;dashOffset&quot;: null, &quot;fill&quot;: true, &quot;fillColor&quot;: &quot;darkblue&quot;, &quot;fillOpacity&quot;: 0.8, &quot;fillRule&quot;: &quot;evenodd&quot;, &quot;lineCap&quot;: &quot;round&quot;, &quot;lineJoin&quot;: &quot;round&quot;, &quot;opacity&quot;: 1.0, &quot;radius&quot;: 4, &quot;stroke&quot;: true, &quot;weight&quot;: 1}\n",
       "            ).addTo(feature_group_accd16c10b5c05b7599e9ef80b7ed376);\n",
       "        \n",
       "    \n",
       "            var circle_marker_f30012a97c41cfd9f4133a9d597c3b17 = L.circleMarker(\n",
       "                [42.745234, -1.898673],\n",
       "                {&quot;bubblingMouseEvents&quot;: true, &quot;color&quot;: &quot;darkblue&quot;, &quot;dashArray&quot;: null, &quot;dashOffset&quot;: null, &quot;fill&quot;: true, &quot;fillColor&quot;: &quot;darkblue&quot;, &quot;fillOpacity&quot;: 0.8, &quot;fillRule&quot;: &quot;evenodd&quot;, &quot;lineCap&quot;: &quot;round&quot;, &quot;lineJoin&quot;: &quot;round&quot;, &quot;opacity&quot;: 1.0, &quot;radius&quot;: 4, &quot;stroke&quot;: true, &quot;weight&quot;: 1}\n",
       "            ).addTo(feature_group_accd16c10b5c05b7599e9ef80b7ed376);\n",
       "        \n",
       "    \n",
       "            var circle_marker_7832cc881f029187d2bb1d4ef5442a80 = L.circleMarker(\n",
       "                [45.42332, -71.125955],\n",
       "                {&quot;bubblingMouseEvents&quot;: true, &quot;color&quot;: &quot;darkblue&quot;, &quot;dashArray&quot;: null, &quot;dashOffset&quot;: null, &quot;fill&quot;: true, &quot;fillColor&quot;: &quot;darkblue&quot;, &quot;fillOpacity&quot;: 0.8, &quot;fillRule&quot;: &quot;evenodd&quot;, &quot;lineCap&quot;: &quot;round&quot;, &quot;lineJoin&quot;: &quot;round&quot;, &quot;opacity&quot;: 1.0, &quot;radius&quot;: 4, &quot;stroke&quot;: true, &quot;weight&quot;: 1}\n",
       "            ).addTo(feature_group_accd16c10b5c05b7599e9ef80b7ed376);\n",
       "        \n",
       "    \n",
       "            var circle_marker_394d544660302bff566f075bc535b719 = L.circleMarker(\n",
       "                [55.3505432, -2.1443856],\n",
       "                {&quot;bubblingMouseEvents&quot;: true, &quot;color&quot;: &quot;darkblue&quot;, &quot;dashArray&quot;: null, &quot;dashOffset&quot;: null, &quot;fill&quot;: true, &quot;fillColor&quot;: &quot;darkblue&quot;, &quot;fillOpacity&quot;: 0.8, &quot;fillRule&quot;: &quot;evenodd&quot;, &quot;lineCap&quot;: &quot;round&quot;, &quot;lineJoin&quot;: &quot;round&quot;, &quot;opacity&quot;: 1.0, &quot;radius&quot;: 4, &quot;stroke&quot;: true, &quot;weight&quot;: 1}\n",
       "            ).addTo(feature_group_accd16c10b5c05b7599e9ef80b7ed376);\n",
       "        \n",
       "    \n",
       "            var circle_marker_3733ef5c14454701a620349c47b3d0d4 = L.circleMarker(\n",
       "                [-25.9197209467399, 27.833343243371],\n",
       "                {&quot;bubblingMouseEvents&quot;: true, &quot;color&quot;: &quot;darkblue&quot;, &quot;dashArray&quot;: null, &quot;dashOffset&quot;: null, &quot;fill&quot;: true, &quot;fillColor&quot;: &quot;darkblue&quot;, &quot;fillOpacity&quot;: 0.8, &quot;fillRule&quot;: &quot;evenodd&quot;, &quot;lineCap&quot;: &quot;round&quot;, &quot;lineJoin&quot;: &quot;round&quot;, &quot;opacity&quot;: 1.0, &quot;radius&quot;: 4, &quot;stroke&quot;: true, &quot;weight&quot;: 1}\n",
       "            ).addTo(feature_group_accd16c10b5c05b7599e9ef80b7ed376);\n",
       "        \n",
       "    \n",
       "            var circle_marker_75d89cdf98110b11716456f2134f67cf = L.circleMarker(\n",
       "                [41.066087, -2.6413943],\n",
       "                {&quot;bubblingMouseEvents&quot;: true, &quot;color&quot;: &quot;darkblue&quot;, &quot;dashArray&quot;: null, &quot;dashOffset&quot;: null, &quot;fill&quot;: true, &quot;fillColor&quot;: &quot;darkblue&quot;, &quot;fillOpacity&quot;: 0.8, &quot;fillRule&quot;: &quot;evenodd&quot;, &quot;lineCap&quot;: &quot;round&quot;, &quot;lineJoin&quot;: &quot;round&quot;, &quot;opacity&quot;: 1.0, &quot;radius&quot;: 4, &quot;stroke&quot;: true, &quot;weight&quot;: 1}\n",
       "            ).addTo(feature_group_accd16c10b5c05b7599e9ef80b7ed376);\n",
       "        \n",
       "    \n",
       "            var circle_marker_c7f69ff034af4718eb8ea8d8d763f56f = L.circleMarker(\n",
       "                [43.3773038, -1.7498884],\n",
       "                {&quot;bubblingMouseEvents&quot;: true, &quot;color&quot;: &quot;darkblue&quot;, &quot;dashArray&quot;: null, &quot;dashOffset&quot;: null, &quot;fill&quot;: true, &quot;fillColor&quot;: &quot;darkblue&quot;, &quot;fillOpacity&quot;: 0.8, &quot;fillRule&quot;: &quot;evenodd&quot;, &quot;lineCap&quot;: &quot;round&quot;, &quot;lineJoin&quot;: &quot;round&quot;, &quot;opacity&quot;: 1.0, &quot;radius&quot;: 4, &quot;stroke&quot;: true, &quot;weight&quot;: 1}\n",
       "            ).addTo(feature_group_accd16c10b5c05b7599e9ef80b7ed376);\n",
       "        \n",
       "    \n",
       "            var circle_marker_79bb8753132b2f65b5f870bff770973a = L.circleMarker(\n",
       "                [42.017687, 0.744085],\n",
       "                {&quot;bubblingMouseEvents&quot;: true, &quot;color&quot;: &quot;darkblue&quot;, &quot;dashArray&quot;: null, &quot;dashOffset&quot;: null, &quot;fill&quot;: true, &quot;fillColor&quot;: &quot;darkblue&quot;, &quot;fillOpacity&quot;: 0.8, &quot;fillRule&quot;: &quot;evenodd&quot;, &quot;lineCap&quot;: &quot;round&quot;, &quot;lineJoin&quot;: &quot;round&quot;, &quot;opacity&quot;: 1.0, &quot;radius&quot;: 4, &quot;stroke&quot;: true, &quot;weight&quot;: 1}\n",
       "            ).addTo(feature_group_accd16c10b5c05b7599e9ef80b7ed376);\n",
       "        \n",
       "    \n",
       "            var circle_marker_7331281d2a89f308e3abd54d2d52e575 = L.circleMarker(\n",
       "                [38.455791, 15.979465],\n",
       "                {&quot;bubblingMouseEvents&quot;: true, &quot;color&quot;: &quot;darkblue&quot;, &quot;dashArray&quot;: null, &quot;dashOffset&quot;: null, &quot;fill&quot;: true, &quot;fillColor&quot;: &quot;darkblue&quot;, &quot;fillOpacity&quot;: 0.8, &quot;fillRule&quot;: &quot;evenodd&quot;, &quot;lineCap&quot;: &quot;round&quot;, &quot;lineJoin&quot;: &quot;round&quot;, &quot;opacity&quot;: 1.0, &quot;radius&quot;: 4, &quot;stroke&quot;: true, &quot;weight&quot;: 1}\n",
       "            ).addTo(feature_group_accd16c10b5c05b7599e9ef80b7ed376);\n",
       "        \n",
       "    \n",
       "            var circle_marker_0f9489735037532d7c7d486c795ba4da = L.circleMarker(\n",
       "                [-41.23616, 175.483527],\n",
       "                {&quot;bubblingMouseEvents&quot;: true, &quot;color&quot;: &quot;darkblue&quot;, &quot;dashArray&quot;: null, &quot;dashOffset&quot;: null, &quot;fill&quot;: true, &quot;fillColor&quot;: &quot;darkblue&quot;, &quot;fillOpacity&quot;: 0.8, &quot;fillRule&quot;: &quot;evenodd&quot;, &quot;lineCap&quot;: &quot;round&quot;, &quot;lineJoin&quot;: &quot;round&quot;, &quot;opacity&quot;: 1.0, &quot;radius&quot;: 4, &quot;stroke&quot;: true, &quot;weight&quot;: 1}\n",
       "            ).addTo(feature_group_accd16c10b5c05b7599e9ef80b7ed376);\n",
       "        \n",
       "    \n",
       "            var circle_marker_d742c5e7a30dc2151ac47556a10a1798 = L.circleMarker(\n",
       "                [45.8869985, 14.431848],\n",
       "                {&quot;bubblingMouseEvents&quot;: true, &quot;color&quot;: &quot;darkblue&quot;, &quot;dashArray&quot;: null, &quot;dashOffset&quot;: null, &quot;fill&quot;: true, &quot;fillColor&quot;: &quot;darkblue&quot;, &quot;fillOpacity&quot;: 0.8, &quot;fillRule&quot;: &quot;evenodd&quot;, &quot;lineCap&quot;: &quot;round&quot;, &quot;lineJoin&quot;: &quot;round&quot;, &quot;opacity&quot;: 1.0, &quot;radius&quot;: 4, &quot;stroke&quot;: true, &quot;weight&quot;: 1}\n",
       "            ).addTo(feature_group_accd16c10b5c05b7599e9ef80b7ed376);\n",
       "        \n",
       "    \n",
       "            var circle_marker_9ab52bf3453f655e85e9f53369aa382a = L.circleMarker(\n",
       "                [43.815139, -1.380222],\n",
       "                {&quot;bubblingMouseEvents&quot;: true, &quot;color&quot;: &quot;darkblue&quot;, &quot;dashArray&quot;: null, &quot;dashOffset&quot;: null, &quot;fill&quot;: true, &quot;fillColor&quot;: &quot;darkblue&quot;, &quot;fillOpacity&quot;: 0.8, &quot;fillRule&quot;: &quot;evenodd&quot;, &quot;lineCap&quot;: &quot;round&quot;, &quot;lineJoin&quot;: &quot;round&quot;, &quot;opacity&quot;: 1.0, &quot;radius&quot;: 4, &quot;stroke&quot;: true, &quot;weight&quot;: 1}\n",
       "            ).addTo(feature_group_accd16c10b5c05b7599e9ef80b7ed376);\n",
       "        \n",
       "    \n",
       "            var circle_marker_042e05bb8f84ddcf2329cddfedeeb9a2 = L.circleMarker(\n",
       "                [39.31447, 16.751258],\n",
       "                {&quot;bubblingMouseEvents&quot;: true, &quot;color&quot;: &quot;darkblue&quot;, &quot;dashArray&quot;: null, &quot;dashOffset&quot;: null, &quot;fill&quot;: true, &quot;fillColor&quot;: &quot;darkblue&quot;, &quot;fillOpacity&quot;: 0.8, &quot;fillRule&quot;: &quot;evenodd&quot;, &quot;lineCap&quot;: &quot;round&quot;, &quot;lineJoin&quot;: &quot;round&quot;, &quot;opacity&quot;: 1.0, &quot;radius&quot;: 4, &quot;stroke&quot;: true, &quot;weight&quot;: 1}\n",
       "            ).addTo(feature_group_accd16c10b5c05b7599e9ef80b7ed376);\n",
       "        \n",
       "    \n",
       "            var circle_marker_ee5c598e491c014fe5235cbedd436c48 = L.circleMarker(\n",
       "                [39.8136576, -6.0051528],\n",
       "                {&quot;bubblingMouseEvents&quot;: true, &quot;color&quot;: &quot;darkblue&quot;, &quot;dashArray&quot;: null, &quot;dashOffset&quot;: null, &quot;fill&quot;: true, &quot;fillColor&quot;: &quot;darkblue&quot;, &quot;fillOpacity&quot;: 0.8, &quot;fillRule&quot;: &quot;evenodd&quot;, &quot;lineCap&quot;: &quot;round&quot;, &quot;lineJoin&quot;: &quot;round&quot;, &quot;opacity&quot;: 1.0, &quot;radius&quot;: 4, &quot;stroke&quot;: true, &quot;weight&quot;: 1}\n",
       "            ).addTo(feature_group_accd16c10b5c05b7599e9ef80b7ed376);\n",
       "        \n",
       "    \n",
       "            var circle_marker_7cf742aa1b91a555785c159933f609ab = L.circleMarker(\n",
       "                [42.6633556, 0.0148861],\n",
       "                {&quot;bubblingMouseEvents&quot;: true, &quot;color&quot;: &quot;darkblue&quot;, &quot;dashArray&quot;: null, &quot;dashOffset&quot;: null, &quot;fill&quot;: true, &quot;fillColor&quot;: &quot;darkblue&quot;, &quot;fillOpacity&quot;: 0.8, &quot;fillRule&quot;: &quot;evenodd&quot;, &quot;lineCap&quot;: &quot;round&quot;, &quot;lineJoin&quot;: &quot;round&quot;, &quot;opacity&quot;: 1.0, &quot;radius&quot;: 4, &quot;stroke&quot;: true, &quot;weight&quot;: 1}\n",
       "            ).addTo(feature_group_accd16c10b5c05b7599e9ef80b7ed376);\n",
       "        \n",
       "    \n",
       "            var circle_marker_8c86186c149c3c047a781996c6dbf38b = L.circleMarker(\n",
       "                [42.02459, 0.734797],\n",
       "                {&quot;bubblingMouseEvents&quot;: true, &quot;color&quot;: &quot;darkblue&quot;, &quot;dashArray&quot;: null, &quot;dashOffset&quot;: null, &quot;fill&quot;: true, &quot;fillColor&quot;: &quot;darkblue&quot;, &quot;fillOpacity&quot;: 0.8, &quot;fillRule&quot;: &quot;evenodd&quot;, &quot;lineCap&quot;: &quot;round&quot;, &quot;lineJoin&quot;: &quot;round&quot;, &quot;opacity&quot;: 1.0, &quot;radius&quot;: 4, &quot;stroke&quot;: true, &quot;weight&quot;: 1}\n",
       "            ).addTo(feature_group_accd16c10b5c05b7599e9ef80b7ed376);\n",
       "        \n",
       "    \n",
       "            var circle_marker_bd732e9b73a1401873774ea5c3b16cbb = L.circleMarker(\n",
       "                [41.7735198, 2.24019],\n",
       "                {&quot;bubblingMouseEvents&quot;: true, &quot;color&quot;: &quot;darkblue&quot;, &quot;dashArray&quot;: null, &quot;dashOffset&quot;: null, &quot;fill&quot;: true, &quot;fillColor&quot;: &quot;darkblue&quot;, &quot;fillOpacity&quot;: 0.8, &quot;fillRule&quot;: &quot;evenodd&quot;, &quot;lineCap&quot;: &quot;round&quot;, &quot;lineJoin&quot;: &quot;round&quot;, &quot;opacity&quot;: 1.0, &quot;radius&quot;: 4, &quot;stroke&quot;: true, &quot;weight&quot;: 1}\n",
       "            ).addTo(feature_group_accd16c10b5c05b7599e9ef80b7ed376);\n",
       "        \n",
       "    \n",
       "            var circle_marker_9ac823981c678a6902817517b4019bd8 = L.circleMarker(\n",
       "                [40.17222, -5.083611],\n",
       "                {&quot;bubblingMouseEvents&quot;: true, &quot;color&quot;: &quot;darkblue&quot;, &quot;dashArray&quot;: null, &quot;dashOffset&quot;: null, &quot;fill&quot;: true, &quot;fillColor&quot;: &quot;darkblue&quot;, &quot;fillOpacity&quot;: 0.8, &quot;fillRule&quot;: &quot;evenodd&quot;, &quot;lineCap&quot;: &quot;round&quot;, &quot;lineJoin&quot;: &quot;round&quot;, &quot;opacity&quot;: 1.0, &quot;radius&quot;: 4, &quot;stroke&quot;: true, &quot;weight&quot;: 1}\n",
       "            ).addTo(feature_group_accd16c10b5c05b7599e9ef80b7ed376);\n",
       "        \n",
       "    \n",
       "            var circle_marker_a1034e5453a4805f57438577712f8e40 = L.circleMarker(\n",
       "                [40.7038333, -3.9420278],\n",
       "                {&quot;bubblingMouseEvents&quot;: true, &quot;color&quot;: &quot;darkblue&quot;, &quot;dashArray&quot;: null, &quot;dashOffset&quot;: null, &quot;fill&quot;: true, &quot;fillColor&quot;: &quot;darkblue&quot;, &quot;fillOpacity&quot;: 0.8, &quot;fillRule&quot;: &quot;evenodd&quot;, &quot;lineCap&quot;: &quot;round&quot;, &quot;lineJoin&quot;: &quot;round&quot;, &quot;opacity&quot;: 1.0, &quot;radius&quot;: 4, &quot;stroke&quot;: true, &quot;weight&quot;: 1}\n",
       "            ).addTo(feature_group_accd16c10b5c05b7599e9ef80b7ed376);\n",
       "        \n",
       "    \n",
       "            var circle_marker_6b0118e6c9bde2ac8306b08ae22e21f4 = L.circleMarker(\n",
       "                [50.7894444, 4.8283333],\n",
       "                {&quot;bubblingMouseEvents&quot;: true, &quot;color&quot;: &quot;darkblue&quot;, &quot;dashArray&quot;: null, &quot;dashOffset&quot;: null, &quot;fill&quot;: true, &quot;fillColor&quot;: &quot;darkblue&quot;, &quot;fillOpacity&quot;: 0.8, &quot;fillRule&quot;: &quot;evenodd&quot;, &quot;lineCap&quot;: &quot;round&quot;, &quot;lineJoin&quot;: &quot;round&quot;, &quot;opacity&quot;: 1.0, &quot;radius&quot;: 4, &quot;stroke&quot;: true, &quot;weight&quot;: 1}\n",
       "            ).addTo(feature_group_accd16c10b5c05b7599e9ef80b7ed376);\n",
       "        \n",
       "    \n",
       "            var circle_marker_cb4cad670c97a9f3c1ac4880daa04624 = L.circleMarker(\n",
       "                [52.09796, 5.121056],\n",
       "                {&quot;bubblingMouseEvents&quot;: true, &quot;color&quot;: &quot;darkblue&quot;, &quot;dashArray&quot;: null, &quot;dashOffset&quot;: null, &quot;fill&quot;: true, &quot;fillColor&quot;: &quot;darkblue&quot;, &quot;fillOpacity&quot;: 0.8, &quot;fillRule&quot;: &quot;evenodd&quot;, &quot;lineCap&quot;: &quot;round&quot;, &quot;lineJoin&quot;: &quot;round&quot;, &quot;opacity&quot;: 1.0, &quot;radius&quot;: 4, &quot;stroke&quot;: true, &quot;weight&quot;: 1}\n",
       "            ).addTo(feature_group_accd16c10b5c05b7599e9ef80b7ed376);\n",
       "        \n",
       "    \n",
       "            var circle_marker_327c948d009d884e7bfd8af494ef82ee = L.circleMarker(\n",
       "                [38.530269, -28.531403],\n",
       "                {&quot;bubblingMouseEvents&quot;: true, &quot;color&quot;: &quot;darkblue&quot;, &quot;dashArray&quot;: null, &quot;dashOffset&quot;: null, &quot;fill&quot;: true, &quot;fillColor&quot;: &quot;darkblue&quot;, &quot;fillOpacity&quot;: 0.8, &quot;fillRule&quot;: &quot;evenodd&quot;, &quot;lineCap&quot;: &quot;round&quot;, &quot;lineJoin&quot;: &quot;round&quot;, &quot;opacity&quot;: 1.0, &quot;radius&quot;: 4, &quot;stroke&quot;: true, &quot;weight&quot;: 1}\n",
       "            ).addTo(feature_group_accd16c10b5c05b7599e9ef80b7ed376);\n",
       "        \n",
       "    \n",
       "            var circle_marker_d35133d150d864013eda23721b0c53f7 = L.circleMarker(\n",
       "                [38.470556, -28.426667],\n",
       "                {&quot;bubblingMouseEvents&quot;: true, &quot;color&quot;: &quot;darkblue&quot;, &quot;dashArray&quot;: null, &quot;dashOffset&quot;: null, &quot;fill&quot;: true, &quot;fillColor&quot;: &quot;darkblue&quot;, &quot;fillOpacity&quot;: 0.8, &quot;fillRule&quot;: &quot;evenodd&quot;, &quot;lineCap&quot;: &quot;round&quot;, &quot;lineJoin&quot;: &quot;round&quot;, &quot;opacity&quot;: 1.0, &quot;radius&quot;: 4, &quot;stroke&quot;: true, &quot;weight&quot;: 1}\n",
       "            ).addTo(feature_group_accd16c10b5c05b7599e9ef80b7ed376);\n",
       "        \n",
       "    \n",
       "            var circle_marker_c833c4c44825437c69151269c4815c30 = L.circleMarker(\n",
       "                [50.56008, 9.68623],\n",
       "                {&quot;bubblingMouseEvents&quot;: true, &quot;color&quot;: &quot;darkblue&quot;, &quot;dashArray&quot;: null, &quot;dashOffset&quot;: null, &quot;fill&quot;: true, &quot;fillColor&quot;: &quot;darkblue&quot;, &quot;fillOpacity&quot;: 0.8, &quot;fillRule&quot;: &quot;evenodd&quot;, &quot;lineCap&quot;: &quot;round&quot;, &quot;lineJoin&quot;: &quot;round&quot;, &quot;opacity&quot;: 1.0, &quot;radius&quot;: 4, &quot;stroke&quot;: true, &quot;weight&quot;: 1}\n",
       "            ).addTo(feature_group_accd16c10b5c05b7599e9ef80b7ed376);\n",
       "        \n",
       "    \n",
       "            var circle_marker_adb8b64180bbe1a0c2f5d3a7a7bf22ed = L.circleMarker(\n",
       "                [42.6993007, -2.4354974],\n",
       "                {&quot;bubblingMouseEvents&quot;: true, &quot;color&quot;: &quot;darkblue&quot;, &quot;dashArray&quot;: null, &quot;dashOffset&quot;: null, &quot;fill&quot;: true, &quot;fillColor&quot;: &quot;darkblue&quot;, &quot;fillOpacity&quot;: 0.8, &quot;fillRule&quot;: &quot;evenodd&quot;, &quot;lineCap&quot;: &quot;round&quot;, &quot;lineJoin&quot;: &quot;round&quot;, &quot;opacity&quot;: 1.0, &quot;radius&quot;: 4, &quot;stroke&quot;: true, &quot;weight&quot;: 1}\n",
       "            ).addTo(feature_group_accd16c10b5c05b7599e9ef80b7ed376);\n",
       "        \n",
       "    \n",
       "            var circle_marker_10634693bd8649e0f41353821ae3044f = L.circleMarker(\n",
       "                [50.48754, 10.00945],\n",
       "                {&quot;bubblingMouseEvents&quot;: true, &quot;color&quot;: &quot;darkblue&quot;, &quot;dashArray&quot;: null, &quot;dashOffset&quot;: null, &quot;fill&quot;: true, &quot;fillColor&quot;: &quot;darkblue&quot;, &quot;fillOpacity&quot;: 0.8, &quot;fillRule&quot;: &quot;evenodd&quot;, &quot;lineCap&quot;: &quot;round&quot;, &quot;lineJoin&quot;: &quot;round&quot;, &quot;opacity&quot;: 1.0, &quot;radius&quot;: 4, &quot;stroke&quot;: true, &quot;weight&quot;: 1}\n",
       "            ).addTo(feature_group_accd16c10b5c05b7599e9ef80b7ed376);\n",
       "        \n",
       "    \n",
       "            var circle_marker_b73523402db33d76b45e9eaaf1a3f278 = L.circleMarker(\n",
       "                [40.3250858, -5.5839853],\n",
       "                {&quot;bubblingMouseEvents&quot;: true, &quot;color&quot;: &quot;darkblue&quot;, &quot;dashArray&quot;: null, &quot;dashOffset&quot;: null, &quot;fill&quot;: true, &quot;fillColor&quot;: &quot;darkblue&quot;, &quot;fillOpacity&quot;: 0.8, &quot;fillRule&quot;: &quot;evenodd&quot;, &quot;lineCap&quot;: &quot;round&quot;, &quot;lineJoin&quot;: &quot;round&quot;, &quot;opacity&quot;: 1.0, &quot;radius&quot;: 4, &quot;stroke&quot;: true, &quot;weight&quot;: 1}\n",
       "            ).addTo(feature_group_accd16c10b5c05b7599e9ef80b7ed376);\n",
       "        \n",
       "    \n",
       "            var circle_marker_c4559ae0b4d74f21438970338b721380 = L.circleMarker(\n",
       "                [-41.486111, -72.893333],\n",
       "                {&quot;bubblingMouseEvents&quot;: true, &quot;color&quot;: &quot;darkblue&quot;, &quot;dashArray&quot;: null, &quot;dashOffset&quot;: null, &quot;fill&quot;: true, &quot;fillColor&quot;: &quot;darkblue&quot;, &quot;fillOpacity&quot;: 0.8, &quot;fillRule&quot;: &quot;evenodd&quot;, &quot;lineCap&quot;: &quot;round&quot;, &quot;lineJoin&quot;: &quot;round&quot;, &quot;opacity&quot;: 1.0, &quot;radius&quot;: 4, &quot;stroke&quot;: true, &quot;weight&quot;: 1}\n",
       "            ).addTo(feature_group_accd16c10b5c05b7599e9ef80b7ed376);\n",
       "        \n",
       "    \n",
       "            var circle_marker_b783103088172e462d6d01c2568c4c28 = L.circleMarker(\n",
       "                [28.314503, -16.41095],\n",
       "                {&quot;bubblingMouseEvents&quot;: true, &quot;color&quot;: &quot;darkblue&quot;, &quot;dashArray&quot;: null, &quot;dashOffset&quot;: null, &quot;fill&quot;: true, &quot;fillColor&quot;: &quot;darkblue&quot;, &quot;fillOpacity&quot;: 0.8, &quot;fillRule&quot;: &quot;evenodd&quot;, &quot;lineCap&quot;: &quot;round&quot;, &quot;lineJoin&quot;: &quot;round&quot;, &quot;opacity&quot;: 1.0, &quot;radius&quot;: 4, &quot;stroke&quot;: true, &quot;weight&quot;: 1}\n",
       "            ).addTo(feature_group_accd16c10b5c05b7599e9ef80b7ed376);\n",
       "        \n",
       "    \n",
       "            var circle_marker_5860a425079ffd23d911b501144adf6e = L.circleMarker(\n",
       "                [28.2702272243, -16.638735293],\n",
       "                {&quot;bubblingMouseEvents&quot;: true, &quot;color&quot;: &quot;darkblue&quot;, &quot;dashArray&quot;: null, &quot;dashOffset&quot;: null, &quot;fill&quot;: true, &quot;fillColor&quot;: &quot;darkblue&quot;, &quot;fillOpacity&quot;: 0.8, &quot;fillRule&quot;: &quot;evenodd&quot;, &quot;lineCap&quot;: &quot;round&quot;, &quot;lineJoin&quot;: &quot;round&quot;, &quot;opacity&quot;: 1.0, &quot;radius&quot;: 4, &quot;stroke&quot;: true, &quot;weight&quot;: 1}\n",
       "            ).addTo(feature_group_accd16c10b5c05b7599e9ef80b7ed376);\n",
       "        \n",
       "    \n",
       "            var circle_marker_66dcb864b84513fa8cfb98c6c19aebda = L.circleMarker(\n",
       "                [40.232396, -6.117092],\n",
       "                {&quot;bubblingMouseEvents&quot;: true, &quot;color&quot;: &quot;darkblue&quot;, &quot;dashArray&quot;: null, &quot;dashOffset&quot;: null, &quot;fill&quot;: true, &quot;fillColor&quot;: &quot;darkblue&quot;, &quot;fillOpacity&quot;: 0.8, &quot;fillRule&quot;: &quot;evenodd&quot;, &quot;lineCap&quot;: &quot;round&quot;, &quot;lineJoin&quot;: &quot;round&quot;, &quot;opacity&quot;: 1.0, &quot;radius&quot;: 4, &quot;stroke&quot;: true, &quot;weight&quot;: 1}\n",
       "            ).addTo(feature_group_accd16c10b5c05b7599e9ef80b7ed376);\n",
       "        \n",
       "    \n",
       "            var circle_marker_862733ac2bede6c50fb499c65c205bfe = L.circleMarker(\n",
       "                [37.801317, -25.162918],\n",
       "                {&quot;bubblingMouseEvents&quot;: true, &quot;color&quot;: &quot;darkblue&quot;, &quot;dashArray&quot;: null, &quot;dashOffset&quot;: null, &quot;fill&quot;: true, &quot;fillColor&quot;: &quot;darkblue&quot;, &quot;fillOpacity&quot;: 0.8, &quot;fillRule&quot;: &quot;evenodd&quot;, &quot;lineCap&quot;: &quot;round&quot;, &quot;lineJoin&quot;: &quot;round&quot;, &quot;opacity&quot;: 1.0, &quot;radius&quot;: 4, &quot;stroke&quot;: true, &quot;weight&quot;: 1}\n",
       "            ).addTo(feature_group_accd16c10b5c05b7599e9ef80b7ed376);\n",
       "        \n",
       "    \n",
       "            var circle_marker_a53203b3eed94cbf8b19c523a7419e97 = L.circleMarker(\n",
       "                [41.0011921, -2.4923587],\n",
       "                {&quot;bubblingMouseEvents&quot;: true, &quot;color&quot;: &quot;darkblue&quot;, &quot;dashArray&quot;: null, &quot;dashOffset&quot;: null, &quot;fill&quot;: true, &quot;fillColor&quot;: &quot;darkblue&quot;, &quot;fillOpacity&quot;: 0.8, &quot;fillRule&quot;: &quot;evenodd&quot;, &quot;lineCap&quot;: &quot;round&quot;, &quot;lineJoin&quot;: &quot;round&quot;, &quot;opacity&quot;: 1.0, &quot;radius&quot;: 4, &quot;stroke&quot;: true, &quot;weight&quot;: 1}\n",
       "            ).addTo(feature_group_accd16c10b5c05b7599e9ef80b7ed376);\n",
       "        \n",
       "    \n",
       "            var circle_marker_999e4ca8795b4a9de4feee2a69ca53e4 = L.circleMarker(\n",
       "                [42.7918917, 11.891172222],\n",
       "                {&quot;bubblingMouseEvents&quot;: true, &quot;color&quot;: &quot;darkblue&quot;, &quot;dashArray&quot;: null, &quot;dashOffset&quot;: null, &quot;fill&quot;: true, &quot;fillColor&quot;: &quot;darkblue&quot;, &quot;fillOpacity&quot;: 0.8, &quot;fillRule&quot;: &quot;evenodd&quot;, &quot;lineCap&quot;: &quot;round&quot;, &quot;lineJoin&quot;: &quot;round&quot;, &quot;opacity&quot;: 1.0, &quot;radius&quot;: 4, &quot;stroke&quot;: true, &quot;weight&quot;: 1}\n",
       "            ).addTo(feature_group_accd16c10b5c05b7599e9ef80b7ed376);\n",
       "        \n",
       "    \n",
       "            var circle_marker_fdc69400cca46bc58388ba3e3b524fd4 = L.circleMarker(\n",
       "                [-41.30503, 174.783092],\n",
       "                {&quot;bubblingMouseEvents&quot;: true, &quot;color&quot;: &quot;darkblue&quot;, &quot;dashArray&quot;: null, &quot;dashOffset&quot;: null, &quot;fill&quot;: true, &quot;fillColor&quot;: &quot;darkblue&quot;, &quot;fillOpacity&quot;: 0.8, &quot;fillRule&quot;: &quot;evenodd&quot;, &quot;lineCap&quot;: &quot;round&quot;, &quot;lineJoin&quot;: &quot;round&quot;, &quot;opacity&quot;: 1.0, &quot;radius&quot;: 4, &quot;stroke&quot;: true, &quot;weight&quot;: 1}\n",
       "            ).addTo(feature_group_accd16c10b5c05b7599e9ef80b7ed376);\n",
       "        \n",
       "    \n",
       "            var circle_marker_6adc0645ea25e677aac239bcc5bd8186 = L.circleMarker(\n",
       "                [50.886031, 4.073018],\n",
       "                {&quot;bubblingMouseEvents&quot;: true, &quot;color&quot;: &quot;darkblue&quot;, &quot;dashArray&quot;: null, &quot;dashOffset&quot;: null, &quot;fill&quot;: true, &quot;fillColor&quot;: &quot;darkblue&quot;, &quot;fillOpacity&quot;: 0.8, &quot;fillRule&quot;: &quot;evenodd&quot;, &quot;lineCap&quot;: &quot;round&quot;, &quot;lineJoin&quot;: &quot;round&quot;, &quot;opacity&quot;: 1.0, &quot;radius&quot;: 4, &quot;stroke&quot;: true, &quot;weight&quot;: 1}\n",
       "            ).addTo(feature_group_accd16c10b5c05b7599e9ef80b7ed376);\n",
       "        \n",
       "    \n",
       "            var circle_marker_d72d93061283b2cbe85446a499c99ea3 = L.circleMarker(\n",
       "                [53.77139, 7.69935],\n",
       "                {&quot;bubblingMouseEvents&quot;: true, &quot;color&quot;: &quot;darkblue&quot;, &quot;dashArray&quot;: null, &quot;dashOffset&quot;: null, &quot;fill&quot;: true, &quot;fillColor&quot;: &quot;darkblue&quot;, &quot;fillOpacity&quot;: 0.8, &quot;fillRule&quot;: &quot;evenodd&quot;, &quot;lineCap&quot;: &quot;round&quot;, &quot;lineJoin&quot;: &quot;round&quot;, &quot;opacity&quot;: 1.0, &quot;radius&quot;: 4, &quot;stroke&quot;: true, &quot;weight&quot;: 1}\n",
       "            ).addTo(feature_group_accd16c10b5c05b7599e9ef80b7ed376);\n",
       "        \n",
       "    \n",
       "            var circle_marker_9b89db1b74226c6447076de059b3c49c = L.circleMarker(\n",
       "                [50.81732, 2.91265],\n",
       "                {&quot;bubblingMouseEvents&quot;: true, &quot;color&quot;: &quot;darkblue&quot;, &quot;dashArray&quot;: null, &quot;dashOffset&quot;: null, &quot;fill&quot;: true, &quot;fillColor&quot;: &quot;darkblue&quot;, &quot;fillOpacity&quot;: 0.8, &quot;fillRule&quot;: &quot;evenodd&quot;, &quot;lineCap&quot;: &quot;round&quot;, &quot;lineJoin&quot;: &quot;round&quot;, &quot;opacity&quot;: 1.0, &quot;radius&quot;: 4, &quot;stroke&quot;: true, &quot;weight&quot;: 1}\n",
       "            ).addTo(feature_group_accd16c10b5c05b7599e9ef80b7ed376);\n",
       "        \n",
       "    \n",
       "            var circle_marker_1f4f6b5d2879f7b48c22de68d782df24 = L.circleMarker(\n",
       "                [-30.3116867, 139.3358408],\n",
       "                {&quot;bubblingMouseEvents&quot;: true, &quot;color&quot;: &quot;darkblue&quot;, &quot;dashArray&quot;: null, &quot;dashOffset&quot;: null, &quot;fill&quot;: true, &quot;fillColor&quot;: &quot;darkblue&quot;, &quot;fillOpacity&quot;: 0.8, &quot;fillRule&quot;: &quot;evenodd&quot;, &quot;lineCap&quot;: &quot;round&quot;, &quot;lineJoin&quot;: &quot;round&quot;, &quot;opacity&quot;: 1.0, &quot;radius&quot;: 4, &quot;stroke&quot;: true, &quot;weight&quot;: 1}\n",
       "            ).addTo(feature_group_accd16c10b5c05b7599e9ef80b7ed376);\n",
       "        \n",
       "    \n",
       "            var circle_marker_049b140c3c83b3811180d7c212cadcb5 = L.circleMarker(\n",
       "                [47.892434, -70.475604],\n",
       "                {&quot;bubblingMouseEvents&quot;: true, &quot;color&quot;: &quot;darkblue&quot;, &quot;dashArray&quot;: null, &quot;dashOffset&quot;: null, &quot;fill&quot;: true, &quot;fillColor&quot;: &quot;darkblue&quot;, &quot;fillOpacity&quot;: 0.8, &quot;fillRule&quot;: &quot;evenodd&quot;, &quot;lineCap&quot;: &quot;round&quot;, &quot;lineJoin&quot;: &quot;round&quot;, &quot;opacity&quot;: 1.0, &quot;radius&quot;: 4, &quot;stroke&quot;: true, &quot;weight&quot;: 1}\n",
       "            ).addTo(feature_group_accd16c10b5c05b7599e9ef80b7ed376);\n",
       "        \n",
       "    \n",
       "            var circle_marker_720ec97f66ea779b0d94ddead271ebfd = L.circleMarker(\n",
       "                [46.316627, -74.511577],\n",
       "                {&quot;bubblingMouseEvents&quot;: true, &quot;color&quot;: &quot;darkblue&quot;, &quot;dashArray&quot;: null, &quot;dashOffset&quot;: null, &quot;fill&quot;: true, &quot;fillColor&quot;: &quot;darkblue&quot;, &quot;fillOpacity&quot;: 0.8, &quot;fillRule&quot;: &quot;evenodd&quot;, &quot;lineCap&quot;: &quot;round&quot;, &quot;lineJoin&quot;: &quot;round&quot;, &quot;opacity&quot;: 1.0, &quot;radius&quot;: 4, &quot;stroke&quot;: true, &quot;weight&quot;: 1}\n",
       "            ).addTo(feature_group_accd16c10b5c05b7599e9ef80b7ed376);\n",
       "        \n",
       "    \n",
       "            var circle_marker_8561d8709eaab24e474e78091da14ffe = L.circleMarker(\n",
       "                [45.3738101, -71.9230327],\n",
       "                {&quot;bubblingMouseEvents&quot;: true, &quot;color&quot;: &quot;darkblue&quot;, &quot;dashArray&quot;: null, &quot;dashOffset&quot;: null, &quot;fill&quot;: true, &quot;fillColor&quot;: &quot;darkblue&quot;, &quot;fillOpacity&quot;: 0.8, &quot;fillRule&quot;: &quot;evenodd&quot;, &quot;lineCap&quot;: &quot;round&quot;, &quot;lineJoin&quot;: &quot;round&quot;, &quot;opacity&quot;: 1.0, &quot;radius&quot;: 4, &quot;stroke&quot;: true, &quot;weight&quot;: 1}\n",
       "            ).addTo(feature_group_accd16c10b5c05b7599e9ef80b7ed376);\n",
       "        \n",
       "    \n",
       "            var circle_marker_97f424bc84802d9c16ccd52367b2e817 = L.circleMarker(\n",
       "                [-31.274, 149.157],\n",
       "                {&quot;bubblingMouseEvents&quot;: true, &quot;color&quot;: &quot;darkblue&quot;, &quot;dashArray&quot;: null, &quot;dashOffset&quot;: null, &quot;fill&quot;: true, &quot;fillColor&quot;: &quot;darkblue&quot;, &quot;fillOpacity&quot;: 0.8, &quot;fillRule&quot;: &quot;evenodd&quot;, &quot;lineCap&quot;: &quot;round&quot;, &quot;lineJoin&quot;: &quot;round&quot;, &quot;opacity&quot;: 1.0, &quot;radius&quot;: 4, &quot;stroke&quot;: true, &quot;weight&quot;: 1}\n",
       "            ).addTo(feature_group_accd16c10b5c05b7599e9ef80b7ed376);\n",
       "        \n",
       "    \n",
       "            var circle_marker_d5c83f3803a3b5dae1ce338370d82845 = L.circleMarker(\n",
       "                [-30.8422, 148.373],\n",
       "                {&quot;bubblingMouseEvents&quot;: true, &quot;color&quot;: &quot;darkblue&quot;, &quot;dashArray&quot;: null, &quot;dashOffset&quot;: null, &quot;fill&quot;: true, &quot;fillColor&quot;: &quot;darkblue&quot;, &quot;fillOpacity&quot;: 0.8, &quot;fillRule&quot;: &quot;evenodd&quot;, &quot;lineCap&quot;: &quot;round&quot;, &quot;lineJoin&quot;: &quot;round&quot;, &quot;opacity&quot;: 1.0, &quot;radius&quot;: 4, &quot;stroke&quot;: true, &quot;weight&quot;: 1}\n",
       "            ).addTo(feature_group_accd16c10b5c05b7599e9ef80b7ed376);\n",
       "        \n",
       "    \n",
       "            var circle_marker_16e1446ae2438bdc7fa97664ba4e7d27 = L.circleMarker(\n",
       "                [-31.2269, 149.3345],\n",
       "                {&quot;bubblingMouseEvents&quot;: true, &quot;color&quot;: &quot;darkblue&quot;, &quot;dashArray&quot;: null, &quot;dashOffset&quot;: null, &quot;fill&quot;: true, &quot;fillColor&quot;: &quot;darkblue&quot;, &quot;fillOpacity&quot;: 0.8, &quot;fillRule&quot;: &quot;evenodd&quot;, &quot;lineCap&quot;: &quot;round&quot;, &quot;lineJoin&quot;: &quot;round&quot;, &quot;opacity&quot;: 1.0, &quot;radius&quot;: 4, &quot;stroke&quot;: true, &quot;weight&quot;: 1}\n",
       "            ).addTo(feature_group_accd16c10b5c05b7599e9ef80b7ed376);\n",
       "        \n",
       "    \n",
       "            var circle_marker_608cb711d072d6ec74d6cf9adefe2590 = L.circleMarker(\n",
       "                [-32.6331, 149.4926],\n",
       "                {&quot;bubblingMouseEvents&quot;: true, &quot;color&quot;: &quot;darkblue&quot;, &quot;dashArray&quot;: null, &quot;dashOffset&quot;: null, &quot;fill&quot;: true, &quot;fillColor&quot;: &quot;darkblue&quot;, &quot;fillOpacity&quot;: 0.8, &quot;fillRule&quot;: &quot;evenodd&quot;, &quot;lineCap&quot;: &quot;round&quot;, &quot;lineJoin&quot;: &quot;round&quot;, &quot;opacity&quot;: 1.0, &quot;radius&quot;: 4, &quot;stroke&quot;: true, &quot;weight&quot;: 1}\n",
       "            ).addTo(feature_group_accd16c10b5c05b7599e9ef80b7ed376);\n",
       "        \n",
       "    \n",
       "            var circle_marker_02662efd5894cf5f60e4f23edffca694 = L.circleMarker(\n",
       "                [-32.4552, 149.6629],\n",
       "                {&quot;bubblingMouseEvents&quot;: true, &quot;color&quot;: &quot;darkblue&quot;, &quot;dashArray&quot;: null, &quot;dashOffset&quot;: null, &quot;fill&quot;: true, &quot;fillColor&quot;: &quot;darkblue&quot;, &quot;fillOpacity&quot;: 0.8, &quot;fillRule&quot;: &quot;evenodd&quot;, &quot;lineCap&quot;: &quot;round&quot;, &quot;lineJoin&quot;: &quot;round&quot;, &quot;opacity&quot;: 1.0, &quot;radius&quot;: 4, &quot;stroke&quot;: true, &quot;weight&quot;: 1}\n",
       "            ).addTo(feature_group_accd16c10b5c05b7599e9ef80b7ed376);\n",
       "        \n",
       "    \n",
       "            var circle_marker_cc954e3beee8748868c6abc9b8f243f7 = L.circleMarker(\n",
       "                [38.71189, -27.324489],\n",
       "                {&quot;bubblingMouseEvents&quot;: true, &quot;color&quot;: &quot;darkblue&quot;, &quot;dashArray&quot;: null, &quot;dashOffset&quot;: null, &quot;fill&quot;: true, &quot;fillColor&quot;: &quot;darkblue&quot;, &quot;fillOpacity&quot;: 0.8, &quot;fillRule&quot;: &quot;evenodd&quot;, &quot;lineCap&quot;: &quot;round&quot;, &quot;lineJoin&quot;: &quot;round&quot;, &quot;opacity&quot;: 1.0, &quot;radius&quot;: 4, &quot;stroke&quot;: true, &quot;weight&quot;: 1}\n",
       "            ).addTo(feature_group_accd16c10b5c05b7599e9ef80b7ed376);\n",
       "        \n",
       "    \n",
       "            var circle_marker_5c2ccb7b60b31ef91a92c28324744a8c = L.circleMarker(\n",
       "                [48.092222, 11.458889],\n",
       "                {&quot;bubblingMouseEvents&quot;: true, &quot;color&quot;: &quot;darkblue&quot;, &quot;dashArray&quot;: null, &quot;dashOffset&quot;: null, &quot;fill&quot;: true, &quot;fillColor&quot;: &quot;darkblue&quot;, &quot;fillOpacity&quot;: 0.8, &quot;fillRule&quot;: &quot;evenodd&quot;, &quot;lineCap&quot;: &quot;round&quot;, &quot;lineJoin&quot;: &quot;round&quot;, &quot;opacity&quot;: 1.0, &quot;radius&quot;: 4, &quot;stroke&quot;: true, &quot;weight&quot;: 1}\n",
       "            ).addTo(feature_group_accd16c10b5c05b7599e9ef80b7ed376);\n",
       "        \n",
       "    \n",
       "            var circle_marker_16665b83d7f93c89af1b5ab3fb6f5855 = L.circleMarker(\n",
       "                [39.425377, -5.605103],\n",
       "                {&quot;bubblingMouseEvents&quot;: true, &quot;color&quot;: &quot;darkblue&quot;, &quot;dashArray&quot;: null, &quot;dashOffset&quot;: null, &quot;fill&quot;: true, &quot;fillColor&quot;: &quot;darkblue&quot;, &quot;fillOpacity&quot;: 0.8, &quot;fillRule&quot;: &quot;evenodd&quot;, &quot;lineCap&quot;: &quot;round&quot;, &quot;lineJoin&quot;: &quot;round&quot;, &quot;opacity&quot;: 1.0, &quot;radius&quot;: 4, &quot;stroke&quot;: true, &quot;weight&quot;: 1}\n",
       "            ).addTo(feature_group_accd16c10b5c05b7599e9ef80b7ed376);\n",
       "        \n",
       "    \n",
       "            var circle_marker_61037675bd316e6857266101d984e4d7 = L.circleMarker(\n",
       "                [27.995102, -15.615706],\n",
       "                {&quot;bubblingMouseEvents&quot;: true, &quot;color&quot;: &quot;darkblue&quot;, &quot;dashArray&quot;: null, &quot;dashOffset&quot;: null, &quot;fill&quot;: true, &quot;fillColor&quot;: &quot;darkblue&quot;, &quot;fillOpacity&quot;: 0.8, &quot;fillRule&quot;: &quot;evenodd&quot;, &quot;lineCap&quot;: &quot;round&quot;, &quot;lineJoin&quot;: &quot;round&quot;, &quot;opacity&quot;: 1.0, &quot;radius&quot;: 4, &quot;stroke&quot;: true, &quot;weight&quot;: 1}\n",
       "            ).addTo(feature_group_accd16c10b5c05b7599e9ef80b7ed376);\n",
       "        \n",
       "    \n",
       "            var circle_marker_a2cbd29d53af20159389ea16e41682b1 = L.circleMarker(\n",
       "                [38.523357, -7.06921],\n",
       "                {&quot;bubblingMouseEvents&quot;: true, &quot;color&quot;: &quot;darkblue&quot;, &quot;dashArray&quot;: null, &quot;dashOffset&quot;: null, &quot;fill&quot;: true, &quot;fillColor&quot;: &quot;darkblue&quot;, &quot;fillOpacity&quot;: 0.8, &quot;fillRule&quot;: &quot;evenodd&quot;, &quot;lineCap&quot;: &quot;round&quot;, &quot;lineJoin&quot;: &quot;round&quot;, &quot;opacity&quot;: 1.0, &quot;radius&quot;: 4, &quot;stroke&quot;: true, &quot;weight&quot;: 1}\n",
       "            ).addTo(feature_group_accd16c10b5c05b7599e9ef80b7ed376);\n",
       "        \n",
       "    \n",
       "            var circle_marker_5e148b345185329ad56d1bb77999c614 = L.circleMarker(\n",
       "                [40.233574, -6.120785],\n",
       "                {&quot;bubblingMouseEvents&quot;: true, &quot;color&quot;: &quot;darkblue&quot;, &quot;dashArray&quot;: null, &quot;dashOffset&quot;: null, &quot;fill&quot;: true, &quot;fillColor&quot;: &quot;darkblue&quot;, &quot;fillOpacity&quot;: 0.8, &quot;fillRule&quot;: &quot;evenodd&quot;, &quot;lineCap&quot;: &quot;round&quot;, &quot;lineJoin&quot;: &quot;round&quot;, &quot;opacity&quot;: 1.0, &quot;radius&quot;: 4, &quot;stroke&quot;: true, &quot;weight&quot;: 1}\n",
       "            ).addTo(feature_group_accd16c10b5c05b7599e9ef80b7ed376);\n",
       "        \n",
       "    \n",
       "            var circle_marker_86982dc45e61efb1c73e4d9f82e41156 = L.circleMarker(\n",
       "                [28.300655, -16.512162],\n",
       "                {&quot;bubblingMouseEvents&quot;: true, &quot;color&quot;: &quot;darkblue&quot;, &quot;dashArray&quot;: null, &quot;dashOffset&quot;: null, &quot;fill&quot;: true, &quot;fillColor&quot;: &quot;darkblue&quot;, &quot;fillOpacity&quot;: 0.8, &quot;fillRule&quot;: &quot;evenodd&quot;, &quot;lineCap&quot;: &quot;round&quot;, &quot;lineJoin&quot;: &quot;round&quot;, &quot;opacity&quot;: 1.0, &quot;radius&quot;: 4, &quot;stroke&quot;: true, &quot;weight&quot;: 1}\n",
       "            ).addTo(feature_group_accd16c10b5c05b7599e9ef80b7ed376);\n",
       "        \n",
       "    \n",
       "            var circle_marker_7970a4a068e79ddab9b18210f353dab4 = L.circleMarker(\n",
       "                [28.300629, -16.512165],\n",
       "                {&quot;bubblingMouseEvents&quot;: true, &quot;color&quot;: &quot;darkblue&quot;, &quot;dashArray&quot;: null, &quot;dashOffset&quot;: null, &quot;fill&quot;: true, &quot;fillColor&quot;: &quot;darkblue&quot;, &quot;fillOpacity&quot;: 0.8, &quot;fillRule&quot;: &quot;evenodd&quot;, &quot;lineCap&quot;: &quot;round&quot;, &quot;lineJoin&quot;: &quot;round&quot;, &quot;opacity&quot;: 1.0, &quot;radius&quot;: 4, &quot;stroke&quot;: true, &quot;weight&quot;: 1}\n",
       "            ).addTo(feature_group_accd16c10b5c05b7599e9ef80b7ed376);\n",
       "        \n",
       "    \n",
       "            var circle_marker_6ea64fb30aab5092337762a2e2c47e26 = L.circleMarker(\n",
       "                [27.996515, -15.615002],\n",
       "                {&quot;bubblingMouseEvents&quot;: true, &quot;color&quot;: &quot;darkblue&quot;, &quot;dashArray&quot;: null, &quot;dashOffset&quot;: null, &quot;fill&quot;: true, &quot;fillColor&quot;: &quot;darkblue&quot;, &quot;fillOpacity&quot;: 0.8, &quot;fillRule&quot;: &quot;evenodd&quot;, &quot;lineCap&quot;: &quot;round&quot;, &quot;lineJoin&quot;: &quot;round&quot;, &quot;opacity&quot;: 1.0, &quot;radius&quot;: 4, &quot;stroke&quot;: true, &quot;weight&quot;: 1}\n",
       "            ).addTo(feature_group_accd16c10b5c05b7599e9ef80b7ed376);\n",
       "        \n",
       "    \n",
       "            var circle_marker_de5eba5fc4df08c75ad9f2cb4734b1b4 = L.circleMarker(\n",
       "                [40.325944, -5.814779],\n",
       "                {&quot;bubblingMouseEvents&quot;: true, &quot;color&quot;: &quot;darkblue&quot;, &quot;dashArray&quot;: null, &quot;dashOffset&quot;: null, &quot;fill&quot;: true, &quot;fillColor&quot;: &quot;darkblue&quot;, &quot;fillOpacity&quot;: 0.8, &quot;fillRule&quot;: &quot;evenodd&quot;, &quot;lineCap&quot;: &quot;round&quot;, &quot;lineJoin&quot;: &quot;round&quot;, &quot;opacity&quot;: 1.0, &quot;radius&quot;: 4, &quot;stroke&quot;: true, &quot;weight&quot;: 1}\n",
       "            ).addTo(feature_group_accd16c10b5c05b7599e9ef80b7ed376);\n",
       "        \n",
       "    \n",
       "            var circle_marker_fe564519b758da1e597383714bbdc3c6 = L.circleMarker(\n",
       "                [37.831959, -25.391459],\n",
       "                {&quot;bubblingMouseEvents&quot;: true, &quot;color&quot;: &quot;darkblue&quot;, &quot;dashArray&quot;: null, &quot;dashOffset&quot;: null, &quot;fill&quot;: true, &quot;fillColor&quot;: &quot;darkblue&quot;, &quot;fillOpacity&quot;: 0.8, &quot;fillRule&quot;: &quot;evenodd&quot;, &quot;lineCap&quot;: &quot;round&quot;, &quot;lineJoin&quot;: &quot;round&quot;, &quot;opacity&quot;: 1.0, &quot;radius&quot;: 4, &quot;stroke&quot;: true, &quot;weight&quot;: 1}\n",
       "            ).addTo(feature_group_accd16c10b5c05b7599e9ef80b7ed376);\n",
       "        \n",
       "    \n",
       "            var circle_marker_a1e0b2b959af05e0c82e915a75663b57 = L.circleMarker(\n",
       "                [38.729176, -5.551135],\n",
       "                {&quot;bubblingMouseEvents&quot;: true, &quot;color&quot;: &quot;darkblue&quot;, &quot;dashArray&quot;: null, &quot;dashOffset&quot;: null, &quot;fill&quot;: true, &quot;fillColor&quot;: &quot;darkblue&quot;, &quot;fillOpacity&quot;: 0.8, &quot;fillRule&quot;: &quot;evenodd&quot;, &quot;lineCap&quot;: &quot;round&quot;, &quot;lineJoin&quot;: &quot;round&quot;, &quot;opacity&quot;: 1.0, &quot;radius&quot;: 4, &quot;stroke&quot;: true, &quot;weight&quot;: 1}\n",
       "            ).addTo(feature_group_accd16c10b5c05b7599e9ef80b7ed376);\n",
       "        \n",
       "    \n",
       "            var circle_marker_3b0cd835d5e7eb43373311773f3e53e0 = L.circleMarker(\n",
       "                [37.717713, -25.435626],\n",
       "                {&quot;bubblingMouseEvents&quot;: true, &quot;color&quot;: &quot;darkblue&quot;, &quot;dashArray&quot;: null, &quot;dashOffset&quot;: null, &quot;fill&quot;: true, &quot;fillColor&quot;: &quot;darkblue&quot;, &quot;fillOpacity&quot;: 0.8, &quot;fillRule&quot;: &quot;evenodd&quot;, &quot;lineCap&quot;: &quot;round&quot;, &quot;lineJoin&quot;: &quot;round&quot;, &quot;opacity&quot;: 1.0, &quot;radius&quot;: 4, &quot;stroke&quot;: true, &quot;weight&quot;: 1}\n",
       "            ).addTo(feature_group_accd16c10b5c05b7599e9ef80b7ed376);\n",
       "        \n",
       "    \n",
       "            var circle_marker_0a10fc9ba8fb9ae4491428c1abaaeb4a = L.circleMarker(\n",
       "                [28.7600512, -17.968284],\n",
       "                {&quot;bubblingMouseEvents&quot;: true, &quot;color&quot;: &quot;darkblue&quot;, &quot;dashArray&quot;: null, &quot;dashOffset&quot;: null, &quot;fill&quot;: true, &quot;fillColor&quot;: &quot;darkblue&quot;, &quot;fillOpacity&quot;: 0.8, &quot;fillRule&quot;: &quot;evenodd&quot;, &quot;lineCap&quot;: &quot;round&quot;, &quot;lineJoin&quot;: &quot;round&quot;, &quot;opacity&quot;: 1.0, &quot;radius&quot;: 4, &quot;stroke&quot;: true, &quot;weight&quot;: 1}\n",
       "            ).addTo(feature_group_accd16c10b5c05b7599e9ef80b7ed376);\n",
       "        \n",
       "    \n",
       "            var circle_marker_06c1a7f62520a9fae25fae38202c5d4b = L.circleMarker(\n",
       "                [40.125988, -5.816423],\n",
       "                {&quot;bubblingMouseEvents&quot;: true, &quot;color&quot;: &quot;darkblue&quot;, &quot;dashArray&quot;: null, &quot;dashOffset&quot;: null, &quot;fill&quot;: true, &quot;fillColor&quot;: &quot;darkblue&quot;, &quot;fillOpacity&quot;: 0.8, &quot;fillRule&quot;: &quot;evenodd&quot;, &quot;lineCap&quot;: &quot;round&quot;, &quot;lineJoin&quot;: &quot;round&quot;, &quot;opacity&quot;: 1.0, &quot;radius&quot;: 4, &quot;stroke&quot;: true, &quot;weight&quot;: 1}\n",
       "            ).addTo(feature_group_accd16c10b5c05b7599e9ef80b7ed376);\n",
       "        \n",
       "    \n",
       "            var circle_marker_e338d8fc15a4cada74302359dccbae02 = L.circleMarker(\n",
       "                [28.780085, -17.959336],\n",
       "                {&quot;bubblingMouseEvents&quot;: true, &quot;color&quot;: &quot;darkblue&quot;, &quot;dashArray&quot;: null, &quot;dashOffset&quot;: null, &quot;fill&quot;: true, &quot;fillColor&quot;: &quot;darkblue&quot;, &quot;fillOpacity&quot;: 0.8, &quot;fillRule&quot;: &quot;evenodd&quot;, &quot;lineCap&quot;: &quot;round&quot;, &quot;lineJoin&quot;: &quot;round&quot;, &quot;opacity&quot;: 1.0, &quot;radius&quot;: 4, &quot;stroke&quot;: true, &quot;weight&quot;: 1}\n",
       "            ).addTo(feature_group_accd16c10b5c05b7599e9ef80b7ed376);\n",
       "        \n",
       "    \n",
       "            var circle_marker_d16294a7540443a8826fc6510ce3796c = L.circleMarker(\n",
       "                [50.429859, 6.381462],\n",
       "                {&quot;bubblingMouseEvents&quot;: true, &quot;color&quot;: &quot;darkblue&quot;, &quot;dashArray&quot;: null, &quot;dashOffset&quot;: null, &quot;fill&quot;: true, &quot;fillColor&quot;: &quot;darkblue&quot;, &quot;fillOpacity&quot;: 0.8, &quot;fillRule&quot;: &quot;evenodd&quot;, &quot;lineCap&quot;: &quot;round&quot;, &quot;lineJoin&quot;: &quot;round&quot;, &quot;opacity&quot;: 1.0, &quot;radius&quot;: 4, &quot;stroke&quot;: true, &quot;weight&quot;: 1}\n",
       "            ).addTo(feature_group_accd16c10b5c05b7599e9ef80b7ed376);\n",
       "        \n",
       "    \n",
       "            var circle_marker_3eafe347a3dbebcdfea6454dda6dd6fc = L.circleMarker(\n",
       "                [28.756587, -17.885097],\n",
       "                {&quot;bubblingMouseEvents&quot;: true, &quot;color&quot;: &quot;darkblue&quot;, &quot;dashArray&quot;: null, &quot;dashOffset&quot;: null, &quot;fill&quot;: true, &quot;fillColor&quot;: &quot;darkblue&quot;, &quot;fillOpacity&quot;: 0.8, &quot;fillRule&quot;: &quot;evenodd&quot;, &quot;lineCap&quot;: &quot;round&quot;, &quot;lineJoin&quot;: &quot;round&quot;, &quot;opacity&quot;: 1.0, &quot;radius&quot;: 4, &quot;stroke&quot;: true, &quot;weight&quot;: 1}\n",
       "            ).addTo(feature_group_accd16c10b5c05b7599e9ef80b7ed376);\n",
       "        \n",
       "    \n",
       "            var circle_marker_c5fda86ca4bfbc0b2b160c0a78199d3f = L.circleMarker(\n",
       "                [28.2243141477, -16.6269207229],\n",
       "                {&quot;bubblingMouseEvents&quot;: true, &quot;color&quot;: &quot;darkblue&quot;, &quot;dashArray&quot;: null, &quot;dashOffset&quot;: null, &quot;fill&quot;: true, &quot;fillColor&quot;: &quot;darkblue&quot;, &quot;fillOpacity&quot;: 0.8, &quot;fillRule&quot;: &quot;evenodd&quot;, &quot;lineCap&quot;: &quot;round&quot;, &quot;lineJoin&quot;: &quot;round&quot;, &quot;opacity&quot;: 1.0, &quot;radius&quot;: 4, &quot;stroke&quot;: true, &quot;weight&quot;: 1}\n",
       "            ).addTo(feature_group_accd16c10b5c05b7599e9ef80b7ed376);\n",
       "        \n",
       "    \n",
       "            var circle_marker_b6c576147934db28b3107b6f709a202f = L.circleMarker(\n",
       "                [-22.951667, -68.169421],\n",
       "                {&quot;bubblingMouseEvents&quot;: true, &quot;color&quot;: &quot;darkblue&quot;, &quot;dashArray&quot;: null, &quot;dashOffset&quot;: null, &quot;fill&quot;: true, &quot;fillColor&quot;: &quot;darkblue&quot;, &quot;fillOpacity&quot;: 0.8, &quot;fillRule&quot;: &quot;evenodd&quot;, &quot;lineCap&quot;: &quot;round&quot;, &quot;lineJoin&quot;: &quot;round&quot;, &quot;opacity&quot;: 1.0, &quot;radius&quot;: 4, &quot;stroke&quot;: true, &quot;weight&quot;: 1}\n",
       "            ).addTo(feature_group_accd16c10b5c05b7599e9ef80b7ed376);\n",
       "        \n",
       "    \n",
       "            var circle_marker_5c71d2ecbe27004797498f859eb28757 = L.circleMarker(\n",
       "                [28.760962, -17.877906],\n",
       "                {&quot;bubblingMouseEvents&quot;: true, &quot;color&quot;: &quot;darkblue&quot;, &quot;dashArray&quot;: null, &quot;dashOffset&quot;: null, &quot;fill&quot;: true, &quot;fillColor&quot;: &quot;darkblue&quot;, &quot;fillOpacity&quot;: 0.8, &quot;fillRule&quot;: &quot;evenodd&quot;, &quot;lineCap&quot;: &quot;round&quot;, &quot;lineJoin&quot;: &quot;round&quot;, &quot;opacity&quot;: 1.0, &quot;radius&quot;: 4, &quot;stroke&quot;: true, &quot;weight&quot;: 1}\n",
       "            ).addTo(feature_group_accd16c10b5c05b7599e9ef80b7ed376);\n",
       "        \n",
       "    \n",
       "            var circle_marker_286bae8f5bb75b85794c043b938cee7e = L.circleMarker(\n",
       "                [29.037232, -13.624039],\n",
       "                {&quot;bubblingMouseEvents&quot;: true, &quot;color&quot;: &quot;darkblue&quot;, &quot;dashArray&quot;: null, &quot;dashOffset&quot;: null, &quot;fill&quot;: true, &quot;fillColor&quot;: &quot;darkblue&quot;, &quot;fillOpacity&quot;: 0.8, &quot;fillRule&quot;: &quot;evenodd&quot;, &quot;lineCap&quot;: &quot;round&quot;, &quot;lineJoin&quot;: &quot;round&quot;, &quot;opacity&quot;: 1.0, &quot;radius&quot;: 4, &quot;stroke&quot;: true, &quot;weight&quot;: 1}\n",
       "            ).addTo(feature_group_accd16c10b5c05b7599e9ef80b7ed376);\n",
       "        \n",
       "    \n",
       "            var circle_marker_47150b3bb77c64a497000a47775007f4 = L.circleMarker(\n",
       "                [50.85571, -0.938489],\n",
       "                {&quot;bubblingMouseEvents&quot;: true, &quot;color&quot;: &quot;darkblue&quot;, &quot;dashArray&quot;: null, &quot;dashOffset&quot;: null, &quot;fill&quot;: true, &quot;fillColor&quot;: &quot;darkblue&quot;, &quot;fillOpacity&quot;: 0.8, &quot;fillRule&quot;: &quot;evenodd&quot;, &quot;lineCap&quot;: &quot;round&quot;, &quot;lineJoin&quot;: &quot;round&quot;, &quot;opacity&quot;: 1.0, &quot;radius&quot;: 4, &quot;stroke&quot;: true, &quot;weight&quot;: 1}\n",
       "            ).addTo(feature_group_accd16c10b5c05b7599e9ef80b7ed376);\n",
       "        \n",
       "    \n",
       "            var circle_marker_b087e6312d389a5e0588b0c3d7c445a2 = L.circleMarker(\n",
       "                [50.554566, 9.697891],\n",
       "                {&quot;bubblingMouseEvents&quot;: true, &quot;color&quot;: &quot;darkblue&quot;, &quot;dashArray&quot;: null, &quot;dashOffset&quot;: null, &quot;fill&quot;: true, &quot;fillColor&quot;: &quot;darkblue&quot;, &quot;fillOpacity&quot;: 0.8, &quot;fillRule&quot;: &quot;evenodd&quot;, &quot;lineCap&quot;: &quot;round&quot;, &quot;lineJoin&quot;: &quot;round&quot;, &quot;opacity&quot;: 1.0, &quot;radius&quot;: 4, &quot;stroke&quot;: true, &quot;weight&quot;: 1}\n",
       "            ).addTo(feature_group_accd16c10b5c05b7599e9ef80b7ed376);\n",
       "        \n",
       "    \n",
       "            var circle_marker_2ed340fd9bd4ef5e097bbe8a03acc2a9 = L.circleMarker(\n",
       "                [30.597378, 34.762256],\n",
       "                {&quot;bubblingMouseEvents&quot;: true, &quot;color&quot;: &quot;darkblue&quot;, &quot;dashArray&quot;: null, &quot;dashOffset&quot;: null, &quot;fill&quot;: true, &quot;fillColor&quot;: &quot;darkblue&quot;, &quot;fillOpacity&quot;: 0.8, &quot;fillRule&quot;: &quot;evenodd&quot;, &quot;lineCap&quot;: &quot;round&quot;, &quot;lineJoin&quot;: &quot;round&quot;, &quot;opacity&quot;: 1.0, &quot;radius&quot;: 4, &quot;stroke&quot;: true, &quot;weight&quot;: 1}\n",
       "            ).addTo(feature_group_accd16c10b5c05b7599e9ef80b7ed376);\n",
       "        \n",
       "    \n",
       "            var circle_marker_507689511a359a8c497414853ee6a31f = L.circleMarker(\n",
       "                [-31.2737, 149.1567],\n",
       "                {&quot;bubblingMouseEvents&quot;: true, &quot;color&quot;: &quot;darkblue&quot;, &quot;dashArray&quot;: null, &quot;dashOffset&quot;: null, &quot;fill&quot;: true, &quot;fillColor&quot;: &quot;darkblue&quot;, &quot;fillOpacity&quot;: 0.8, &quot;fillRule&quot;: &quot;evenodd&quot;, &quot;lineCap&quot;: &quot;round&quot;, &quot;lineJoin&quot;: &quot;round&quot;, &quot;opacity&quot;: 1.0, &quot;radius&quot;: 4, &quot;stroke&quot;: true, &quot;weight&quot;: 1}\n",
       "            ).addTo(feature_group_accd16c10b5c05b7599e9ef80b7ed376);\n",
       "        \n",
       "    \n",
       "            var circle_marker_e08381235bab0bfcf17cf86207287d63 = L.circleMarker(\n",
       "                [42.806231, -1.095914],\n",
       "                {&quot;bubblingMouseEvents&quot;: true, &quot;color&quot;: &quot;darkblue&quot;, &quot;dashArray&quot;: null, &quot;dashOffset&quot;: null, &quot;fill&quot;: true, &quot;fillColor&quot;: &quot;darkblue&quot;, &quot;fillOpacity&quot;: 0.8, &quot;fillRule&quot;: &quot;evenodd&quot;, &quot;lineCap&quot;: &quot;round&quot;, &quot;lineJoin&quot;: &quot;round&quot;, &quot;opacity&quot;: 1.0, &quot;radius&quot;: 4, &quot;stroke&quot;: true, &quot;weight&quot;: 1}\n",
       "            ).addTo(feature_group_accd16c10b5c05b7599e9ef80b7ed376);\n",
       "        \n",
       "    \n",
       "            var circle_marker_a99075c641fe20a788454612d4be55fb = L.circleMarker(\n",
       "                [-31.2737, 149.1567],\n",
       "                {&quot;bubblingMouseEvents&quot;: true, &quot;color&quot;: &quot;darkblue&quot;, &quot;dashArray&quot;: null, &quot;dashOffset&quot;: null, &quot;fill&quot;: true, &quot;fillColor&quot;: &quot;darkblue&quot;, &quot;fillOpacity&quot;: 0.8, &quot;fillRule&quot;: &quot;evenodd&quot;, &quot;lineCap&quot;: &quot;round&quot;, &quot;lineJoin&quot;: &quot;round&quot;, &quot;opacity&quot;: 1.0, &quot;radius&quot;: 4, &quot;stroke&quot;: true, &quot;weight&quot;: 1}\n",
       "            ).addTo(feature_group_accd16c10b5c05b7599e9ef80b7ed376);\n",
       "        \n",
       "    \n",
       "            var circle_marker_1b7d7b06a485b453e1f918e1a2928fc6 = L.circleMarker(\n",
       "                [-31.2737, 149.1567],\n",
       "                {&quot;bubblingMouseEvents&quot;: true, &quot;color&quot;: &quot;darkblue&quot;, &quot;dashArray&quot;: null, &quot;dashOffset&quot;: null, &quot;fill&quot;: true, &quot;fillColor&quot;: &quot;darkblue&quot;, &quot;fillOpacity&quot;: 0.8, &quot;fillRule&quot;: &quot;evenodd&quot;, &quot;lineCap&quot;: &quot;round&quot;, &quot;lineJoin&quot;: &quot;round&quot;, &quot;opacity&quot;: 1.0, &quot;radius&quot;: 4, &quot;stroke&quot;: true, &quot;weight&quot;: 1}\n",
       "            ).addTo(feature_group_accd16c10b5c05b7599e9ef80b7ed376);\n",
       "        \n",
       "    \n",
       "            var circle_marker_446e0f75d8268c1bc2bbb00aec0d3ced = L.circleMarker(\n",
       "                [43.215972, -1.551836],\n",
       "                {&quot;bubblingMouseEvents&quot;: true, &quot;color&quot;: &quot;darkblue&quot;, &quot;dashArray&quot;: null, &quot;dashOffset&quot;: null, &quot;fill&quot;: true, &quot;fillColor&quot;: &quot;darkblue&quot;, &quot;fillOpacity&quot;: 0.8, &quot;fillRule&quot;: &quot;evenodd&quot;, &quot;lineCap&quot;: &quot;round&quot;, &quot;lineJoin&quot;: &quot;round&quot;, &quot;opacity&quot;: 1.0, &quot;radius&quot;: 4, &quot;stroke&quot;: true, &quot;weight&quot;: 1}\n",
       "            ).addTo(feature_group_accd16c10b5c05b7599e9ef80b7ed376);\n",
       "        \n",
       "    \n",
       "            var circle_marker_bffcfce0f5f22be3a659bc9e68d74fef = L.circleMarker(\n",
       "                [42.7390111111, -1.43946666666],\n",
       "                {&quot;bubblingMouseEvents&quot;: true, &quot;color&quot;: &quot;darkblue&quot;, &quot;dashArray&quot;: null, &quot;dashOffset&quot;: null, &quot;fill&quot;: true, &quot;fillColor&quot;: &quot;darkblue&quot;, &quot;fillOpacity&quot;: 0.8, &quot;fillRule&quot;: &quot;evenodd&quot;, &quot;lineCap&quot;: &quot;round&quot;, &quot;lineJoin&quot;: &quot;round&quot;, &quot;opacity&quot;: 1.0, &quot;radius&quot;: 4, &quot;stroke&quot;: true, &quot;weight&quot;: 1}\n",
       "            ).addTo(feature_group_accd16c10b5c05b7599e9ef80b7ed376);\n",
       "        \n",
       "    \n",
       "            var circle_marker_ccc916d27031ed147d428cf2657a2eaa = L.circleMarker(\n",
       "                [39.4286111, -5.7841667],\n",
       "                {&quot;bubblingMouseEvents&quot;: true, &quot;color&quot;: &quot;darkblue&quot;, &quot;dashArray&quot;: null, &quot;dashOffset&quot;: null, &quot;fill&quot;: true, &quot;fillColor&quot;: &quot;darkblue&quot;, &quot;fillOpacity&quot;: 0.8, &quot;fillRule&quot;: &quot;evenodd&quot;, &quot;lineCap&quot;: &quot;round&quot;, &quot;lineJoin&quot;: &quot;round&quot;, &quot;opacity&quot;: 1.0, &quot;radius&quot;: 4, &quot;stroke&quot;: true, &quot;weight&quot;: 1}\n",
       "            ).addTo(feature_group_accd16c10b5c05b7599e9ef80b7ed376);\n",
       "        \n",
       "    \n",
       "            var circle_marker_884be15c341be1e7cd92e440ffce565b = L.circleMarker(\n",
       "                [53.7112863, -2.1546382],\n",
       "                {&quot;bubblingMouseEvents&quot;: true, &quot;color&quot;: &quot;darkblue&quot;, &quot;dashArray&quot;: null, &quot;dashOffset&quot;: null, &quot;fill&quot;: true, &quot;fillColor&quot;: &quot;darkblue&quot;, &quot;fillOpacity&quot;: 0.8, &quot;fillRule&quot;: &quot;evenodd&quot;, &quot;lineCap&quot;: &quot;round&quot;, &quot;lineJoin&quot;: &quot;round&quot;, &quot;opacity&quot;: 1.0, &quot;radius&quot;: 4, &quot;stroke&quot;: true, &quot;weight&quot;: 1}\n",
       "            ).addTo(feature_group_accd16c10b5c05b7599e9ef80b7ed376);\n",
       "        \n",
       "    \n",
       "            var circle_marker_3f57805e63aa396e8672c87e1a78abd0 = L.circleMarker(\n",
       "                [38.948951, -5.227632],\n",
       "                {&quot;bubblingMouseEvents&quot;: true, &quot;color&quot;: &quot;darkblue&quot;, &quot;dashArray&quot;: null, &quot;dashOffset&quot;: null, &quot;fill&quot;: true, &quot;fillColor&quot;: &quot;darkblue&quot;, &quot;fillOpacity&quot;: 0.8, &quot;fillRule&quot;: &quot;evenodd&quot;, &quot;lineCap&quot;: &quot;round&quot;, &quot;lineJoin&quot;: &quot;round&quot;, &quot;opacity&quot;: 1.0, &quot;radius&quot;: 4, &quot;stroke&quot;: true, &quot;weight&quot;: 1}\n",
       "            ).addTo(feature_group_accd16c10b5c05b7599e9ef80b7ed376);\n",
       "        \n",
       "    \n",
       "            var circle_marker_6854b06db3e435b9772d40d02be16cd6 = L.circleMarker(\n",
       "                [38.189844, -5.957093],\n",
       "                {&quot;bubblingMouseEvents&quot;: true, &quot;color&quot;: &quot;darkblue&quot;, &quot;dashArray&quot;: null, &quot;dashOffset&quot;: null, &quot;fill&quot;: true, &quot;fillColor&quot;: &quot;darkblue&quot;, &quot;fillOpacity&quot;: 0.8, &quot;fillRule&quot;: &quot;evenodd&quot;, &quot;lineCap&quot;: &quot;round&quot;, &quot;lineJoin&quot;: &quot;round&quot;, &quot;opacity&quot;: 1.0, &quot;radius&quot;: 4, &quot;stroke&quot;: true, &quot;weight&quot;: 1}\n",
       "            ).addTo(feature_group_accd16c10b5c05b7599e9ef80b7ed376);\n",
       "        \n",
       "    \n",
       "            var circle_marker_6069a962c8a17b1f8bb49cb36468f748 = L.circleMarker(\n",
       "                [38.1657813, -2.3268926],\n",
       "                {&quot;bubblingMouseEvents&quot;: true, &quot;color&quot;: &quot;darkblue&quot;, &quot;dashArray&quot;: null, &quot;dashOffset&quot;: null, &quot;fill&quot;: true, &quot;fillColor&quot;: &quot;darkblue&quot;, &quot;fillOpacity&quot;: 0.8, &quot;fillRule&quot;: &quot;evenodd&quot;, &quot;lineCap&quot;: &quot;round&quot;, &quot;lineJoin&quot;: &quot;round&quot;, &quot;opacity&quot;: 1.0, &quot;radius&quot;: 4, &quot;stroke&quot;: true, &quot;weight&quot;: 1}\n",
       "            ).addTo(feature_group_accd16c10b5c05b7599e9ef80b7ed376);\n",
       "        \n",
       "    \n",
       "            var circle_marker_2e0e35e65dc25fe300e494eb32af3674 = L.circleMarker(\n",
       "                [38.21969167, -6.63175556],\n",
       "                {&quot;bubblingMouseEvents&quot;: true, &quot;color&quot;: &quot;darkblue&quot;, &quot;dashArray&quot;: null, &quot;dashOffset&quot;: null, &quot;fill&quot;: true, &quot;fillColor&quot;: &quot;darkblue&quot;, &quot;fillOpacity&quot;: 0.8, &quot;fillRule&quot;: &quot;evenodd&quot;, &quot;lineCap&quot;: &quot;round&quot;, &quot;lineJoin&quot;: &quot;round&quot;, &quot;opacity&quot;: 1.0, &quot;radius&quot;: 4, &quot;stroke&quot;: true, &quot;weight&quot;: 1}\n",
       "            ).addTo(feature_group_accd16c10b5c05b7599e9ef80b7ed376);\n",
       "        \n",
       "    \n",
       "            var circle_marker_a5c2641f709f2ffd03687bd52f792763 = L.circleMarker(\n",
       "                [-21.267, 55.5],\n",
       "                {&quot;bubblingMouseEvents&quot;: true, &quot;color&quot;: &quot;darkblue&quot;, &quot;dashArray&quot;: null, &quot;dashOffset&quot;: null, &quot;fill&quot;: true, &quot;fillColor&quot;: &quot;darkblue&quot;, &quot;fillOpacity&quot;: 0.8, &quot;fillRule&quot;: &quot;evenodd&quot;, &quot;lineCap&quot;: &quot;round&quot;, &quot;lineJoin&quot;: &quot;round&quot;, &quot;opacity&quot;: 1.0, &quot;radius&quot;: 4, &quot;stroke&quot;: true, &quot;weight&quot;: 1}\n",
       "            ).addTo(feature_group_accd16c10b5c05b7599e9ef80b7ed376);\n",
       "        \n",
       "    \n",
       "            var circle_marker_45b6de81e3236702d3d57c9d45a87651 = L.circleMarker(\n",
       "                [41.6634453, -4.7059933],\n",
       "                {&quot;bubblingMouseEvents&quot;: true, &quot;color&quot;: &quot;darkblue&quot;, &quot;dashArray&quot;: null, &quot;dashOffset&quot;: null, &quot;fill&quot;: true, &quot;fillColor&quot;: &quot;darkblue&quot;, &quot;fillOpacity&quot;: 0.8, &quot;fillRule&quot;: &quot;evenodd&quot;, &quot;lineCap&quot;: &quot;round&quot;, &quot;lineJoin&quot;: &quot;round&quot;, &quot;opacity&quot;: 1.0, &quot;radius&quot;: 4, &quot;stroke&quot;: true, &quot;weight&quot;: 1}\n",
       "            ).addTo(feature_group_accd16c10b5c05b7599e9ef80b7ed376);\n",
       "        \n",
       "    \n",
       "            var circle_marker_81c946db47d8851c4ff174ccd425a652 = L.circleMarker(\n",
       "                [37.0641667, -3.3847222],\n",
       "                {&quot;bubblingMouseEvents&quot;: true, &quot;color&quot;: &quot;darkblue&quot;, &quot;dashArray&quot;: null, &quot;dashOffset&quot;: null, &quot;fill&quot;: true, &quot;fillColor&quot;: &quot;darkblue&quot;, &quot;fillOpacity&quot;: 0.8, &quot;fillRule&quot;: &quot;evenodd&quot;, &quot;lineCap&quot;: &quot;round&quot;, &quot;lineJoin&quot;: &quot;round&quot;, &quot;opacity&quot;: 1.0, &quot;radius&quot;: 4, &quot;stroke&quot;: true, &quot;weight&quot;: 1}\n",
       "            ).addTo(feature_group_accd16c10b5c05b7599e9ef80b7ed376);\n",
       "        \n",
       "    \n",
       "            var circle_marker_1133cb49f847ceb62eb6bb7cd9a0f18e = L.circleMarker(\n",
       "                [55.0858816, -2.2203668],\n",
       "                {&quot;bubblingMouseEvents&quot;: true, &quot;color&quot;: &quot;darkblue&quot;, &quot;dashArray&quot;: null, &quot;dashOffset&quot;: null, &quot;fill&quot;: true, &quot;fillColor&quot;: &quot;darkblue&quot;, &quot;fillOpacity&quot;: 0.8, &quot;fillRule&quot;: &quot;evenodd&quot;, &quot;lineCap&quot;: &quot;round&quot;, &quot;lineJoin&quot;: &quot;round&quot;, &quot;opacity&quot;: 1.0, &quot;radius&quot;: 4, &quot;stroke&quot;: true, &quot;weight&quot;: 1}\n",
       "            ).addTo(feature_group_accd16c10b5c05b7599e9ef80b7ed376);\n",
       "        \n",
       "    \n",
       "            var circle_marker_19e793292b28064c9fe1d0a1b25d95da = L.circleMarker(\n",
       "                [45.4233, -71.126],\n",
       "                {&quot;bubblingMouseEvents&quot;: true, &quot;color&quot;: &quot;darkblue&quot;, &quot;dashArray&quot;: null, &quot;dashOffset&quot;: null, &quot;fill&quot;: true, &quot;fillColor&quot;: &quot;darkblue&quot;, &quot;fillOpacity&quot;: 0.8, &quot;fillRule&quot;: &quot;evenodd&quot;, &quot;lineCap&quot;: &quot;round&quot;, &quot;lineJoin&quot;: &quot;round&quot;, &quot;opacity&quot;: 1.0, &quot;radius&quot;: 4, &quot;stroke&quot;: true, &quot;weight&quot;: 1}\n",
       "            ).addTo(feature_group_accd16c10b5c05b7599e9ef80b7ed376);\n",
       "        \n",
       "    \n",
       "            var circle_marker_19ae8537eeb8ae5108a90b140addda7f = L.circleMarker(\n",
       "                [41.474, -1.4821],\n",
       "                {&quot;bubblingMouseEvents&quot;: true, &quot;color&quot;: &quot;darkblue&quot;, &quot;dashArray&quot;: null, &quot;dashOffset&quot;: null, &quot;fill&quot;: true, &quot;fillColor&quot;: &quot;darkblue&quot;, &quot;fillOpacity&quot;: 0.8, &quot;fillRule&quot;: &quot;evenodd&quot;, &quot;lineCap&quot;: &quot;round&quot;, &quot;lineJoin&quot;: &quot;round&quot;, &quot;opacity&quot;: 1.0, &quot;radius&quot;: 4, &quot;stroke&quot;: true, &quot;weight&quot;: 1}\n",
       "            ).addTo(feature_group_accd16c10b5c05b7599e9ef80b7ed376);\n",
       "        \n",
       "    \n",
       "            var circle_marker_50ef49006cb57e01705d9636230d2f3b = L.circleMarker(\n",
       "                [39.57597, -0.32892],\n",
       "                {&quot;bubblingMouseEvents&quot;: true, &quot;color&quot;: &quot;darkblue&quot;, &quot;dashArray&quot;: null, &quot;dashOffset&quot;: null, &quot;fill&quot;: true, &quot;fillColor&quot;: &quot;darkblue&quot;, &quot;fillOpacity&quot;: 0.8, &quot;fillRule&quot;: &quot;evenodd&quot;, &quot;lineCap&quot;: &quot;round&quot;, &quot;lineJoin&quot;: &quot;round&quot;, &quot;opacity&quot;: 1.0, &quot;radius&quot;: 4, &quot;stroke&quot;: true, &quot;weight&quot;: 1}\n",
       "            ).addTo(feature_group_accd16c10b5c05b7599e9ef80b7ed376);\n",
       "        \n",
       "    \n",
       "            var circle_marker_e49eb84cd9d80ca78a92ba8ad2893ebb = L.circleMarker(\n",
       "                [-31.7986065, -69.2977443],\n",
       "                {&quot;bubblingMouseEvents&quot;: true, &quot;color&quot;: &quot;darkblue&quot;, &quot;dashArray&quot;: null, &quot;dashOffset&quot;: null, &quot;fill&quot;: true, &quot;fillColor&quot;: &quot;darkblue&quot;, &quot;fillOpacity&quot;: 0.8, &quot;fillRule&quot;: &quot;evenodd&quot;, &quot;lineCap&quot;: &quot;round&quot;, &quot;lineJoin&quot;: &quot;round&quot;, &quot;opacity&quot;: 1.0, &quot;radius&quot;: 4, &quot;stroke&quot;: true, &quot;weight&quot;: 1}\n",
       "            ).addTo(feature_group_accd16c10b5c05b7599e9ef80b7ed376);\n",
       "        \n",
       "    \n",
       "            var circle_marker_d1ef5344a70798bfbf635f6d605aca23 = L.circleMarker(\n",
       "                [-35.2921798, -69.0125082],\n",
       "                {&quot;bubblingMouseEvents&quot;: true, &quot;color&quot;: &quot;darkblue&quot;, &quot;dashArray&quot;: null, &quot;dashOffset&quot;: null, &quot;fill&quot;: true, &quot;fillColor&quot;: &quot;darkblue&quot;, &quot;fillOpacity&quot;: 0.8, &quot;fillRule&quot;: &quot;evenodd&quot;, &quot;lineCap&quot;: &quot;round&quot;, &quot;lineJoin&quot;: &quot;round&quot;, &quot;opacity&quot;: 1.0, &quot;radius&quot;: 4, &quot;stroke&quot;: true, &quot;weight&quot;: 1}\n",
       "            ).addTo(feature_group_accd16c10b5c05b7599e9ef80b7ed376);\n",
       "        \n",
       "    \n",
       "            var circle_marker_0da3dc4971a4cf6805f4d95f92576e53 = L.circleMarker(\n",
       "                [-38.27298056, 145.04153611],\n",
       "                {&quot;bubblingMouseEvents&quot;: true, &quot;color&quot;: &quot;darkblue&quot;, &quot;dashArray&quot;: null, &quot;dashOffset&quot;: null, &quot;fill&quot;: true, &quot;fillColor&quot;: &quot;darkblue&quot;, &quot;fillOpacity&quot;: 0.8, &quot;fillRule&quot;: &quot;evenodd&quot;, &quot;lineCap&quot;: &quot;round&quot;, &quot;lineJoin&quot;: &quot;round&quot;, &quot;opacity&quot;: 1.0, &quot;radius&quot;: 4, &quot;stroke&quot;: true, &quot;weight&quot;: 1}\n",
       "            ).addTo(feature_group_accd16c10b5c05b7599e9ef80b7ed376);\n",
       "        \n",
       "    \n",
       "            var circle_marker_63eb45ca353d1880eb264dfd62e3effc = L.circleMarker(\n",
       "                [28.300332, -16.512206],\n",
       "                {&quot;bubblingMouseEvents&quot;: true, &quot;color&quot;: &quot;darkblue&quot;, &quot;dashArray&quot;: null, &quot;dashOffset&quot;: null, &quot;fill&quot;: true, &quot;fillColor&quot;: &quot;darkblue&quot;, &quot;fillOpacity&quot;: 0.8, &quot;fillRule&quot;: &quot;evenodd&quot;, &quot;lineCap&quot;: &quot;round&quot;, &quot;lineJoin&quot;: &quot;round&quot;, &quot;opacity&quot;: 1.0, &quot;radius&quot;: 4, &quot;stroke&quot;: true, &quot;weight&quot;: 1}\n",
       "            ).addTo(feature_group_accd16c10b5c05b7599e9ef80b7ed376);\n",
       "        \n",
       "    \n",
       "            var circle_marker_53e6674e8f84f1423ef8d9df8b65eab7 = L.circleMarker(\n",
       "                [39.3228671066554, -4.95050494907377],\n",
       "                {&quot;bubblingMouseEvents&quot;: true, &quot;color&quot;: &quot;darkblue&quot;, &quot;dashArray&quot;: null, &quot;dashOffset&quot;: null, &quot;fill&quot;: true, &quot;fillColor&quot;: &quot;darkblue&quot;, &quot;fillOpacity&quot;: 0.8, &quot;fillRule&quot;: &quot;evenodd&quot;, &quot;lineCap&quot;: &quot;round&quot;, &quot;lineJoin&quot;: &quot;round&quot;, &quot;opacity&quot;: 1.0, &quot;radius&quot;: 4, &quot;stroke&quot;: true, &quot;weight&quot;: 1}\n",
       "            ).addTo(feature_group_accd16c10b5c05b7599e9ef80b7ed376);\n",
       "        \n",
       "    \n",
       "            var circle_marker_8658bad0fad60208e23c20a7e3ba9309 = L.circleMarker(\n",
       "                [38.7554517394512, -6.98450848343236],\n",
       "                {&quot;bubblingMouseEvents&quot;: true, &quot;color&quot;: &quot;darkblue&quot;, &quot;dashArray&quot;: null, &quot;dashOffset&quot;: null, &quot;fill&quot;: true, &quot;fillColor&quot;: &quot;darkblue&quot;, &quot;fillOpacity&quot;: 0.8, &quot;fillRule&quot;: &quot;evenodd&quot;, &quot;lineCap&quot;: &quot;round&quot;, &quot;lineJoin&quot;: &quot;round&quot;, &quot;opacity&quot;: 1.0, &quot;radius&quot;: 4, &quot;stroke&quot;: true, &quot;weight&quot;: 1}\n",
       "            ).addTo(feature_group_accd16c10b5c05b7599e9ef80b7ed376);\n",
       "        \n",
       "    \n",
       "            var circle_marker_9d3915c352ddeac518a91488a2030109 = L.circleMarker(\n",
       "                [28.763906, -17.893667],\n",
       "                {&quot;bubblingMouseEvents&quot;: true, &quot;color&quot;: &quot;darkblue&quot;, &quot;dashArray&quot;: null, &quot;dashOffset&quot;: null, &quot;fill&quot;: true, &quot;fillColor&quot;: &quot;darkblue&quot;, &quot;fillOpacity&quot;: 0.8, &quot;fillRule&quot;: &quot;evenodd&quot;, &quot;lineCap&quot;: &quot;round&quot;, &quot;lineJoin&quot;: &quot;round&quot;, &quot;opacity&quot;: 1.0, &quot;radius&quot;: 4, &quot;stroke&quot;: true, &quot;weight&quot;: 1}\n",
       "            ).addTo(feature_group_accd16c10b5c05b7599e9ef80b7ed376);\n",
       "        \n",
       "    \n",
       "            var circle_marker_088679077fbf5b61aa751207746c0277 = L.circleMarker(\n",
       "                [30.534095, -98.905275],\n",
       "                {&quot;bubblingMouseEvents&quot;: true, &quot;color&quot;: &quot;darkblue&quot;, &quot;dashArray&quot;: null, &quot;dashOffset&quot;: null, &quot;fill&quot;: true, &quot;fillColor&quot;: &quot;darkblue&quot;, &quot;fillOpacity&quot;: 0.8, &quot;fillRule&quot;: &quot;evenodd&quot;, &quot;lineCap&quot;: &quot;round&quot;, &quot;lineJoin&quot;: &quot;round&quot;, &quot;opacity&quot;: 1.0, &quot;radius&quot;: 4, &quot;stroke&quot;: true, &quot;weight&quot;: 1}\n",
       "            ).addTo(feature_group_accd16c10b5c05b7599e9ef80b7ed376);\n",
       "        \n",
       "    \n",
       "            var circle_marker_eb6e3b1f6933c5015adf474fdb13b1e1 = L.circleMarker(\n",
       "                [43.2621711, -2.9486171],\n",
       "                {&quot;bubblingMouseEvents&quot;: true, &quot;color&quot;: &quot;darkblue&quot;, &quot;dashArray&quot;: null, &quot;dashOffset&quot;: null, &quot;fill&quot;: true, &quot;fillColor&quot;: &quot;darkblue&quot;, &quot;fillOpacity&quot;: 0.8, &quot;fillRule&quot;: &quot;evenodd&quot;, &quot;lineCap&quot;: &quot;round&quot;, &quot;lineJoin&quot;: &quot;round&quot;, &quot;opacity&quot;: 1.0, &quot;radius&quot;: 4, &quot;stroke&quot;: true, &quot;weight&quot;: 1}\n",
       "            ).addTo(feature_group_accd16c10b5c05b7599e9ef80b7ed376);\n",
       "        \n",
       "    \n",
       "            var circle_marker_5d2f28ab12215c7be836c10142d0d965 = L.circleMarker(\n",
       "                [50.1719038, -5.1126501],\n",
       "                {&quot;bubblingMouseEvents&quot;: true, &quot;color&quot;: &quot;darkblue&quot;, &quot;dashArray&quot;: null, &quot;dashOffset&quot;: null, &quot;fill&quot;: true, &quot;fillColor&quot;: &quot;darkblue&quot;, &quot;fillOpacity&quot;: 0.8, &quot;fillRule&quot;: &quot;evenodd&quot;, &quot;lineCap&quot;: &quot;round&quot;, &quot;lineJoin&quot;: &quot;round&quot;, &quot;opacity&quot;: 1.0, &quot;radius&quot;: 4, &quot;stroke&quot;: true, &quot;weight&quot;: 1}\n",
       "            ).addTo(feature_group_accd16c10b5c05b7599e9ef80b7ed376);\n",
       "        \n",
       "    \n",
       "            var circle_marker_6d78d34b4a515fc39eb0b53f304267e4 = L.circleMarker(\n",
       "                [64.209031, 18.849575],\n",
       "                {&quot;bubblingMouseEvents&quot;: true, &quot;color&quot;: &quot;darkblue&quot;, &quot;dashArray&quot;: null, &quot;dashOffset&quot;: null, &quot;fill&quot;: true, &quot;fillColor&quot;: &quot;darkblue&quot;, &quot;fillOpacity&quot;: 0.8, &quot;fillRule&quot;: &quot;evenodd&quot;, &quot;lineCap&quot;: &quot;round&quot;, &quot;lineJoin&quot;: &quot;round&quot;, &quot;opacity&quot;: 1.0, &quot;radius&quot;: 4, &quot;stroke&quot;: true, &quot;weight&quot;: 1}\n",
       "            ).addTo(feature_group_accd16c10b5c05b7599e9ef80b7ed376);\n",
       "        \n",
       "    \n",
       "            var circle_marker_c0a63cbbf301afae8794e99c2a2bff25 = L.circleMarker(\n",
       "                [40.349958, -1.170225],\n",
       "                {&quot;bubblingMouseEvents&quot;: true, &quot;color&quot;: &quot;darkblue&quot;, &quot;dashArray&quot;: null, &quot;dashOffset&quot;: null, &quot;fill&quot;: true, &quot;fillColor&quot;: &quot;darkblue&quot;, &quot;fillOpacity&quot;: 0.8, &quot;fillRule&quot;: &quot;evenodd&quot;, &quot;lineCap&quot;: &quot;round&quot;, &quot;lineJoin&quot;: &quot;round&quot;, &quot;opacity&quot;: 1.0, &quot;radius&quot;: 4, &quot;stroke&quot;: true, &quot;weight&quot;: 1}\n",
       "            ).addTo(feature_group_accd16c10b5c05b7599e9ef80b7ed376);\n",
       "        \n",
       "    \n",
       "            var circle_marker_5fbfab9a9f4c71a5bbb49d338e533c6f = L.circleMarker(\n",
       "                [42.6106406, -8.3708311],\n",
       "                {&quot;bubblingMouseEvents&quot;: true, &quot;color&quot;: &quot;darkblue&quot;, &quot;dashArray&quot;: null, &quot;dashOffset&quot;: null, &quot;fill&quot;: true, &quot;fillColor&quot;: &quot;darkblue&quot;, &quot;fillOpacity&quot;: 0.8, &quot;fillRule&quot;: &quot;evenodd&quot;, &quot;lineCap&quot;: &quot;round&quot;, &quot;lineJoin&quot;: &quot;round&quot;, &quot;opacity&quot;: 1.0, &quot;radius&quot;: 4, &quot;stroke&quot;: true, &quot;weight&quot;: 1}\n",
       "            ).addTo(feature_group_accd16c10b5c05b7599e9ef80b7ed376);\n",
       "        \n",
       "    \n",
       "            var circle_marker_35842487c0a0e13648ba5ea1438a534f = L.circleMarker(\n",
       "                [39.781004, -6.016262],\n",
       "                {&quot;bubblingMouseEvents&quot;: true, &quot;color&quot;: &quot;darkblue&quot;, &quot;dashArray&quot;: null, &quot;dashOffset&quot;: null, &quot;fill&quot;: true, &quot;fillColor&quot;: &quot;darkblue&quot;, &quot;fillOpacity&quot;: 0.8, &quot;fillRule&quot;: &quot;evenodd&quot;, &quot;lineCap&quot;: &quot;round&quot;, &quot;lineJoin&quot;: &quot;round&quot;, &quot;opacity&quot;: 1.0, &quot;radius&quot;: 4, &quot;stroke&quot;: true, &quot;weight&quot;: 1}\n",
       "            ).addTo(feature_group_accd16c10b5c05b7599e9ef80b7ed376);\n",
       "        \n",
       "    \n",
       "            var circle_marker_16bdfb05b56f10d530951a4b54ad159e = L.circleMarker(\n",
       "                [45.0510358, 10.9197606],\n",
       "                {&quot;bubblingMouseEvents&quot;: true, &quot;color&quot;: &quot;darkblue&quot;, &quot;dashArray&quot;: null, &quot;dashOffset&quot;: null, &quot;fill&quot;: true, &quot;fillColor&quot;: &quot;darkblue&quot;, &quot;fillOpacity&quot;: 0.8, &quot;fillRule&quot;: &quot;evenodd&quot;, &quot;lineCap&quot;: &quot;round&quot;, &quot;lineJoin&quot;: &quot;round&quot;, &quot;opacity&quot;: 1.0, &quot;radius&quot;: 4, &quot;stroke&quot;: true, &quot;weight&quot;: 1}\n",
       "            ).addTo(feature_group_accd16c10b5c05b7599e9ef80b7ed376);\n",
       "        \n",
       "    \n",
       "            var circle_marker_adccf21e6d98c0266bb90300ee6dda69 = L.circleMarker(\n",
       "                [42.024592, 0.7347973],\n",
       "                {&quot;bubblingMouseEvents&quot;: true, &quot;color&quot;: &quot;darkblue&quot;, &quot;dashArray&quot;: null, &quot;dashOffset&quot;: null, &quot;fill&quot;: true, &quot;fillColor&quot;: &quot;darkblue&quot;, &quot;fillOpacity&quot;: 0.8, &quot;fillRule&quot;: &quot;evenodd&quot;, &quot;lineCap&quot;: &quot;round&quot;, &quot;lineJoin&quot;: &quot;round&quot;, &quot;opacity&quot;: 1.0, &quot;radius&quot;: 4, &quot;stroke&quot;: true, &quot;weight&quot;: 1}\n",
       "            ).addTo(feature_group_accd16c10b5c05b7599e9ef80b7ed376);\n",
       "        \n",
       "    \n",
       "            var circle_marker_466ebe8c9337526c80760d0a0b927381 = L.circleMarker(\n",
       "                [-31.2749041, 149.0682942],\n",
       "                {&quot;bubblingMouseEvents&quot;: true, &quot;color&quot;: &quot;darkblue&quot;, &quot;dashArray&quot;: null, &quot;dashOffset&quot;: null, &quot;fill&quot;: true, &quot;fillColor&quot;: &quot;darkblue&quot;, &quot;fillOpacity&quot;: 0.8, &quot;fillRule&quot;: &quot;evenodd&quot;, &quot;lineCap&quot;: &quot;round&quot;, &quot;lineJoin&quot;: &quot;round&quot;, &quot;opacity&quot;: 1.0, &quot;radius&quot;: 4, &quot;stroke&quot;: true, &quot;weight&quot;: 1}\n",
       "            ).addTo(feature_group_accd16c10b5c05b7599e9ef80b7ed376);\n",
       "        \n",
       "    \n",
       "            var circle_marker_cd668ffa98b021405ef19ee08af852e8 = L.circleMarker(\n",
       "                [36.8787604, -2.4418338],\n",
       "                {&quot;bubblingMouseEvents&quot;: true, &quot;color&quot;: &quot;darkblue&quot;, &quot;dashArray&quot;: null, &quot;dashOffset&quot;: null, &quot;fill&quot;: true, &quot;fillColor&quot;: &quot;darkblue&quot;, &quot;fillOpacity&quot;: 0.8, &quot;fillRule&quot;: &quot;evenodd&quot;, &quot;lineCap&quot;: &quot;round&quot;, &quot;lineJoin&quot;: &quot;round&quot;, &quot;opacity&quot;: 1.0, &quot;radius&quot;: 4, &quot;stroke&quot;: true, &quot;weight&quot;: 1}\n",
       "            ).addTo(feature_group_accd16c10b5c05b7599e9ef80b7ed376);\n",
       "        \n",
       "    \n",
       "            var circle_marker_516c192cf0bf488cb2d68f106a021326 = L.circleMarker(\n",
       "                [40.923742, -1.495649],\n",
       "                {&quot;bubblingMouseEvents&quot;: true, &quot;color&quot;: &quot;darkblue&quot;, &quot;dashArray&quot;: null, &quot;dashOffset&quot;: null, &quot;fill&quot;: true, &quot;fillColor&quot;: &quot;darkblue&quot;, &quot;fillOpacity&quot;: 0.8, &quot;fillRule&quot;: &quot;evenodd&quot;, &quot;lineCap&quot;: &quot;round&quot;, &quot;lineJoin&quot;: &quot;round&quot;, &quot;opacity&quot;: 1.0, &quot;radius&quot;: 4, &quot;stroke&quot;: true, &quot;weight&quot;: 1}\n",
       "            ).addTo(feature_group_accd16c10b5c05b7599e9ef80b7ed376);\n",
       "        \n",
       "    \n",
       "            var circle_marker_f7ba62dc3579f2bbef25a40d5bd26458 = L.circleMarker(\n",
       "                [41.1774241, -8.6059636],\n",
       "                {&quot;bubblingMouseEvents&quot;: true, &quot;color&quot;: &quot;darkblue&quot;, &quot;dashArray&quot;: null, &quot;dashOffset&quot;: null, &quot;fill&quot;: true, &quot;fillColor&quot;: &quot;darkblue&quot;, &quot;fillOpacity&quot;: 0.8, &quot;fillRule&quot;: &quot;evenodd&quot;, &quot;lineCap&quot;: &quot;round&quot;, &quot;lineJoin&quot;: &quot;round&quot;, &quot;opacity&quot;: 1.0, &quot;radius&quot;: 4, &quot;stroke&quot;: true, &quot;weight&quot;: 1}\n",
       "            ).addTo(feature_group_accd16c10b5c05b7599e9ef80b7ed376);\n",
       "        \n",
       "    \n",
       "            var circle_marker_b9ecfb66b60f4bd975b314a00aff193f = L.circleMarker(\n",
       "                [41.1774241, -8.6059636],\n",
       "                {&quot;bubblingMouseEvents&quot;: true, &quot;color&quot;: &quot;darkblue&quot;, &quot;dashArray&quot;: null, &quot;dashOffset&quot;: null, &quot;fill&quot;: true, &quot;fillColor&quot;: &quot;darkblue&quot;, &quot;fillOpacity&quot;: 0.8, &quot;fillRule&quot;: &quot;evenodd&quot;, &quot;lineCap&quot;: &quot;round&quot;, &quot;lineJoin&quot;: &quot;round&quot;, &quot;opacity&quot;: 1.0, &quot;radius&quot;: 4, &quot;stroke&quot;: true, &quot;weight&quot;: 1}\n",
       "            ).addTo(feature_group_accd16c10b5c05b7599e9ef80b7ed376);\n",
       "        \n",
       "    \n",
       "            var circle_marker_85bc68a127f59fce8b8173a996e12c5f = L.circleMarker(\n",
       "                [45.93, 13.91],\n",
       "                {&quot;bubblingMouseEvents&quot;: true, &quot;color&quot;: &quot;darkblue&quot;, &quot;dashArray&quot;: null, &quot;dashOffset&quot;: null, &quot;fill&quot;: true, &quot;fillColor&quot;: &quot;darkblue&quot;, &quot;fillOpacity&quot;: 0.8, &quot;fillRule&quot;: &quot;evenodd&quot;, &quot;lineCap&quot;: &quot;round&quot;, &quot;lineJoin&quot;: &quot;round&quot;, &quot;opacity&quot;: 1.0, &quot;radius&quot;: 4, &quot;stroke&quot;: true, &quot;weight&quot;: 1}\n",
       "            ).addTo(feature_group_accd16c10b5c05b7599e9ef80b7ed376);\n",
       "        \n",
       "    \n",
       "            var circle_marker_1bd51cb1bb84bc0948ec1edbb5b8226e = L.circleMarker(\n",
       "                [40.4478574, -3.6637624],\n",
       "                {&quot;bubblingMouseEvents&quot;: true, &quot;color&quot;: &quot;darkblue&quot;, &quot;dashArray&quot;: null, &quot;dashOffset&quot;: null, &quot;fill&quot;: true, &quot;fillColor&quot;: &quot;darkblue&quot;, &quot;fillOpacity&quot;: 0.8, &quot;fillRule&quot;: &quot;evenodd&quot;, &quot;lineCap&quot;: &quot;round&quot;, &quot;lineJoin&quot;: &quot;round&quot;, &quot;opacity&quot;: 1.0, &quot;radius&quot;: 4, &quot;stroke&quot;: true, &quot;weight&quot;: 1}\n",
       "            ).addTo(feature_group_accd16c10b5c05b7599e9ef80b7ed376);\n",
       "        \n",
       "    \n",
       "            var circle_marker_12973cfaad48f060ca974c5b41869251 = L.circleMarker(\n",
       "                [42.957383, -0.801089],\n",
       "                {&quot;bubblingMouseEvents&quot;: true, &quot;color&quot;: &quot;darkblue&quot;, &quot;dashArray&quot;: null, &quot;dashOffset&quot;: null, &quot;fill&quot;: true, &quot;fillColor&quot;: &quot;darkblue&quot;, &quot;fillOpacity&quot;: 0.8, &quot;fillRule&quot;: &quot;evenodd&quot;, &quot;lineCap&quot;: &quot;round&quot;, &quot;lineJoin&quot;: &quot;round&quot;, &quot;opacity&quot;: 1.0, &quot;radius&quot;: 4, &quot;stroke&quot;: true, &quot;weight&quot;: 1}\n",
       "            ).addTo(feature_group_accd16c10b5c05b7599e9ef80b7ed376);\n",
       "        \n",
       "    \n",
       "            var circle_marker_0f718f7498b6888682e6b0187b3523e7 = L.circleMarker(\n",
       "                [-38.731162, -62.223645],\n",
       "                {&quot;bubblingMouseEvents&quot;: true, &quot;color&quot;: &quot;darkblue&quot;, &quot;dashArray&quot;: null, &quot;dashOffset&quot;: null, &quot;fill&quot;: true, &quot;fillColor&quot;: &quot;darkblue&quot;, &quot;fillOpacity&quot;: 0.8, &quot;fillRule&quot;: &quot;evenodd&quot;, &quot;lineCap&quot;: &quot;round&quot;, &quot;lineJoin&quot;: &quot;round&quot;, &quot;opacity&quot;: 1.0, &quot;radius&quot;: 4, &quot;stroke&quot;: true, &quot;weight&quot;: 1}\n",
       "            ).addTo(feature_group_accd16c10b5c05b7599e9ef80b7ed376);\n",
       "        \n",
       "    \n",
       "            var circle_marker_77dda2aef9270e6ae369acfa6a7c6982 = L.circleMarker(\n",
       "                [32.223877, -110.767532],\n",
       "                {&quot;bubblingMouseEvents&quot;: true, &quot;color&quot;: &quot;darkblue&quot;, &quot;dashArray&quot;: null, &quot;dashOffset&quot;: null, &quot;fill&quot;: true, &quot;fillColor&quot;: &quot;darkblue&quot;, &quot;fillOpacity&quot;: 0.8, &quot;fillRule&quot;: &quot;evenodd&quot;, &quot;lineCap&quot;: &quot;round&quot;, &quot;lineJoin&quot;: &quot;round&quot;, &quot;opacity&quot;: 1.0, &quot;radius&quot;: 4, &quot;stroke&quot;: true, &quot;weight&quot;: 1}\n",
       "            ).addTo(feature_group_accd16c10b5c05b7599e9ef80b7ed376);\n",
       "        \n",
       "    \n",
       "            var circle_marker_e116edbd9067d92669ea2837c697cd87 = L.circleMarker(\n",
       "                [40.0418, -1.0163],\n",
       "                {&quot;bubblingMouseEvents&quot;: true, &quot;color&quot;: &quot;darkblue&quot;, &quot;dashArray&quot;: null, &quot;dashOffset&quot;: null, &quot;fill&quot;: true, &quot;fillColor&quot;: &quot;darkblue&quot;, &quot;fillOpacity&quot;: 0.8, &quot;fillRule&quot;: &quot;evenodd&quot;, &quot;lineCap&quot;: &quot;round&quot;, &quot;lineJoin&quot;: &quot;round&quot;, &quot;opacity&quot;: 1.0, &quot;radius&quot;: 4, &quot;stroke&quot;: true, &quot;weight&quot;: 1}\n",
       "            ).addTo(feature_group_accd16c10b5c05b7599e9ef80b7ed376);\n",
       "        \n",
       "    \n",
       "            var circle_marker_ef3b974096328f20d8f94759799d245c = L.circleMarker(\n",
       "                [39.71005, -0.99275],\n",
       "                {&quot;bubblingMouseEvents&quot;: true, &quot;color&quot;: &quot;darkblue&quot;, &quot;dashArray&quot;: null, &quot;dashOffset&quot;: null, &quot;fill&quot;: true, &quot;fillColor&quot;: &quot;darkblue&quot;, &quot;fillOpacity&quot;: 0.8, &quot;fillRule&quot;: &quot;evenodd&quot;, &quot;lineCap&quot;: &quot;round&quot;, &quot;lineJoin&quot;: &quot;round&quot;, &quot;opacity&quot;: 1.0, &quot;radius&quot;: 4, &quot;stroke&quot;: true, &quot;weight&quot;: 1}\n",
       "            ).addTo(feature_group_accd16c10b5c05b7599e9ef80b7ed376);\n",
       "        \n",
       "    \n",
       "            var circle_marker_442ea331d673745f9ca0269c39b6e10c = L.circleMarker(\n",
       "                [38.3149, -5.28355],\n",
       "                {&quot;bubblingMouseEvents&quot;: true, &quot;color&quot;: &quot;darkblue&quot;, &quot;dashArray&quot;: null, &quot;dashOffset&quot;: null, &quot;fill&quot;: true, &quot;fillColor&quot;: &quot;darkblue&quot;, &quot;fillOpacity&quot;: 0.8, &quot;fillRule&quot;: &quot;evenodd&quot;, &quot;lineCap&quot;: &quot;round&quot;, &quot;lineJoin&quot;: &quot;round&quot;, &quot;opacity&quot;: 1.0, &quot;radius&quot;: 4, &quot;stroke&quot;: true, &quot;weight&quot;: 1}\n",
       "            ).addTo(feature_group_accd16c10b5c05b7599e9ef80b7ed376);\n",
       "        \n",
       "    \n",
       "            var circle_marker_8d096b8dcf8c4a485cb4d5d20e0ab32b = L.circleMarker(\n",
       "                [38.409226, -4.894376],\n",
       "                {&quot;bubblingMouseEvents&quot;: true, &quot;color&quot;: &quot;darkblue&quot;, &quot;dashArray&quot;: null, &quot;dashOffset&quot;: null, &quot;fill&quot;: true, &quot;fillColor&quot;: &quot;darkblue&quot;, &quot;fillOpacity&quot;: 0.8, &quot;fillRule&quot;: &quot;evenodd&quot;, &quot;lineCap&quot;: &quot;round&quot;, &quot;lineJoin&quot;: &quot;round&quot;, &quot;opacity&quot;: 1.0, &quot;radius&quot;: 4, &quot;stroke&quot;: true, &quot;weight&quot;: 1}\n",
       "            ).addTo(feature_group_accd16c10b5c05b7599e9ef80b7ed376);\n",
       "        \n",
       "    \n",
       "            var circle_marker_6153c86843da99130925789e6800d9a2 = L.circleMarker(\n",
       "                [42.71167, -1.86509],\n",
       "                {&quot;bubblingMouseEvents&quot;: true, &quot;color&quot;: &quot;darkblue&quot;, &quot;dashArray&quot;: null, &quot;dashOffset&quot;: null, &quot;fill&quot;: true, &quot;fillColor&quot;: &quot;darkblue&quot;, &quot;fillOpacity&quot;: 0.8, &quot;fillRule&quot;: &quot;evenodd&quot;, &quot;lineCap&quot;: &quot;round&quot;, &quot;lineJoin&quot;: &quot;round&quot;, &quot;opacity&quot;: 1.0, &quot;radius&quot;: 4, &quot;stroke&quot;: true, &quot;weight&quot;: 1}\n",
       "            ).addTo(feature_group_accd16c10b5c05b7599e9ef80b7ed376);\n",
       "        \n",
       "    \n",
       "            var circle_marker_93254afb5b37cfbbc42a3b9a295129d5 = L.circleMarker(\n",
       "                [42.81732, -1.64543],\n",
       "                {&quot;bubblingMouseEvents&quot;: true, &quot;color&quot;: &quot;darkblue&quot;, &quot;dashArray&quot;: null, &quot;dashOffset&quot;: null, &quot;fill&quot;: true, &quot;fillColor&quot;: &quot;darkblue&quot;, &quot;fillOpacity&quot;: 0.8, &quot;fillRule&quot;: &quot;evenodd&quot;, &quot;lineCap&quot;: &quot;round&quot;, &quot;lineJoin&quot;: &quot;round&quot;, &quot;opacity&quot;: 1.0, &quot;radius&quot;: 4, &quot;stroke&quot;: true, &quot;weight&quot;: 1}\n",
       "            ).addTo(feature_group_accd16c10b5c05b7599e9ef80b7ed376);\n",
       "        \n",
       "    \n",
       "            var circle_marker_05355f560b60e7c57f0863d06961346f = L.circleMarker(\n",
       "                [41.0012989, -2.492408],\n",
       "                {&quot;bubblingMouseEvents&quot;: true, &quot;color&quot;: &quot;darkblue&quot;, &quot;dashArray&quot;: null, &quot;dashOffset&quot;: null, &quot;fill&quot;: true, &quot;fillColor&quot;: &quot;darkblue&quot;, &quot;fillOpacity&quot;: 0.8, &quot;fillRule&quot;: &quot;evenodd&quot;, &quot;lineCap&quot;: &quot;round&quot;, &quot;lineJoin&quot;: &quot;round&quot;, &quot;opacity&quot;: 1.0, &quot;radius&quot;: 4, &quot;stroke&quot;: true, &quot;weight&quot;: 1}\n",
       "            ).addTo(feature_group_accd16c10b5c05b7599e9ef80b7ed376);\n",
       "        \n",
       "    \n",
       "            var circle_marker_d11ea3f70ab915ae213ef3b02e9bf807 = L.circleMarker(\n",
       "                [40.4246043, -3.560279],\n",
       "                {&quot;bubblingMouseEvents&quot;: true, &quot;color&quot;: &quot;darkblue&quot;, &quot;dashArray&quot;: null, &quot;dashOffset&quot;: null, &quot;fill&quot;: true, &quot;fillColor&quot;: &quot;darkblue&quot;, &quot;fillOpacity&quot;: 0.8, &quot;fillRule&quot;: &quot;evenodd&quot;, &quot;lineCap&quot;: &quot;round&quot;, &quot;lineJoin&quot;: &quot;round&quot;, &quot;opacity&quot;: 1.0, &quot;radius&quot;: 4, &quot;stroke&quot;: true, &quot;weight&quot;: 1}\n",
       "            ).addTo(feature_group_accd16c10b5c05b7599e9ef80b7ed376);\n",
       "        \n",
       "    \n",
       "            var circle_marker_96784f2d03cbfd36ce6d287676434955 = L.circleMarker(\n",
       "                [29.01125, -13.750862],\n",
       "                {&quot;bubblingMouseEvents&quot;: true, &quot;color&quot;: &quot;darkred&quot;, &quot;dashArray&quot;: null, &quot;dashOffset&quot;: null, &quot;fill&quot;: true, &quot;fillColor&quot;: &quot;darkred&quot;, &quot;fillOpacity&quot;: 0.8, &quot;fillRule&quot;: &quot;evenodd&quot;, &quot;lineCap&quot;: &quot;round&quot;, &quot;lineJoin&quot;: &quot;round&quot;, &quot;opacity&quot;: 1.0, &quot;radius&quot;: 4, &quot;stroke&quot;: true, &quot;weight&quot;: 1}\n",
       "            ).addTo(feature_group_accd16c10b5c05b7599e9ef80b7ed376);\n",
       "        \n",
       "    \n",
       "            var circle_marker_1272da22c2026083a14d52f057210158 = L.circleMarker(\n",
       "                [28.998407, -13.75125],\n",
       "                {&quot;bubblingMouseEvents&quot;: true, &quot;color&quot;: &quot;darkred&quot;, &quot;dashArray&quot;: null, &quot;dashOffset&quot;: null, &quot;fill&quot;: true, &quot;fillColor&quot;: &quot;darkred&quot;, &quot;fillOpacity&quot;: 0.8, &quot;fillRule&quot;: &quot;evenodd&quot;, &quot;lineCap&quot;: &quot;round&quot;, &quot;lineJoin&quot;: &quot;round&quot;, &quot;opacity&quot;: 1.0, &quot;radius&quot;: 4, &quot;stroke&quot;: true, &quot;weight&quot;: 1}\n",
       "            ).addTo(feature_group_accd16c10b5c05b7599e9ef80b7ed376);\n",
       "        \n",
       "    \n",
       "            var circle_marker_1c5b52718ebe4e2c321a8511e76c45de = L.circleMarker(\n",
       "                [29.027821, -13.813198],\n",
       "                {&quot;bubblingMouseEvents&quot;: true, &quot;color&quot;: &quot;darkred&quot;, &quot;dashArray&quot;: null, &quot;dashOffset&quot;: null, &quot;fill&quot;: true, &quot;fillColor&quot;: &quot;darkred&quot;, &quot;fillOpacity&quot;: 0.8, &quot;fillRule&quot;: &quot;evenodd&quot;, &quot;lineCap&quot;: &quot;round&quot;, &quot;lineJoin&quot;: &quot;round&quot;, &quot;opacity&quot;: 1.0, &quot;radius&quot;: 4, &quot;stroke&quot;: true, &quot;weight&quot;: 1}\n",
       "            ).addTo(feature_group_accd16c10b5c05b7599e9ef80b7ed376);\n",
       "        \n",
       "    \n",
       "            var circle_marker_042570749272bb154009732c7350f372 = L.circleMarker(\n",
       "                [28.998366, -13.744027],\n",
       "                {&quot;bubblingMouseEvents&quot;: true, &quot;color&quot;: &quot;darkred&quot;, &quot;dashArray&quot;: null, &quot;dashOffset&quot;: null, &quot;fill&quot;: true, &quot;fillColor&quot;: &quot;darkred&quot;, &quot;fillOpacity&quot;: 0.8, &quot;fillRule&quot;: &quot;evenodd&quot;, &quot;lineCap&quot;: &quot;round&quot;, &quot;lineJoin&quot;: &quot;round&quot;, &quot;opacity&quot;: 1.0, &quot;radius&quot;: 4, &quot;stroke&quot;: true, &quot;weight&quot;: 1}\n",
       "            ).addTo(feature_group_accd16c10b5c05b7599e9ef80b7ed376);\n",
       "        \n",
       "    \n",
       "            var circle_marker_33a1b87df113a0561e844cb5f8204d76 = L.circleMarker(\n",
       "                [29.040732, -13.76321],\n",
       "                {&quot;bubblingMouseEvents&quot;: true, &quot;color&quot;: &quot;darkred&quot;, &quot;dashArray&quot;: null, &quot;dashOffset&quot;: null, &quot;fill&quot;: true, &quot;fillColor&quot;: &quot;darkred&quot;, &quot;fillOpacity&quot;: 0.8, &quot;fillRule&quot;: &quot;evenodd&quot;, &quot;lineCap&quot;: &quot;round&quot;, &quot;lineJoin&quot;: &quot;round&quot;, &quot;opacity&quot;: 1.0, &quot;radius&quot;: 4, &quot;stroke&quot;: true, &quot;weight&quot;: 1}\n",
       "            ).addTo(feature_group_accd16c10b5c05b7599e9ef80b7ed376);\n",
       "        \n",
       "    \n",
       "            var circle_marker_3c64ed63624638e30daae37d52613528 = L.circleMarker(\n",
       "                [29.023043, -13.743878],\n",
       "                {&quot;bubblingMouseEvents&quot;: true, &quot;color&quot;: &quot;darkred&quot;, &quot;dashArray&quot;: null, &quot;dashOffset&quot;: null, &quot;fill&quot;: true, &quot;fillColor&quot;: &quot;darkred&quot;, &quot;fillOpacity&quot;: 0.8, &quot;fillRule&quot;: &quot;evenodd&quot;, &quot;lineCap&quot;: &quot;round&quot;, &quot;lineJoin&quot;: &quot;round&quot;, &quot;opacity&quot;: 1.0, &quot;radius&quot;: 4, &quot;stroke&quot;: true, &quot;weight&quot;: 1}\n",
       "            ).addTo(feature_group_accd16c10b5c05b7599e9ef80b7ed376);\n",
       "        \n",
       "    \n",
       "            var circle_marker_cd1738dbe9596637843d2f744974837a = L.circleMarker(\n",
       "                [29.015514, -13.775788],\n",
       "                {&quot;bubblingMouseEvents&quot;: true, &quot;color&quot;: &quot;darkred&quot;, &quot;dashArray&quot;: null, &quot;dashOffset&quot;: null, &quot;fill&quot;: true, &quot;fillColor&quot;: &quot;darkred&quot;, &quot;fillOpacity&quot;: 0.8, &quot;fillRule&quot;: &quot;evenodd&quot;, &quot;lineCap&quot;: &quot;round&quot;, &quot;lineJoin&quot;: &quot;round&quot;, &quot;opacity&quot;: 1.0, &quot;radius&quot;: 4, &quot;stroke&quot;: true, &quot;weight&quot;: 1}\n",
       "            ).addTo(feature_group_accd16c10b5c05b7599e9ef80b7ed376);\n",
       "        \n",
       "    \n",
       "            var circle_marker_de4c162109e2faac749a8e3884cda06c = L.circleMarker(\n",
       "                [28.996517, -13.773997],\n",
       "                {&quot;bubblingMouseEvents&quot;: true, &quot;color&quot;: &quot;darkred&quot;, &quot;dashArray&quot;: null, &quot;dashOffset&quot;: null, &quot;fill&quot;: true, &quot;fillColor&quot;: &quot;darkred&quot;, &quot;fillOpacity&quot;: 0.8, &quot;fillRule&quot;: &quot;evenodd&quot;, &quot;lineCap&quot;: &quot;round&quot;, &quot;lineJoin&quot;: &quot;round&quot;, &quot;opacity&quot;: 1.0, &quot;radius&quot;: 4, &quot;stroke&quot;: true, &quot;weight&quot;: 1}\n",
       "            ).addTo(feature_group_accd16c10b5c05b7599e9ef80b7ed376);\n",
       "        \n",
       "    \n",
       "            var circle_marker_f7d7be0a75f2d987afad0a7981f9cbd9 = L.circleMarker(\n",
       "                [27.980849, -15.667449],\n",
       "                {&quot;bubblingMouseEvents&quot;: true, &quot;color&quot;: &quot;darkred&quot;, &quot;dashArray&quot;: null, &quot;dashOffset&quot;: null, &quot;fill&quot;: true, &quot;fillColor&quot;: &quot;darkred&quot;, &quot;fillOpacity&quot;: 0.8, &quot;fillRule&quot;: &quot;evenodd&quot;, &quot;lineCap&quot;: &quot;round&quot;, &quot;lineJoin&quot;: &quot;round&quot;, &quot;opacity&quot;: 1.0, &quot;radius&quot;: 4, &quot;stroke&quot;: true, &quot;weight&quot;: 1}\n",
       "            ).addTo(feature_group_accd16c10b5c05b7599e9ef80b7ed376);\n",
       "        \n",
       "    \n",
       "            var circle_marker_38948d87e15fb053353d96caf3cd9b9c = L.circleMarker(\n",
       "                [27.963041, -15.629441],\n",
       "                {&quot;bubblingMouseEvents&quot;: true, &quot;color&quot;: &quot;darkred&quot;, &quot;dashArray&quot;: null, &quot;dashOffset&quot;: null, &quot;fill&quot;: true, &quot;fillColor&quot;: &quot;darkred&quot;, &quot;fillOpacity&quot;: 0.8, &quot;fillRule&quot;: &quot;evenodd&quot;, &quot;lineCap&quot;: &quot;round&quot;, &quot;lineJoin&quot;: &quot;round&quot;, &quot;opacity&quot;: 1.0, &quot;radius&quot;: 4, &quot;stroke&quot;: true, &quot;weight&quot;: 1}\n",
       "            ).addTo(feature_group_accd16c10b5c05b7599e9ef80b7ed376);\n",
       "        \n",
       "    \n",
       "            var circle_marker_7ca39801dc1f4c6c1e492716a8df2364 = L.circleMarker(\n",
       "                [27.953758, -15.654537],\n",
       "                {&quot;bubblingMouseEvents&quot;: true, &quot;color&quot;: &quot;darkred&quot;, &quot;dashArray&quot;: null, &quot;dashOffset&quot;: null, &quot;fill&quot;: true, &quot;fillColor&quot;: &quot;darkred&quot;, &quot;fillOpacity&quot;: 0.8, &quot;fillRule&quot;: &quot;evenodd&quot;, &quot;lineCap&quot;: &quot;round&quot;, &quot;lineJoin&quot;: &quot;round&quot;, &quot;opacity&quot;: 1.0, &quot;radius&quot;: 4, &quot;stroke&quot;: true, &quot;weight&quot;: 1}\n",
       "            ).addTo(feature_group_accd16c10b5c05b7599e9ef80b7ed376);\n",
       "        \n",
       "    \n",
       "            var circle_marker_6883a1955852cb4c5401dfc397bb4eee = L.circleMarker(\n",
       "                [27.997633, -15.6512921],\n",
       "                {&quot;bubblingMouseEvents&quot;: true, &quot;color&quot;: &quot;darkred&quot;, &quot;dashArray&quot;: null, &quot;dashOffset&quot;: null, &quot;fill&quot;: true, &quot;fillColor&quot;: &quot;darkred&quot;, &quot;fillOpacity&quot;: 0.8, &quot;fillRule&quot;: &quot;evenodd&quot;, &quot;lineCap&quot;: &quot;round&quot;, &quot;lineJoin&quot;: &quot;round&quot;, &quot;opacity&quot;: 1.0, &quot;radius&quot;: 4, &quot;stroke&quot;: true, &quot;weight&quot;: 1}\n",
       "            ).addTo(feature_group_accd16c10b5c05b7599e9ef80b7ed376);\n",
       "        \n",
       "    \n",
       "            var circle_marker_470573ac8f4389ca0f381295e5f0dca9 = L.circleMarker(\n",
       "                [28.0070525, -15.6001487],\n",
       "                {&quot;bubblingMouseEvents&quot;: true, &quot;color&quot;: &quot;darkred&quot;, &quot;dashArray&quot;: null, &quot;dashOffset&quot;: null, &quot;fill&quot;: true, &quot;fillColor&quot;: &quot;darkred&quot;, &quot;fillOpacity&quot;: 0.8, &quot;fillRule&quot;: &quot;evenodd&quot;, &quot;lineCap&quot;: &quot;round&quot;, &quot;lineJoin&quot;: &quot;round&quot;, &quot;opacity&quot;: 1.0, &quot;radius&quot;: 4, &quot;stroke&quot;: true, &quot;weight&quot;: 1}\n",
       "            ).addTo(feature_group_accd16c10b5c05b7599e9ef80b7ed376);\n",
       "        \n",
       "    \n",
       "            var circle_marker_7f5cb74432932efc1e1644478c7f3059 = L.circleMarker(\n",
       "                [27.988144, -15.5936635],\n",
       "                {&quot;bubblingMouseEvents&quot;: true, &quot;color&quot;: &quot;darkred&quot;, &quot;dashArray&quot;: null, &quot;dashOffset&quot;: null, &quot;fill&quot;: true, &quot;fillColor&quot;: &quot;darkred&quot;, &quot;fillOpacity&quot;: 0.8, &quot;fillRule&quot;: &quot;evenodd&quot;, &quot;lineCap&quot;: &quot;round&quot;, &quot;lineJoin&quot;: &quot;round&quot;, &quot;opacity&quot;: 1.0, &quot;radius&quot;: 4, &quot;stroke&quot;: true, &quot;weight&quot;: 1}\n",
       "            ).addTo(feature_group_accd16c10b5c05b7599e9ef80b7ed376);\n",
       "        \n",
       "    \n",
       "            var circle_marker_8b1a3a6ddcb36589a59bf1b1200f8ac4 = L.circleMarker(\n",
       "                [27.992993, -15.60984],\n",
       "                {&quot;bubblingMouseEvents&quot;: true, &quot;color&quot;: &quot;darkred&quot;, &quot;dashArray&quot;: null, &quot;dashOffset&quot;: null, &quot;fill&quot;: true, &quot;fillColor&quot;: &quot;darkred&quot;, &quot;fillOpacity&quot;: 0.8, &quot;fillRule&quot;: &quot;evenodd&quot;, &quot;lineCap&quot;: &quot;round&quot;, &quot;lineJoin&quot;: &quot;round&quot;, &quot;opacity&quot;: 1.0, &quot;radius&quot;: 4, &quot;stroke&quot;: true, &quot;weight&quot;: 1}\n",
       "            ).addTo(feature_group_accd16c10b5c05b7599e9ef80b7ed376);\n",
       "        \n",
       "    \n",
       "            var circle_marker_93246b7812d28c3b9fb95a33e2c84382 = L.circleMarker(\n",
       "                [27.9762799448, -15.6185388466],\n",
       "                {&quot;bubblingMouseEvents&quot;: true, &quot;color&quot;: &quot;darkred&quot;, &quot;dashArray&quot;: null, &quot;dashOffset&quot;: null, &quot;fill&quot;: true, &quot;fillColor&quot;: &quot;darkred&quot;, &quot;fillOpacity&quot;: 0.8, &quot;fillRule&quot;: &quot;evenodd&quot;, &quot;lineCap&quot;: &quot;round&quot;, &quot;lineJoin&quot;: &quot;round&quot;, &quot;opacity&quot;: 1.0, &quot;radius&quot;: 4, &quot;stroke&quot;: true, &quot;weight&quot;: 1}\n",
       "            ).addTo(feature_group_accd16c10b5c05b7599e9ef80b7ed376);\n",
       "        \n",
       "    \n",
       "            var circle_marker_dc90426f84d6cfa473aeb4c809bef491 = L.circleMarker(\n",
       "                [27.904553, -15.640405],\n",
       "                {&quot;bubblingMouseEvents&quot;: true, &quot;color&quot;: &quot;darkred&quot;, &quot;dashArray&quot;: null, &quot;dashOffset&quot;: null, &quot;fill&quot;: true, &quot;fillColor&quot;: &quot;darkred&quot;, &quot;fillOpacity&quot;: 0.8, &quot;fillRule&quot;: &quot;evenodd&quot;, &quot;lineCap&quot;: &quot;round&quot;, &quot;lineJoin&quot;: &quot;round&quot;, &quot;opacity&quot;: 1.0, &quot;radius&quot;: 4, &quot;stroke&quot;: true, &quot;weight&quot;: 1}\n",
       "            ).addTo(feature_group_accd16c10b5c05b7599e9ef80b7ed376);\n",
       "        \n",
       "    \n",
       "            var circle_marker_f64ef0b60cb9cf82074c239a2c3b301a = L.circleMarker(\n",
       "                [27.964264, -15.563332],\n",
       "                {&quot;bubblingMouseEvents&quot;: true, &quot;color&quot;: &quot;darkred&quot;, &quot;dashArray&quot;: null, &quot;dashOffset&quot;: null, &quot;fill&quot;: true, &quot;fillColor&quot;: &quot;darkred&quot;, &quot;fillOpacity&quot;: 0.8, &quot;fillRule&quot;: &quot;evenodd&quot;, &quot;lineCap&quot;: &quot;round&quot;, &quot;lineJoin&quot;: &quot;round&quot;, &quot;opacity&quot;: 1.0, &quot;radius&quot;: 4, &quot;stroke&quot;: true, &quot;weight&quot;: 1}\n",
       "            ).addTo(feature_group_accd16c10b5c05b7599e9ef80b7ed376);\n",
       "        \n",
       "    \n",
       "            var circle_marker_8efe1517f7a1439e9fc610f684a948e4 = L.circleMarker(\n",
       "                [27.980204, -15.619976],\n",
       "                {&quot;bubblingMouseEvents&quot;: true, &quot;color&quot;: &quot;darkred&quot;, &quot;dashArray&quot;: null, &quot;dashOffset&quot;: null, &quot;fill&quot;: true, &quot;fillColor&quot;: &quot;darkred&quot;, &quot;fillOpacity&quot;: 0.8, &quot;fillRule&quot;: &quot;evenodd&quot;, &quot;lineCap&quot;: &quot;round&quot;, &quot;lineJoin&quot;: &quot;round&quot;, &quot;opacity&quot;: 1.0, &quot;radius&quot;: 4, &quot;stroke&quot;: true, &quot;weight&quot;: 1}\n",
       "            ).addTo(feature_group_accd16c10b5c05b7599e9ef80b7ed376);\n",
       "        \n",
       "    \n",
       "            var circle_marker_86c8b8e96b7617115e326863aab7b1ba = L.circleMarker(\n",
       "                [27.99019, -15.636415],\n",
       "                {&quot;bubblingMouseEvents&quot;: true, &quot;color&quot;: &quot;darkred&quot;, &quot;dashArray&quot;: null, &quot;dashOffset&quot;: null, &quot;fill&quot;: true, &quot;fillColor&quot;: &quot;darkred&quot;, &quot;fillOpacity&quot;: 0.8, &quot;fillRule&quot;: &quot;evenodd&quot;, &quot;lineCap&quot;: &quot;round&quot;, &quot;lineJoin&quot;: &quot;round&quot;, &quot;opacity&quot;: 1.0, &quot;radius&quot;: 4, &quot;stroke&quot;: true, &quot;weight&quot;: 1}\n",
       "            ).addTo(feature_group_accd16c10b5c05b7599e9ef80b7ed376);\n",
       "        \n",
       "    \n",
       "            var circle_marker_6585c4aeed08a488985a9503bae85a00 = L.circleMarker(\n",
       "                [32.738824, -16.934545],\n",
       "                {&quot;bubblingMouseEvents&quot;: true, &quot;color&quot;: &quot;darkred&quot;, &quot;dashArray&quot;: null, &quot;dashOffset&quot;: null, &quot;fill&quot;: true, &quot;fillColor&quot;: &quot;darkred&quot;, &quot;fillOpacity&quot;: 0.8, &quot;fillRule&quot;: &quot;evenodd&quot;, &quot;lineCap&quot;: &quot;round&quot;, &quot;lineJoin&quot;: &quot;round&quot;, &quot;opacity&quot;: 1.0, &quot;radius&quot;: 4, &quot;stroke&quot;: true, &quot;weight&quot;: 1}\n",
       "            ).addTo(feature_group_accd16c10b5c05b7599e9ef80b7ed376);\n",
       "        \n",
       "    \n",
       "            var circle_marker_d1bae6e8e7c77118db676a6f7f53333f = L.circleMarker(\n",
       "                [32.722568, -16.91676],\n",
       "                {&quot;bubblingMouseEvents&quot;: true, &quot;color&quot;: &quot;darkred&quot;, &quot;dashArray&quot;: null, &quot;dashOffset&quot;: null, &quot;fill&quot;: true, &quot;fillColor&quot;: &quot;darkred&quot;, &quot;fillOpacity&quot;: 0.8, &quot;fillRule&quot;: &quot;evenodd&quot;, &quot;lineCap&quot;: &quot;round&quot;, &quot;lineJoin&quot;: &quot;round&quot;, &quot;opacity&quot;: 1.0, &quot;radius&quot;: 4, &quot;stroke&quot;: true, &quot;weight&quot;: 1}\n",
       "            ).addTo(feature_group_accd16c10b5c05b7599e9ef80b7ed376);\n",
       "        \n",
       "    \n",
       "            var circle_marker_35078d4adc3e9d31d5cc47d42f8de8dc = L.circleMarker(\n",
       "                [32.72807, -16.884688],\n",
       "                {&quot;bubblingMouseEvents&quot;: true, &quot;color&quot;: &quot;darkred&quot;, &quot;dashArray&quot;: null, &quot;dashOffset&quot;: null, &quot;fill&quot;: true, &quot;fillColor&quot;: &quot;darkred&quot;, &quot;fillOpacity&quot;: 0.8, &quot;fillRule&quot;: &quot;evenodd&quot;, &quot;lineCap&quot;: &quot;round&quot;, &quot;lineJoin&quot;: &quot;round&quot;, &quot;opacity&quot;: 1.0, &quot;radius&quot;: 4, &quot;stroke&quot;: true, &quot;weight&quot;: 1}\n",
       "            ).addTo(feature_group_accd16c10b5c05b7599e9ef80b7ed376);\n",
       "        \n",
       "    \n",
       "            var circle_marker_bbf6d0cc160b689407cd57217229bfe2 = L.circleMarker(\n",
       "                [32.706667, -16.92],\n",
       "                {&quot;bubblingMouseEvents&quot;: true, &quot;color&quot;: &quot;darkred&quot;, &quot;dashArray&quot;: null, &quot;dashOffset&quot;: null, &quot;fill&quot;: true, &quot;fillColor&quot;: &quot;darkred&quot;, &quot;fillOpacity&quot;: 0.8, &quot;fillRule&quot;: &quot;evenodd&quot;, &quot;lineCap&quot;: &quot;round&quot;, &quot;lineJoin&quot;: &quot;round&quot;, &quot;opacity&quot;: 1.0, &quot;radius&quot;: 4, &quot;stroke&quot;: true, &quot;weight&quot;: 1}\n",
       "            ).addTo(feature_group_accd16c10b5c05b7599e9ef80b7ed376);\n",
       "        \n",
       "    \n",
       "            var circle_marker_4a13e8a855238e6b018dae56db69ff24 = L.circleMarker(\n",
       "                [32.693056, -16.902778],\n",
       "                {&quot;bubblingMouseEvents&quot;: true, &quot;color&quot;: &quot;darkred&quot;, &quot;dashArray&quot;: null, &quot;dashOffset&quot;: null, &quot;fill&quot;: true, &quot;fillColor&quot;: &quot;darkred&quot;, &quot;fillOpacity&quot;: 0.8, &quot;fillRule&quot;: &quot;evenodd&quot;, &quot;lineCap&quot;: &quot;round&quot;, &quot;lineJoin&quot;: &quot;round&quot;, &quot;opacity&quot;: 1.0, &quot;radius&quot;: 4, &quot;stroke&quot;: true, &quot;weight&quot;: 1}\n",
       "            ).addTo(feature_group_accd16c10b5c05b7599e9ef80b7ed376);\n",
       "        \n",
       "    \n",
       "            var circle_marker_5afdb119c4bf3e48888f5b63a89e0d04 = L.circleMarker(\n",
       "                [28.748385, -17.892681],\n",
       "                {&quot;bubblingMouseEvents&quot;: true, &quot;color&quot;: &quot;darkred&quot;, &quot;dashArray&quot;: null, &quot;dashOffset&quot;: null, &quot;fill&quot;: true, &quot;fillColor&quot;: &quot;darkred&quot;, &quot;fillOpacity&quot;: 0.8, &quot;fillRule&quot;: &quot;evenodd&quot;, &quot;lineCap&quot;: &quot;round&quot;, &quot;lineJoin&quot;: &quot;round&quot;, &quot;opacity&quot;: 1.0, &quot;radius&quot;: 4, &quot;stroke&quot;: true, &quot;weight&quot;: 1}\n",
       "            ).addTo(feature_group_accd16c10b5c05b7599e9ef80b7ed376);\n",
       "        \n",
       "    \n",
       "            var circle_marker_99f803b719bcd56c97d7f21e6995d0fc = L.circleMarker(\n",
       "                [28.7717383906, -17.969035185],\n",
       "                {&quot;bubblingMouseEvents&quot;: true, &quot;color&quot;: &quot;darkred&quot;, &quot;dashArray&quot;: null, &quot;dashOffset&quot;: null, &quot;fill&quot;: true, &quot;fillColor&quot;: &quot;darkred&quot;, &quot;fillOpacity&quot;: 0.8, &quot;fillRule&quot;: &quot;evenodd&quot;, &quot;lineCap&quot;: &quot;round&quot;, &quot;lineJoin&quot;: &quot;round&quot;, &quot;opacity&quot;: 1.0, &quot;radius&quot;: 4, &quot;stroke&quot;: true, &quot;weight&quot;: 1}\n",
       "            ).addTo(feature_group_accd16c10b5c05b7599e9ef80b7ed376);\n",
       "        \n",
       "    \n",
       "            var circle_marker_1517bbf952d141daaaa5214c53f5106f = L.circleMarker(\n",
       "                [28.759828, -17.988503],\n",
       "                {&quot;bubblingMouseEvents&quot;: true, &quot;color&quot;: &quot;darkred&quot;, &quot;dashArray&quot;: null, &quot;dashOffset&quot;: null, &quot;fill&quot;: true, &quot;fillColor&quot;: &quot;darkred&quot;, &quot;fillOpacity&quot;: 0.8, &quot;fillRule&quot;: &quot;evenodd&quot;, &quot;lineCap&quot;: &quot;round&quot;, &quot;lineJoin&quot;: &quot;round&quot;, &quot;opacity&quot;: 1.0, &quot;radius&quot;: 4, &quot;stroke&quot;: true, &quot;weight&quot;: 1}\n",
       "            ).addTo(feature_group_accd16c10b5c05b7599e9ef80b7ed376);\n",
       "        \n",
       "    \n",
       "            var circle_marker_f12f8e3a374b52457ec74abe45d0b4bd = L.circleMarker(\n",
       "                [28.7600537, -17.8822121],\n",
       "                {&quot;bubblingMouseEvents&quot;: true, &quot;color&quot;: &quot;darkred&quot;, &quot;dashArray&quot;: null, &quot;dashOffset&quot;: null, &quot;fill&quot;: true, &quot;fillColor&quot;: &quot;darkred&quot;, &quot;fillOpacity&quot;: 0.8, &quot;fillRule&quot;: &quot;evenodd&quot;, &quot;lineCap&quot;: &quot;round&quot;, &quot;lineJoin&quot;: &quot;round&quot;, &quot;opacity&quot;: 1.0, &quot;radius&quot;: 4, &quot;stroke&quot;: true, &quot;weight&quot;: 1}\n",
       "            ).addTo(feature_group_accd16c10b5c05b7599e9ef80b7ed376);\n",
       "        \n",
       "    \n",
       "            var circle_marker_476c3c8d569d61ce65e5fe00abaea58a = L.circleMarker(\n",
       "                [28.786617, -17.764352],\n",
       "                {&quot;bubblingMouseEvents&quot;: true, &quot;color&quot;: &quot;darkred&quot;, &quot;dashArray&quot;: null, &quot;dashOffset&quot;: null, &quot;fill&quot;: true, &quot;fillColor&quot;: &quot;darkred&quot;, &quot;fillOpacity&quot;: 0.8, &quot;fillRule&quot;: &quot;evenodd&quot;, &quot;lineCap&quot;: &quot;round&quot;, &quot;lineJoin&quot;: &quot;round&quot;, &quot;opacity&quot;: 1.0, &quot;radius&quot;: 4, &quot;stroke&quot;: true, &quot;weight&quot;: 1}\n",
       "            ).addTo(feature_group_accd16c10b5c05b7599e9ef80b7ed376);\n",
       "        \n",
       "    \n",
       "            var circle_marker_11aa47465874a10ae2f55ccc58471da3 = L.circleMarker(\n",
       "                [28.766375, -17.900524],\n",
       "                {&quot;bubblingMouseEvents&quot;: true, &quot;color&quot;: &quot;darkred&quot;, &quot;dashArray&quot;: null, &quot;dashOffset&quot;: null, &quot;fill&quot;: true, &quot;fillColor&quot;: &quot;darkred&quot;, &quot;fillOpacity&quot;: 0.8, &quot;fillRule&quot;: &quot;evenodd&quot;, &quot;lineCap&quot;: &quot;round&quot;, &quot;lineJoin&quot;: &quot;round&quot;, &quot;opacity&quot;: 1.0, &quot;radius&quot;: 4, &quot;stroke&quot;: true, &quot;weight&quot;: 1}\n",
       "            ).addTo(feature_group_accd16c10b5c05b7599e9ef80b7ed376);\n",
       "        \n",
       "    \n",
       "            var circle_marker_188f1b80ed69ac4cd646287daed075a3 = L.circleMarker(\n",
       "                [28.737851, -17.835458],\n",
       "                {&quot;bubblingMouseEvents&quot;: true, &quot;color&quot;: &quot;darkred&quot;, &quot;dashArray&quot;: null, &quot;dashOffset&quot;: null, &quot;fill&quot;: true, &quot;fillColor&quot;: &quot;darkred&quot;, &quot;fillOpacity&quot;: 0.8, &quot;fillRule&quot;: &quot;evenodd&quot;, &quot;lineCap&quot;: &quot;round&quot;, &quot;lineJoin&quot;: &quot;round&quot;, &quot;opacity&quot;: 1.0, &quot;radius&quot;: 4, &quot;stroke&quot;: true, &quot;weight&quot;: 1}\n",
       "            ).addTo(feature_group_accd16c10b5c05b7599e9ef80b7ed376);\n",
       "        \n",
       "    \n",
       "            var circle_marker_7f4183438c1389b2ebae9474e230736f = L.circleMarker(\n",
       "                [28.753459, -17.937312],\n",
       "                {&quot;bubblingMouseEvents&quot;: true, &quot;color&quot;: &quot;darkred&quot;, &quot;dashArray&quot;: null, &quot;dashOffset&quot;: null, &quot;fill&quot;: true, &quot;fillColor&quot;: &quot;darkred&quot;, &quot;fillOpacity&quot;: 0.8, &quot;fillRule&quot;: &quot;evenodd&quot;, &quot;lineCap&quot;: &quot;round&quot;, &quot;lineJoin&quot;: &quot;round&quot;, &quot;opacity&quot;: 1.0, &quot;radius&quot;: 4, &quot;stroke&quot;: true, &quot;weight&quot;: 1}\n",
       "            ).addTo(feature_group_accd16c10b5c05b7599e9ef80b7ed376);\n",
       "        \n",
       "    \n",
       "            var circle_marker_373b91901e798e0e9f92df55881873a1 = L.circleMarker(\n",
       "                [28.762313, -17.948976],\n",
       "                {&quot;bubblingMouseEvents&quot;: true, &quot;color&quot;: &quot;darkred&quot;, &quot;dashArray&quot;: null, &quot;dashOffset&quot;: null, &quot;fill&quot;: true, &quot;fillColor&quot;: &quot;darkred&quot;, &quot;fillOpacity&quot;: 0.8, &quot;fillRule&quot;: &quot;evenodd&quot;, &quot;lineCap&quot;: &quot;round&quot;, &quot;lineJoin&quot;: &quot;round&quot;, &quot;opacity&quot;: 1.0, &quot;radius&quot;: 4, &quot;stroke&quot;: true, &quot;weight&quot;: 1}\n",
       "            ).addTo(feature_group_accd16c10b5c05b7599e9ef80b7ed376);\n",
       "        \n",
       "    \n",
       "            var circle_marker_41cfdb9088848a20bcccdda5482217d9 = L.circleMarker(\n",
       "                [28.830375, -17.932397],\n",
       "                {&quot;bubblingMouseEvents&quot;: true, &quot;color&quot;: &quot;darkred&quot;, &quot;dashArray&quot;: null, &quot;dashOffset&quot;: null, &quot;fill&quot;: true, &quot;fillColor&quot;: &quot;darkred&quot;, &quot;fillOpacity&quot;: 0.8, &quot;fillRule&quot;: &quot;evenodd&quot;, &quot;lineCap&quot;: &quot;round&quot;, &quot;lineJoin&quot;: &quot;round&quot;, &quot;opacity&quot;: 1.0, &quot;radius&quot;: 4, &quot;stroke&quot;: true, &quot;weight&quot;: 1}\n",
       "            ).addTo(feature_group_accd16c10b5c05b7599e9ef80b7ed376);\n",
       "        \n",
       "    \n",
       "            var circle_marker_5b4957196e46ff6e9da1c542c78d7a24 = L.circleMarker(\n",
       "                [28.77749928, -17.98135472],\n",
       "                {&quot;bubblingMouseEvents&quot;: true, &quot;color&quot;: &quot;darkred&quot;, &quot;dashArray&quot;: null, &quot;dashOffset&quot;: null, &quot;fill&quot;: true, &quot;fillColor&quot;: &quot;darkred&quot;, &quot;fillOpacity&quot;: 0.8, &quot;fillRule&quot;: &quot;evenodd&quot;, &quot;lineCap&quot;: &quot;round&quot;, &quot;lineJoin&quot;: &quot;round&quot;, &quot;opacity&quot;: 1.0, &quot;radius&quot;: 4, &quot;stroke&quot;: true, &quot;weight&quot;: 1}\n",
       "            ).addTo(feature_group_accd16c10b5c05b7599e9ef80b7ed376);\n",
       "        \n",
       "    \n",
       "            var circle_marker_8dbb89def543e5bb9aa758f9804dd302 = L.circleMarker(\n",
       "                [28.757277, -17.884964],\n",
       "                {&quot;bubblingMouseEvents&quot;: true, &quot;color&quot;: &quot;darkred&quot;, &quot;dashArray&quot;: null, &quot;dashOffset&quot;: null, &quot;fill&quot;: true, &quot;fillColor&quot;: &quot;darkred&quot;, &quot;fillOpacity&quot;: 0.8, &quot;fillRule&quot;: &quot;evenodd&quot;, &quot;lineCap&quot;: &quot;round&quot;, &quot;lineJoin&quot;: &quot;round&quot;, &quot;opacity&quot;: 1.0, &quot;radius&quot;: 4, &quot;stroke&quot;: true, &quot;weight&quot;: 1}\n",
       "            ).addTo(feature_group_accd16c10b5c05b7599e9ef80b7ed376);\n",
       "        \n",
       "    \n",
       "            var circle_marker_b93ffdfd9e5f27ef76d45a42d71d2c40 = L.circleMarker(\n",
       "                [28.7543072, -17.8533388],\n",
       "                {&quot;bubblingMouseEvents&quot;: true, &quot;color&quot;: &quot;darkred&quot;, &quot;dashArray&quot;: null, &quot;dashOffset&quot;: null, &quot;fill&quot;: true, &quot;fillColor&quot;: &quot;darkred&quot;, &quot;fillOpacity&quot;: 0.8, &quot;fillRule&quot;: &quot;evenodd&quot;, &quot;lineCap&quot;: &quot;round&quot;, &quot;lineJoin&quot;: &quot;round&quot;, &quot;opacity&quot;: 1.0, &quot;radius&quot;: 4, &quot;stroke&quot;: true, &quot;weight&quot;: 1}\n",
       "            ).addTo(feature_group_accd16c10b5c05b7599e9ef80b7ed376);\n",
       "        \n",
       "    \n",
       "            var circle_marker_fe821fd1dc7f0422bb79d1a759596cc3 = L.circleMarker(\n",
       "                [28.761198, -17.878082],\n",
       "                {&quot;bubblingMouseEvents&quot;: true, &quot;color&quot;: &quot;darkred&quot;, &quot;dashArray&quot;: null, &quot;dashOffset&quot;: null, &quot;fill&quot;: true, &quot;fillColor&quot;: &quot;darkred&quot;, &quot;fillOpacity&quot;: 0.8, &quot;fillRule&quot;: &quot;evenodd&quot;, &quot;lineCap&quot;: &quot;round&quot;, &quot;lineJoin&quot;: &quot;round&quot;, &quot;opacity&quot;: 1.0, &quot;radius&quot;: 4, &quot;stroke&quot;: true, &quot;weight&quot;: 1}\n",
       "            ).addTo(feature_group_accd16c10b5c05b7599e9ef80b7ed376);\n",
       "        \n",
       "    \n",
       "            var circle_marker_24320e5195dfac67e7ff5c4014c89375 = L.circleMarker(\n",
       "                [39.828062, -6.052131],\n",
       "                {&quot;bubblingMouseEvents&quot;: true, &quot;color&quot;: &quot;darkred&quot;, &quot;dashArray&quot;: null, &quot;dashOffset&quot;: null, &quot;fill&quot;: true, &quot;fillColor&quot;: &quot;darkred&quot;, &quot;fillOpacity&quot;: 0.8, &quot;fillRule&quot;: &quot;evenodd&quot;, &quot;lineCap&quot;: &quot;round&quot;, &quot;lineJoin&quot;: &quot;round&quot;, &quot;opacity&quot;: 1.0, &quot;radius&quot;: 4, &quot;stroke&quot;: true, &quot;weight&quot;: 1}\n",
       "            ).addTo(feature_group_accd16c10b5c05b7599e9ef80b7ed376);\n",
       "        \n",
       "    \n",
       "            var circle_marker_b662de26a929ceb5704c033b15e703a2 = L.circleMarker(\n",
       "                [39.847894, -6.027444],\n",
       "                {&quot;bubblingMouseEvents&quot;: true, &quot;color&quot;: &quot;darkred&quot;, &quot;dashArray&quot;: null, &quot;dashOffset&quot;: null, &quot;fill&quot;: true, &quot;fillColor&quot;: &quot;darkred&quot;, &quot;fillOpacity&quot;: 0.8, &quot;fillRule&quot;: &quot;evenodd&quot;, &quot;lineCap&quot;: &quot;round&quot;, &quot;lineJoin&quot;: &quot;round&quot;, &quot;opacity&quot;: 1.0, &quot;radius&quot;: 4, &quot;stroke&quot;: true, &quot;weight&quot;: 1}\n",
       "            ).addTo(feature_group_accd16c10b5c05b7599e9ef80b7ed376);\n",
       "        \n",
       "    \n",
       "            var circle_marker_6fd54e35f8d7dfca1027a860d60c8445 = L.circleMarker(\n",
       "                [39.781005, -6.016226],\n",
       "                {&quot;bubblingMouseEvents&quot;: true, &quot;color&quot;: &quot;darkred&quot;, &quot;dashArray&quot;: null, &quot;dashOffset&quot;: null, &quot;fill&quot;: true, &quot;fillColor&quot;: &quot;darkred&quot;, &quot;fillOpacity&quot;: 0.8, &quot;fillRule&quot;: &quot;evenodd&quot;, &quot;lineCap&quot;: &quot;round&quot;, &quot;lineJoin&quot;: &quot;round&quot;, &quot;opacity&quot;: 1.0, &quot;radius&quot;: 4, &quot;stroke&quot;: true, &quot;weight&quot;: 1}\n",
       "            ).addTo(feature_group_accd16c10b5c05b7599e9ef80b7ed376);\n",
       "        \n",
       "    \n",
       "            var circle_marker_b077ad5e747cf26da0b605fb06633d08 = L.circleMarker(\n",
       "                [39.781005, -6.016226],\n",
       "                {&quot;bubblingMouseEvents&quot;: true, &quot;color&quot;: &quot;darkred&quot;, &quot;dashArray&quot;: null, &quot;dashOffset&quot;: null, &quot;fill&quot;: true, &quot;fillColor&quot;: &quot;darkred&quot;, &quot;fillOpacity&quot;: 0.8, &quot;fillRule&quot;: &quot;evenodd&quot;, &quot;lineCap&quot;: &quot;round&quot;, &quot;lineJoin&quot;: &quot;round&quot;, &quot;opacity&quot;: 1.0, &quot;radius&quot;: 4, &quot;stroke&quot;: true, &quot;weight&quot;: 1}\n",
       "            ).addTo(feature_group_accd16c10b5c05b7599e9ef80b7ed376);\n",
       "        \n",
       "    \n",
       "            var circle_marker_08b91c32426b032d04a34e56dbae8eeb = L.circleMarker(\n",
       "                [38.327972, -6.534194],\n",
       "                {&quot;bubblingMouseEvents&quot;: true, &quot;color&quot;: &quot;darkred&quot;, &quot;dashArray&quot;: null, &quot;dashOffset&quot;: null, &quot;fill&quot;: true, &quot;fillColor&quot;: &quot;darkred&quot;, &quot;fillOpacity&quot;: 0.8, &quot;fillRule&quot;: &quot;evenodd&quot;, &quot;lineCap&quot;: &quot;round&quot;, &quot;lineJoin&quot;: &quot;round&quot;, &quot;opacity&quot;: 1.0, &quot;radius&quot;: 4, &quot;stroke&quot;: true, &quot;weight&quot;: 1}\n",
       "            ).addTo(feature_group_accd16c10b5c05b7599e9ef80b7ed376);\n",
       "        \n",
       "    \n",
       "            var circle_marker_b77a790c8e5f00f68d5e0c38a93cbed5 = L.circleMarker(\n",
       "                [38.319694, -6.556972],\n",
       "                {&quot;bubblingMouseEvents&quot;: true, &quot;color&quot;: &quot;darkred&quot;, &quot;dashArray&quot;: null, &quot;dashOffset&quot;: null, &quot;fill&quot;: true, &quot;fillColor&quot;: &quot;darkred&quot;, &quot;fillOpacity&quot;: 0.8, &quot;fillRule&quot;: &quot;evenodd&quot;, &quot;lineCap&quot;: &quot;round&quot;, &quot;lineJoin&quot;: &quot;round&quot;, &quot;opacity&quot;: 1.0, &quot;radius&quot;: 4, &quot;stroke&quot;: true, &quot;weight&quot;: 1}\n",
       "            ).addTo(feature_group_accd16c10b5c05b7599e9ef80b7ed376);\n",
       "        \n",
       "    \n",
       "            var circle_marker_0a7753869b2efa6916a3823053289c3b = L.circleMarker(\n",
       "                [38.325972, -6.530667],\n",
       "                {&quot;bubblingMouseEvents&quot;: true, &quot;color&quot;: &quot;darkred&quot;, &quot;dashArray&quot;: null, &quot;dashOffset&quot;: null, &quot;fill&quot;: true, &quot;fillColor&quot;: &quot;darkred&quot;, &quot;fillOpacity&quot;: 0.8, &quot;fillRule&quot;: &quot;evenodd&quot;, &quot;lineCap&quot;: &quot;round&quot;, &quot;lineJoin&quot;: &quot;round&quot;, &quot;opacity&quot;: 1.0, &quot;radius&quot;: 4, &quot;stroke&quot;: true, &quot;weight&quot;: 1}\n",
       "            ).addTo(feature_group_accd16c10b5c05b7599e9ef80b7ed376);\n",
       "        \n",
       "    \n",
       "            var circle_marker_b00974e162ef7bada926c9b50e9f3421 = L.circleMarker(\n",
       "                [38.325556, -6.536417],\n",
       "                {&quot;bubblingMouseEvents&quot;: true, &quot;color&quot;: &quot;darkred&quot;, &quot;dashArray&quot;: null, &quot;dashOffset&quot;: null, &quot;fill&quot;: true, &quot;fillColor&quot;: &quot;darkred&quot;, &quot;fillOpacity&quot;: 0.8, &quot;fillRule&quot;: &quot;evenodd&quot;, &quot;lineCap&quot;: &quot;round&quot;, &quot;lineJoin&quot;: &quot;round&quot;, &quot;opacity&quot;: 1.0, &quot;radius&quot;: 4, &quot;stroke&quot;: true, &quot;weight&quot;: 1}\n",
       "            ).addTo(feature_group_accd16c10b5c05b7599e9ef80b7ed376);\n",
       "        \n",
       "    \n",
       "            var circle_marker_df566829f84d8f156f3d8bc372132ac4 = L.circleMarker(\n",
       "                [38.329417, -6.535972],\n",
       "                {&quot;bubblingMouseEvents&quot;: true, &quot;color&quot;: &quot;darkred&quot;, &quot;dashArray&quot;: null, &quot;dashOffset&quot;: null, &quot;fill&quot;: true, &quot;fillColor&quot;: &quot;darkred&quot;, &quot;fillOpacity&quot;: 0.8, &quot;fillRule&quot;: &quot;evenodd&quot;, &quot;lineCap&quot;: &quot;round&quot;, &quot;lineJoin&quot;: &quot;round&quot;, &quot;opacity&quot;: 1.0, &quot;radius&quot;: 4, &quot;stroke&quot;: true, &quot;weight&quot;: 1}\n",
       "            ).addTo(feature_group_accd16c10b5c05b7599e9ef80b7ed376);\n",
       "        \n",
       "    \n",
       "            var circle_marker_20c3709631167d5961bdf8f37ab505eb = L.circleMarker(\n",
       "                [38.39630763, -6.402277772],\n",
       "                {&quot;bubblingMouseEvents&quot;: true, &quot;color&quot;: &quot;darkred&quot;, &quot;dashArray&quot;: null, &quot;dashOffset&quot;: null, &quot;fill&quot;: true, &quot;fillColor&quot;: &quot;darkred&quot;, &quot;fillOpacity&quot;: 0.8, &quot;fillRule&quot;: &quot;evenodd&quot;, &quot;lineCap&quot;: &quot;round&quot;, &quot;lineJoin&quot;: &quot;round&quot;, &quot;opacity&quot;: 1.0, &quot;radius&quot;: 4, &quot;stroke&quot;: true, &quot;weight&quot;: 1}\n",
       "            ).addTo(feature_group_accd16c10b5c05b7599e9ef80b7ed376);\n",
       "        \n",
       "    \n",
       "            var circle_marker_c4248c7efcfa50a25ac00aa24d93607a = L.circleMarker(\n",
       "                [38.31708, -6.52631],\n",
       "                {&quot;bubblingMouseEvents&quot;: true, &quot;color&quot;: &quot;darkred&quot;, &quot;dashArray&quot;: null, &quot;dashOffset&quot;: null, &quot;fill&quot;: true, &quot;fillColor&quot;: &quot;darkred&quot;, &quot;fillOpacity&quot;: 0.8, &quot;fillRule&quot;: &quot;evenodd&quot;, &quot;lineCap&quot;: &quot;round&quot;, &quot;lineJoin&quot;: &quot;round&quot;, &quot;opacity&quot;: 1.0, &quot;radius&quot;: 4, &quot;stroke&quot;: true, &quot;weight&quot;: 1}\n",
       "            ).addTo(feature_group_accd16c10b5c05b7599e9ef80b7ed376);\n",
       "        \n",
       "    \n",
       "            var circle_marker_3325c860a474bc1ab71f06f4b6717853 = L.circleMarker(\n",
       "                [38.32205, -6.52803],\n",
       "                {&quot;bubblingMouseEvents&quot;: true, &quot;color&quot;: &quot;darkred&quot;, &quot;dashArray&quot;: null, &quot;dashOffset&quot;: null, &quot;fill&quot;: true, &quot;fillColor&quot;: &quot;darkred&quot;, &quot;fillOpacity&quot;: 0.8, &quot;fillRule&quot;: &quot;evenodd&quot;, &quot;lineCap&quot;: &quot;round&quot;, &quot;lineJoin&quot;: &quot;round&quot;, &quot;opacity&quot;: 1.0, &quot;radius&quot;: 4, &quot;stroke&quot;: true, &quot;weight&quot;: 1}\n",
       "            ).addTo(feature_group_accd16c10b5c05b7599e9ef80b7ed376);\n",
       "        \n",
       "    \n",
       "            var circle_marker_699958269b4ffeffefade99f9f37374f = L.circleMarker(\n",
       "                [38.34553, -6.52657],\n",
       "                {&quot;bubblingMouseEvents&quot;: true, &quot;color&quot;: &quot;darkred&quot;, &quot;dashArray&quot;: null, &quot;dashOffset&quot;: null, &quot;fill&quot;: true, &quot;fillColor&quot;: &quot;darkred&quot;, &quot;fillOpacity&quot;: 0.8, &quot;fillRule&quot;: &quot;evenodd&quot;, &quot;lineCap&quot;: &quot;round&quot;, &quot;lineJoin&quot;: &quot;round&quot;, &quot;opacity&quot;: 1.0, &quot;radius&quot;: 4, &quot;stroke&quot;: true, &quot;weight&quot;: 1}\n",
       "            ).addTo(feature_group_accd16c10b5c05b7599e9ef80b7ed376);\n",
       "        \n",
       "    \n",
       "            var circle_marker_b8f62712c54f9fe602fc1726ee2d0cca = L.circleMarker(\n",
       "                [38.32244, -6.53967],\n",
       "                {&quot;bubblingMouseEvents&quot;: true, &quot;color&quot;: &quot;darkred&quot;, &quot;dashArray&quot;: null, &quot;dashOffset&quot;: null, &quot;fill&quot;: true, &quot;fillColor&quot;: &quot;darkred&quot;, &quot;fillOpacity&quot;: 0.8, &quot;fillRule&quot;: &quot;evenodd&quot;, &quot;lineCap&quot;: &quot;round&quot;, &quot;lineJoin&quot;: &quot;round&quot;, &quot;opacity&quot;: 1.0, &quot;radius&quot;: 4, &quot;stroke&quot;: true, &quot;weight&quot;: 1}\n",
       "            ).addTo(feature_group_accd16c10b5c05b7599e9ef80b7ed376);\n",
       "        \n",
       "    \n",
       "            var circle_marker_a2e29bf918eda29c06f89549693950c6 = L.circleMarker(\n",
       "                [38.31089, -6.55418],\n",
       "                {&quot;bubblingMouseEvents&quot;: true, &quot;color&quot;: &quot;darkred&quot;, &quot;dashArray&quot;: null, &quot;dashOffset&quot;: null, &quot;fill&quot;: true, &quot;fillColor&quot;: &quot;darkred&quot;, &quot;fillOpacity&quot;: 0.8, &quot;fillRule&quot;: &quot;evenodd&quot;, &quot;lineCap&quot;: &quot;round&quot;, &quot;lineJoin&quot;: &quot;round&quot;, &quot;opacity&quot;: 1.0, &quot;radius&quot;: 4, &quot;stroke&quot;: true, &quot;weight&quot;: 1}\n",
       "            ).addTo(feature_group_accd16c10b5c05b7599e9ef80b7ed376);\n",
       "        \n",
       "    \n",
       "            var circle_marker_377496d7f7a71a3979f79395eb91941b = L.circleMarker(\n",
       "                [28.274371, -16.629331],\n",
       "                {&quot;bubblingMouseEvents&quot;: true, &quot;color&quot;: &quot;darkred&quot;, &quot;dashArray&quot;: null, &quot;dashOffset&quot;: null, &quot;fill&quot;: true, &quot;fillColor&quot;: &quot;darkred&quot;, &quot;fillOpacity&quot;: 0.8, &quot;fillRule&quot;: &quot;evenodd&quot;, &quot;lineCap&quot;: &quot;round&quot;, &quot;lineJoin&quot;: &quot;round&quot;, &quot;opacity&quot;: 1.0, &quot;radius&quot;: 4, &quot;stroke&quot;: true, &quot;weight&quot;: 1}\n",
       "            ).addTo(feature_group_accd16c10b5c05b7599e9ef80b7ed376);\n",
       "        \n",
       "    \n",
       "            var circle_marker_f27a60b665e50307088e40d48b126ce2 = L.circleMarker(\n",
       "                [28.2702272243, -16.638735293],\n",
       "                {&quot;bubblingMouseEvents&quot;: true, &quot;color&quot;: &quot;darkred&quot;, &quot;dashArray&quot;: null, &quot;dashOffset&quot;: null, &quot;fill&quot;: true, &quot;fillColor&quot;: &quot;darkred&quot;, &quot;fillOpacity&quot;: 0.8, &quot;fillRule&quot;: &quot;evenodd&quot;, &quot;lineCap&quot;: &quot;round&quot;, &quot;lineJoin&quot;: &quot;round&quot;, &quot;opacity&quot;: 1.0, &quot;radius&quot;: 4, &quot;stroke&quot;: true, &quot;weight&quot;: 1}\n",
       "            ).addTo(feature_group_accd16c10b5c05b7599e9ef80b7ed376);\n",
       "        \n",
       "    \n",
       "            var circle_marker_070f312d4e5f34ab7b2cdae01c12128a = L.circleMarker(\n",
       "                [28.224578, -16.62712],\n",
       "                {&quot;bubblingMouseEvents&quot;: true, &quot;color&quot;: &quot;darkred&quot;, &quot;dashArray&quot;: null, &quot;dashOffset&quot;: null, &quot;fill&quot;: true, &quot;fillColor&quot;: &quot;darkred&quot;, &quot;fillOpacity&quot;: 0.8, &quot;fillRule&quot;: &quot;evenodd&quot;, &quot;lineCap&quot;: &quot;round&quot;, &quot;lineJoin&quot;: &quot;round&quot;, &quot;opacity&quot;: 1.0, &quot;radius&quot;: 4, &quot;stroke&quot;: true, &quot;weight&quot;: 1}\n",
       "            ).addTo(feature_group_accd16c10b5c05b7599e9ef80b7ed376);\n",
       "        \n",
       "    \n",
       "            var circle_marker_d09cf4144d94e076b4a633e23d2d6932 = L.circleMarker(\n",
       "                [28.223786, -16.607],\n",
       "                {&quot;bubblingMouseEvents&quot;: true, &quot;color&quot;: &quot;darkred&quot;, &quot;dashArray&quot;: null, &quot;dashOffset&quot;: null, &quot;fill&quot;: true, &quot;fillColor&quot;: &quot;darkred&quot;, &quot;fillOpacity&quot;: 0.8, &quot;fillRule&quot;: &quot;evenodd&quot;, &quot;lineCap&quot;: &quot;round&quot;, &quot;lineJoin&quot;: &quot;round&quot;, &quot;opacity&quot;: 1.0, &quot;radius&quot;: 4, &quot;stroke&quot;: true, &quot;weight&quot;: 1}\n",
       "            ).addTo(feature_group_accd16c10b5c05b7599e9ef80b7ed376);\n",
       "        \n",
       "    \n",
       "            var circle_marker_4009dbecefe78e2bd7c7dd23a6d14b22 = L.circleMarker(\n",
       "                [28.2850974207, -16.5593017371],\n",
       "                {&quot;bubblingMouseEvents&quot;: true, &quot;color&quot;: &quot;darkred&quot;, &quot;dashArray&quot;: null, &quot;dashOffset&quot;: null, &quot;fill&quot;: true, &quot;fillColor&quot;: &quot;darkred&quot;, &quot;fillOpacity&quot;: 0.8, &quot;fillRule&quot;: &quot;evenodd&quot;, &quot;lineCap&quot;: &quot;round&quot;, &quot;lineJoin&quot;: &quot;round&quot;, &quot;opacity&quot;: 1.0, &quot;radius&quot;: 4, &quot;stroke&quot;: true, &quot;weight&quot;: 1}\n",
       "            ).addTo(feature_group_accd16c10b5c05b7599e9ef80b7ed376);\n",
       "        \n",
       "    \n",
       "            var circle_marker_5bbab44e0df471f483c0bfedfd08b230 = L.circleMarker(\n",
       "                [28.264878, -16.59693],\n",
       "                {&quot;bubblingMouseEvents&quot;: true, &quot;color&quot;: &quot;darkred&quot;, &quot;dashArray&quot;: null, &quot;dashOffset&quot;: null, &quot;fill&quot;: true, &quot;fillColor&quot;: &quot;darkred&quot;, &quot;fillOpacity&quot;: 0.8, &quot;fillRule&quot;: &quot;evenodd&quot;, &quot;lineCap&quot;: &quot;round&quot;, &quot;lineJoin&quot;: &quot;round&quot;, &quot;opacity&quot;: 1.0, &quot;radius&quot;: 4, &quot;stroke&quot;: true, &quot;weight&quot;: 1}\n",
       "            ).addTo(feature_group_accd16c10b5c05b7599e9ef80b7ed376);\n",
       "        \n",
       "    \n",
       "            var circle_marker_ea0f2e2c59f8dc0976fef6daad0d7a19 = L.circleMarker(\n",
       "                [28.303155, -16.491819],\n",
       "                {&quot;bubblingMouseEvents&quot;: true, &quot;color&quot;: &quot;darkred&quot;, &quot;dashArray&quot;: null, &quot;dashOffset&quot;: null, &quot;fill&quot;: true, &quot;fillColor&quot;: &quot;darkred&quot;, &quot;fillOpacity&quot;: 0.8, &quot;fillRule&quot;: &quot;evenodd&quot;, &quot;lineCap&quot;: &quot;round&quot;, &quot;lineJoin&quot;: &quot;round&quot;, &quot;opacity&quot;: 1.0, &quot;radius&quot;: 4, &quot;stroke&quot;: true, &quot;weight&quot;: 1}\n",
       "            ).addTo(feature_group_accd16c10b5c05b7599e9ef80b7ed376);\n",
       "        \n",
       "    \n",
       "            var circle_marker_d7fa344d86b3af9a5a1b152148a29dea = L.circleMarker(\n",
       "                [28.304719, -16.504796],\n",
       "                {&quot;bubblingMouseEvents&quot;: true, &quot;color&quot;: &quot;darkred&quot;, &quot;dashArray&quot;: null, &quot;dashOffset&quot;: null, &quot;fill&quot;: true, &quot;fillColor&quot;: &quot;darkred&quot;, &quot;fillOpacity&quot;: 0.8, &quot;fillRule&quot;: &quot;evenodd&quot;, &quot;lineCap&quot;: &quot;round&quot;, &quot;lineJoin&quot;: &quot;round&quot;, &quot;opacity&quot;: 1.0, &quot;radius&quot;: 4, &quot;stroke&quot;: true, &quot;weight&quot;: 1}\n",
       "            ).addTo(feature_group_accd16c10b5c05b7599e9ef80b7ed376);\n",
       "        \n",
       "    \n",
       "            var circle_marker_7653d52e9a3b4cb865d0bee74a1cb2e1 = L.circleMarker(\n",
       "                [28.296589, -16.50689],\n",
       "                {&quot;bubblingMouseEvents&quot;: true, &quot;color&quot;: &quot;darkred&quot;, &quot;dashArray&quot;: null, &quot;dashOffset&quot;: null, &quot;fill&quot;: true, &quot;fillColor&quot;: &quot;darkred&quot;, &quot;fillOpacity&quot;: 0.8, &quot;fillRule&quot;: &quot;evenodd&quot;, &quot;lineCap&quot;: &quot;round&quot;, &quot;lineJoin&quot;: &quot;round&quot;, &quot;opacity&quot;: 1.0, &quot;radius&quot;: 4, &quot;stroke&quot;: true, &quot;weight&quot;: 1}\n",
       "            ).addTo(feature_group_accd16c10b5c05b7599e9ef80b7ed376);\n",
       "        \n",
       "    \n",
       "            var circle_marker_da3a194ea5c2c8cb48e56d65723ee93e = L.circleMarker(\n",
       "                [28.304719, -16.504796],\n",
       "                {&quot;bubblingMouseEvents&quot;: true, &quot;color&quot;: &quot;darkred&quot;, &quot;dashArray&quot;: null, &quot;dashOffset&quot;: null, &quot;fill&quot;: true, &quot;fillColor&quot;: &quot;darkred&quot;, &quot;fillOpacity&quot;: 0.8, &quot;fillRule&quot;: &quot;evenodd&quot;, &quot;lineCap&quot;: &quot;round&quot;, &quot;lineJoin&quot;: &quot;round&quot;, &quot;opacity&quot;: 1.0, &quot;radius&quot;: 4, &quot;stroke&quot;: true, &quot;weight&quot;: 1}\n",
       "            ).addTo(feature_group_accd16c10b5c05b7599e9ef80b7ed376);\n",
       "        \n",
       "&lt;/script&gt;\n",
       "&lt;/html&gt;\" style=\"position:absolute;width:100%;height:100%;left:0;top:0;border:none !important;\" allowfullscreen webkitallowfullscreen mozallowfullscreen></iframe></div></div>"
      ],
      "text/plain": [
       "<folium.folium.Map at 0x1dc00bb2670>"
      ]
     },
     "execution_count": 51,
     "metadata": {},
     "output_type": "execute_result"
    }
   ],
   "source": [
    "geomap =folium.Map([37, 0], zoom_start=3)  \n",
    "Grupo = folium.FeatureGroup(name='Estaciones', show=False)\n",
    "Tipos=Fot_usados['TYPE'].values\n",
    "for i in range(0,len(Fot_usados))[::-1]:\n",
    "    if Tipos[i]=='SG':\n",
    "        color='darkred'\n",
    "    else:\n",
    "        color='darkblue'\n",
    "    folium.CircleMarker(location=[Fot_usados['latitude'].values[i],Fot_usados['longitude'].values[i]], fill_color=color, radius=4, weight=1, color=color,fill_opacity=0.8).add_to(Grupo)\n",
    "Grupo.add_to(geomap)\n",
    "geomap"
   ]
  },
  {
   "cell_type": "markdown",
   "metadata": {},
   "source": [
    "### Cantidades de datos usados para esta representación"
   ]
  },
  {
   "cell_type": "code",
   "execution_count": 52,
   "metadata": {},
   "outputs": [
    {
     "name": "stdout",
     "output_type": "stream",
     "text": [
      "Se han usado 19326 medidas procendente de satelite\n"
     ]
    }
   ],
   "source": [
    "print('Se han usado '+str(len(Registros_corr_F[Registros_corr_F['name'].isin(Menores500_2|{'stars679'}|{'stars4'}|Excluidos)]))+' medidas procendente de satelite')"
   ]
  },
  {
   "cell_type": "code",
   "execution_count": 53,
   "metadata": {},
   "outputs": [
    {
     "name": "stdout",
     "output_type": "stream",
     "text": [
      "Se han usado 482352 medidas procendente de la red de fotómetros\n"
     ]
    }
   ],
   "source": [
    "print('Se han usado '+str(len(data_filtrado[data_filtrado['name'].isin(Menores500_2|{'stars679'}|{'stars4'}|Excluidos)]))+' medidas procendente de la red de fotómetros')"
   ]
  },
  {
   "cell_type": "markdown",
   "metadata": {},
   "source": [
    "# Histograma de cantidades de fotómetros"
   ]
  },
  {
   "cell_type": "markdown",
   "metadata": {},
   "source": [
    "### Cantidad de fotómetros sin aplicar filtros"
   ]
  },
  {
   "cell_type": "code",
   "execution_count": 54,
   "metadata": {},
   "outputs": [],
   "source": [
    "SGyTESS=Fotometros[Fotometros['name'].isin(set(Fotometros_registros['name']))]"
   ]
  },
  {
   "cell_type": "markdown",
   "metadata": {},
   "source": [
    "Cantidad de fotómetros usados en el estudio"
   ]
  },
  {
   "cell_type": "code",
   "execution_count": 55,
   "metadata": {},
   "outputs": [
    {
     "name": "stdout",
     "output_type": "stream",
     "text": [
      "Hay en total 263 TESS sin aplicar filtros\n",
      "Hay en total 239 SG sin aplicar filtros\n"
     ]
    }
   ],
   "source": [
    "print('Hay en total '+str(len(SGyTESS[SGyTESS['TYPE']=='TESS-W'])-2)+' TESS sin aplicar filtros')\n",
    "print('Hay en total '+str(len(SGyTESS[SGyTESS['TYPE']=='SG']))+' SG sin aplicar filtros')"
   ]
  },
  {
   "cell_type": "code",
   "execution_count": 56,
   "metadata": {},
   "outputs": [],
   "source": [
    "HIST2=Sat[Sat['name'].isin(set(SGyTESS['name']))].merge(Fotometros[['name','TYPE']],left_on='name',right_on='name')"
   ]
  },
  {
   "cell_type": "markdown",
   "metadata": {},
   "source": [
    "Cantidades de fotómetros usados y con datos satelitales disponibles"
   ]
  },
  {
   "cell_type": "code",
   "execution_count": 57,
   "metadata": {},
   "outputs": [
    {
     "name": "stdout",
     "output_type": "stream",
     "text": [
      "Hay 230 TESS con correspondencia satelital sin aplicar filtros\n",
      "Hay 182 SG con correspondencia satelital sin aplicar filtros\n"
     ]
    }
   ],
   "source": [
    "TESS=HIST2[(HIST2['TYPE']=='TESS-W') & (HIST2['DNB_BRDF_Corrected_NTL_log_P50']>-1000)]['DNB_BRDF_Corrected_NTL_log_P50'].values\n",
    "SG=HIST2[(HIST2['TYPE']=='SG') & (HIST2['DNB_BRDF_Corrected_NTL_log_P50']>-1000)]['DNB_BRDF_Corrected_NTL_log_P50'].values\n",
    "print('Hay '+str(len(TESS))+' TESS con correspondencia satelital sin aplicar filtros')\n",
    "print('Hay '+str(len(SG))+' SG con correspondencia satelital sin aplicar filtros')\n",
    "SG=list(SG)+(max(len(TESS),len(SG))-len(SG))*[np.nan]\n",
    "TESS=list(TESS)+(max(len(TESS),len(SG))-len(TESS))*[np.nan]"
   ]
  },
  {
   "cell_type": "markdown",
   "metadata": {},
   "source": [
    "Distribución de estos fotómetros"
   ]
  },
  {
   "cell_type": "code",
   "execution_count": 58,
   "metadata": {},
   "outputs": [
    {
     "data": {
      "image/png": "[encoded data removed]",
      "text/plain": [
       "<Figure size 640x480 with 1 Axes>"
      ]
     },
     "metadata": {},
     "output_type": "display_data"
    }
   ],
   "source": [
    "bins=(np.array(range(0,51))/10-1)[::2]\n",
    "a=plt.hist(TESS,bins,histtype='step')\n",
    "b=plt.hist(SG,bins,histtype='step')"
   ]
  },
  {
   "cell_type": "code",
   "execution_count": 59,
   "metadata": {},
   "outputs": [
    {
     "name": "stdout",
     "output_type": "stream",
     "text": [
      "El 53.68% de los TESS está en zonas muy oscuras (<1 nW)\n",
      "El 60.54% de los SG está en zonas muy oscuras (<1 nW)\n"
     ]
    }
   ],
   "source": [
    "print('El '+str(np.round(len(HIST2[(HIST2['DNB_BRDF_Corrected_NTL_log_P50']<=0) & (HIST2['TYPE']=='TESS-W')])/len(HIST2[(HIST2['TYPE']=='TESS-W')])*100,2))+'% de los TESS está en zonas muy oscuras (<1 nW)')\n",
    "print('El '+str(np.round(len(HIST2[(HIST2['DNB_BRDF_Corrected_NTL_log_P50']<=0) & (HIST2['TYPE']=='SG')])/len(HIST2[(HIST2['TYPE']=='SG')])*100,2))+'% de los SG está en zonas muy oscuras (<1 nW)')"
   ]
  },
  {
   "cell_type": "markdown",
   "metadata": {},
   "source": [
    "Guardado para la Figura_2"
   ]
  },
  {
   "cell_type": "code",
   "execution_count": 60,
   "metadata": {},
   "outputs": [],
   "source": [
    "guardar=pd.DataFrame({'TESS':TESS,'SG':SG})\n",
    "guardar.to_csv(output+'\\Figura_2a.csv',index=False)"
   ]
  },
  {
   "cell_type": "markdown",
   "metadata": {},
   "source": [
    "### Cantidad de fotómetros aplicando filtros"
   ]
  },
  {
   "cell_type": "code",
   "execution_count": 61,
   "metadata": {},
   "outputs": [],
   "source": [
    "HIST1=FIN[~FIN['name'].isin(Excluidos)]"
   ]
  },
  {
   "cell_type": "markdown",
   "metadata": {},
   "source": [
    "Cantidades de fotómetros filtrados usados y con datos satelitales disponibles"
   ]
  },
  {
   "cell_type": "code",
   "execution_count": 62,
   "metadata": {},
   "outputs": [
    {
     "name": "stdout",
     "output_type": "stream",
     "text": [
      "Hay 141 TESS con correspondencia satelital una vez aplicados los filtros\n",
      "Hay 62 SG con correspondencia satelital una vez aplicados los filtros\n"
     ]
    }
   ],
   "source": [
    "TESS=HIST1[(HIST1['TYPE']=='TESS-W') & (HIST1['DNB_BRDF_Corrected_NTL_log_P50']>-1000)]['DNB_BRDF_Corrected_NTL_log_P50'].values\n",
    "SG=HIST1[(HIST1['TYPE']=='SG') & (HIST1['DNB_BRDF_Corrected_NTL_log_P50']>-1000)]['DNB_BRDF_Corrected_NTL_log_P50'].values\n",
    "print('Hay '+str(len(TESS))+' TESS con correspondencia satelital una vez aplicados los filtros')\n",
    "print('Hay '+str(len(SG))+' SG con correspondencia satelital una vez aplicados los filtros')\n",
    "SG=list(SG)+(max(len(TESS),len(SG))-len(SG))*[np.nan]\n",
    "TESS=list(TESS)+(max(len(TESS),len(SG))-len(TESS))*[np.nan]"
   ]
  },
  {
   "cell_type": "code",
   "execution_count": 63,
   "metadata": {},
   "outputs": [
    {
     "data": {
      "image/png": "[encoded data removed]",
      "text/plain": [
       "<Figure size 640x480 with 1 Axes>"
      ]
     },
     "metadata": {},
     "output_type": "display_data"
    }
   ],
   "source": [
    "bins=(np.array(range(0,51))/10-1)[::2]\n",
    "a=plt.hist(TESS,bins,histtype='step')\n",
    "b=plt.hist(SG,bins,histtype='step')"
   ]
  },
  {
   "cell_type": "code",
   "execution_count": 64,
   "metadata": {},
   "outputs": [],
   "source": [
    "guardar=pd.DataFrame({'TESS':TESS,'SG':SG})\n",
    "guardar.to_csv(output+'\\Figura_2b.csv',index=False)"
   ]
  },
  {
   "cell_type": "markdown",
   "metadata": {},
   "source": [
    "# Regression"
   ]
  },
  {
   "cell_type": "markdown",
   "metadata": {},
   "source": [
    "## Diagrama de dispersion por intervalos"
   ]
  },
  {
   "cell_type": "markdown",
   "metadata": {},
   "source": [
    "Quitamos los fotómetros con excesiva RIC"
   ]
  },
  {
   "cell_type": "code",
   "execution_count": 65,
   "metadata": {},
   "outputs": [],
   "source": [
    "FIN=FIN[~FIN['name'].isin(Excluidos)]"
   ]
  },
  {
   "cell_type": "markdown",
   "metadata": {},
   "source": [
    "Calcula los estadísticos agrupados por intervalos"
   ]
  },
  {
   "cell_type": "code",
   "execution_count": 66,
   "metadata": {},
   "outputs": [
    {
     "name": "stderr",
     "output_type": "stream",
     "text": [
      "C:\\Users\\borja\\AppData\\Local\\Temp\\ipykernel_7472\\1740028509.py:20: RuntimeWarning:\n",
      "\n",
      "invalid value encountered in scalar divide\n",
      "\n",
      "C:\\Users\\borja\\AppData\\Local\\Temp\\ipykernel_7472\\1740028509.py:21: RuntimeWarning:\n",
      "\n",
      "invalid value encountered in scalar divide\n",
      "\n",
      "C:\\Users\\borja\\AppData\\Local\\Temp\\ipykernel_7472\\1740028509.py:20: RuntimeWarning:\n",
      "\n",
      "invalid value encountered in scalar divide\n",
      "\n",
      "C:\\Users\\borja\\AppData\\Local\\Temp\\ipykernel_7472\\1740028509.py:21: RuntimeWarning:\n",
      "\n",
      "invalid value encountered in scalar divide\n",
      "\n",
      "C:\\Users\\borja\\AppData\\Local\\Temp\\ipykernel_7472\\1740028509.py:20: RuntimeWarning:\n",
      "\n",
      "invalid value encountered in scalar divide\n",
      "\n",
      "C:\\Users\\borja\\AppData\\Local\\Temp\\ipykernel_7472\\1740028509.py:21: RuntimeWarning:\n",
      "\n",
      "invalid value encountered in scalar divide\n",
      "\n"
     ]
    }
   ],
   "source": [
    "intervalos2=(np.array(list(range(-20,31)))/10)[::2]\n",
    "BB=[Mismo_pixel(Fotometros,FIN),Mismo_pixel(Fotometros,FIN[FIN['TYPE']=='TESS-W']),Mismo_pixel(Fotometros,FIN[FIN['TYPE']=='SG'])]\n",
    "names=['all','TESS','SG']\n",
    "GG3=pd.DataFrame()\n",
    "for ii in range(0,len(BB)):\n",
    "    B=BB[ii]\n",
    "    B['Q1_sat']=B['Q1_sat'].replace({np.nan:-1,np.inf:-1,-np.inf:-1})\n",
    "    B['Error_fot']=(B['Q3_fot']-B['Q1_fot'])/2\n",
    "    B['Error_sat']=(B['Q3_sat']-B['Q1_sat'])/2\n",
    "    M=[]\n",
    "    STD=[]\n",
    "    N=[]\n",
    "    E_FOT=[]\n",
    "    E_SAT=[]\n",
    "    for i in range(0,len(intervalos2[:-1])):\n",
    "        m=B[B['DNB_BRDF_Corrected_NTL_log_P50'].between(intervalos2[i],intervalos2[i+1])].mean(numeric_only=True)\n",
    "        std=B[B['DNB_BRDF_Corrected_NTL_log_P50'].between(intervalos2[i],intervalos2[i+1])].std(numeric_only=True)\n",
    "        n=B[B['DNB_BRDF_Corrected_NTL_log_P50'].between(intervalos2[i],intervalos2[i+1])].count()\n",
    "        \n",
    "        E_fot=np.sqrt(sum(B[B['DNB_BRDF_Corrected_NTL_log_P50'].between(intervalos2[i],intervalos2[i+1])]['Error_fot']**2))/len(B[B['DNB_BRDF_Corrected_NTL_log_P50'].between(intervalos2[i],intervalos2[i+1])]['Error_fot'].values)\n",
    "        E_sat=np.sqrt(sum(B[B['DNB_BRDF_Corrected_NTL_log_P50'].between(intervalos2[i],intervalos2[i+1])]['Error_sat']**2))/len(B[B['DNB_BRDF_Corrected_NTL_log_P50'].between(intervalos2[i],intervalos2[i+1])]['Error_sat'].values)\n",
    "        \n",
    "        \n",
    "        M=M+[m]\n",
    "        STD=STD+[std]\n",
    "        N=N+[n]\n",
    "        \n",
    "        E_FOT=E_FOT+[E_fot]\n",
    "        E_SAT=E_SAT+[E_sat]\n",
    "        \n",
    "    G3=pd.DataFrame(M)[['P50_fot','DNB_BRDF_Corrected_NTL_log_P50','E_sist_fot','E_sist_sat','Error_fot','Error_sat']]\n",
    "    G3['E_alt_fot']=pd.DataFrame(STD)['P50_fot'].replace({np.nan:0})/pd.DataFrame(N)['P50_fot']\n",
    "    G3['E_alt_sat']=pd.DataFrame(STD)['DNB_BRDF_Corrected_NTL_log_P50'].replace({np.nan:0})/pd.DataFrame(N)['DNB_BRDF_Corrected_NTL_log_P50']\n",
    "    \n",
    "    G3['Error_fot']=E_FOT\n",
    "    G3['Error_sat']=E_SAT\n",
    "    \n",
    "    G3['E_fot_t']=np.sqrt(G3['E_sist_fot']**2+G3['Error_fot']**2+G3['E_alt_fot']**2)\n",
    "    G3['E_sat_t']=np.sqrt(G3['E_sist_sat']**2+G3['Error_sat']**2+G3['E_alt_sat']**2)\n",
    "    \n",
    "    G3.columns=[i+'_'+names[ii] for i in list(G3.columns)]\n",
    "    GG3=pd.concat([GG3, G3], axis=1,)"
   ]
  },
  {
   "cell_type": "markdown",
   "metadata": {},
   "source": [
    "Función que elabora el gráfico por intervalos"
   ]
  },
  {
   "cell_type": "code",
   "execution_count": 67,
   "metadata": {
    "scrolled": true
   },
   "outputs": [],
   "source": [
    "def Grafico_intervalos(tipo): #SG, TESS or all\n",
    "    text='_'+tipo\n",
    "    fig = px.scatter(GG3,y='P50_fot'+text,x='DNB_BRDF_Corrected_NTL_log_P50'+text,error_x=\"E_sat_t\"+text,error_y=\"E_fot_t\"+text)\n",
    "    fig.update_yaxes(autorange=\"reversed\")\n",
    "    fig.show()"
   ]
  },
  {
   "cell_type": "code",
   "execution_count": 68,
   "metadata": {},
   "outputs": [
    {
     "data": {
      "application/vnd.plotly.v1+json": {
       "config": {
        "plotlyServerURL": "https://plot.ly"
       },
       "data": [
        {
         "error_x": {
          "array": [
           null,
           null,
           null,
           null,
           0.44613139616968156,
           0.4259517387168985,
           0.22661983077704292,
           0.15141703985431257,
           0.09892733790790681,
           0.06899337484030688,
           0.06613085601085109,
           0.09085290779446459,
           0.2383349713192006,
           0.07918044889176912,
           0.049999744310884026,
           0.06036270265958736,
           0.060391509259118015,
           0.07447892034542426,
           0.05580851874965454,
           0.051695649819941104,
           0.04024276700969251,
           0.10024064030339933,
           null,
           null,
           null
          ]
         },
         "error_y": {
          "array": [
           null,
           null,
           null,
           null,
           0.05964626629834718,
           0.055327010671238755,
           0.04176883534279584,
           0.03438825863571833,
           0.03373162862273727,
           0.04596615812312174,
           0.07393637118372097,
           0.06574597643325415,
           0.17993311514539476,
           0.06328857932499886,
           0.11206164598112946,
           0.07511600589433562,
           0.09885547599363723,
           0.22206939189094657,
           0.11217545780309247,
           0.15659868501410942,
           0.11236102527122156,
           0.17464249196572973,
           null,
           null,
           null
          ]
         },
         "hovertemplate": "DNB_BRDF_Corrected_NTL_log_P50_all=%{x}<br>P50_fot_all=%{y}<extra></extra>",
         "legendgroup": "",
         "marker": {
          "color": "#636efa",
          "symbol": "circle"
         },
         "mode": "markers",
         "name": "",
         "orientation": "v",
         "showlegend": false,
         "type": "scatter",
         "x": [
          null,
          null,
          null,
          null,
          -1,
          -0.9784978574525728,
          -0.6931002957008293,
          -0.5214589869097886,
          -0.32790282977646806,
          -0.10420113691200873,
          0.0542840575957702,
          0.31668099088429735,
          0.4864299424984018,
          0.702597665600028,
          0.8885752797131217,
          1.1094139810907993,
          1.2649082046206628,
          1.4404361299253028,
          1.700650912713349,
          1.939532504677879,
          2.050959416840212,
          2.2538224387080734,
          null,
          null,
          null
         ],
         "xaxis": "x",
         "y": [
          null,
          null,
          null,
          null,
          21.5655,
          21.523571428571426,
          21.41797222222222,
          21.36795454545455,
          21.165499999999998,
          20.845156250000002,
          20.9409375,
          20.640037037037036,
          20.613333333333333,
          20.309611111111114,
          20.1225,
          19.816375,
          19.76125,
          19.463333333333335,
          18.645000000000003,
          18.536666666666665,
          18.11,
          17.56,
          null,
          null,
          null
         ],
         "yaxis": "y"
        }
       ],
       "layout": {
        "legend": {
         "tracegroupgap": 0
        },
        "margin": {
         "t": 60
        },
        "template": {
         "data": {
          "bar": [
           {
            "error_x": {
             "color": "#2a3f5f"
            },
            "error_y": {
             "color": "#2a3f5f"
            },
            "marker": {
             "line": {
              "color": "#E5ECF6",
              "width": 0.5
             },
             "pattern": {
              "fillmode": "overlay",
              "size": 10,
              "solidity": 0.2
             }
            },
            "type": "bar"
           }
          ],
          "barpolar": [
           {
            "marker": {
             "line": {
              "color": "#E5ECF6",
              "width": 0.5
             },
             "pattern": {
              "fillmode": "overlay",
              "size": 10,
              "solidity": 0.2
             }
            },
            "type": "barpolar"
           }
          ],
          "carpet": [
           {
            "aaxis": {
             "endlinecolor": "#2a3f5f",
             "gridcolor": "white",
             "linecolor": "white",
             "minorgridcolor": "white",
             "startlinecolor": "#2a3f5f"
            },
            "baxis": {
             "endlinecolor": "#2a3f5f",
             "gridcolor": "white",
             "linecolor": "white",
             "minorgridcolor": "white",
             "startlinecolor": "#2a3f5f"
            },
            "type": "carpet"
           }
          ],
          "choropleth": [
           {
            "colorbar": {
             "outlinewidth": 0,
             "ticks": ""
            },
            "type": "choropleth"
           }
          ],
          "contour": [
           {
            "colorbar": {
             "outlinewidth": 0,
             "ticks": ""
            },
            "colorscale": [
             [
              0,
              "#0d0887"
             ],
             [
              0.1111111111111111,
              "#46039f"
             ],
             [
              0.2222222222222222,
              "#7201a8"
             ],
             [
              0.3333333333333333,
              "#9c179e"
             ],
             [
              0.4444444444444444,
              "#bd3786"
             ],
             [
              0.5555555555555556,
              "#d8576b"
             ],
             [
              0.6666666666666666,
              "#ed7953"
             ],
             [
              0.7777777777777778,
              "#fb9f3a"
             ],
             [
              0.8888888888888888,
              "#fdca26"
             ],
             [
              1,
              "#f0f921"
             ]
            ],
            "type": "contour"
           }
          ],
          "contourcarpet": [
           {
            "colorbar": {
             "outlinewidth": 0,
             "ticks": ""
            },
            "type": "contourcarpet"
           }
          ],
          "heatmap": [
           {
            "colorbar": {
             "outlinewidth": 0,
             "ticks": ""
            },
            "colorscale": [
             [
              0,
              "#0d0887"
             ],
             [
              0.1111111111111111,
              "#46039f"
             ],
             [
              0.2222222222222222,
              "#7201a8"
             ],
             [
              0.3333333333333333,
              "#9c179e"
             ],
             [
              0.4444444444444444,
              "#bd3786"
             ],
             [
              0.5555555555555556,
              "#d8576b"
             ],
             [
              0.6666666666666666,
              "#ed7953"
             ],
             [
              0.7777777777777778,
              "#fb9f3a"
             ],
             [
              0.8888888888888888,
              "#fdca26"
             ],
             [
              1,
              "#f0f921"
             ]
            ],
            "type": "heatmap"
           }
          ],
          "heatmapgl": [
           {
            "colorbar": {
             "outlinewidth": 0,
             "ticks": ""
            },
            "colorscale": [
             [
              0,
              "#0d0887"
             ],
             [
              0.1111111111111111,
              "#46039f"
             ],
             [
              0.2222222222222222,
              "#7201a8"
             ],
             [
              0.3333333333333333,
              "#9c179e"
             ],
             [
              0.4444444444444444,
              "#bd3786"
             ],
             [
              0.5555555555555556,
              "#d8576b"
             ],
             [
              0.6666666666666666,
              "#ed7953"
             ],
             [
              0.7777777777777778,
              "#fb9f3a"
             ],
             [
              0.8888888888888888,
              "#fdca26"
             ],
             [
              1,
              "#f0f921"
             ]
            ],
            "type": "heatmapgl"
           }
          ],
          "histogram": [
           {
            "marker": {
             "pattern": {
              "fillmode": "overlay",
              "size": 10,
              "solidity": 0.2
             }
            },
            "type": "histogram"
           }
          ],
          "histogram2d": [
           {
            "colorbar": {
             "outlinewidth": 0,
             "ticks": ""
            },
            "colorscale": [
             [
              0,
              "#0d0887"
             ],
             [
              0.1111111111111111,
              "#46039f"
             ],
             [
              0.2222222222222222,
              "#7201a8"
             ],
             [
              0.3333333333333333,
              "#9c179e"
             ],
             [
              0.4444444444444444,
              "#bd3786"
             ],
             [
              0.5555555555555556,
              "#d8576b"
             ],
             [
              0.6666666666666666,
              "#ed7953"
             ],
             [
              0.7777777777777778,
              "#fb9f3a"
             ],
             [
              0.8888888888888888,
              "#fdca26"
             ],
             [
              1,
              "#f0f921"
             ]
            ],
            "type": "histogram2d"
           }
          ],
          "histogram2dcontour": [
           {
            "colorbar": {
             "outlinewidth": 0,
             "ticks": ""
            },
            "colorscale": [
             [
              0,
              "#0d0887"
             ],
             [
              0.1111111111111111,
              "#46039f"
             ],
             [
              0.2222222222222222,
              "#7201a8"
             ],
             [
              0.3333333333333333,
              "#9c179e"
             ],
             [
              0.4444444444444444,
              "#bd3786"
             ],
             [
              0.5555555555555556,
              "#d8576b"
             ],
             [
              0.6666666666666666,
              "#ed7953"
             ],
             [
              0.7777777777777778,
              "#fb9f3a"
             ],
             [
              0.8888888888888888,
              "#fdca26"
             ],
             [
              1,
              "#f0f921"
             ]
            ],
            "type": "histogram2dcontour"
           }
          ],
          "mesh3d": [
           {
            "colorbar": {
             "outlinewidth": 0,
             "ticks": ""
            },
            "type": "mesh3d"
           }
          ],
          "parcoords": [
           {
            "line": {
             "colorbar": {
              "outlinewidth": 0,
              "ticks": ""
             }
            },
            "type": "parcoords"
           }
          ],
          "pie": [
           {
            "automargin": true,
            "type": "pie"
           }
          ],
          "scatter": [
           {
            "marker": {
             "colorbar": {
              "outlinewidth": 0,
              "ticks": ""
             }
            },
            "type": "scatter"
           }
          ],
          "scatter3d": [
           {
            "line": {
             "colorbar": {
              "outlinewidth": 0,
              "ticks": ""
             }
            },
            "marker": {
             "colorbar": {
              "outlinewidth": 0,
              "ticks": ""
             }
            },
            "type": "scatter3d"
           }
          ],
          "scattercarpet": [
           {
            "marker": {
             "colorbar": {
              "outlinewidth": 0,
              "ticks": ""
             }
            },
            "type": "scattercarpet"
           }
          ],
          "scattergeo": [
           {
            "marker": {
             "colorbar": {
              "outlinewidth": 0,
              "ticks": ""
             }
            },
            "type": "scattergeo"
           }
          ],
          "scattergl": [
           {
            "marker": {
             "colorbar": {
              "outlinewidth": 0,
              "ticks": ""
             }
            },
            "type": "scattergl"
           }
          ],
          "scattermapbox": [
           {
            "marker": {
             "colorbar": {
              "outlinewidth": 0,
              "ticks": ""
             }
            },
            "type": "scattermapbox"
           }
          ],
          "scatterpolar": [
           {
            "marker": {
             "colorbar": {
              "outlinewidth": 0,
              "ticks": ""
             }
            },
            "type": "scatterpolar"
           }
          ],
          "scatterpolargl": [
           {
            "marker": {
             "colorbar": {
              "outlinewidth": 0,
              "ticks": ""
             }
            },
            "type": "scatterpolargl"
           }
          ],
          "scatterternary": [
           {
            "marker": {
             "colorbar": {
              "outlinewidth": 0,
              "ticks": ""
             }
            },
            "type": "scatterternary"
           }
          ],
          "surface": [
           {
            "colorbar": {
             "outlinewidth": 0,
             "ticks": ""
            },
            "colorscale": [
             [
              0,
              "#0d0887"
             ],
             [
              0.1111111111111111,
              "#46039f"
             ],
             [
              0.2222222222222222,
              "#7201a8"
             ],
             [
              0.3333333333333333,
              "#9c179e"
             ],
             [
              0.4444444444444444,
              "#bd3786"
             ],
             [
              0.5555555555555556,
              "#d8576b"
             ],
             [
              0.6666666666666666,
              "#ed7953"
             ],
             [
              0.7777777777777778,
              "#fb9f3a"
             ],
             [
              0.8888888888888888,
              "#fdca26"
             ],
             [
              1,
              "#f0f921"
             ]
            ],
            "type": "surface"
           }
          ],
          "table": [
           {
            "cells": {
             "fill": {
              "color": "#EBF0F8"
             },
             "line": {
              "color": "white"
             }
            },
            "header": {
             "fill": {
              "color": "#C8D4E3"
             },
             "line": {
              "color": "white"
             }
            },
            "type": "table"
           }
          ]
         },
         "layout": {
          "annotationdefaults": {
           "arrowcolor": "#2a3f5f",
           "arrowhead": 0,
           "arrowwidth": 1
          },
          "autotypenumbers": "strict",
          "coloraxis": {
           "colorbar": {
            "outlinewidth": 0,
            "ticks": ""
           }
          },
          "colorscale": {
           "diverging": [
            [
             0,
             "#8e0152"
            ],
            [
             0.1,
             "#c51b7d"
            ],
            [
             0.2,
             "#de77ae"
            ],
            [
             0.3,
             "#f1b6da"
            ],
            [
             0.4,
             "#fde0ef"
            ],
            [
             0.5,
             "#f7f7f7"
            ],
            [
             0.6,
             "#e6f5d0"
            ],
            [
             0.7,
             "#b8e186"
            ],
            [
             0.8,
             "#7fbc41"
            ],
            [
             0.9,
             "#4d9221"
            ],
            [
             1,
             "#276419"
            ]
           ],
           "sequential": [
            [
             0,
             "#0d0887"
            ],
            [
             0.1111111111111111,
             "#46039f"
            ],
            [
             0.2222222222222222,
             "#7201a8"
            ],
            [
             0.3333333333333333,
             "#9c179e"
            ],
            [
             0.4444444444444444,
             "#bd3786"
            ],
            [
             0.5555555555555556,
             "#d8576b"
            ],
            [
             0.6666666666666666,
             "#ed7953"
            ],
            [
             0.7777777777777778,
             "#fb9f3a"
            ],
            [
             0.8888888888888888,
             "#fdca26"
            ],
            [
             1,
             "#f0f921"
            ]
           ],
           "sequentialminus": [
            [
             0,
             "#0d0887"
            ],
            [
             0.1111111111111111,
             "#46039f"
            ],
            [
             0.2222222222222222,
             "#7201a8"
            ],
            [
             0.3333333333333333,
             "#9c179e"
            ],
            [
             0.4444444444444444,
             "#bd3786"
            ],
            [
             0.5555555555555556,
             "#d8576b"
            ],
            [
             0.6666666666666666,
             "#ed7953"
            ],
            [
             0.7777777777777778,
             "#fb9f3a"
            ],
            [
             0.8888888888888888,
             "#fdca26"
            ],
            [
             1,
             "#f0f921"
            ]
           ]
          },
          "colorway": [
           "#636efa",
           "#EF553B",
           "#00cc96",
           "#ab63fa",
           "#FFA15A",
           "#19d3f3",
           "#FF6692",
           "#B6E880",
           "#FF97FF",
           "#FECB52"
          ],
          "font": {
           "color": "#2a3f5f"
          },
          "geo": {
           "bgcolor": "white",
           "lakecolor": "white",
           "landcolor": "#E5ECF6",
           "showlakes": true,
           "showland": true,
           "subunitcolor": "white"
          },
          "hoverlabel": {
           "align": "left"
          },
          "hovermode": "closest",
          "mapbox": {
           "style": "light"
          },
          "paper_bgcolor": "white",
          "plot_bgcolor": "#E5ECF6",
          "polar": {
           "angularaxis": {
            "gridcolor": "white",
            "linecolor": "white",
            "ticks": ""
           },
           "bgcolor": "#E5ECF6",
           "radialaxis": {
            "gridcolor": "white",
            "linecolor": "white",
            "ticks": ""
           }
          },
          "scene": {
           "xaxis": {
            "backgroundcolor": "#E5ECF6",
            "gridcolor": "white",
            "gridwidth": 2,
            "linecolor": "white",
            "showbackground": true,
            "ticks": "",
            "zerolinecolor": "white"
           },
           "yaxis": {
            "backgroundcolor": "#E5ECF6",
            "gridcolor": "white",
            "gridwidth": 2,
            "linecolor": "white",
            "showbackground": true,
            "ticks": "",
            "zerolinecolor": "white"
           },
           "zaxis": {
            "backgroundcolor": "#E5ECF6",
            "gridcolor": "white",
            "gridwidth": 2,
            "linecolor": "white",
            "showbackground": true,
            "ticks": "",
            "zerolinecolor": "white"
           }
          },
          "shapedefaults": {
           "line": {
            "color": "#2a3f5f"
           }
          },
          "ternary": {
           "aaxis": {
            "gridcolor": "white",
            "linecolor": "white",
            "ticks": ""
           },
           "baxis": {
            "gridcolor": "white",
            "linecolor": "white",
            "ticks": ""
           },
           "bgcolor": "#E5ECF6",
           "caxis": {
            "gridcolor": "white",
            "linecolor": "white",
            "ticks": ""
           }
          },
          "title": {
           "x": 0.05
          },
          "xaxis": {
           "automargin": true,
           "gridcolor": "white",
           "linecolor": "white",
           "ticks": "",
           "title": {
            "standoff": 15
           },
           "zerolinecolor": "white",
           "zerolinewidth": 2
          },
          "yaxis": {
           "automargin": true,
           "gridcolor": "white",
           "linecolor": "white",
           "ticks": "",
           "title": {
            "standoff": 15
           },
           "zerolinecolor": "white",
           "zerolinewidth": 2
          }
         }
        },
        "xaxis": {
         "anchor": "y",
         "domain": [
          0,
          1
         ],
         "title": {
          "text": "DNB_BRDF_Corrected_NTL_log_P50_all"
         }
        },
        "yaxis": {
         "anchor": "x",
         "autorange": "reversed",
         "domain": [
          0,
          1
         ],
         "title": {
          "text": "P50_fot_all"
         }
        }
       }
      }
     },
     "metadata": {},
     "output_type": "display_data"
    }
   ],
   "source": [
    "Grafico_intervalos('all')"
   ]
  },
  {
   "cell_type": "markdown",
   "metadata": {},
   "source": [
    "Guardado para Figura_12"
   ]
  },
  {
   "cell_type": "code",
   "execution_count": 69,
   "metadata": {},
   "outputs": [],
   "source": [
    "guardar=GG3\n",
    "guardar.to_csv(output+'\\Figura_12.csv',index=False)"
   ]
  },
  {
   "cell_type": "markdown",
   "metadata": {},
   "source": [
    "### Variacion de rango"
   ]
  },
  {
   "cell_type": "markdown",
   "metadata": {},
   "source": [
    "Quitamos los más oscuros por sus grandes errores"
   ]
  },
  {
   "cell_type": "code",
   "execution_count": 70,
   "metadata": {},
   "outputs": [],
   "source": [
    "text='_all'\n",
    "G4=GG3[ (GG3['DNB_BRDF_Corrected_NTL_log_P50'+text]>-.2 )]\n",
    "y=np.array(G4['P50_fot'+text])\n",
    "x=np.array(G4['DNB_BRDF_Corrected_NTL_log_P50'+text])\n",
    "x=x[~np.isnan(x)]\n",
    "y=y[~np.isnan(y)]"
   ]
  },
  {
   "cell_type": "markdown",
   "metadata": {},
   "source": [
    "Calculamos Error cuadrático medio por la derecha e izquierda"
   ]
  },
  {
   "cell_type": "code",
   "execution_count": 71,
   "metadata": {},
   "outputs": [],
   "source": [
    "Izq_Der_sq=[]\n",
    "Der_Izq_sq=[]\n",
    "for i in range(1,len(x)+1):\n",
    "    x1=x[:i].reshape(-1,1)\n",
    "    y1=y[:i].reshape(-1,1)\n",
    "    lm = LinearRegression()\n",
    "    lm.fit(x1,y1)\n",
    "    Izq_Der_sq=Izq_Der_sq+[mean_squared_error(y1,lm.predict(x1))]\n",
    "    x2=x[::-1][:i].reshape(-1,1)\n",
    "    y2=y[::-1][:i].reshape(-1,1)\n",
    "    lm.fit(x2,y2)\n",
    "    Der_Izq_sq=Der_Izq_sq+[mean_squared_error(y2,lm.predict(x2))]\n",
    "    "
   ]
  },
  {
   "cell_type": "markdown",
   "metadata": {},
   "source": [
    "Grafico de Error cuadrático medio"
   ]
  },
  {
   "cell_type": "code",
   "execution_count": 72,
   "metadata": {},
   "outputs": [
    {
     "data": {
      "text/plain": [
       "<matplotlib.collections.PathCollection at 0x1dc2b664730>"
      ]
     },
     "execution_count": 72,
     "metadata": {},
     "output_type": "execute_result"
    },
    {
     "data": {
      "image/png": "[encoded data removed]",
      "text/plain": [
       "<Figure size 640x480 with 1 Axes>"
      ]
     },
     "metadata": {},
     "output_type": "display_data"
    }
   ],
   "source": [
    "X=range(0,len(Izq_Der_sq))\n",
    "plt.scatter(X,Izq_Der_sq[:],color='blue')\n",
    "plt.scatter(X,Der_Izq_sq[:],color='red')"
   ]
  },
  {
   "cell_type": "markdown",
   "metadata": {},
   "source": [
    "Guardado para la Figura_11"
   ]
  },
  {
   "cell_type": "code",
   "execution_count": 73,
   "metadata": {},
   "outputs": [],
   "source": [
    "GU=pd.DataFrame({'n':np.array(X)+1})\n",
    "GU['Der_Izq']=np.sqrt(Der_Izq_sq)\n",
    "GU['Izq_Der']=np.sqrt(Izq_Der_sq)"
   ]
  },
  {
   "cell_type": "code",
   "execution_count": 74,
   "metadata": {},
   "outputs": [],
   "source": [
    "guardar=GU\n",
    "guardar.to_csv(output+'\\Figura_11.csv',index=False)"
   ]
  },
  {
   "cell_type": "markdown",
   "metadata": {},
   "source": [
    "## Ajuste"
   ]
  },
  {
   "cell_type": "markdown",
   "metadata": {},
   "source": [
    "Quitamos los fotóemetros más oscuros por su gran error y los más brillantes por no seguir el ajuste, apartado anterior"
   ]
  },
  {
   "cell_type": "code",
   "execution_count": 75,
   "metadata": {},
   "outputs": [],
   "source": [
    "foto_listado_final=FIN[(FIN['DNB_BRDF_Corrected_NTL_log_P50']>-.2) & (FIN['DNB_BRDF_Corrected_NTL_log_P50']<1.6)]"
   ]
  },
  {
   "cell_type": "code",
   "execution_count": 76,
   "metadata": {},
   "outputs": [],
   "source": [
    "fotometros_finales=set(foto_listado_final['name'])"
   ]
  },
  {
   "cell_type": "markdown",
   "metadata": {},
   "source": [
    "Cantidades de fotómetros usados en el ajuste final"
   ]
  },
  {
   "cell_type": "code",
   "execution_count": 77,
   "metadata": {},
   "outputs": [
    {
     "name": "stdout",
     "output_type": "stream",
     "text": [
      "Fotóemtros SG usados finalmente en el ajuste: 15\n",
      "Fotóemtros TESS usados finalmente en el ajuste: 57\n",
      "En total: 72\n"
     ]
    }
   ],
   "source": [
    "print('Fotóemtros SG usados finalmente en el ajuste: '+str(len(foto_listado_final[foto_listado_final['TYPE']=='SG'])))\n",
    "print('Fotóemtros TESS usados finalmente en el ajuste: '+str(len(foto_listado_final[foto_listado_final['TYPE']=='TESS-W'])))\n",
    "print('En total: '+str(len(foto_listado_final[foto_listado_final['TYPE']=='SG'])+len(foto_listado_final[foto_listado_final['TYPE']=='TESS-W'])))"
   ]
  },
  {
   "cell_type": "markdown",
   "metadata": {},
   "source": [
    "Función que obtiene los parámtros de ajuste"
   ]
  },
  {
   "cell_type": "code",
   "execution_count": 78,
   "metadata": {},
   "outputs": [],
   "source": [
    "def Ajuste(tipo,en_pantalla): #SG, TESS or all, en_pantalla boll\n",
    "    text='_'+tipo\n",
    "    G4=GG3[(GG3['DNB_BRDF_Corrected_NTL_log_P50'+text]<1.6) & (GG3['DNB_BRDF_Corrected_NTL_log_P50'+text]>-.2)]\n",
    "    y=np.array(G4['P50_fot'+text])\n",
    "    x=np.array(G4['DNB_BRDF_Corrected_NTL_log_P50'+text])\n",
    "    borrar_inf=list(np.where(x==-np.inf)[0])+list(np.where(x==np.inf)[0])\n",
    "    x=np.delete(x,borrar_inf)\n",
    "    y=np.delete(y,borrar_inf)\n",
    "    x1=x.reshape(-1,1)\n",
    "    y1=y.reshape(-1,1)\n",
    "\n",
    "    lm = LinearRegression()\n",
    "    lm.fit(x1,y1)\n",
    "    m=lm.coef_[0][0]\n",
    "    n=lm.intercept_[0]\n",
    "    r2=lm.score(x1,y1)\n",
    "    pp=mean_squared_error(y1,lm.predict(x1))\n",
    "    Em=np.sqrt(pp*len(y1)/(len(y1)-2))\n",
    "    En=Em*np.sqrt(len(x1)/(len(x1)*sum(x1**2)-sum(x1)**2))[0]\n",
    "    \n",
    "    if en_pantalla:\n",
    "        print('r^2: '+str(np.round(r2,2)))\n",
    "        print('m: '+str(np.round(m,2))+'+-'+str(np.round(Em,2)))\n",
    "        print('n: '+str(np.round(n,2))+'+-'+str(np.round(En,2)))\n",
    "    else:\n",
    "        return [np.round(r2,2),np.round(m,2),np.round(n,2),np.round(Em,2),np.round(En,2)]\n",
    "    "
   ]
  },
  {
   "cell_type": "code",
   "execution_count": 79,
   "metadata": {},
   "outputs": [
    {
     "data": {
      "application/vnd.plotly.v1+json": {
       "config": {
        "plotlyServerURL": "https://plot.ly"
       },
       "data": [
        {
         "error_x": {
          "array": [
           null,
           null,
           null,
           null,
           0.44613139616968156,
           0.4259517387168985,
           0.22661983077704292,
           0.15141703985431257,
           0.09892733790790681,
           0.06899337484030688,
           0.06613085601085109,
           0.09085290779446459,
           0.2383349713192006,
           0.07918044889176912,
           0.049999744310884026,
           0.06036270265958736,
           0.060391509259118015,
           0.07447892034542426,
           0.05580851874965454,
           0.051695649819941104,
           0.04024276700969251,
           0.10024064030339933,
           null,
           null,
           null
          ]
         },
         "error_y": {
          "array": [
           null,
           null,
           null,
           null,
           0.05964626629834718,
           0.055327010671238755,
           0.04176883534279584,
           0.03438825863571833,
           0.03373162862273727,
           0.04596615812312174,
           0.07393637118372097,
           0.06574597643325415,
           0.17993311514539476,
           0.06328857932499886,
           0.11206164598112946,
           0.07511600589433562,
           0.09885547599363723,
           0.22206939189094657,
           0.11217545780309247,
           0.15659868501410942,
           0.11236102527122156,
           0.17464249196572973,
           null,
           null,
           null
          ]
         },
         "hovertemplate": "DNB_BRDF_Corrected_NTL_log_P50_all=%{x}<br>P50_fot_all=%{y}<extra></extra>",
         "legendgroup": "",
         "marker": {
          "color": "#636efa",
          "symbol": "circle"
         },
         "mode": "markers",
         "name": "",
         "orientation": "v",
         "showlegend": false,
         "type": "scatter",
         "x": [
          null,
          null,
          null,
          null,
          -1,
          -0.9784978574525728,
          -0.6931002957008293,
          -0.5214589869097886,
          -0.32790282977646806,
          -0.10420113691200873,
          0.0542840575957702,
          0.31668099088429735,
          0.4864299424984018,
          0.702597665600028,
          0.8885752797131217,
          1.1094139810907993,
          1.2649082046206628,
          1.4404361299253028,
          1.700650912713349,
          1.939532504677879,
          2.050959416840212,
          2.2538224387080734,
          null,
          null,
          null
         ],
         "xaxis": "x",
         "y": [
          null,
          null,
          null,
          null,
          21.5655,
          21.523571428571426,
          21.41797222222222,
          21.36795454545455,
          21.165499999999998,
          20.845156250000002,
          20.9409375,
          20.640037037037036,
          20.613333333333333,
          20.309611111111114,
          20.1225,
          19.816375,
          19.76125,
          19.463333333333335,
          18.645000000000003,
          18.536666666666665,
          18.11,
          17.56,
          null,
          null,
          null
         ],
         "yaxis": "y"
        }
       ],
       "layout": {
        "legend": {
         "tracegroupgap": 0
        },
        "margin": {
         "t": 60
        },
        "template": {
         "data": {
          "bar": [
           {
            "error_x": {
             "color": "#2a3f5f"
            },
            "error_y": {
             "color": "#2a3f5f"
            },
            "marker": {
             "line": {
              "color": "#E5ECF6",
              "width": 0.5
             },
             "pattern": {
              "fillmode": "overlay",
              "size": 10,
              "solidity": 0.2
             }
            },
            "type": "bar"
           }
          ],
          "barpolar": [
           {
            "marker": {
             "line": {
              "color": "#E5ECF6",
              "width": 0.5
             },
             "pattern": {
              "fillmode": "overlay",
              "size": 10,
              "solidity": 0.2
             }
            },
            "type": "barpolar"
           }
          ],
          "carpet": [
           {
            "aaxis": {
             "endlinecolor": "#2a3f5f",
             "gridcolor": "white",
             "linecolor": "white",
             "minorgridcolor": "white",
             "startlinecolor": "#2a3f5f"
            },
            "baxis": {
             "endlinecolor": "#2a3f5f",
             "gridcolor": "white",
             "linecolor": "white",
             "minorgridcolor": "white",
             "startlinecolor": "#2a3f5f"
            },
            "type": "carpet"
           }
          ],
          "choropleth": [
           {
            "colorbar": {
             "outlinewidth": 0,
             "ticks": ""
            },
            "type": "choropleth"
           }
          ],
          "contour": [
           {
            "colorbar": {
             "outlinewidth": 0,
             "ticks": ""
            },
            "colorscale": [
             [
              0,
              "#0d0887"
             ],
             [
              0.1111111111111111,
              "#46039f"
             ],
             [
              0.2222222222222222,
              "#7201a8"
             ],
             [
              0.3333333333333333,
              "#9c179e"
             ],
             [
              0.4444444444444444,
              "#bd3786"
             ],
             [
              0.5555555555555556,
              "#d8576b"
             ],
             [
              0.6666666666666666,
              "#ed7953"
             ],
             [
              0.7777777777777778,
              "#fb9f3a"
             ],
             [
              0.8888888888888888,
              "#fdca26"
             ],
             [
              1,
              "#f0f921"
             ]
            ],
            "type": "contour"
           }
          ],
          "contourcarpet": [
           {
            "colorbar": {
             "outlinewidth": 0,
             "ticks": ""
            },
            "type": "contourcarpet"
           }
          ],
          "heatmap": [
           {
            "colorbar": {
             "outlinewidth": 0,
             "ticks": ""
            },
            "colorscale": [
             [
              0,
              "#0d0887"
             ],
             [
              0.1111111111111111,
              "#46039f"
             ],
             [
              0.2222222222222222,
              "#7201a8"
             ],
             [
              0.3333333333333333,
              "#9c179e"
             ],
             [
              0.4444444444444444,
              "#bd3786"
             ],
             [
              0.5555555555555556,
              "#d8576b"
             ],
             [
              0.6666666666666666,
              "#ed7953"
             ],
             [
              0.7777777777777778,
              "#fb9f3a"
             ],
             [
              0.8888888888888888,
              "#fdca26"
             ],
             [
              1,
              "#f0f921"
             ]
            ],
            "type": "heatmap"
           }
          ],
          "heatmapgl": [
           {
            "colorbar": {
             "outlinewidth": 0,
             "ticks": ""
            },
            "colorscale": [
             [
              0,
              "#0d0887"
             ],
             [
              0.1111111111111111,
              "#46039f"
             ],
             [
              0.2222222222222222,
              "#7201a8"
             ],
             [
              0.3333333333333333,
              "#9c179e"
             ],
             [
              0.4444444444444444,
              "#bd3786"
             ],
             [
              0.5555555555555556,
              "#d8576b"
             ],
             [
              0.6666666666666666,
              "#ed7953"
             ],
             [
              0.7777777777777778,
              "#fb9f3a"
             ],
             [
              0.8888888888888888,
              "#fdca26"
             ],
             [
              1,
              "#f0f921"
             ]
            ],
            "type": "heatmapgl"
           }
          ],
          "histogram": [
           {
            "marker": {
             "pattern": {
              "fillmode": "overlay",
              "size": 10,
              "solidity": 0.2
             }
            },
            "type": "histogram"
           }
          ],
          "histogram2d": [
           {
            "colorbar": {
             "outlinewidth": 0,
             "ticks": ""
            },
            "colorscale": [
             [
              0,
              "#0d0887"
             ],
             [
              0.1111111111111111,
              "#46039f"
             ],
             [
              0.2222222222222222,
              "#7201a8"
             ],
             [
              0.3333333333333333,
              "#9c179e"
             ],
             [
              0.4444444444444444,
              "#bd3786"
             ],
             [
              0.5555555555555556,
              "#d8576b"
             ],
             [
              0.6666666666666666,
              "#ed7953"
             ],
             [
              0.7777777777777778,
              "#fb9f3a"
             ],
             [
              0.8888888888888888,
              "#fdca26"
             ],
             [
              1,
              "#f0f921"
             ]
            ],
            "type": "histogram2d"
           }
          ],
          "histogram2dcontour": [
           {
            "colorbar": {
             "outlinewidth": 0,
             "ticks": ""
            },
            "colorscale": [
             [
              0,
              "#0d0887"
             ],
             [
              0.1111111111111111,
              "#46039f"
             ],
             [
              0.2222222222222222,
              "#7201a8"
             ],
             [
              0.3333333333333333,
              "#9c179e"
             ],
             [
              0.4444444444444444,
              "#bd3786"
             ],
             [
              0.5555555555555556,
              "#d8576b"
             ],
             [
              0.6666666666666666,
              "#ed7953"
             ],
             [
              0.7777777777777778,
              "#fb9f3a"
             ],
             [
              0.8888888888888888,
              "#fdca26"
             ],
             [
              1,
              "#f0f921"
             ]
            ],
            "type": "histogram2dcontour"
           }
          ],
          "mesh3d": [
           {
            "colorbar": {
             "outlinewidth": 0,
             "ticks": ""
            },
            "type": "mesh3d"
           }
          ],
          "parcoords": [
           {
            "line": {
             "colorbar": {
              "outlinewidth": 0,
              "ticks": ""
             }
            },
            "type": "parcoords"
           }
          ],
          "pie": [
           {
            "automargin": true,
            "type": "pie"
           }
          ],
          "scatter": [
           {
            "marker": {
             "colorbar": {
              "outlinewidth": 0,
              "ticks": ""
             }
            },
            "type": "scatter"
           }
          ],
          "scatter3d": [
           {
            "line": {
             "colorbar": {
              "outlinewidth": 0,
              "ticks": ""
             }
            },
            "marker": {
             "colorbar": {
              "outlinewidth": 0,
              "ticks": ""
             }
            },
            "type": "scatter3d"
           }
          ],
          "scattercarpet": [
           {
            "marker": {
             "colorbar": {
              "outlinewidth": 0,
              "ticks": ""
             }
            },
            "type": "scattercarpet"
           }
          ],
          "scattergeo": [
           {
            "marker": {
             "colorbar": {
              "outlinewidth": 0,
              "ticks": ""
             }
            },
            "type": "scattergeo"
           }
          ],
          "scattergl": [
           {
            "marker": {
             "colorbar": {
              "outlinewidth": 0,
              "ticks": ""
             }
            },
            "type": "scattergl"
           }
          ],
          "scattermapbox": [
           {
            "marker": {
             "colorbar": {
              "outlinewidth": 0,
              "ticks": ""
             }
            },
            "type": "scattermapbox"
           }
          ],
          "scatterpolar": [
           {
            "marker": {
             "colorbar": {
              "outlinewidth": 0,
              "ticks": ""
             }
            },
            "type": "scatterpolar"
           }
          ],
          "scatterpolargl": [
           {
            "marker": {
             "colorbar": {
              "outlinewidth": 0,
              "ticks": ""
             }
            },
            "type": "scatterpolargl"
           }
          ],
          "scatterternary": [
           {
            "marker": {
             "colorbar": {
              "outlinewidth": 0,
              "ticks": ""
             }
            },
            "type": "scatterternary"
           }
          ],
          "surface": [
           {
            "colorbar": {
             "outlinewidth": 0,
             "ticks": ""
            },
            "colorscale": [
             [
              0,
              "#0d0887"
             ],
             [
              0.1111111111111111,
              "#46039f"
             ],
             [
              0.2222222222222222,
              "#7201a8"
             ],
             [
              0.3333333333333333,
              "#9c179e"
             ],
             [
              0.4444444444444444,
              "#bd3786"
             ],
             [
              0.5555555555555556,
              "#d8576b"
             ],
             [
              0.6666666666666666,
              "#ed7953"
             ],
             [
              0.7777777777777778,
              "#fb9f3a"
             ],
             [
              0.8888888888888888,
              "#fdca26"
             ],
             [
              1,
              "#f0f921"
             ]
            ],
            "type": "surface"
           }
          ],
          "table": [
           {
            "cells": {
             "fill": {
              "color": "#EBF0F8"
             },
             "line": {
              "color": "white"
             }
            },
            "header": {
             "fill": {
              "color": "#C8D4E3"
             },
             "line": {
              "color": "white"
             }
            },
            "type": "table"
           }
          ]
         },
         "layout": {
          "annotationdefaults": {
           "arrowcolor": "#2a3f5f",
           "arrowhead": 0,
           "arrowwidth": 1
          },
          "autotypenumbers": "strict",
          "coloraxis": {
           "colorbar": {
            "outlinewidth": 0,
            "ticks": ""
           }
          },
          "colorscale": {
           "diverging": [
            [
             0,
             "#8e0152"
            ],
            [
             0.1,
             "#c51b7d"
            ],
            [
             0.2,
             "#de77ae"
            ],
            [
             0.3,
             "#f1b6da"
            ],
            [
             0.4,
             "#fde0ef"
            ],
            [
             0.5,
             "#f7f7f7"
            ],
            [
             0.6,
             "#e6f5d0"
            ],
            [
             0.7,
             "#b8e186"
            ],
            [
             0.8,
             "#7fbc41"
            ],
            [
             0.9,
             "#4d9221"
            ],
            [
             1,
             "#276419"
            ]
           ],
           "sequential": [
            [
             0,
             "#0d0887"
            ],
            [
             0.1111111111111111,
             "#46039f"
            ],
            [
             0.2222222222222222,
             "#7201a8"
            ],
            [
             0.3333333333333333,
             "#9c179e"
            ],
            [
             0.4444444444444444,
             "#bd3786"
            ],
            [
             0.5555555555555556,
             "#d8576b"
            ],
            [
             0.6666666666666666,
             "#ed7953"
            ],
            [
             0.7777777777777778,
             "#fb9f3a"
            ],
            [
             0.8888888888888888,
             "#fdca26"
            ],
            [
             1,
             "#f0f921"
            ]
           ],
           "sequentialminus": [
            [
             0,
             "#0d0887"
            ],
            [
             0.1111111111111111,
             "#46039f"
            ],
            [
             0.2222222222222222,
             "#7201a8"
            ],
            [
             0.3333333333333333,
             "#9c179e"
            ],
            [
             0.4444444444444444,
             "#bd3786"
            ],
            [
             0.5555555555555556,
             "#d8576b"
            ],
            [
             0.6666666666666666,
             "#ed7953"
            ],
            [
             0.7777777777777778,
             "#fb9f3a"
            ],
            [
             0.8888888888888888,
             "#fdca26"
            ],
            [
             1,
             "#f0f921"
            ]
           ]
          },
          "colorway": [
           "#636efa",
           "#EF553B",
           "#00cc96",
           "#ab63fa",
           "#FFA15A",
           "#19d3f3",
           "#FF6692",
           "#B6E880",
           "#FF97FF",
           "#FECB52"
          ],
          "font": {
           "color": "#2a3f5f"
          },
          "geo": {
           "bgcolor": "white",
           "lakecolor": "white",
           "landcolor": "#E5ECF6",
           "showlakes": true,
           "showland": true,
           "subunitcolor": "white"
          },
          "hoverlabel": {
           "align": "left"
          },
          "hovermode": "closest",
          "mapbox": {
           "style": "light"
          },
          "paper_bgcolor": "white",
          "plot_bgcolor": "#E5ECF6",
          "polar": {
           "angularaxis": {
            "gridcolor": "white",
            "linecolor": "white",
            "ticks": ""
           },
           "bgcolor": "#E5ECF6",
           "radialaxis": {
            "gridcolor": "white",
            "linecolor": "white",
            "ticks": ""
           }
          },
          "scene": {
           "xaxis": {
            "backgroundcolor": "#E5ECF6",
            "gridcolor": "white",
            "gridwidth": 2,
            "linecolor": "white",
            "showbackground": true,
            "ticks": "",
            "zerolinecolor": "white"
           },
           "yaxis": {
            "backgroundcolor": "#E5ECF6",
            "gridcolor": "white",
            "gridwidth": 2,
            "linecolor": "white",
            "showbackground": true,
            "ticks": "",
            "zerolinecolor": "white"
           },
           "zaxis": {
            "backgroundcolor": "#E5ECF6",
            "gridcolor": "white",
            "gridwidth": 2,
            "linecolor": "white",
            "showbackground": true,
            "ticks": "",
            "zerolinecolor": "white"
           }
          },
          "shapedefaults": {
           "line": {
            "color": "#2a3f5f"
           }
          },
          "ternary": {
           "aaxis": {
            "gridcolor": "white",
            "linecolor": "white",
            "ticks": ""
           },
           "baxis": {
            "gridcolor": "white",
            "linecolor": "white",
            "ticks": ""
           },
           "bgcolor": "#E5ECF6",
           "caxis": {
            "gridcolor": "white",
            "linecolor": "white",
            "ticks": ""
           }
          },
          "title": {
           "x": 0.05
          },
          "xaxis": {
           "automargin": true,
           "gridcolor": "white",
           "linecolor": "white",
           "ticks": "",
           "title": {
            "standoff": 15
           },
           "zerolinecolor": "white",
           "zerolinewidth": 2
          },
          "yaxis": {
           "automargin": true,
           "gridcolor": "white",
           "linecolor": "white",
           "ticks": "",
           "title": {
            "standoff": 15
           },
           "zerolinecolor": "white",
           "zerolinewidth": 2
          }
         }
        },
        "xaxis": {
         "anchor": "y",
         "domain": [
          0,
          1
         ],
         "title": {
          "text": "DNB_BRDF_Corrected_NTL_log_P50_all"
         }
        },
        "yaxis": {
         "anchor": "x",
         "autorange": "reversed",
         "domain": [
          0,
          1
         ],
         "title": {
          "text": "P50_fot_all"
         }
        }
       }
      }
     },
     "metadata": {},
     "output_type": "display_data"
    },
    {
     "name": "stdout",
     "output_type": "stream",
     "text": [
      "r^2: 0.96\n",
      "m: -0.95+-0.1\n",
      "n: 20.93+-0.07\n"
     ]
    }
   ],
   "source": [
    "Grafico_intervalos('all')\n",
    "Ajuste('all',True)"
   ]
  },
  {
   "cell_type": "code",
   "execution_count": 80,
   "metadata": {},
   "outputs": [
    {
     "data": {
      "application/vnd.plotly.v1+json": {
       "config": {
        "plotlyServerURL": "https://plot.ly"
       },
       "data": [
        {
         "error_x": {
          "array": [
           null,
           null,
           null,
           null,
           0.4472068107675431,
           0.4472068107675431,
           0.22781731502824706,
           0.15621637057868346,
           0.1050756992344611,
           0.08052146703999757,
           0.07715547292953964,
           0.10310840793585778,
           0.2383349713192006,
           0.08785256086198967,
           0.049999744310884026,
           0.06724502670388254,
           0.060391509259118015,
           0.07447892034542426,
           0.05580851874965454,
           0.051695649819941104,
           0.04024276700969251,
           0.10024064030339933,
           null,
           null,
           null
          ]
         },
         "error_y": {
          "array": [
           null,
           null,
           null,
           null,
           0.06512814291840364,
           0.06512814291840364,
           0.0465415993204348,
           0.04387206525141919,
           0.04634095787407922,
           0.06728332507637635,
           0.1300530660922687,
           0.08557773278085005,
           0.17993311514539476,
           0.06774256803925849,
           0.11206164598112946,
           0.08141100329639692,
           0.09885547599363723,
           0.22206939189094657,
           0.11217545780309247,
           0.15659868501410942,
           0.11236102527122156,
           0.17464249196572973,
           null,
           null,
           null
          ]
         },
         "hovertemplate": "DNB_BRDF_Corrected_NTL_log_P50_TESS=%{x}<br>P50_fot_TESS=%{y}<extra></extra>",
         "legendgroup": "",
         "marker": {
          "color": "#636efa",
          "symbol": "circle"
         },
         "mode": "markers",
         "name": "",
         "orientation": "v",
         "showlegend": false,
         "type": "scatter",
         "x": [
          null,
          null,
          null,
          null,
          -1,
          -1,
          -0.692197263603108,
          -0.5228787452803376,
          -0.33125125180348747,
          -0.1001852860088492,
          0.06273970591206232,
          0.32466244544592143,
          0.4864299424984018,
          0.7075776448398348,
          0.8885752797131217,
          1.1003036543305886,
          1.2649082046206628,
          1.4404361299253028,
          1.700650912713349,
          1.939532504677879,
          2.050959416840212,
          2.2538224387080734,
          null,
          null,
          null
         ],
         "xaxis": "x",
         "y": [
          null,
          null,
          null,
          null,
          21.613,
          21.613,
          21.420769230769228,
          21.420576923076926,
          21.26738095238095,
          20.832,
          20.988,
          20.613571428571426,
          20.613333333333333,
          20.261875,
          20.1225,
          19.83571428571429,
          19.76125,
          19.463333333333335,
          18.645000000000003,
          18.536666666666665,
          18.11,
          17.56,
          null,
          null,
          null
         ],
         "yaxis": "y"
        }
       ],
       "layout": {
        "legend": {
         "tracegroupgap": 0
        },
        "margin": {
         "t": 60
        },
        "template": {
         "data": {
          "bar": [
           {
            "error_x": {
             "color": "#2a3f5f"
            },
            "error_y": {
             "color": "#2a3f5f"
            },
            "marker": {
             "line": {
              "color": "#E5ECF6",
              "width": 0.5
             },
             "pattern": {
              "fillmode": "overlay",
              "size": 10,
              "solidity": 0.2
             }
            },
            "type": "bar"
           }
          ],
          "barpolar": [
           {
            "marker": {
             "line": {
              "color": "#E5ECF6",
              "width": 0.5
             },
             "pattern": {
              "fillmode": "overlay",
              "size": 10,
              "solidity": 0.2
             }
            },
            "type": "barpolar"
           }
          ],
          "carpet": [
           {
            "aaxis": {
             "endlinecolor": "#2a3f5f",
             "gridcolor": "white",
             "linecolor": "white",
             "minorgridcolor": "white",
             "startlinecolor": "#2a3f5f"
            },
            "baxis": {
             "endlinecolor": "#2a3f5f",
             "gridcolor": "white",
             "linecolor": "white",
             "minorgridcolor": "white",
             "startlinecolor": "#2a3f5f"
            },
            "type": "carpet"
           }
          ],
          "choropleth": [
           {
            "colorbar": {
             "outlinewidth": 0,
             "ticks": ""
            },
            "type": "choropleth"
           }
          ],
          "contour": [
           {
            "colorbar": {
             "outlinewidth": 0,
             "ticks": ""
            },
            "colorscale": [
             [
              0,
              "#0d0887"
             ],
             [
              0.1111111111111111,
              "#46039f"
             ],
             [
              0.2222222222222222,
              "#7201a8"
             ],
             [
              0.3333333333333333,
              "#9c179e"
             ],
             [
              0.4444444444444444,
              "#bd3786"
             ],
             [
              0.5555555555555556,
              "#d8576b"
             ],
             [
              0.6666666666666666,
              "#ed7953"
             ],
             [
              0.7777777777777778,
              "#fb9f3a"
             ],
             [
              0.8888888888888888,
              "#fdca26"
             ],
             [
              1,
              "#f0f921"
             ]
            ],
            "type": "contour"
           }
          ],
          "contourcarpet": [
           {
            "colorbar": {
             "outlinewidth": 0,
             "ticks": ""
            },
            "type": "contourcarpet"
           }
          ],
          "heatmap": [
           {
            "colorbar": {
             "outlinewidth": 0,
             "ticks": ""
            },
            "colorscale": [
             [
              0,
              "#0d0887"
             ],
             [
              0.1111111111111111,
              "#46039f"
             ],
             [
              0.2222222222222222,
              "#7201a8"
             ],
             [
              0.3333333333333333,
              "#9c179e"
             ],
             [
              0.4444444444444444,
              "#bd3786"
             ],
             [
              0.5555555555555556,
              "#d8576b"
             ],
             [
              0.6666666666666666,
              "#ed7953"
             ],
             [
              0.7777777777777778,
              "#fb9f3a"
             ],
             [
              0.8888888888888888,
              "#fdca26"
             ],
             [
              1,
              "#f0f921"
             ]
            ],
            "type": "heatmap"
           }
          ],
          "heatmapgl": [
           {
            "colorbar": {
             "outlinewidth": 0,
             "ticks": ""
            },
            "colorscale": [
             [
              0,
              "#0d0887"
             ],
             [
              0.1111111111111111,
              "#46039f"
             ],
             [
              0.2222222222222222,
              "#7201a8"
             ],
             [
              0.3333333333333333,
              "#9c179e"
             ],
             [
              0.4444444444444444,
              "#bd3786"
             ],
             [
              0.5555555555555556,
              "#d8576b"
             ],
             [
              0.6666666666666666,
              "#ed7953"
             ],
             [
              0.7777777777777778,
              "#fb9f3a"
             ],
             [
              0.8888888888888888,
              "#fdca26"
             ],
             [
              1,
              "#f0f921"
             ]
            ],
            "type": "heatmapgl"
           }
          ],
          "histogram": [
           {
            "marker": {
             "pattern": {
              "fillmode": "overlay",
              "size": 10,
              "solidity": 0.2
             }
            },
            "type": "histogram"
           }
          ],
          "histogram2d": [
           {
            "colorbar": {
             "outlinewidth": 0,
             "ticks": ""
            },
            "colorscale": [
             [
              0,
              "#0d0887"
             ],
             [
              0.1111111111111111,
              "#46039f"
             ],
             [
              0.2222222222222222,
              "#7201a8"
             ],
             [
              0.3333333333333333,
              "#9c179e"
             ],
             [
              0.4444444444444444,
              "#bd3786"
             ],
             [
              0.5555555555555556,
              "#d8576b"
             ],
             [
              0.6666666666666666,
              "#ed7953"
             ],
             [
              0.7777777777777778,
              "#fb9f3a"
             ],
             [
              0.8888888888888888,
              "#fdca26"
             ],
             [
              1,
              "#f0f921"
             ]
            ],
            "type": "histogram2d"
           }
          ],
          "histogram2dcontour": [
           {
            "colorbar": {
             "outlinewidth": 0,
             "ticks": ""
            },
            "colorscale": [
             [
              0,
              "#0d0887"
             ],
             [
              0.1111111111111111,
              "#46039f"
             ],
             [
              0.2222222222222222,
              "#7201a8"
             ],
             [
              0.3333333333333333,
              "#9c179e"
             ],
             [
              0.4444444444444444,
              "#bd3786"
             ],
             [
              0.5555555555555556,
              "#d8576b"
             ],
             [
              0.6666666666666666,
              "#ed7953"
             ],
             [
              0.7777777777777778,
              "#fb9f3a"
             ],
             [
              0.8888888888888888,
              "#fdca26"
             ],
             [
              1,
              "#f0f921"
             ]
            ],
            "type": "histogram2dcontour"
           }
          ],
          "mesh3d": [
           {
            "colorbar": {
             "outlinewidth": 0,
             "ticks": ""
            },
            "type": "mesh3d"
           }
          ],
          "parcoords": [
           {
            "line": {
             "colorbar": {
              "outlinewidth": 0,
              "ticks": ""
             }
            },
            "type": "parcoords"
           }
          ],
          "pie": [
           {
            "automargin": true,
            "type": "pie"
           }
          ],
          "scatter": [
           {
            "marker": {
             "colorbar": {
              "outlinewidth": 0,
              "ticks": ""
             }
            },
            "type": "scatter"
           }
          ],
          "scatter3d": [
           {
            "line": {
             "colorbar": {
              "outlinewidth": 0,
              "ticks": ""
             }
            },
            "marker": {
             "colorbar": {
              "outlinewidth": 0,
              "ticks": ""
             }
            },
            "type": "scatter3d"
           }
          ],
          "scattercarpet": [
           {
            "marker": {
             "colorbar": {
              "outlinewidth": 0,
              "ticks": ""
             }
            },
            "type": "scattercarpet"
           }
          ],
          "scattergeo": [
           {
            "marker": {
             "colorbar": {
              "outlinewidth": 0,
              "ticks": ""
             }
            },
            "type": "scattergeo"
           }
          ],
          "scattergl": [
           {
            "marker": {
             "colorbar": {
              "outlinewidth": 0,
              "ticks": ""
             }
            },
            "type": "scattergl"
           }
          ],
          "scattermapbox": [
           {
            "marker": {
             "colorbar": {
              "outlinewidth": 0,
              "ticks": ""
             }
            },
            "type": "scattermapbox"
           }
          ],
          "scatterpolar": [
           {
            "marker": {
             "colorbar": {
              "outlinewidth": 0,
              "ticks": ""
             }
            },
            "type": "scatterpolar"
           }
          ],
          "scatterpolargl": [
           {
            "marker": {
             "colorbar": {
              "outlinewidth": 0,
              "ticks": ""
             }
            },
            "type": "scatterpolargl"
           }
          ],
          "scatterternary": [
           {
            "marker": {
             "colorbar": {
              "outlinewidth": 0,
              "ticks": ""
             }
            },
            "type": "scatterternary"
           }
          ],
          "surface": [
           {
            "colorbar": {
             "outlinewidth": 0,
             "ticks": ""
            },
            "colorscale": [
             [
              0,
              "#0d0887"
             ],
             [
              0.1111111111111111,
              "#46039f"
             ],
             [
              0.2222222222222222,
              "#7201a8"
             ],
             [
              0.3333333333333333,
              "#9c179e"
             ],
             [
              0.4444444444444444,
              "#bd3786"
             ],
             [
              0.5555555555555556,
              "#d8576b"
             ],
             [
              0.6666666666666666,
              "#ed7953"
             ],
             [
              0.7777777777777778,
              "#fb9f3a"
             ],
             [
              0.8888888888888888,
              "#fdca26"
             ],
             [
              1,
              "#f0f921"
             ]
            ],
            "type": "surface"
           }
          ],
          "table": [
           {
            "cells": {
             "fill": {
              "color": "#EBF0F8"
             },
             "line": {
              "color": "white"
             }
            },
            "header": {
             "fill": {
              "color": "#C8D4E3"
             },
             "line": {
              "color": "white"
             }
            },
            "type": "table"
           }
          ]
         },
         "layout": {
          "annotationdefaults": {
           "arrowcolor": "#2a3f5f",
           "arrowhead": 0,
           "arrowwidth": 1
          },
          "autotypenumbers": "strict",
          "coloraxis": {
           "colorbar": {
            "outlinewidth": 0,
            "ticks": ""
           }
          },
          "colorscale": {
           "diverging": [
            [
             0,
             "#8e0152"
            ],
            [
             0.1,
             "#c51b7d"
            ],
            [
             0.2,
             "#de77ae"
            ],
            [
             0.3,
             "#f1b6da"
            ],
            [
             0.4,
             "#fde0ef"
            ],
            [
             0.5,
             "#f7f7f7"
            ],
            [
             0.6,
             "#e6f5d0"
            ],
            [
             0.7,
             "#b8e186"
            ],
            [
             0.8,
             "#7fbc41"
            ],
            [
             0.9,
             "#4d9221"
            ],
            [
             1,
             "#276419"
            ]
           ],
           "sequential": [
            [
             0,
             "#0d0887"
            ],
            [
             0.1111111111111111,
             "#46039f"
            ],
            [
             0.2222222222222222,
             "#7201a8"
            ],
            [
             0.3333333333333333,
             "#9c179e"
            ],
            [
             0.4444444444444444,
             "#bd3786"
            ],
            [
             0.5555555555555556,
             "#d8576b"
            ],
            [
             0.6666666666666666,
             "#ed7953"
            ],
            [
             0.7777777777777778,
             "#fb9f3a"
            ],
            [
             0.8888888888888888,
             "#fdca26"
            ],
            [
             1,
             "#f0f921"
            ]
           ],
           "sequentialminus": [
            [
             0,
             "#0d0887"
            ],
            [
             0.1111111111111111,
             "#46039f"
            ],
            [
             0.2222222222222222,
             "#7201a8"
            ],
            [
             0.3333333333333333,
             "#9c179e"
            ],
            [
             0.4444444444444444,
             "#bd3786"
            ],
            [
             0.5555555555555556,
             "#d8576b"
            ],
            [
             0.6666666666666666,
             "#ed7953"
            ],
            [
             0.7777777777777778,
             "#fb9f3a"
            ],
            [
             0.8888888888888888,
             "#fdca26"
            ],
            [
             1,
             "#f0f921"
            ]
           ]
          },
          "colorway": [
           "#636efa",
           "#EF553B",
           "#00cc96",
           "#ab63fa",
           "#FFA15A",
           "#19d3f3",
           "#FF6692",
           "#B6E880",
           "#FF97FF",
           "#FECB52"
          ],
          "font": {
           "color": "#2a3f5f"
          },
          "geo": {
           "bgcolor": "white",
           "lakecolor": "white",
           "landcolor": "#E5ECF6",
           "showlakes": true,
           "showland": true,
           "subunitcolor": "white"
          },
          "hoverlabel": {
           "align": "left"
          },
          "hovermode": "closest",
          "mapbox": {
           "style": "light"
          },
          "paper_bgcolor": "white",
          "plot_bgcolor": "#E5ECF6",
          "polar": {
           "angularaxis": {
            "gridcolor": "white",
            "linecolor": "white",
            "ticks": ""
           },
           "bgcolor": "#E5ECF6",
           "radialaxis": {
            "gridcolor": "white",
            "linecolor": "white",
            "ticks": ""
           }
          },
          "scene": {
           "xaxis": {
            "backgroundcolor": "#E5ECF6",
            "gridcolor": "white",
            "gridwidth": 2,
            "linecolor": "white",
            "showbackground": true,
            "ticks": "",
            "zerolinecolor": "white"
           },
           "yaxis": {
            "backgroundcolor": "#E5ECF6",
            "gridcolor": "white",
            "gridwidth": 2,
            "linecolor": "white",
            "showbackground": true,
            "ticks": "",
            "zerolinecolor": "white"
           },
           "zaxis": {
            "backgroundcolor": "#E5ECF6",
            "gridcolor": "white",
            "gridwidth": 2,
            "linecolor": "white",
            "showbackground": true,
            "ticks": "",
            "zerolinecolor": "white"
           }
          },
          "shapedefaults": {
           "line": {
            "color": "#2a3f5f"
           }
          },
          "ternary": {
           "aaxis": {
            "gridcolor": "white",
            "linecolor": "white",
            "ticks": ""
           },
           "baxis": {
            "gridcolor": "white",
            "linecolor": "white",
            "ticks": ""
           },
           "bgcolor": "#E5ECF6",
           "caxis": {
            "gridcolor": "white",
            "linecolor": "white",
            "ticks": ""
           }
          },
          "title": {
           "x": 0.05
          },
          "xaxis": {
           "automargin": true,
           "gridcolor": "white",
           "linecolor": "white",
           "ticks": "",
           "title": {
            "standoff": 15
           },
           "zerolinecolor": "white",
           "zerolinewidth": 2
          },
          "yaxis": {
           "automargin": true,
           "gridcolor": "white",
           "linecolor": "white",
           "ticks": "",
           "title": {
            "standoff": 15
           },
           "zerolinecolor": "white",
           "zerolinewidth": 2
          }
         }
        },
        "xaxis": {
         "anchor": "y",
         "domain": [
          0,
          1
         ],
         "title": {
          "text": "DNB_BRDF_Corrected_NTL_log_P50_TESS"
         }
        },
        "yaxis": {
         "anchor": "x",
         "autorange": "reversed",
         "domain": [
          0,
          1
         ],
         "title": {
          "text": "P50_fot_TESS"
         }
        }
       }
      }
     },
     "metadata": {},
     "output_type": "display_data"
    },
    {
     "name": "stdout",
     "output_type": "stream",
     "text": [
      "r^2: 0.96\n",
      "m: -0.96+-0.11\n",
      "n: 20.93+-0.07\n"
     ]
    }
   ],
   "source": [
    "Grafico_intervalos('TESS')\n",
    "Ajuste('TESS',True)"
   ]
  },
  {
   "cell_type": "code",
   "execution_count": 81,
   "metadata": {},
   "outputs": [
    {
     "data": {
      "application/vnd.plotly.v1+json": {
       "config": {
        "plotlyServerURL": "https://plot.ly"
       },
       "data": [
        {
         "error_x": {
          "array": [
           null,
           null,
           null,
           null,
           0.5284228943763417,
           0.43446050337744935,
           0.26421144718817086,
           0.16130536714727026,
           0.10297306112715787,
           0.07968827867778626,
           0.0988325044715601,
           0.17285948031261247,
           null,
           0.11378434829901132,
           null,
           0.10741375821101391,
           null,
           null,
           null,
           null,
           null,
           null,
           null,
           null,
           null
          ]
         },
         "error_y": {
          "array": [
           null,
           null,
           null,
           null,
           0.07184010022264804,
           0.058534178050093616,
           0.05064818142095543,
           0.02937460499377324,
           0.029453923410895377,
           0.055946886207527524,
           0.0758499981689004,
           0.07877764065181612,
           null,
           0.08197713095735856,
           null,
           0.1920442657305869,
           null,
           null,
           null,
           null,
           null,
           null,
           null,
           null,
           null
          ]
         },
         "hovertemplate": "DNB_BRDF_Corrected_NTL_log_P50_SG=%{x}<br>P50_fot_SG=%{y}<extra></extra>",
         "legendgroup": "",
         "marker": {
          "color": "#636efa",
          "symbol": "circle"
         },
         "mode": "markers",
         "name": "",
         "orientation": "v",
         "showlegend": false,
         "type": "scatter",
         "x": [
          null,
          null,
          null,
          null,
          -1,
          -0.9247425010840047,
          -0.6989700043360187,
          -0.519408224818996,
          -0.32455440774944855,
          -0.11718104149848438,
          0.04019131040194999,
          0.30663816021981055,
          null,
          0.6627578316815741,
          null,
          1.173186268412274,
          null,
          null,
          null,
          null,
          null,
          null,
          null,
          null,
          null
         ],
         "xaxis": "x",
         "y": [
          null,
          null,
          null,
          null,
          21.328,
          21.299999999999997,
          21.45625,
          21.291944444444443,
          21.06361904761905,
          20.927999999999997,
          20.8625,
          20.673000000000002,
          null,
          20.691499999999998,
          null,
          19.681,
          null,
          null,
          null,
          null,
          null,
          null,
          null,
          null,
          null
         ],
         "yaxis": "y"
        }
       ],
       "layout": {
        "legend": {
         "tracegroupgap": 0
        },
        "margin": {
         "t": 60
        },
        "template": {
         "data": {
          "bar": [
           {
            "error_x": {
             "color": "#2a3f5f"
            },
            "error_y": {
             "color": "#2a3f5f"
            },
            "marker": {
             "line": {
              "color": "#E5ECF6",
              "width": 0.5
             },
             "pattern": {
              "fillmode": "overlay",
              "size": 10,
              "solidity": 0.2
             }
            },
            "type": "bar"
           }
          ],
          "barpolar": [
           {
            "marker": {
             "line": {
              "color": "#E5ECF6",
              "width": 0.5
             },
             "pattern": {
              "fillmode": "overlay",
              "size": 10,
              "solidity": 0.2
             }
            },
            "type": "barpolar"
           }
          ],
          "carpet": [
           {
            "aaxis": {
             "endlinecolor": "#2a3f5f",
             "gridcolor": "white",
             "linecolor": "white",
             "minorgridcolor": "white",
             "startlinecolor": "#2a3f5f"
            },
            "baxis": {
             "endlinecolor": "#2a3f5f",
             "gridcolor": "white",
             "linecolor": "white",
             "minorgridcolor": "white",
             "startlinecolor": "#2a3f5f"
            },
            "type": "carpet"
           }
          ],
          "choropleth": [
           {
            "colorbar": {
             "outlinewidth": 0,
             "ticks": ""
            },
            "type": "choropleth"
           }
          ],
          "contour": [
           {
            "colorbar": {
             "outlinewidth": 0,
             "ticks": ""
            },
            "colorscale": [
             [
              0,
              "#0d0887"
             ],
             [
              0.1111111111111111,
              "#46039f"
             ],
             [
              0.2222222222222222,
              "#7201a8"
             ],
             [
              0.3333333333333333,
              "#9c179e"
             ],
             [
              0.4444444444444444,
              "#bd3786"
             ],
             [
              0.5555555555555556,
              "#d8576b"
             ],
             [
              0.6666666666666666,
              "#ed7953"
             ],
             [
              0.7777777777777778,
              "#fb9f3a"
             ],
             [
              0.8888888888888888,
              "#fdca26"
             ],
             [
              1,
              "#f0f921"
             ]
            ],
            "type": "contour"
           }
          ],
          "contourcarpet": [
           {
            "colorbar": {
             "outlinewidth": 0,
             "ticks": ""
            },
            "type": "contourcarpet"
           }
          ],
          "heatmap": [
           {
            "colorbar": {
             "outlinewidth": 0,
             "ticks": ""
            },
            "colorscale": [
             [
              0,
              "#0d0887"
             ],
             [
              0.1111111111111111,
              "#46039f"
             ],
             [
              0.2222222222222222,
              "#7201a8"
             ],
             [
              0.3333333333333333,
              "#9c179e"
             ],
             [
              0.4444444444444444,
              "#bd3786"
             ],
             [
              0.5555555555555556,
              "#d8576b"
             ],
             [
              0.6666666666666666,
              "#ed7953"
             ],
             [
              0.7777777777777778,
              "#fb9f3a"
             ],
             [
              0.8888888888888888,
              "#fdca26"
             ],
             [
              1,
              "#f0f921"
             ]
            ],
            "type": "heatmap"
           }
          ],
          "heatmapgl": [
           {
            "colorbar": {
             "outlinewidth": 0,
             "ticks": ""
            },
            "colorscale": [
             [
              0,
              "#0d0887"
             ],
             [
              0.1111111111111111,
              "#46039f"
             ],
             [
              0.2222222222222222,
              "#7201a8"
             ],
             [
              0.3333333333333333,
              "#9c179e"
             ],
             [
              0.4444444444444444,
              "#bd3786"
             ],
             [
              0.5555555555555556,
              "#d8576b"
             ],
             [
              0.6666666666666666,
              "#ed7953"
             ],
             [
              0.7777777777777778,
              "#fb9f3a"
             ],
             [
              0.8888888888888888,
              "#fdca26"
             ],
             [
              1,
              "#f0f921"
             ]
            ],
            "type": "heatmapgl"
           }
          ],
          "histogram": [
           {
            "marker": {
             "pattern": {
              "fillmode": "overlay",
              "size": 10,
              "solidity": 0.2
             }
            },
            "type": "histogram"
           }
          ],
          "histogram2d": [
           {
            "colorbar": {
             "outlinewidth": 0,
             "ticks": ""
            },
            "colorscale": [
             [
              0,
              "#0d0887"
             ],
             [
              0.1111111111111111,
              "#46039f"
             ],
             [
              0.2222222222222222,
              "#7201a8"
             ],
             [
              0.3333333333333333,
              "#9c179e"
             ],
             [
              0.4444444444444444,
              "#bd3786"
             ],
             [
              0.5555555555555556,
              "#d8576b"
             ],
             [
              0.6666666666666666,
              "#ed7953"
             ],
             [
              0.7777777777777778,
              "#fb9f3a"
             ],
             [
              0.8888888888888888,
              "#fdca26"
             ],
             [
              1,
              "#f0f921"
             ]
            ],
            "type": "histogram2d"
           }
          ],
          "histogram2dcontour": [
           {
            "colorbar": {
             "outlinewidth": 0,
             "ticks": ""
            },
            "colorscale": [
             [
              0,
              "#0d0887"
             ],
             [
              0.1111111111111111,
              "#46039f"
             ],
             [
              0.2222222222222222,
              "#7201a8"
             ],
             [
              0.3333333333333333,
              "#9c179e"
             ],
             [
              0.4444444444444444,
              "#bd3786"
             ],
             [
              0.5555555555555556,
              "#d8576b"
             ],
             [
              0.6666666666666666,
              "#ed7953"
             ],
             [
              0.7777777777777778,
              "#fb9f3a"
             ],
             [
              0.8888888888888888,
              "#fdca26"
             ],
             [
              1,
              "#f0f921"
             ]
            ],
            "type": "histogram2dcontour"
           }
          ],
          "mesh3d": [
           {
            "colorbar": {
             "outlinewidth": 0,
             "ticks": ""
            },
            "type": "mesh3d"
           }
          ],
          "parcoords": [
           {
            "line": {
             "colorbar": {
              "outlinewidth": 0,
              "ticks": ""
             }
            },
            "type": "parcoords"
           }
          ],
          "pie": [
           {
            "automargin": true,
            "type": "pie"
           }
          ],
          "scatter": [
           {
            "marker": {
             "colorbar": {
              "outlinewidth": 0,
              "ticks": ""
             }
            },
            "type": "scatter"
           }
          ],
          "scatter3d": [
           {
            "line": {
             "colorbar": {
              "outlinewidth": 0,
              "ticks": ""
             }
            },
            "marker": {
             "colorbar": {
              "outlinewidth": 0,
              "ticks": ""
             }
            },
            "type": "scatter3d"
           }
          ],
          "scattercarpet": [
           {
            "marker": {
             "colorbar": {
              "outlinewidth": 0,
              "ticks": ""
             }
            },
            "type": "scattercarpet"
           }
          ],
          "scattergeo": [
           {
            "marker": {
             "colorbar": {
              "outlinewidth": 0,
              "ticks": ""
             }
            },
            "type": "scattergeo"
           }
          ],
          "scattergl": [
           {
            "marker": {
             "colorbar": {
              "outlinewidth": 0,
              "ticks": ""
             }
            },
            "type": "scattergl"
           }
          ],
          "scattermapbox": [
           {
            "marker": {
             "colorbar": {
              "outlinewidth": 0,
              "ticks": ""
             }
            },
            "type": "scattermapbox"
           }
          ],
          "scatterpolar": [
           {
            "marker": {
             "colorbar": {
              "outlinewidth": 0,
              "ticks": ""
             }
            },
            "type": "scatterpolar"
           }
          ],
          "scatterpolargl": [
           {
            "marker": {
             "colorbar": {
              "outlinewidth": 0,
              "ticks": ""
             }
            },
            "type": "scatterpolargl"
           }
          ],
          "scatterternary": [
           {
            "marker": {
             "colorbar": {
              "outlinewidth": 0,
              "ticks": ""
             }
            },
            "type": "scatterternary"
           }
          ],
          "surface": [
           {
            "colorbar": {
             "outlinewidth": 0,
             "ticks": ""
            },
            "colorscale": [
             [
              0,
              "#0d0887"
             ],
             [
              0.1111111111111111,
              "#46039f"
             ],
             [
              0.2222222222222222,
              "#7201a8"
             ],
             [
              0.3333333333333333,
              "#9c179e"
             ],
             [
              0.4444444444444444,
              "#bd3786"
             ],
             [
              0.5555555555555556,
              "#d8576b"
             ],
             [
              0.6666666666666666,
              "#ed7953"
             ],
             [
              0.7777777777777778,
              "#fb9f3a"
             ],
             [
              0.8888888888888888,
              "#fdca26"
             ],
             [
              1,
              "#f0f921"
             ]
            ],
            "type": "surface"
           }
          ],
          "table": [
           {
            "cells": {
             "fill": {
              "color": "#EBF0F8"
             },
             "line": {
              "color": "white"
             }
            },
            "header": {
             "fill": {
              "color": "#C8D4E3"
             },
             "line": {
              "color": "white"
             }
            },
            "type": "table"
           }
          ]
         },
         "layout": {
          "annotationdefaults": {
           "arrowcolor": "#2a3f5f",
           "arrowhead": 0,
           "arrowwidth": 1
          },
          "autotypenumbers": "strict",
          "coloraxis": {
           "colorbar": {
            "outlinewidth": 0,
            "ticks": ""
           }
          },
          "colorscale": {
           "diverging": [
            [
             0,
             "#8e0152"
            ],
            [
             0.1,
             "#c51b7d"
            ],
            [
             0.2,
             "#de77ae"
            ],
            [
             0.3,
             "#f1b6da"
            ],
            [
             0.4,
             "#fde0ef"
            ],
            [
             0.5,
             "#f7f7f7"
            ],
            [
             0.6,
             "#e6f5d0"
            ],
            [
             0.7,
             "#b8e186"
            ],
            [
             0.8,
             "#7fbc41"
            ],
            [
             0.9,
             "#4d9221"
            ],
            [
             1,
             "#276419"
            ]
           ],
           "sequential": [
            [
             0,
             "#0d0887"
            ],
            [
             0.1111111111111111,
             "#46039f"
            ],
            [
             0.2222222222222222,
             "#7201a8"
            ],
            [
             0.3333333333333333,
             "#9c179e"
            ],
            [
             0.4444444444444444,
             "#bd3786"
            ],
            [
             0.5555555555555556,
             "#d8576b"
            ],
            [
             0.6666666666666666,
             "#ed7953"
            ],
            [
             0.7777777777777778,
             "#fb9f3a"
            ],
            [
             0.8888888888888888,
             "#fdca26"
            ],
            [
             1,
             "#f0f921"
            ]
           ],
           "sequentialminus": [
            [
             0,
             "#0d0887"
            ],
            [
             0.1111111111111111,
             "#46039f"
            ],
            [
             0.2222222222222222,
             "#7201a8"
            ],
            [
             0.3333333333333333,
             "#9c179e"
            ],
            [
             0.4444444444444444,
             "#bd3786"
            ],
            [
             0.5555555555555556,
             "#d8576b"
            ],
            [
             0.6666666666666666,
             "#ed7953"
            ],
            [
             0.7777777777777778,
             "#fb9f3a"
            ],
            [
             0.8888888888888888,
             "#fdca26"
            ],
            [
             1,
             "#f0f921"
            ]
           ]
          },
          "colorway": [
           "#636efa",
           "#EF553B",
           "#00cc96",
           "#ab63fa",
           "#FFA15A",
           "#19d3f3",
           "#FF6692",
           "#B6E880",
           "#FF97FF",
           "#FECB52"
          ],
          "font": {
           "color": "#2a3f5f"
          },
          "geo": {
           "bgcolor": "white",
           "lakecolor": "white",
           "landcolor": "#E5ECF6",
           "showlakes": true,
           "showland": true,
           "subunitcolor": "white"
          },
          "hoverlabel": {
           "align": "left"
          },
          "hovermode": "closest",
          "mapbox": {
           "style": "light"
          },
          "paper_bgcolor": "white",
          "plot_bgcolor": "#E5ECF6",
          "polar": {
           "angularaxis": {
            "gridcolor": "white",
            "linecolor": "white",
            "ticks": ""
           },
           "bgcolor": "#E5ECF6",
           "radialaxis": {
            "gridcolor": "white",
            "linecolor": "white",
            "ticks": ""
           }
          },
          "scene": {
           "xaxis": {
            "backgroundcolor": "#E5ECF6",
            "gridcolor": "white",
            "gridwidth": 2,
            "linecolor": "white",
            "showbackground": true,
            "ticks": "",
            "zerolinecolor": "white"
           },
           "yaxis": {
            "backgroundcolor": "#E5ECF6",
            "gridcolor": "white",
            "gridwidth": 2,
            "linecolor": "white",
            "showbackground": true,
            "ticks": "",
            "zerolinecolor": "white"
           },
           "zaxis": {
            "backgroundcolor": "#E5ECF6",
            "gridcolor": "white",
            "gridwidth": 2,
            "linecolor": "white",
            "showbackground": true,
            "ticks": "",
            "zerolinecolor": "white"
           }
          },
          "shapedefaults": {
           "line": {
            "color": "#2a3f5f"
           }
          },
          "ternary": {
           "aaxis": {
            "gridcolor": "white",
            "linecolor": "white",
            "ticks": ""
           },
           "baxis": {
            "gridcolor": "white",
            "linecolor": "white",
            "ticks": ""
           },
           "bgcolor": "#E5ECF6",
           "caxis": {
            "gridcolor": "white",
            "linecolor": "white",
            "ticks": ""
           }
          },
          "title": {
           "x": 0.05
          },
          "xaxis": {
           "automargin": true,
           "gridcolor": "white",
           "linecolor": "white",
           "ticks": "",
           "title": {
            "standoff": 15
           },
           "zerolinecolor": "white",
           "zerolinewidth": 2
          },
          "yaxis": {
           "automargin": true,
           "gridcolor": "white",
           "linecolor": "white",
           "ticks": "",
           "title": {
            "standoff": 15
           },
           "zerolinecolor": "white",
           "zerolinewidth": 2
          }
         }
        },
        "xaxis": {
         "anchor": "y",
         "domain": [
          0,
          1
         ],
         "title": {
          "text": "DNB_BRDF_Corrected_NTL_log_P50_SG"
         }
        },
        "yaxis": {
         "anchor": "x",
         "autorange": "reversed",
         "domain": [
          0,
          1
         ],
         "title": {
          "text": "P50_fot_SG"
         }
        }
       }
      }
     },
     "metadata": {},
     "output_type": "display_data"
    },
    {
     "name": "stdout",
     "output_type": "stream",
     "text": [
      "r^2: 0.83\n",
      "m: -0.89+-0.24\n",
      "n: 20.94+-0.24\n"
     ]
    }
   ],
   "source": [
    "Grafico_intervalos('SG')\n",
    "Ajuste('SG',True)"
   ]
  },
  {
   "cell_type": "markdown",
   "metadata": {},
   "source": [
    "# VALVERDE DE BURGUILLOS"
   ]
  },
  {
   "cell_type": "markdown",
   "metadata": {},
   "source": [
    "## Histograma Valverde mismo pixel"
   ]
  },
  {
   "cell_type": "markdown",
   "metadata": {},
   "source": [
    "Cantidad de fotómetros"
   ]
  },
  {
   "cell_type": "code",
   "execution_count": 82,
   "metadata": {},
   "outputs": [
    {
     "name": "stdout",
     "output_type": "stream",
     "text": [
      "Hay 19 fotómetros en Valverde de Burguillos\n"
     ]
    }
   ],
   "source": [
    "print('Hay '+str(len(Fotometros[Fotometros['town']=='Valverde de Burguillos']))+' fotómetros en Valverde de Burguillos')"
   ]
  },
  {
   "cell_type": "markdown",
   "metadata": {},
   "source": [
    "Función que le das un vector de vectores y los hace todos de la misma longitud"
   ]
  },
  {
   "cell_type": "code",
   "execution_count": 83,
   "metadata": {},
   "outputs": [],
   "source": [
    "def Igualar_longitud(V):\n",
    "    V=[list(i) for i in V]\n",
    "    v1=[len(i) for i in V]\n",
    "    print(v1)\n",
    "    W=[]\n",
    "    for j in V:\n",
    "        W=W+[j+(max(v1)-len(j))*[None]]\n",
    "    v2=[len(i) for i in W]\n",
    "    return W"
   ]
  },
  {
   "cell_type": "markdown",
   "metadata": {},
   "source": [
    "Histograma de los 4 fotómetros en el mismo pixel"
   ]
  },
  {
   "cell_type": "code",
   "execution_count": 84,
   "metadata": {},
   "outputs": [],
   "source": [
    "data_filtrado=Fotometros_registros[(Fotometros_registros['clouds']==False) & (Fotometros_registros['moon']==False) & (Fotometros_registros['galaxy']==False) & (Fotometros_registros['zodiacal']==False) ]\n",
    "M=data_filtrado.groupby(['name']).median(numeric_only=True)[['mag']]\n",
    "M.columns=['mediana_estricto']\n",
    "data_filtrado=Fotometros_registros[(Fotometros_registros['clouds']==False) & (Fotometros_registros['moon']==False)]\n",
    "data_filtrado=data_filtrado.merge(M,left_on='name',right_on='name')\n",
    "data_filtrado=data_filtrado[((data_filtrado['galaxy']==False) & (data_filtrado['zodiacal']==False) & (data_filtrado['mediana_estricto']>20)) | (data_filtrado['mediana_estricto']<=20)]"
   ]
  },
  {
   "cell_type": "code",
   "execution_count": 85,
   "metadata": {},
   "outputs": [
    {
     "name": "stdout",
     "output_type": "stream",
     "text": [
      "LPL15_030:   P50=20.93      n=166\n",
      "LPL15_045:   P50=20.5      n=772\n",
      "stars767:   P50=20.7      n=2509\n",
      "stars770:   P50=20.63      n=683\n",
      "VIIRS:   P50=20.6      n=239\n"
     ]
    },
    {
     "data": {
      "image/png": "[encoded data removed]",
      "text/plain": [
       "<Figure size 640x480 with 1 Axes>"
      ]
     },
     "metadata": {},
     "output_type": "display_data"
    }
   ],
   "source": [
    "bins=(np.array(range(170,220))/10)\n",
    "fotos=['LPL15_030','LPL15_045','stars767','stars770']\n",
    "Val=[]\n",
    "for i in fotos:\n",
    "    a1=data_filtrado[data_filtrado['name']==i]['mag'].values\n",
    "    a=plt.hist(a1,bins,histtype='step',density=True)\n",
    "    print(i+':   P50='+str(np.round(np.median(a1),2))+'      n='+str(len(a1)))\n",
    "    Val=Val+[a1]\n",
    "ajus=Ajuste('all',False)\n",
    "e1=Registros_corr_F[Registros_corr_F['name']=='LPL15_030']['DNB_BRDF_Corrected_NTL_log'].values*ajus[1]+ajus[2]\n",
    "print('VIIRS'+':   P50='+str(np.round(np.median(e1),2))+'      n='+str(len(e1)))\n",
    "e=plt.hist(e1,bins,histtype='step',density=True)\n",
    "Val=Val+[e1]"
   ]
  },
  {
   "cell_type": "code",
   "execution_count": 86,
   "metadata": {},
   "outputs": [
    {
     "name": "stdout",
     "output_type": "stream",
     "text": [
      "[166, 772, 2509, 683, 239]\n"
     ]
    }
   ],
   "source": [
    "guar=Igualar_longitud(Val)\n",
    "guardar=pd.DataFrame({'LPL15_030':guar[0],'LPL15_045':guar[1],'stars767':guar[2],'stars770':guar[3],'sat':guar[4]})\n",
    "guardar.to_csv(output+'\\Figura_13.csv',index=False)"
   ]
  },
  {
   "cell_type": "markdown",
   "metadata": {},
   "source": [
    "## Elaboración del mapa"
   ]
  },
  {
   "cell_type": "markdown",
   "metadata": {},
   "source": [
    "Obtenemos los datos para el mapa de Valverde"
   ]
  },
  {
   "cell_type": "code",
   "execution_count": 87,
   "metadata": {},
   "outputs": [],
   "source": [
    "Valverde=pd.read_csv(input_satellite_valverde)"
   ]
  },
  {
   "cell_type": "markdown",
   "metadata": {},
   "source": [
    "Elaboramos el dataset de los datos satélite"
   ]
  },
  {
   "cell_type": "code",
   "execution_count": 88,
   "metadata": {
    "scrolled": true
   },
   "outputs": [
    {
     "name": "stderr",
     "output_type": "stream",
     "text": [
      "c:\\Users\\borja\\anaconda3\\envs\\EELabs2\\lib\\site-packages\\pandas\\core\\arraylike.py:397: RuntimeWarning:\n",
      "\n",
      "divide by zero encountered in log10\n",
      "\n"
     ]
    }
   ],
   "source": [
    "Valverde['Date']=pd.to_datetime(Valverde['Date'])\n",
    "Valverde=Valverde[(Valverde['Cloud_Detection_Results']=='Confident_clear') & (Valverde['Shadow_Detected']=='No') & (Valverde['Cirrus_Detection']=='No_cloud')]\n",
    "Valverde=Valverde.dropna()\n",
    "Valverde['DNB_BRDF_Corrected_NTL_log']=np.log10(Valverde['DNB_BRDF-Corrected_NTL'])\n",
    "V=pd.DataFrame(list(Valverde.groupby(['lon','lat']).median(numeric_only=True).index))\n",
    "V.columns=['lon','lat']\n",
    "V['DNB_BRDF_Corrected_NTL_log']=Valverde.groupby(['lon','lat']).median(numeric_only=True)['DNB_BRDF_Corrected_NTL_log'].values\n",
    "V=V.sort_values(['lon','lat'])"
   ]
  },
  {
   "cell_type": "markdown",
   "metadata": {},
   "source": [
    "Los datos satélite lo ponemos en forma de matriz según su latitud o longitud"
   ]
  },
  {
   "cell_type": "code",
   "execution_count": 89,
   "metadata": {},
   "outputs": [],
   "source": [
    "LON,LAT=len(set(V['lon'])),len(set(V['lat']))\n",
    "LONGITUD=np.transpose(V['lon'].values.reshape(LON,LAT))[::-1]\n",
    "LATITUD=np.transpose(V['lat'].values.reshape(LON,LAT))[::-1]\n",
    "VALORES=np.transpose(V['DNB_BRDF_Corrected_NTL_log'].values.reshape(LON,LAT))[::-1]\n",
    "Errores=np.sqrt((VALORES*ajus[3])**2+(ajus[4])**2+(ajus[1]*.1/np.log(10)/10**VALORES)**2)"
   ]
  },
  {
   "cell_type": "markdown",
   "metadata": {},
   "source": [
    "Elaboramos el dataset de los datos de los fotómetros"
   ]
  },
  {
   "cell_type": "code",
   "execution_count": 90,
   "metadata": {},
   "outputs": [],
   "source": [
    "Fotometros_Valverde=Fotometros[(Fotometros['latitude']>=min(V['lat'])) & (Fotometros['latitude']<=max(V['lat'])) & (Fotometros['longitude']>=min(V['lon'])) & (Fotometros['longitude']<=max(V['lon']))]\n",
    "Fot_Valverde=data_filtrado[['name','mag']].groupby(['name']).median().merge(Fotometros_Valverde[['name','latitude','longitude']],left_on='name',right_on='name')\n",
    "Fot_Valverde=data_filtrado[['name','mag']].groupby(['name']).quantile(.25).merge(Fot_Valverde,left_on='name',right_on='name')\n",
    "Fot_Valverde=data_filtrado[['name','mag']].groupby(['name']).quantile(.75).merge(Fot_Valverde,left_on='name',right_on='name')\n",
    "col=list(Fot_Valverde.columns)\n",
    "col[1]='Q3'\n",
    "col[2]='Q1'\n",
    "col[3]='mag'\n",
    "Fot_Valverde.columns=col\n",
    "Fot_Valverde=data_filtrado[['name','mag']].groupby(['name']).count().merge(Fot_Valverde[['name','mag','Q1','Q3','latitude','longitude']],left_on='name',right_on='name')\n",
    "Fot_Valverde.columns=[Fot_Valverde.columns[0]]+['n','mag']+list(Fot_Valverde.columns[3:].values)"
   ]
  },
  {
   "cell_type": "markdown",
   "metadata": {},
   "source": [
    "Escala de colorres para el mapeado"
   ]
  },
  {
   "cell_type": "code",
   "execution_count": 91,
   "metadata": {},
   "outputs": [],
   "source": [
    "Colores=__mag_colors = [\"#D01A2B\",\"#CE222A\",\"#CC2B29\",\"#CB3428\",\"#CB4327\",\"#CD4E26\",\"#D25A25\",\"#D86824\",\"#DE7823\",\"#E48A22\",\"#E89E21\",\"#EEAB20\",\"#F2B71F\",\"#F6C31E\",\"#FECD1E\",\"#F8D11F\",\"#EBCE20\",\"#DEC921\",\"#CCC521\",\"#BAC221\",\"#A8BE21\",\"#94BC21\",\"#7FBA23\",\"#6CB928\",\"#58B92D\",\"#4CBA36\",\"#42BC40\",\"#3ABE4C\",\"#35C05B\",\"#32C26A\",\"#2FC578\",\"#2CC886\",\"#28C994\",\"#24C8A3\",\"#21C5B0\",\"#1EC1BD\",\"#1ABCC9\",\"#17B2D1\",\"#14A6D6\",\"#119ADA\",\"#118EDC\",\"#1382DC\",\"#1576DC\",\"#176ADC\",\"#195EDB\",\"#1B52D9\",\"#1D46D7\",\"#1F3AD5\",\"#212ED3\",\"#2324D1\",\"#261CCE\",\"#2D19CB\",\"#341AC8\",\"#3B1BC4\",\"#421DBF\",\"#491FBA\",\"#5021B4\",\"#5523AB\",\"#5825A2\",\"#5B2799\"]\n",
    "Min_escala=20.3 \n",
    "Max_escala=21.5\n",
    "Step_escala=12\n",
    "cm=branca.colormap.LinearColormap(Colores,vmin=Min_escala, vmax=Max_escala).to_step(Step_escala)"
   ]
  },
  {
   "cell_type": "markdown",
   "metadata": {},
   "source": [
    "Tranformar los valores a la escala de colores correspondiente"
   ]
  },
  {
   "cell_type": "code",
   "execution_count": 92,
   "metadata": {},
   "outputs": [],
   "source": [
    "inter=round((Max_escala-Min_escala)/Step_escala,10)\n",
    "Leyenda_escala=[round(Min_escala+i*inter,10) for i in range(0,Step_escala+1)]\n",
    "Colores_RGB=np.array(cm.colors)*255\n",
    "Colores_RGB[:,3]=np.array([200]*len(Colores_RGB[:,3]))"
   ]
  },
  {
   "cell_type": "code",
   "execution_count": 93,
   "metadata": {},
   "outputs": [],
   "source": [
    "a=(VALORES*ajus[1]+ajus[2])\n",
    "CZ=np.round(np.trunc(a*1/inter)*inter,4)\n",
    "PZ=(CZ-Min_escala)/inter\n",
    "PZ=np.round(PZ,2).astype('int')"
   ]
  },
  {
   "cell_type": "code",
   "execution_count": 94,
   "metadata": {},
   "outputs": [],
   "source": [
    "for i in list(set(PZ.reshape(-1))):\n",
    "    Col=[]\n",
    "    for i in PZ.reshape([-1]):\n",
    "        Col=Col+[Colores_RGB[i].astype('int')]\n",
    "Col=np.array(Col).reshape(PZ.shape[0],PZ.shape[1],4)\n",
    "Col=Col/255\n",
    "Col[0,0,3]=1"
   ]
  },
  {
   "cell_type": "code",
   "execution_count": 95,
   "metadata": {},
   "outputs": [],
   "source": [
    "CZ=np.round(np.trunc(Fot_Valverde['mag']*1/inter)*inter,4)\n",
    "PZ=(CZ-Min_escala)/inter\n",
    "PZ=np.round(PZ,2).values.astype('int')"
   ]
  },
  {
   "cell_type": "code",
   "execution_count": 96,
   "metadata": {},
   "outputs": [],
   "source": [
    "for i in list(set(PZ.reshape(-1))):\n",
    "    Color=[]\n",
    "    for i in PZ.reshape([-1]):\n",
    "        Color=Color+[Colores_RGB[i].astype('int')]\n",
    "Color=np.array(Color).reshape(-1,4)\n",
    "Fot_Valverde['Color']=list(Color)"
   ]
  },
  {
   "cell_type": "markdown",
   "metadata": {},
   "source": [
    "Obtener las coordenadas de las esquinas del mapa"
   ]
  },
  {
   "cell_type": "code",
   "execution_count": 97,
   "metadata": {},
   "outputs": [],
   "source": [
    "paso_lat=(max(V['lat'])-min(V['lat']))/len(set(V['lat']))\n",
    "paso_lon=(max(V['lon'])-min(V['lon']))/len(set(V['lon']))\n",
    "Esquina_sup_izq=max(V['lat'])+paso_lat/2,min(V['lon'])-paso_lon/2\n",
    "Esquina_inf_dere=min(V['lat'])-paso_lat/2,max(V['lon'])+paso_lon/2"
   ]
  },
  {
   "cell_type": "markdown",
   "metadata": {},
   "source": [
    "Funciiones para pasar de código RGB a hexadecimal"
   ]
  },
  {
   "cell_type": "code",
   "execution_count": 98,
   "metadata": {},
   "outputs": [],
   "source": [
    "def poner_ceros(a):\n",
    "    if len(a)<2:\n",
    "        return '0'+a\n",
    "    else:\n",
    "        return a\n",
    "def rgb_to_hex(v): #Función cambio rgb a hex\n",
    "    r,g,b=v\n",
    "    r=poner_ceros(('{:X}').format(r))\n",
    "    g=poner_ceros(('{:X}').format(g))\n",
    "    b=poner_ceros(('{:X}').format(b))\n",
    "    return r+g+b"
   ]
  },
  {
   "cell_type": "markdown",
   "metadata": {},
   "source": [
    "Elaboración del mapa"
   ]
  },
  {
   "cell_type": "code",
   "execution_count": 99,
   "metadata": {},
   "outputs": [],
   "source": [
    "geomap = folium.Map([(Esquina_sup_izq[0]+Esquina_inf_dere[0])/2, (Esquina_sup_izq[1]+Esquina_inf_dere[1])/2], zoom_start=14, \n",
    "                    max_zoom = 15, min_zoom=9,\n",
    "                    max_lat=Esquina_sup_izq[0]+2,max_lot=Esquina_sup_izq[1]+2,min_lat=Esquina_inf_dere[0]-2,min_lot=Esquina_inf_dere[1]-2,max_bounds=True)\n",
    "geomap =folium.Map([37, 0], zoom_start=3)  "
   ]
  },
  {
   "cell_type": "code",
   "execution_count": 100,
   "metadata": {},
   "outputs": [
    {
     "data": {
      "text/plain": [
       "<folium.map.FeatureGroup at 0x1dc002f5820>"
      ]
     },
     "execution_count": 100,
     "metadata": {},
     "output_type": "execute_result"
    }
   ],
   "source": [
    "Grupo = folium.FeatureGroup(name='Estaciones', show=False) \n",
    "for i in range(0,len(Fot_Valverde)):\n",
    "    if Fot_Valverde['n'][i]>500:\n",
    "        aro='black'\n",
    "    else:\n",
    "        aro='red'\n",
    "    if Fot_Valverde['mag'][i]<21.12:\n",
    "        folium.CircleMarker(location=[Fot_Valverde['latitude'][i],Fot_Valverde['longitude'][i]], popup=Fot_Valverde['mag'][i], fill_color='#'+rgb_to_hex(list(Fot_Valverde['Color'][i])[:-1]), radius=6, weight=2, color=aro,fill_opacity=.9).add_to(Grupo)\n",
    "    else:\n",
    "        folium.RegularPolygonMarker(rotation=45,location=[Fot_Valverde['latitude'][i],Fot_Valverde['longitude'][i]], popup=Fot_Valverde['mag'][i], fill_color='#'+rgb_to_hex(list(Fot_Valverde['Color'][i])[:-1]), radius=8, weight=2, color=aro,fill_opacity=.9).add_to(Grupo)       \n",
    "Grupo.add_to(geomap)"
   ]
  },
  {
   "cell_type": "code",
   "execution_count": 101,
   "metadata": {
    "scrolled": true
   },
   "outputs": [
    {
     "data": {
      "text/html": [
       "<div style=\"width:100%;\"><div style=\"position:relative;width:100%;height:0;padding-bottom:60%;\"><span style=\"color:#565656\">Make this Notebook Trusted to load map: File -> Trust Notebook</span><iframe srcdoc=\"&lt;!DOCTYPE html&gt;\n",
       "&lt;html&gt;\n",
       "&lt;head&gt;\n",
       "    \n",
       "    &lt;meta http-equiv=&quot;content-type&quot; content=&quot;text/html; charset=UTF-8&quot; /&gt;\n",
       "    \n",
       "        &lt;script&gt;\n",
       "            L_NO_TOUCH = false;\n",
       "            L_DISABLE_3D = false;\n",
       "        &lt;/script&gt;\n",
       "    \n",
       "    &lt;style&gt;html, body {width: 100%;height: 100%;margin: 0;padding: 0;}&lt;/style&gt;\n",
       "    &lt;style&gt;#map {position:absolute;top:0;bottom:0;right:0;left:0;}&lt;/style&gt;\n",
       "    &lt;script src=&quot;https://cdn.jsdelivr.net/npm/leaflet@1.9.3/dist/leaflet.js&quot;&gt;&lt;/script&gt;\n",
       "    &lt;script src=&quot;https://code.jquery.com/jquery-1.12.4.min.js&quot;&gt;&lt;/script&gt;\n",
       "    &lt;script src=&quot;https://cdn.jsdelivr.net/npm/bootstrap@5.2.2/dist/js/bootstrap.bundle.min.js&quot;&gt;&lt;/script&gt;\n",
       "    &lt;script src=&quot;https://cdnjs.cloudflare.com/ajax/libs/Leaflet.awesome-markers/2.0.2/leaflet.awesome-markers.js&quot;&gt;&lt;/script&gt;\n",
       "    &lt;link rel=&quot;stylesheet&quot; href=&quot;https://cdn.jsdelivr.net/npm/leaflet@1.9.3/dist/leaflet.css&quot;/&gt;\n",
       "    &lt;link rel=&quot;stylesheet&quot; href=&quot;https://cdn.jsdelivr.net/npm/bootstrap@5.2.2/dist/css/bootstrap.min.css&quot;/&gt;\n",
       "    &lt;link rel=&quot;stylesheet&quot; href=&quot;https://netdna.bootstrapcdn.com/bootstrap/3.0.0/css/bootstrap.min.css&quot;/&gt;\n",
       "    &lt;link rel=&quot;stylesheet&quot; href=&quot;https://cdn.jsdelivr.net/npm/@fortawesome/fontawesome-free@6.2.0/css/all.min.css&quot;/&gt;\n",
       "    &lt;link rel=&quot;stylesheet&quot; href=&quot;https://cdnjs.cloudflare.com/ajax/libs/Leaflet.awesome-markers/2.0.2/leaflet.awesome-markers.css&quot;/&gt;\n",
       "    &lt;link rel=&quot;stylesheet&quot; href=&quot;https://cdn.jsdelivr.net/gh/python-visualization/folium/folium/templates/leaflet.awesome.rotate.min.css&quot;/&gt;\n",
       "    \n",
       "            &lt;meta name=&quot;viewport&quot; content=&quot;width=device-width,\n",
       "                initial-scale=1.0, maximum-scale=1.0, user-scalable=no&quot; /&gt;\n",
       "            &lt;style&gt;\n",
       "                #map_d6763a4a6b363bb0f0fbe38359630c97 {\n",
       "                    position: relative;\n",
       "                    width: 100.0%;\n",
       "                    height: 100.0%;\n",
       "                    left: 0.0%;\n",
       "                    top: 0.0%;\n",
       "                }\n",
       "                .leaflet-container { font-size: 1rem; }\n",
       "            &lt;/style&gt;\n",
       "        \n",
       "    &lt;script src=&quot;https://cdnjs.cloudflare.com/ajax/libs/leaflet-dvf/0.3.0/leaflet-dvf.markers.min.js&quot;&gt;&lt;/script&gt;\n",
       "    \n",
       "                &lt;style&gt;\n",
       "                    .leaflet-image-layer {\n",
       "                        /* old android/safari*/\n",
       "                        image-rendering: -webkit-optimize-contrast;\n",
       "                        image-rendering: crisp-edges; /* safari */\n",
       "                        image-rendering: pixelated; /* chrome */\n",
       "                        image-rendering: -moz-crisp-edges; /* firefox */\n",
       "                        image-rendering: -o-crisp-edges; /* opera */\n",
       "                        -ms-interpolation-mode: nearest-neighbor; /* ie */\n",
       "                    }\n",
       "                &lt;/style&gt;\n",
       "            \n",
       "    &lt;script src=&quot;https://cdnjs.cloudflare.com/ajax/libs/d3/3.5.5/d3.min.js&quot;&gt;&lt;/script&gt;\n",
       "&lt;/head&gt;\n",
       "&lt;body&gt;\n",
       "    \n",
       "    \n",
       "            &lt;div class=&quot;folium-map&quot; id=&quot;map_d6763a4a6b363bb0f0fbe38359630c97&quot; &gt;&lt;/div&gt;\n",
       "        \n",
       "&lt;/body&gt;\n",
       "&lt;script&gt;\n",
       "    \n",
       "    \n",
       "            var map_d6763a4a6b363bb0f0fbe38359630c97 = L.map(\n",
       "                &quot;map_d6763a4a6b363bb0f0fbe38359630c97&quot;,\n",
       "                {\n",
       "                    center: [37.0, 0.0],\n",
       "                    crs: L.CRS.EPSG3857,\n",
       "                    zoom: 3,\n",
       "                    zoomControl: true,\n",
       "                    preferCanvas: false,\n",
       "                }\n",
       "            );\n",
       "\n",
       "            \n",
       "\n",
       "        \n",
       "    \n",
       "            var tile_layer_33d38e8c109bdc1d42372d557438563b = L.tileLayer(\n",
       "                &quot;https://{s}.tile.openstreetmap.org/{z}/{x}/{y}.png&quot;,\n",
       "                {&quot;attribution&quot;: &quot;Data by \\u0026copy; \\u003ca target=\\&quot;_blank\\&quot; href=\\&quot;http://openstreetmap.org\\&quot;\\u003eOpenStreetMap\\u003c/a\\u003e, under \\u003ca target=\\&quot;_blank\\&quot; href=\\&quot;http://www.openstreetmap.org/copyright\\&quot;\\u003eODbL\\u003c/a\\u003e.&quot;, &quot;detectRetina&quot;: false, &quot;maxNativeZoom&quot;: 18, &quot;maxZoom&quot;: 18, &quot;minZoom&quot;: 0, &quot;noWrap&quot;: false, &quot;opacity&quot;: 1, &quot;subdomains&quot;: &quot;abc&quot;, &quot;tms&quot;: false}\n",
       "            ).addTo(map_d6763a4a6b363bb0f0fbe38359630c97);\n",
       "        \n",
       "    \n",
       "            var feature_group_0c3bab04f116af86598cbcf929ee3292 = L.featureGroup(\n",
       "                {}\n",
       "            ).addTo(map_d6763a4a6b363bb0f0fbe38359630c97);\n",
       "        \n",
       "    \n",
       "            var regular_polygon_marker_f5baff2a930b97b4541337a24d247290 = new L.RegularPolygonMarker(\n",
       "                [38.31089, -6.55418],\n",
       "                {&quot;bubblingMouseEvents&quot;: true, &quot;color&quot;: &quot;black&quot;, &quot;dashArray&quot;: null, &quot;dashOffset&quot;: null, &quot;fill&quot;: true, &quot;fillColor&quot;: &quot;#166BDC&quot;, &quot;fillOpacity&quot;: 0.9, &quot;fillRule&quot;: &quot;evenodd&quot;, &quot;lineCap&quot;: &quot;round&quot;, &quot;lineJoin&quot;: &quot;round&quot;, &quot;numberOfSides&quot;: 4, &quot;opacity&quot;: 1.0, &quot;radius&quot;: 8, &quot;rotation&quot;: 45, &quot;stroke&quot;: true, &quot;weight&quot;: 2}\n",
       "            ).addTo(feature_group_0c3bab04f116af86598cbcf929ee3292);\n",
       "        \n",
       "    \n",
       "        var popup_641735f557ed5710da3f7b35f6d7b5d2 = L.popup({&quot;maxWidth&quot;: &quot;100%&quot;});\n",
       "\n",
       "        \n",
       "            \n",
       "                var html_aaeeec27863993dbe2c11d9afba00a20 = $(`&lt;div id=&quot;html_aaeeec27863993dbe2c11d9afba00a20&quot; style=&quot;width: 100.0%; height: 100.0%;&quot;&gt;21.197&lt;/div&gt;`)[0];\n",
       "                popup_641735f557ed5710da3f7b35f6d7b5d2.setContent(html_aaeeec27863993dbe2c11d9afba00a20);\n",
       "            \n",
       "        \n",
       "\n",
       "        regular_polygon_marker_f5baff2a930b97b4541337a24d247290.bindPopup(popup_641735f557ed5710da3f7b35f6d7b5d2)\n",
       "        ;\n",
       "\n",
       "        \n",
       "    \n",
       "    \n",
       "            var circle_marker_e3d9137cb10818ccbd90bfa34afe2c82 = L.circleMarker(\n",
       "                [38.32244, -6.53967],\n",
       "                {&quot;bubblingMouseEvents&quot;: true, &quot;color&quot;: &quot;black&quot;, &quot;dashArray&quot;: null, &quot;dashOffset&quot;: null, &quot;fill&quot;: true, &quot;fillColor&quot;: &quot;#15ABD3&quot;, &quot;fillOpacity&quot;: 0.9, &quot;fillRule&quot;: &quot;evenodd&quot;, &quot;lineCap&quot;: &quot;round&quot;, &quot;lineJoin&quot;: &quot;round&quot;, &quot;opacity&quot;: 1.0, &quot;radius&quot;: 6, &quot;stroke&quot;: true, &quot;weight&quot;: 2}\n",
       "            ).addTo(feature_group_0c3bab04f116af86598cbcf929ee3292);\n",
       "        \n",
       "    \n",
       "        var popup_7a0d8cd8cf3a1cdb6663a155f7c1713d = L.popup({&quot;maxWidth&quot;: &quot;100%&quot;});\n",
       "\n",
       "        \n",
       "            \n",
       "                var html_6bf7877312e2c05ec3f691875d5cfebf = $(`&lt;div id=&quot;html_6bf7877312e2c05ec3f691875d5cfebf&quot; style=&quot;width: 100.0%; height: 100.0%;&quot;&gt;21.094&lt;/div&gt;`)[0];\n",
       "                popup_7a0d8cd8cf3a1cdb6663a155f7c1713d.setContent(html_6bf7877312e2c05ec3f691875d5cfebf);\n",
       "            \n",
       "        \n",
       "\n",
       "        circle_marker_e3d9137cb10818ccbd90bfa34afe2c82.bindPopup(popup_7a0d8cd8cf3a1cdb6663a155f7c1713d)\n",
       "        ;\n",
       "\n",
       "        \n",
       "    \n",
       "    \n",
       "            var circle_marker_e805c6e46066e6641fc8a021f811ca94 = L.circleMarker(\n",
       "                [38.34553, -6.52657],\n",
       "                {&quot;bubblingMouseEvents&quot;: true, &quot;color&quot;: &quot;black&quot;, &quot;dashArray&quot;: null, &quot;dashOffset&quot;: null, &quot;fill&quot;: true, &quot;fillColor&quot;: &quot;#27C896&quot;, &quot;fillOpacity&quot;: 0.9, &quot;fillRule&quot;: &quot;evenodd&quot;, &quot;lineCap&quot;: &quot;round&quot;, &quot;lineJoin&quot;: &quot;round&quot;, &quot;opacity&quot;: 1.0, &quot;radius&quot;: 6, &quot;stroke&quot;: true, &quot;weight&quot;: 2}\n",
       "            ).addTo(feature_group_0c3bab04f116af86598cbcf929ee3292);\n",
       "        \n",
       "    \n",
       "        var popup_61cc428fff1922a76a60f62d7fc064c9 = L.popup({&quot;maxWidth&quot;: &quot;100%&quot;});\n",
       "\n",
       "        \n",
       "            \n",
       "                var html_d80b9a4193c9e65307c8301dd66255bb = $(`&lt;div id=&quot;html_d80b9a4193c9e65307c8301dd66255bb&quot; style=&quot;width: 100.0%; height: 100.0%;&quot;&gt;20.941&lt;/div&gt;`)[0];\n",
       "                popup_61cc428fff1922a76a60f62d7fc064c9.setContent(html_d80b9a4193c9e65307c8301dd66255bb);\n",
       "            \n",
       "        \n",
       "\n",
       "        circle_marker_e805c6e46066e6641fc8a021f811ca94.bindPopup(popup_61cc428fff1922a76a60f62d7fc064c9)\n",
       "        ;\n",
       "\n",
       "        \n",
       "    \n",
       "    \n",
       "            var circle_marker_92d09e4a80109bd82d62be907fd0083a = L.circleMarker(\n",
       "                [38.32205, -6.52803],\n",
       "                {&quot;bubblingMouseEvents&quot;: true, &quot;color&quot;: &quot;black&quot;, &quot;dashArray&quot;: null, &quot;dashOffset&quot;: null, &quot;fill&quot;: true, &quot;fillColor&quot;: &quot;#166BDC&quot;, &quot;fillOpacity&quot;: 0.9, &quot;fillRule&quot;: &quot;evenodd&quot;, &quot;lineCap&quot;: &quot;round&quot;, &quot;lineJoin&quot;: &quot;round&quot;, &quot;opacity&quot;: 1.0, &quot;radius&quot;: 6, &quot;stroke&quot;: true, &quot;weight&quot;: 2}\n",
       "            ).addTo(feature_group_0c3bab04f116af86598cbcf929ee3292);\n",
       "        \n",
       "    \n",
       "        var popup_9bee402e85dceb5939aecb180864347e = L.popup({&quot;maxWidth&quot;: &quot;100%&quot;});\n",
       "\n",
       "        \n",
       "            \n",
       "                var html_b10b2354947a27eb29c9728b9bdaac7d = $(`&lt;div id=&quot;html_b10b2354947a27eb29c9728b9bdaac7d&quot; style=&quot;width: 100.0%; height: 100.0%;&quot;&gt;21.101&lt;/div&gt;`)[0];\n",
       "                popup_9bee402e85dceb5939aecb180864347e.setContent(html_b10b2354947a27eb29c9728b9bdaac7d);\n",
       "            \n",
       "        \n",
       "\n",
       "        circle_marker_92d09e4a80109bd82d62be907fd0083a.bindPopup(popup_9bee402e85dceb5939aecb180864347e)\n",
       "        ;\n",
       "\n",
       "        \n",
       "    \n",
       "    \n",
       "            var regular_polygon_marker_222a88b898d6b51c71044c9d72d63008 = new L.RegularPolygonMarker(\n",
       "                [38.31708, -6.52631],\n",
       "                {&quot;bubblingMouseEvents&quot;: true, &quot;color&quot;: &quot;black&quot;, &quot;dashArray&quot;: null, &quot;dashOffset&quot;: null, &quot;fill&quot;: true, &quot;fillColor&quot;: &quot;#166BDC&quot;, &quot;fillOpacity&quot;: 0.9, &quot;fillRule&quot;: &quot;evenodd&quot;, &quot;lineCap&quot;: &quot;round&quot;, &quot;lineJoin&quot;: &quot;round&quot;, &quot;numberOfSides&quot;: 4, &quot;opacity&quot;: 1.0, &quot;radius&quot;: 8, &quot;rotation&quot;: 45, &quot;stroke&quot;: true, &quot;weight&quot;: 2}\n",
       "            ).addTo(feature_group_0c3bab04f116af86598cbcf929ee3292);\n",
       "        \n",
       "    \n",
       "        var popup_9b1b616c1610da57dac49e3d34ae226b = L.popup({&quot;maxWidth&quot;: &quot;100%&quot;});\n",
       "\n",
       "        \n",
       "            \n",
       "                var html_7ddc8aba246a192a7046bbe0f18189cd = $(`&lt;div id=&quot;html_7ddc8aba246a192a7046bbe0f18189cd&quot; style=&quot;width: 100.0%; height: 100.0%;&quot;&gt;21.163&lt;/div&gt;`)[0];\n",
       "                popup_9b1b616c1610da57dac49e3d34ae226b.setContent(html_7ddc8aba246a192a7046bbe0f18189cd);\n",
       "            \n",
       "        \n",
       "\n",
       "        regular_polygon_marker_222a88b898d6b51c71044c9d72d63008.bindPopup(popup_9b1b616c1610da57dac49e3d34ae226b)\n",
       "        ;\n",
       "\n",
       "        \n",
       "    \n",
       "    \n",
       "            var regular_polygon_marker_b2a003535922469b59ef2b8132d3150d = new L.RegularPolygonMarker(\n",
       "                [38.3281079, -6.5446219],\n",
       "                {&quot;bubblingMouseEvents&quot;: true, &quot;color&quot;: &quot;red&quot;, &quot;dashArray&quot;: null, &quot;dashOffset&quot;: null, &quot;fill&quot;: true, &quot;fillColor&quot;: &quot;#166BDC&quot;, &quot;fillOpacity&quot;: 0.9, &quot;fillRule&quot;: &quot;evenodd&quot;, &quot;lineCap&quot;: &quot;round&quot;, &quot;lineJoin&quot;: &quot;round&quot;, &quot;numberOfSides&quot;: 4, &quot;opacity&quot;: 1.0, &quot;radius&quot;: 8, &quot;rotation&quot;: 45, &quot;stroke&quot;: true, &quot;weight&quot;: 2}\n",
       "            ).addTo(feature_group_0c3bab04f116af86598cbcf929ee3292);\n",
       "        \n",
       "    \n",
       "        var popup_5a832522f80ef1fe6e4402d174da2791 = L.popup({&quot;maxWidth&quot;: &quot;100%&quot;});\n",
       "\n",
       "        \n",
       "            \n",
       "                var html_285c10e0c52bda85ce98c5d8cf88c4a6 = $(`&lt;div id=&quot;html_285c10e0c52bda85ce98c5d8cf88c4a6&quot; style=&quot;width: 100.0%; height: 100.0%;&quot;&gt;21.1705&lt;/div&gt;`)[0];\n",
       "                popup_5a832522f80ef1fe6e4402d174da2791.setContent(html_285c10e0c52bda85ce98c5d8cf88c4a6);\n",
       "            \n",
       "        \n",
       "\n",
       "        regular_polygon_marker_b2a003535922469b59ef2b8132d3150d.bindPopup(popup_5a832522f80ef1fe6e4402d174da2791)\n",
       "        ;\n",
       "\n",
       "        \n",
       "    \n",
       "    \n",
       "            var regular_polygon_marker_fe7a513cbd8572afd9e123a109dc2db8 = new L.RegularPolygonMarker(\n",
       "                [38.32849244, -6.490493699],\n",
       "                {&quot;bubblingMouseEvents&quot;: true, &quot;color&quot;: &quot;red&quot;, &quot;dashArray&quot;: null, &quot;dashOffset&quot;: null, &quot;fill&quot;: true, &quot;fillColor&quot;: &quot;#166BDC&quot;, &quot;fillOpacity&quot;: 0.9, &quot;fillRule&quot;: &quot;evenodd&quot;, &quot;lineCap&quot;: &quot;round&quot;, &quot;lineJoin&quot;: &quot;round&quot;, &quot;numberOfSides&quot;: 4, &quot;opacity&quot;: 1.0, &quot;radius&quot;: 8, &quot;rotation&quot;: 45, &quot;stroke&quot;: true, &quot;weight&quot;: 2}\n",
       "            ).addTo(feature_group_0c3bab04f116af86598cbcf929ee3292);\n",
       "        \n",
       "    \n",
       "        var popup_716b38ed392cda25aea1d9c6e7cc82a7 = L.popup({&quot;maxWidth&quot;: &quot;100%&quot;});\n",
       "\n",
       "        \n",
       "            \n",
       "                var html_465d1ea30f6f05f9a2e231d37977edeb = $(`&lt;div id=&quot;html_465d1ea30f6f05f9a2e231d37977edeb&quot; style=&quot;width: 100.0%; height: 100.0%;&quot;&gt;21.126&lt;/div&gt;`)[0];\n",
       "                popup_716b38ed392cda25aea1d9c6e7cc82a7.setContent(html_465d1ea30f6f05f9a2e231d37977edeb);\n",
       "            \n",
       "        \n",
       "\n",
       "        regular_polygon_marker_fe7a513cbd8572afd9e123a109dc2db8.bindPopup(popup_716b38ed392cda25aea1d9c6e7cc82a7)\n",
       "        ;\n",
       "\n",
       "        \n",
       "    \n",
       "    \n",
       "            var circle_marker_3e73ab21e570fac90260a57329aadea7 = L.circleMarker(\n",
       "                [38.3318555, -6.5399309],\n",
       "                {&quot;bubblingMouseEvents&quot;: true, &quot;color&quot;: &quot;red&quot;, &quot;dashArray&quot;: null, &quot;dashOffset&quot;: null, &quot;fill&quot;: true, &quot;fillColor&quot;: &quot;#166BDC&quot;, &quot;fillOpacity&quot;: 0.9, &quot;fillRule&quot;: &quot;evenodd&quot;, &quot;lineCap&quot;: &quot;round&quot;, &quot;lineJoin&quot;: &quot;round&quot;, &quot;opacity&quot;: 1.0, &quot;radius&quot;: 6, &quot;stroke&quot;: true, &quot;weight&quot;: 2}\n",
       "            ).addTo(feature_group_0c3bab04f116af86598cbcf929ee3292);\n",
       "        \n",
       "    \n",
       "        var popup_2fc266557729ba0036053bf257b91ae0 = L.popup({&quot;maxWidth&quot;: &quot;100%&quot;});\n",
       "\n",
       "        \n",
       "            \n",
       "                var html_3b9bbeaab2ebf923201fa79892ef715a = $(`&lt;div id=&quot;html_3b9bbeaab2ebf923201fa79892ef715a&quot; style=&quot;width: 100.0%; height: 100.0%;&quot;&gt;21.115&lt;/div&gt;`)[0];\n",
       "                popup_2fc266557729ba0036053bf257b91ae0.setContent(html_3b9bbeaab2ebf923201fa79892ef715a);\n",
       "            \n",
       "        \n",
       "\n",
       "        circle_marker_3e73ab21e570fac90260a57329aadea7.bindPopup(popup_2fc266557729ba0036053bf257b91ae0)\n",
       "        ;\n",
       "\n",
       "        \n",
       "    \n",
       "    \n",
       "            var regular_polygon_marker_3933ddb5390967d79bf2ab5458e4023c = new L.RegularPolygonMarker(\n",
       "                [38.33621, -6.53683],\n",
       "                {&quot;bubblingMouseEvents&quot;: true, &quot;color&quot;: &quot;red&quot;, &quot;dashArray&quot;: null, &quot;dashOffset&quot;: null, &quot;fill&quot;: true, &quot;fillColor&quot;: &quot;#166BDC&quot;, &quot;fillOpacity&quot;: 0.9, &quot;fillRule&quot;: &quot;evenodd&quot;, &quot;lineCap&quot;: &quot;round&quot;, &quot;lineJoin&quot;: &quot;round&quot;, &quot;numberOfSides&quot;: 4, &quot;opacity&quot;: 1.0, &quot;radius&quot;: 8, &quot;rotation&quot;: 45, &quot;stroke&quot;: true, &quot;weight&quot;: 2}\n",
       "            ).addTo(feature_group_0c3bab04f116af86598cbcf929ee3292);\n",
       "        \n",
       "    \n",
       "        var popup_ae323fe19d9fc4c74ddc1af66f29c6cb = L.popup({&quot;maxWidth&quot;: &quot;100%&quot;});\n",
       "\n",
       "        \n",
       "            \n",
       "                var html_3631c8294ab158456f128b0d8338e4e5 = $(`&lt;div id=&quot;html_3631c8294ab158456f128b0d8338e4e5&quot; style=&quot;width: 100.0%; height: 100.0%;&quot;&gt;21.195&lt;/div&gt;`)[0];\n",
       "                popup_ae323fe19d9fc4c74ddc1af66f29c6cb.setContent(html_3631c8294ab158456f128b0d8338e4e5);\n",
       "            \n",
       "        \n",
       "\n",
       "        regular_polygon_marker_3933ddb5390967d79bf2ab5458e4023c.bindPopup(popup_ae323fe19d9fc4c74ddc1af66f29c6cb)\n",
       "        ;\n",
       "\n",
       "        \n",
       "    \n",
       "    \n",
       "            var circle_marker_febd3203f13277531180e9b6655228ba = L.circleMarker(\n",
       "                [38.3269116, -6.5390446],\n",
       "                {&quot;bubblingMouseEvents&quot;: true, &quot;color&quot;: &quot;red&quot;, &quot;dashArray&quot;: null, &quot;dashOffset&quot;: null, &quot;fill&quot;: true, &quot;fillColor&quot;: &quot;#27C896&quot;, &quot;fillOpacity&quot;: 0.9, &quot;fillRule&quot;: &quot;evenodd&quot;, &quot;lineCap&quot;: &quot;round&quot;, &quot;lineJoin&quot;: &quot;round&quot;, &quot;opacity&quot;: 1.0, &quot;radius&quot;: 6, &quot;stroke&quot;: true, &quot;weight&quot;: 2}\n",
       "            ).addTo(feature_group_0c3bab04f116af86598cbcf929ee3292);\n",
       "        \n",
       "    \n",
       "        var popup_2a54a4ec874822c5be7ae7a70089df53 = L.popup({&quot;maxWidth&quot;: &quot;100%&quot;});\n",
       "\n",
       "        \n",
       "            \n",
       "                var html_8857337cd478906e66abb78ebb0b66c3 = $(`&lt;div id=&quot;html_8857337cd478906e66abb78ebb0b66c3&quot; style=&quot;width: 100.0%; height: 100.0%;&quot;&gt;20.9255&lt;/div&gt;`)[0];\n",
       "                popup_2a54a4ec874822c5be7ae7a70089df53.setContent(html_8857337cd478906e66abb78ebb0b66c3);\n",
       "            \n",
       "        \n",
       "\n",
       "        circle_marker_febd3203f13277531180e9b6655228ba.bindPopup(popup_2a54a4ec874822c5be7ae7a70089df53)\n",
       "        ;\n",
       "\n",
       "        \n",
       "    \n",
       "    \n",
       "            var circle_marker_19c1f23a8d8ecb3709198e62aade6758 = L.circleMarker(\n",
       "                [38.329417, -6.535972],\n",
       "                {&quot;bubblingMouseEvents&quot;: true, &quot;color&quot;: &quot;black&quot;, &quot;dashArray&quot;: null, &quot;dashOffset&quot;: null, &quot;fill&quot;: true, &quot;fillColor&quot;: &quot;#E9CD20&quot;, &quot;fillOpacity&quot;: 0.9, &quot;fillRule&quot;: &quot;evenodd&quot;, &quot;lineCap&quot;: &quot;round&quot;, &quot;lineJoin&quot;: &quot;round&quot;, &quot;opacity&quot;: 1.0, &quot;radius&quot;: 6, &quot;stroke&quot;: true, &quot;weight&quot;: 2}\n",
       "            ).addTo(feature_group_0c3bab04f116af86598cbcf929ee3292);\n",
       "        \n",
       "    \n",
       "        var popup_dcdf54f4dd5397dc20936b62a9026d40 = L.popup({&quot;maxWidth&quot;: &quot;100%&quot;});\n",
       "\n",
       "        \n",
       "            \n",
       "                var html_8464db3624f71ed3540b78f033c5b883 = $(`&lt;div id=&quot;html_8464db3624f71ed3540b78f033c5b883&quot; style=&quot;width: 100.0%; height: 100.0%;&quot;&gt;20.691499999999998&lt;/div&gt;`)[0];\n",
       "                popup_dcdf54f4dd5397dc20936b62a9026d40.setContent(html_8464db3624f71ed3540b78f033c5b883);\n",
       "            \n",
       "        \n",
       "\n",
       "        circle_marker_19c1f23a8d8ecb3709198e62aade6758.bindPopup(popup_dcdf54f4dd5397dc20936b62a9026d40)\n",
       "        ;\n",
       "\n",
       "        \n",
       "    \n",
       "    \n",
       "            var circle_marker_2a13c60fa0de6f575665136f6b63087a = L.circleMarker(\n",
       "                [38.325556, -6.536417],\n",
       "                {&quot;bubblingMouseEvents&quot;: true, &quot;color&quot;: &quot;black&quot;, &quot;dashArray&quot;: null, &quot;dashOffset&quot;: null, &quot;fill&quot;: true, &quot;fillColor&quot;: &quot;#CE5225&quot;, &quot;fillOpacity&quot;: 0.9, &quot;fillRule&quot;: &quot;evenodd&quot;, &quot;lineCap&quot;: &quot;round&quot;, &quot;lineJoin&quot;: &quot;round&quot;, &quot;opacity&quot;: 1.0, &quot;radius&quot;: 6, &quot;stroke&quot;: true, &quot;weight&quot;: 2}\n",
       "            ).addTo(feature_group_0c3bab04f116af86598cbcf929ee3292);\n",
       "        \n",
       "    \n",
       "        var popup_0fef20749456f8fac75815e1a14a4d5e = L.popup({&quot;maxWidth&quot;: &quot;100%&quot;});\n",
       "\n",
       "        \n",
       "            \n",
       "                var html_033be38f6f32afacdb350f3a36ed83ea = $(`&lt;div id=&quot;html_033be38f6f32afacdb350f3a36ed83ea&quot; style=&quot;width: 100.0%; height: 100.0%;&quot;&gt;20.498&lt;/div&gt;`)[0];\n",
       "                popup_0fef20749456f8fac75815e1a14a4d5e.setContent(html_033be38f6f32afacdb350f3a36ed83ea);\n",
       "            \n",
       "        \n",
       "\n",
       "        circle_marker_2a13c60fa0de6f575665136f6b63087a.bindPopup(popup_0fef20749456f8fac75815e1a14a4d5e)\n",
       "        ;\n",
       "\n",
       "        \n",
       "    \n",
       "    \n",
       "            var circle_marker_9fa3e7ce022ea83b6bfd07a62b44df38 = L.circleMarker(\n",
       "                [38.325972, -6.530667],\n",
       "                {&quot;bubblingMouseEvents&quot;: true, &quot;color&quot;: &quot;black&quot;, &quot;dashArray&quot;: null, &quot;dashOffset&quot;: null, &quot;fill&quot;: true, &quot;fillColor&quot;: &quot;#15ABD3&quot;, &quot;fillOpacity&quot;: 0.9, &quot;fillRule&quot;: &quot;evenodd&quot;, &quot;lineCap&quot;: &quot;round&quot;, &quot;lineJoin&quot;: &quot;round&quot;, &quot;opacity&quot;: 1.0, &quot;radius&quot;: 6, &quot;stroke&quot;: true, &quot;weight&quot;: 2}\n",
       "            ).addTo(feature_group_0c3bab04f116af86598cbcf929ee3292);\n",
       "        \n",
       "    \n",
       "        var popup_a391f0e4339aed135e6f8e298b138028 = L.popup({&quot;maxWidth&quot;: &quot;100%&quot;});\n",
       "\n",
       "        \n",
       "            \n",
       "                var html_671fb15ab56c0121ec327f7837c7d789 = $(`&lt;div id=&quot;html_671fb15ab56c0121ec327f7837c7d789&quot; style=&quot;width: 100.0%; height: 100.0%;&quot;&gt;21.081&lt;/div&gt;`)[0];\n",
       "                popup_a391f0e4339aed135e6f8e298b138028.setContent(html_671fb15ab56c0121ec327f7837c7d789);\n",
       "            \n",
       "        \n",
       "\n",
       "        circle_marker_9fa3e7ce022ea83b6bfd07a62b44df38.bindPopup(popup_a391f0e4339aed135e6f8e298b138028)\n",
       "        ;\n",
       "\n",
       "        \n",
       "    \n",
       "    \n",
       "            var regular_polygon_marker_7cafb5c7a2e46e398dc0b3ea151ebbce = new L.RegularPolygonMarker(\n",
       "                [38.319694, -6.556972],\n",
       "                {&quot;bubblingMouseEvents&quot;: true, &quot;color&quot;: &quot;black&quot;, &quot;dashArray&quot;: null, &quot;dashOffset&quot;: null, &quot;fill&quot;: true, &quot;fillColor&quot;: &quot;#166BDC&quot;, &quot;fillOpacity&quot;: 0.9, &quot;fillRule&quot;: &quot;evenodd&quot;, &quot;lineCap&quot;: &quot;round&quot;, &quot;lineJoin&quot;: &quot;round&quot;, &quot;numberOfSides&quot;: 4, &quot;opacity&quot;: 1.0, &quot;radius&quot;: 8, &quot;rotation&quot;: 45, &quot;stroke&quot;: true, &quot;weight&quot;: 2}\n",
       "            ).addTo(feature_group_0c3bab04f116af86598cbcf929ee3292);\n",
       "        \n",
       "    \n",
       "        var popup_b4bb9cc335fe7d858ec5cc389981bbaa = L.popup({&quot;maxWidth&quot;: &quot;100%&quot;});\n",
       "\n",
       "        \n",
       "            \n",
       "                var html_2163f3ae95cdf79b1cf875fe72fc1257 = $(`&lt;div id=&quot;html_2163f3ae95cdf79b1cf875fe72fc1257&quot; style=&quot;width: 100.0%; height: 100.0%;&quot;&gt;21.18&lt;/div&gt;`)[0];\n",
       "                popup_b4bb9cc335fe7d858ec5cc389981bbaa.setContent(html_2163f3ae95cdf79b1cf875fe72fc1257);\n",
       "            \n",
       "        \n",
       "\n",
       "        regular_polygon_marker_7cafb5c7a2e46e398dc0b3ea151ebbce.bindPopup(popup_b4bb9cc335fe7d858ec5cc389981bbaa)\n",
       "        ;\n",
       "\n",
       "        \n",
       "    \n",
       "    \n",
       "            var circle_marker_9ae9c992d6b12b7b1eeb3c38866e05eb = L.circleMarker(\n",
       "                [38.327972, -6.534194],\n",
       "                {&quot;bubblingMouseEvents&quot;: true, &quot;color&quot;: &quot;black&quot;, &quot;dashArray&quot;: null, &quot;dashOffset&quot;: null, &quot;fill&quot;: true, &quot;fillColor&quot;: &quot;#3BBD49&quot;, &quot;fillOpacity&quot;: 0.9, &quot;fillRule&quot;: &quot;evenodd&quot;, &quot;lineCap&quot;: &quot;round&quot;, &quot;lineJoin&quot;: &quot;round&quot;, &quot;opacity&quot;: 1.0, &quot;radius&quot;: 6, &quot;stroke&quot;: true, &quot;weight&quot;: 2}\n",
       "            ).addTo(feature_group_0c3bab04f116af86598cbcf929ee3292);\n",
       "        \n",
       "    \n",
       "        var popup_af6c58258dbbc2ef8d80be6cf960f049 = L.popup({&quot;maxWidth&quot;: &quot;100%&quot;});\n",
       "\n",
       "        \n",
       "            \n",
       "                var html_67c282bbe11da8f9a56dc4de5e8b5e0a = $(`&lt;div id=&quot;html_67c282bbe11da8f9a56dc4de5e8b5e0a&quot; style=&quot;width: 100.0%; height: 100.0%;&quot;&gt;20.864&lt;/div&gt;`)[0];\n",
       "                popup_af6c58258dbbc2ef8d80be6cf960f049.setContent(html_67c282bbe11da8f9a56dc4de5e8b5e0a);\n",
       "            \n",
       "        \n",
       "\n",
       "        circle_marker_9ae9c992d6b12b7b1eeb3c38866e05eb.bindPopup(popup_af6c58258dbbc2ef8d80be6cf960f049)\n",
       "        ;\n",
       "\n",
       "        \n",
       "    \n",
       "    \n",
       "            var circle_marker_7354ede367cc2caca47405080615c4f8 = L.circleMarker(\n",
       "                [38.326608, -6.537493],\n",
       "                {&quot;bubblingMouseEvents&quot;: true, &quot;color&quot;: &quot;black&quot;, &quot;dashArray&quot;: null, &quot;dashOffset&quot;: null, &quot;fill&quot;: true, &quot;fillColor&quot;: &quot;#E9CD20&quot;, &quot;fillOpacity&quot;: 0.9, &quot;fillRule&quot;: &quot;evenodd&quot;, &quot;lineCap&quot;: &quot;round&quot;, &quot;lineJoin&quot;: &quot;round&quot;, &quot;opacity&quot;: 1.0, &quot;radius&quot;: 6, &quot;stroke&quot;: true, &quot;weight&quot;: 2}\n",
       "            ).addTo(feature_group_0c3bab04f116af86598cbcf929ee3292);\n",
       "        \n",
       "    \n",
       "        var popup_121910a20dd2ed118626ec2d68d7250e = L.popup({&quot;maxWidth&quot;: &quot;100%&quot;});\n",
       "\n",
       "        \n",
       "            \n",
       "                var html_2a11dd438acffcffd96348d447480ac5 = $(`&lt;div id=&quot;html_2a11dd438acffcffd96348d447480ac5&quot; style=&quot;width: 100.0%; height: 100.0%;&quot;&gt;20.7&lt;/div&gt;`)[0];\n",
       "                popup_121910a20dd2ed118626ec2d68d7250e.setContent(html_2a11dd438acffcffd96348d447480ac5);\n",
       "            \n",
       "        \n",
       "\n",
       "        circle_marker_7354ede367cc2caca47405080615c4f8.bindPopup(popup_121910a20dd2ed118626ec2d68d7250e)\n",
       "        ;\n",
       "\n",
       "        \n",
       "    \n",
       "    \n",
       "            var circle_marker_2e5957ccf41eac587b59419e294e74fd = L.circleMarker(\n",
       "                [38.326906, -6.53611],\n",
       "                {&quot;bubblingMouseEvents&quot;: true, &quot;color&quot;: &quot;black&quot;, &quot;dashArray&quot;: null, &quot;dashOffset&quot;: null, &quot;fill&quot;: true, &quot;fillColor&quot;: &quot;#E9CD20&quot;, &quot;fillOpacity&quot;: 0.9, &quot;fillRule&quot;: &quot;evenodd&quot;, &quot;lineCap&quot;: &quot;round&quot;, &quot;lineJoin&quot;: &quot;round&quot;, &quot;opacity&quot;: 1.0, &quot;radius&quot;: 6, &quot;stroke&quot;: true, &quot;weight&quot;: 2}\n",
       "            ).addTo(feature_group_0c3bab04f116af86598cbcf929ee3292);\n",
       "        \n",
       "    \n",
       "        var popup_064f19b1c923aca122c1661195e3c173 = L.popup({&quot;maxWidth&quot;: &quot;100%&quot;});\n",
       "\n",
       "        \n",
       "            \n",
       "                var html_65761ea40a0c546f6c3153529fa8ce5d = $(`&lt;div id=&quot;html_65761ea40a0c546f6c3153529fa8ce5d&quot; style=&quot;width: 100.0%; height: 100.0%;&quot;&gt;20.63&lt;/div&gt;`)[0];\n",
       "                popup_064f19b1c923aca122c1661195e3c173.setContent(html_65761ea40a0c546f6c3153529fa8ce5d);\n",
       "            \n",
       "        \n",
       "\n",
       "        circle_marker_2e5957ccf41eac587b59419e294e74fd.bindPopup(popup_064f19b1c923aca122c1661195e3c173)\n",
       "        ;\n",
       "\n",
       "        \n",
       "    \n",
       "    \n",
       "            var image_overlay_1405d10af62335a9e99fbd6077e560ce = L.imageOverlay(\n",
       "                &quot;data:image/png;base64,iVBORw0KGgoAAAANSUhEUgAAAB0AAAAQCAYAAADqDXTRAAAA3klEQVR42mMQb/3/X9n08wkgfQJEI2MXpXsYYjBxmByMTSwG6WFIMthIskZKMMhzYEuRLYbxsTkGWQ5ZDSkOF7vy5QQDsoHYLMVmET6HoZuHzocHL7pPibEMpg4UXCDXg2hifArSx0Cqz0ixFJceBnItxBa8hNICjM9AjkWkJDJ0S7V+rMVvKT7DQEH6+78qmEbOr4TMA6decnwJir97aVonHigYwi2GFS7EpGAGcoIVZDgomP6fVwXTyJail1rYMMVxSkpRSLZPiXEMIXmqW0oMZiCn2KOqpdQ0GB8GAOg9wfYUKOkCAAAAAElFTkSuQmCC&quot;,\n",
       "                [[38.36861979166667, -6.602011494252873], [38.30221354166667, -6.48132183908046]],\n",
       "                {}\n",
       "            ).addTo(map_d6763a4a6b363bb0f0fbe38359630c97);\n",
       "        \n",
       "    \n",
       "    var color_map_102b797d761aef43b3457d9a04e3cc70 = {};\n",
       "\n",
       "    \n",
       "    color_map_102b797d761aef43b3457d9a04e3cc70.color = d3.scale.threshold()\n",
       "              .domain([20.3, 20.30240480961924, 20.304809619238476, 20.307214428857716, 20.309619238476955, 20.312024048096195, 20.31442885771543, 20.31683366733467, 20.31923847695391, 20.321643286573146, 20.324048096192385, 20.326452905811625, 20.328857715430864, 20.3312625250501, 20.33366733466934, 20.33607214428858, 20.338476953907815, 20.340881763527054, 20.343286573146294, 20.345691382765533, 20.34809619238477, 20.35050100200401, 20.35290581162325, 20.355310621242484, 20.357715430861724, 20.360120240480963, 20.3625250501002, 20.36492985971944, 20.36733466933868, 20.369739478957918, 20.372144288577154, 20.374549098196393, 20.376953907815633, 20.37935871743487, 20.381763527054108, 20.384168336673348, 20.386573146292587, 20.388977955911823, 20.391382765531063, 20.393787575150302, 20.396192384769538, 20.398597194388778, 20.401002004008017, 20.403406813627257, 20.405811623246493, 20.408216432865732, 20.41062124248497, 20.413026052104208, 20.415430861723447, 20.417835671342687, 20.420240480961926, 20.422645290581162, 20.4250501002004, 20.42745490981964, 20.429859719438877, 20.432264529058116, 20.434669338677356, 20.437074148296595, 20.43947895791583, 20.44188376753507, 20.44428857715431, 20.446693386773546, 20.449098196392786, 20.451503006012025, 20.453907815631265, 20.4563126252505, 20.45871743486974, 20.46112224448898, 20.463527054108216, 20.465931863727455, 20.468336673346695, 20.470741482965934, 20.47314629258517, 20.47555110220441, 20.47795591182365, 20.480360721442885, 20.482765531062125, 20.485170340681364, 20.4875751503006, 20.48997995991984, 20.49238476953908, 20.49478957915832, 20.497194388777555, 20.499599198396794, 20.502004008016034, 20.50440881763527, 20.50681362725451, 20.50921843687375, 20.511623246492988, 20.514028056112224, 20.516432865731463, 20.518837675350703, 20.52124248496994, 20.52364729458918, 20.526052104208418, 20.528456913827657, 20.530861723446893, 20.533266533066133, 20.535671342685372, 20.53807615230461, 20.540480961923848, 20.542885771543087, 20.545290581162327, 20.547695390781563, 20.550100200400802, 20.55250501002004, 20.554909819639278, 20.557314629258517, 20.559719438877757, 20.562124248496996, 20.564529058116232, 20.56693386773547, 20.56933867735471, 20.571743486973947, 20.574148296593187, 20.576553106212426, 20.578957915831666, 20.5813627254509, 20.58376753507014, 20.58617234468938, 20.588577154308616, 20.590981963927856, 20.593386773547095, 20.59579158316633, 20.59819639278557, 20.60060120240481, 20.60300601202405, 20.605410821643286, 20.607815631262525, 20.610220440881765, 20.612625250501, 20.61503006012024, 20.61743486973948, 20.61983967935872, 20.622244488977955, 20.624649298597195, 20.627054108216434, 20.62945891783567, 20.63186372745491, 20.63426853707415, 20.63667334669339, 20.639078156312625, 20.641482965931864, 20.643887775551104, 20.64629258517034, 20.64869739478958, 20.65110220440882, 20.653507014028058, 20.655911823647294, 20.658316633266534, 20.660721442885773, 20.66312625250501, 20.66553106212425, 20.667935871743488, 20.670340681362728, 20.672745490981963, 20.675150300601203, 20.677555110220442, 20.67995991983968, 20.682364729458918, 20.684769539078157, 20.687174348697397, 20.689579158316633, 20.691983967935872, 20.694388777555112, 20.696793587174348, 20.699198396793587, 20.701603206412827, 20.704008016032066, 20.706412825651302, 20.70881763527054, 20.71122244488978, 20.713627254509017, 20.716032064128257, 20.718436873747496, 20.720841683366736, 20.72324649298597, 20.72565130260521, 20.72805611222445, 20.730460921843687, 20.732865731462926, 20.735270541082166, 20.7376753507014, 20.74008016032064, 20.74248496993988, 20.74488977955912, 20.747294589178356, 20.749699398797596, 20.752104208416835, 20.75450901803607, 20.75691382765531, 20.75931863727455, 20.76172344689379, 20.764128256513025, 20.766533066132265, 20.768937875751504, 20.77134268537074, 20.77374749498998, 20.77615230460922, 20.77855711422846, 20.780961923847695, 20.783366733466934, 20.785771543086174, 20.78817635270541, 20.79058116232465, 20.79298597194389, 20.79539078156313, 20.797795591182364, 20.800200400801604, 20.802605210420843, 20.80501002004008, 20.80741482965932, 20.809819639278558, 20.812224448897798, 20.814629258517034, 20.817034068136273, 20.819438877755513, 20.82184368737475, 20.824248496993988, 20.826653306613228, 20.829058116232467, 20.831462925851703, 20.833867735470943, 20.836272545090182, 20.838677354709418, 20.841082164328657, 20.843486973947897, 20.845891783567133, 20.848296593186372, 20.850701402805612, 20.85310621242485, 20.855511022044087, 20.857915831663327, 20.860320641282566, 20.862725450901802, 20.865130260521042, 20.86753507014028, 20.86993987975952, 20.872344689378757, 20.874749498997996, 20.877154308617236, 20.87955911823647, 20.88196392785571, 20.88436873747495, 20.88677354709419, 20.889178356713426, 20.891583166332666, 20.893987975951905, 20.89639278557114, 20.89879759519038, 20.90120240480962, 20.90360721442886, 20.906012024048096, 20.908416833667335, 20.910821643286575, 20.91322645290581, 20.91563126252505, 20.91803607214429, 20.92044088176353, 20.922845691382765, 20.925250501002004, 20.927655310621244, 20.93006012024048, 20.93246492985972, 20.93486973947896, 20.9372745490982, 20.939679358717434, 20.942084168336674, 20.944488977955913, 20.94689378757515, 20.94929859719439, 20.95170340681363, 20.954108216432864, 20.956513026052104, 20.958917835671343, 20.961322645290583, 20.96372745490982, 20.966132264529058, 20.968537074148298, 20.970941883767534, 20.973346693386773, 20.975751503006013, 20.978156312625252, 20.980561122244488, 20.982965931863728, 20.985370741482967, 20.987775551102203, 20.990180360721443, 20.992585170340682, 20.99498997995992, 20.997394789579158, 20.999799599198397, 21.002204408817637, 21.004609218436872, 21.007014028056112, 21.00941883767535, 21.01182364729459, 21.014228456913827, 21.016633266533066, 21.019038076152306, 21.021442885771542, 21.02384769539078, 21.02625250501002, 21.02865731462926, 21.031062124248496, 21.033466933867736, 21.035871743486975, 21.03827655310621, 21.04068136272545, 21.04308617234469, 21.04549098196393, 21.047895791583166, 21.050300601202405, 21.052705410821645, 21.05511022044088, 21.05751503006012, 21.05991983967936, 21.062324649298596, 21.064729458917835, 21.067134268537075, 21.069539078156314, 21.07194388777555, 21.07434869739479, 21.07675350701403, 21.07915831663327, 21.081563126252505, 21.083967935871744, 21.086372745490984, 21.08877755511022, 21.09118236472946, 21.0935871743487, 21.095991983967934, 21.098396793587174, 21.100801603206413, 21.103206412825653, 21.10561122244489, 21.10801603206413, 21.110420841683368, 21.112825651302604, 21.115230460921843, 21.117635270541083, 21.120040080160322, 21.12244488977956, 21.124849699398798, 21.127254509018037, 21.129659318637273, 21.132064128256513, 21.134468937875752, 21.13687374749499, 21.139278557114228, 21.141683366733467, 21.144088176352707, 21.146492985971943, 21.148897795591182, 21.15130260521042, 21.15370741482966, 21.156112224448897, 21.158517034068137, 21.160921843687376, 21.163326653306612, 21.16573146292585, 21.16813627254509, 21.17054108216433, 21.172945891783566, 21.175350701402806, 21.177755511022045, 21.18016032064128, 21.18256513026052, 21.18496993987976, 21.187374749499, 21.189779559118236, 21.192184368737475, 21.194589178356715, 21.19699398797595, 21.19939879759519, 21.20180360721443, 21.204208416833666, 21.206613226452905, 21.209018036072145, 21.211422845691384, 21.21382765531062, 21.21623246492986, 21.2186372745491, 21.221042084168335, 21.223446893787575, 21.225851703406814, 21.228256513026054, 21.23066132264529, 21.23306613226453, 21.23547094188377, 21.237875751503005, 21.240280561122244, 21.242685370741484, 21.245090180360723, 21.24749498997996, 21.2498997995992, 21.252304609218438, 21.254709418837674, 21.257114228456913, 21.259519038076153, 21.261923847695392, 21.26432865731463, 21.266733466933868, 21.269138276553107, 21.271543086172343, 21.273947895791583, 21.276352705410822, 21.278757515030062, 21.281162324649298, 21.283567134268537, 21.285971943887777, 21.288376753507013, 21.290781563126252, 21.29318637274549, 21.29559118236473, 21.297995991983967, 21.300400801603207, 21.302805611222446, 21.305210420841682, 21.30761523046092, 21.31002004008016, 21.312424849699397, 21.314829659318637, 21.317234468937876, 21.319639278557116, 21.32204408817635, 21.32444889779559, 21.32685370741483, 21.32925851703407, 21.331663326653306, 21.334068136272546, 21.336472945891785, 21.33887775551102, 21.34128256513026, 21.3436873747495, 21.346092184368736, 21.348496993987975, 21.350901803607215, 21.353306613226454, 21.35571142284569, 21.35811623246493, 21.36052104208417, 21.362925851703405, 21.365330661322645, 21.367735470941884, 21.370140280561124, 21.37254509018036, 21.3749498997996, 21.37735470941884, 21.379759519038075, 21.382164328657314, 21.384569138276554, 21.386973947895793, 21.38937875751503, 21.39178356713427, 21.394188376753508, 21.396593186372744, 21.398997995991984, 21.401402805611223, 21.403807615230463, 21.4062124248497, 21.408617234468938, 21.411022044088178, 21.413426853707413, 21.415831663326653, 21.418236472945893, 21.420641282565132, 21.423046092184368, 21.425450901803607, 21.427855711422847, 21.430260521042083, 21.432665330661322, 21.435070140280562, 21.4374749498998, 21.439879759519037, 21.442284569138277, 21.444689378757516, 21.447094188376752, 21.449498997995992, 21.45190380761523, 21.454308617234467, 21.456713426853707, 21.459118236472946, 21.461523046092186, 21.46392785571142, 21.46633266533066, 21.4687374749499, 21.471142284569137, 21.473547094188376, 21.475951903807616, 21.478356713426855, 21.48076152304609, 21.48316633266533, 21.48557114228457, 21.487975951903806, 21.490380761523046, 21.492785571142285, 21.495190380761525, 21.49759519038076, 21.5])\n",
       "              .range([&#x27;#d01a2bff&#x27;, &#x27;#d01a2bff&#x27;, &#x27;#d01a2bff&#x27;, &#x27;#d01a2bff&#x27;, &#x27;#d01a2bff&#x27;, &#x27;#d01a2bff&#x27;, &#x27;#d01a2bff&#x27;, &#x27;#d01a2bff&#x27;, &#x27;#d01a2bff&#x27;, &#x27;#d01a2bff&#x27;, &#x27;#d01a2bff&#x27;, &#x27;#d01a2bff&#x27;, &#x27;#d01a2bff&#x27;, &#x27;#d01a2bff&#x27;, &#x27;#d01a2bff&#x27;, &#x27;#d01a2bff&#x27;, &#x27;#d01a2bff&#x27;, &#x27;#d01a2bff&#x27;, &#x27;#d01a2bff&#x27;, &#x27;#d01a2bff&#x27;, &#x27;#d01a2bff&#x27;, &#x27;#d01a2bff&#x27;, &#x27;#d01a2bff&#x27;, &#x27;#d01a2bff&#x27;, &#x27;#d01a2bff&#x27;, &#x27;#d01a2bff&#x27;, &#x27;#d01a2bff&#x27;, &#x27;#d01a2bff&#x27;, &#x27;#d01a2bff&#x27;, &#x27;#d01a2bff&#x27;, &#x27;#d01a2bff&#x27;, &#x27;#d01a2bff&#x27;, &#x27;#d01a2bff&#x27;, &#x27;#d01a2bff&#x27;, &#x27;#d01a2bff&#x27;, &#x27;#d01a2bff&#x27;, &#x27;#d01a2bff&#x27;, &#x27;#d01a2bff&#x27;, &#x27;#d01a2bff&#x27;, &#x27;#d01a2bff&#x27;, &#x27;#d01a2bff&#x27;, &#x27;#d01a2bff&#x27;, &#x27;#cf5225ff&#x27;, &#x27;#cf5225ff&#x27;, &#x27;#cf5225ff&#x27;, &#x27;#cf5225ff&#x27;, &#x27;#cf5225ff&#x27;, &#x27;#cf5225ff&#x27;, &#x27;#cf5225ff&#x27;, &#x27;#cf5225ff&#x27;, &#x27;#cf5225ff&#x27;, &#x27;#cf5225ff&#x27;, &#x27;#cf5225ff&#x27;, &#x27;#cf5225ff&#x27;, &#x27;#cf5225ff&#x27;, &#x27;#cf5225ff&#x27;, &#x27;#cf5225ff&#x27;, &#x27;#cf5225ff&#x27;, &#x27;#cf5225ff&#x27;, &#x27;#cf5225ff&#x27;, &#x27;#cf5225ff&#x27;, &#x27;#cf5225ff&#x27;, &#x27;#cf5225ff&#x27;, &#x27;#cf5225ff&#x27;, &#x27;#cf5225ff&#x27;, &#x27;#cf5225ff&#x27;, &#x27;#cf5225ff&#x27;, &#x27;#cf5225ff&#x27;, &#x27;#cf5225ff&#x27;, &#x27;#cf5225ff&#x27;, &#x27;#cf5225ff&#x27;, &#x27;#cf5225ff&#x27;, &#x27;#cf5225ff&#x27;, &#x27;#cf5225ff&#x27;, &#x27;#cf5225ff&#x27;, &#x27;#cf5225ff&#x27;, &#x27;#cf5225ff&#x27;, &#x27;#cf5225ff&#x27;, &#x27;#cf5225ff&#x27;, &#x27;#cf5225ff&#x27;, &#x27;#cf5225ff&#x27;, &#x27;#cf5225ff&#x27;, &#x27;#cf5225ff&#x27;, &#x27;#cf5225ff&#x27;, &#x27;#eda820ff&#x27;, &#x27;#eda820ff&#x27;, &#x27;#eda820ff&#x27;, &#x27;#eda820ff&#x27;, &#x27;#eda820ff&#x27;, &#x27;#eda820ff&#x27;, &#x27;#eda820ff&#x27;, &#x27;#eda820ff&#x27;, &#x27;#eda820ff&#x27;, &#x27;#eda820ff&#x27;, &#x27;#eda820ff&#x27;, &#x27;#eda820ff&#x27;, &#x27;#eda820ff&#x27;, &#x27;#eda820ff&#x27;, &#x27;#eda820ff&#x27;, &#x27;#eda820ff&#x27;, &#x27;#eda820ff&#x27;, &#x27;#eda820ff&#x27;, &#x27;#eda820ff&#x27;, &#x27;#eda820ff&#x27;, &#x27;#eda820ff&#x27;, &#x27;#eda820ff&#x27;, &#x27;#eda820ff&#x27;, &#x27;#eda820ff&#x27;, &#x27;#eda820ff&#x27;, &#x27;#eda820ff&#x27;, &#x27;#eda820ff&#x27;, &#x27;#eda820ff&#x27;, &#x27;#eda820ff&#x27;, &#x27;#eda820ff&#x27;, &#x27;#eda820ff&#x27;, &#x27;#eda820ff&#x27;, &#x27;#eda820ff&#x27;, &#x27;#eda820ff&#x27;, &#x27;#eda820ff&#x27;, &#x27;#eda820ff&#x27;, &#x27;#eda820ff&#x27;, &#x27;#eda820ff&#x27;, &#x27;#eda820ff&#x27;, &#x27;#eda820ff&#x27;, &#x27;#eda820ff&#x27;, &#x27;#eace20ff&#x27;, &#x27;#eace20ff&#x27;, &#x27;#eace20ff&#x27;, &#x27;#eace20ff&#x27;, &#x27;#eace20ff&#x27;, &#x27;#eace20ff&#x27;, &#x27;#eace20ff&#x27;, &#x27;#eace20ff&#x27;, &#x27;#eace20ff&#x27;, &#x27;#eace20ff&#x27;, &#x27;#eace20ff&#x27;, &#x27;#eace20ff&#x27;, &#x27;#eace20ff&#x27;, &#x27;#eace20ff&#x27;, &#x27;#eace20ff&#x27;, &#x27;#eace20ff&#x27;, &#x27;#eace20ff&#x27;, &#x27;#eace20ff&#x27;, &#x27;#eace20ff&#x27;, &#x27;#eace20ff&#x27;, &#x27;#eace20ff&#x27;, &#x27;#eace20ff&#x27;, &#x27;#eace20ff&#x27;, &#x27;#eace20ff&#x27;, &#x27;#eace20ff&#x27;, &#x27;#eace20ff&#x27;, &#x27;#eace20ff&#x27;, &#x27;#eace20ff&#x27;, &#x27;#eace20ff&#x27;, &#x27;#eace20ff&#x27;, &#x27;#eace20ff&#x27;, &#x27;#eace20ff&#x27;, &#x27;#eace20ff&#x27;, &#x27;#eace20ff&#x27;, &#x27;#eace20ff&#x27;, &#x27;#eace20ff&#x27;, &#x27;#eace20ff&#x27;, &#x27;#eace20ff&#x27;, &#x27;#eace20ff&#x27;, &#x27;#eace20ff&#x27;, &#x27;#eace20ff&#x27;, &#x27;#eace20ff&#x27;, &#x27;#8abb22ff&#x27;, &#x27;#8abb22ff&#x27;, &#x27;#8abb22ff&#x27;, &#x27;#8abb22ff&#x27;, &#x27;#8abb22ff&#x27;, &#x27;#8abb22ff&#x27;, &#x27;#8abb22ff&#x27;, &#x27;#8abb22ff&#x27;, &#x27;#8abb22ff&#x27;, &#x27;#8abb22ff&#x27;, &#x27;#8abb22ff&#x27;, &#x27;#8abb22ff&#x27;, &#x27;#8abb22ff&#x27;, &#x27;#8abb22ff&#x27;, &#x27;#8abb22ff&#x27;, &#x27;#8abb22ff&#x27;, &#x27;#8abb22ff&#x27;, &#x27;#8abb22ff&#x27;, &#x27;#8abb22ff&#x27;, &#x27;#8abb22ff&#x27;, &#x27;#8abb22ff&#x27;, &#x27;#8abb22ff&#x27;, &#x27;#8abb22ff&#x27;, &#x27;#8abb22ff&#x27;, &#x27;#8abb22ff&#x27;, &#x27;#8abb22ff&#x27;, &#x27;#8abb22ff&#x27;, &#x27;#8abb22ff&#x27;, &#x27;#8abb22ff&#x27;, &#x27;#8abb22ff&#x27;, &#x27;#8abb22ff&#x27;, &#x27;#8abb22ff&#x27;, &#x27;#8abb22ff&#x27;, &#x27;#8abb22ff&#x27;, &#x27;#8abb22ff&#x27;, &#x27;#8abb22ff&#x27;, &#x27;#8abb22ff&#x27;, &#x27;#8abb22ff&#x27;, &#x27;#8abb22ff&#x27;, &#x27;#8abb22ff&#x27;, &#x27;#8abb22ff&#x27;, &#x27;#3bbe4aff&#x27;, &#x27;#3bbe4aff&#x27;, &#x27;#3bbe4aff&#x27;, &#x27;#3bbe4aff&#x27;, &#x27;#3bbe4aff&#x27;, &#x27;#3bbe4aff&#x27;, &#x27;#3bbe4aff&#x27;, &#x27;#3bbe4aff&#x27;, &#x27;#3bbe4aff&#x27;, &#x27;#3bbe4aff&#x27;, &#x27;#3bbe4aff&#x27;, &#x27;#3bbe4aff&#x27;, &#x27;#3bbe4aff&#x27;, &#x27;#3bbe4aff&#x27;, &#x27;#3bbe4aff&#x27;, &#x27;#3bbe4aff&#x27;, &#x27;#3bbe4aff&#x27;, &#x27;#3bbe4aff&#x27;, &#x27;#3bbe4aff&#x27;, &#x27;#3bbe4aff&#x27;, &#x27;#3bbe4aff&#x27;, &#x27;#3bbe4aff&#x27;, &#x27;#3bbe4aff&#x27;, &#x27;#3bbe4aff&#x27;, &#x27;#3bbe4aff&#x27;, &#x27;#3bbe4aff&#x27;, &#x27;#3bbe4aff&#x27;, &#x27;#3bbe4aff&#x27;, &#x27;#3bbe4aff&#x27;, &#x27;#3bbe4aff&#x27;, &#x27;#3bbe4aff&#x27;, &#x27;#3bbe4aff&#x27;, &#x27;#3bbe4aff&#x27;, &#x27;#3bbe4aff&#x27;, &#x27;#3bbe4aff&#x27;, &#x27;#3bbe4aff&#x27;, &#x27;#3bbe4aff&#x27;, &#x27;#3bbe4aff&#x27;, &#x27;#3bbe4aff&#x27;, &#x27;#3bbe4aff&#x27;, &#x27;#3bbe4aff&#x27;, &#x27;#3bbe4aff&#x27;, &#x27;#27c997ff&#x27;, &#x27;#27c997ff&#x27;, &#x27;#27c997ff&#x27;, &#x27;#27c997ff&#x27;, &#x27;#27c997ff&#x27;, &#x27;#27c997ff&#x27;, &#x27;#27c997ff&#x27;, &#x27;#27c997ff&#x27;, &#x27;#27c997ff&#x27;, &#x27;#27c997ff&#x27;, &#x27;#27c997ff&#x27;, &#x27;#27c997ff&#x27;, &#x27;#27c997ff&#x27;, &#x27;#27c997ff&#x27;, &#x27;#27c997ff&#x27;, &#x27;#27c997ff&#x27;, &#x27;#27c997ff&#x27;, &#x27;#27c997ff&#x27;, &#x27;#27c997ff&#x27;, &#x27;#27c997ff&#x27;, &#x27;#27c997ff&#x27;, &#x27;#27c997ff&#x27;, &#x27;#27c997ff&#x27;, &#x27;#27c997ff&#x27;, &#x27;#27c997ff&#x27;, &#x27;#27c997ff&#x27;, &#x27;#27c997ff&#x27;, &#x27;#27c997ff&#x27;, &#x27;#27c997ff&#x27;, &#x27;#27c997ff&#x27;, &#x27;#27c997ff&#x27;, &#x27;#27c997ff&#x27;, &#x27;#27c997ff&#x27;, &#x27;#27c997ff&#x27;, &#x27;#27c997ff&#x27;, &#x27;#27c997ff&#x27;, &#x27;#27c997ff&#x27;, &#x27;#27c997ff&#x27;, &#x27;#27c997ff&#x27;, &#x27;#27c997ff&#x27;, &#x27;#27c997ff&#x27;, &#x27;#27c997ff&#x27;, &#x27;#15acd4ff&#x27;, &#x27;#15acd4ff&#x27;, &#x27;#15acd4ff&#x27;, &#x27;#15acd4ff&#x27;, &#x27;#15acd4ff&#x27;, &#x27;#15acd4ff&#x27;, &#x27;#15acd4ff&#x27;, &#x27;#15acd4ff&#x27;, &#x27;#15acd4ff&#x27;, &#x27;#15acd4ff&#x27;, &#x27;#15acd4ff&#x27;, &#x27;#15acd4ff&#x27;, &#x27;#15acd4ff&#x27;, &#x27;#15acd4ff&#x27;, &#x27;#15acd4ff&#x27;, &#x27;#15acd4ff&#x27;, &#x27;#15acd4ff&#x27;, &#x27;#15acd4ff&#x27;, &#x27;#15acd4ff&#x27;, &#x27;#15acd4ff&#x27;, &#x27;#15acd4ff&#x27;, &#x27;#15acd4ff&#x27;, &#x27;#15acd4ff&#x27;, &#x27;#15acd4ff&#x27;, &#x27;#15acd4ff&#x27;, &#x27;#15acd4ff&#x27;, &#x27;#15acd4ff&#x27;, &#x27;#15acd4ff&#x27;, &#x27;#15acd4ff&#x27;, &#x27;#15acd4ff&#x27;, &#x27;#15acd4ff&#x27;, &#x27;#15acd4ff&#x27;, &#x27;#15acd4ff&#x27;, &#x27;#15acd4ff&#x27;, &#x27;#15acd4ff&#x27;, &#x27;#15acd4ff&#x27;, &#x27;#15acd4ff&#x27;, &#x27;#15acd4ff&#x27;, &#x27;#15acd4ff&#x27;, &#x27;#15acd4ff&#x27;, &#x27;#15acd4ff&#x27;, &#x27;#166bdcff&#x27;, &#x27;#166bdcff&#x27;, &#x27;#166bdcff&#x27;, &#x27;#166bdcff&#x27;, &#x27;#166bdcff&#x27;, &#x27;#166bdcff&#x27;, &#x27;#166bdcff&#x27;, &#x27;#166bdcff&#x27;, &#x27;#166bdcff&#x27;, &#x27;#166bdcff&#x27;, &#x27;#166bdcff&#x27;, &#x27;#166bdcff&#x27;, &#x27;#166bdcff&#x27;, &#x27;#166bdcff&#x27;, &#x27;#166bdcff&#x27;, &#x27;#166bdcff&#x27;, &#x27;#166bdcff&#x27;, &#x27;#166bdcff&#x27;, &#x27;#166bdcff&#x27;, &#x27;#166bdcff&#x27;, &#x27;#166bdcff&#x27;, &#x27;#166bdcff&#x27;, &#x27;#166bdcff&#x27;, &#x27;#166bdcff&#x27;, &#x27;#166bdcff&#x27;, &#x27;#166bdcff&#x27;, &#x27;#166bdcff&#x27;, &#x27;#166bdcff&#x27;, &#x27;#166bdcff&#x27;, &#x27;#166bdcff&#x27;, &#x27;#166bdcff&#x27;, &#x27;#166bdcff&#x27;, &#x27;#166bdcff&#x27;, &#x27;#166bdcff&#x27;, &#x27;#166bdcff&#x27;, &#x27;#166bdcff&#x27;, &#x27;#166bdcff&#x27;, &#x27;#166bdcff&#x27;, &#x27;#166bdcff&#x27;, &#x27;#166bdcff&#x27;, &#x27;#166bdcff&#x27;, &#x27;#166bdcff&#x27;, &#x27;#212bd3ff&#x27;, &#x27;#212bd3ff&#x27;, &#x27;#212bd3ff&#x27;, &#x27;#212bd3ff&#x27;, &#x27;#212bd3ff&#x27;, &#x27;#212bd3ff&#x27;, &#x27;#212bd3ff&#x27;, &#x27;#212bd3ff&#x27;, &#x27;#212bd3ff&#x27;, &#x27;#212bd3ff&#x27;, &#x27;#212bd3ff&#x27;, &#x27;#212bd3ff&#x27;, &#x27;#212bd3ff&#x27;, &#x27;#212bd3ff&#x27;, &#x27;#212bd3ff&#x27;, &#x27;#212bd3ff&#x27;, &#x27;#212bd3ff&#x27;, &#x27;#212bd3ff&#x27;, &#x27;#212bd3ff&#x27;, &#x27;#212bd3ff&#x27;, &#x27;#212bd3ff&#x27;, &#x27;#212bd3ff&#x27;, &#x27;#212bd3ff&#x27;, &#x27;#212bd3ff&#x27;, &#x27;#212bd3ff&#x27;, &#x27;#212bd3ff&#x27;, &#x27;#212bd3ff&#x27;, &#x27;#212bd3ff&#x27;, &#x27;#212bd3ff&#x27;, &#x27;#212bd3ff&#x27;, &#x27;#212bd3ff&#x27;, &#x27;#212bd3ff&#x27;, &#x27;#212bd3ff&#x27;, &#x27;#212bd3ff&#x27;, &#x27;#212bd3ff&#x27;, &#x27;#212bd3ff&#x27;, &#x27;#212bd3ff&#x27;, &#x27;#212bd3ff&#x27;, &#x27;#212bd3ff&#x27;, &#x27;#212bd3ff&#x27;, &#x27;#212bd3ff&#x27;, &#x27;#3f1cc1ff&#x27;, &#x27;#3f1cc1ff&#x27;, &#x27;#3f1cc1ff&#x27;, &#x27;#3f1cc1ff&#x27;, &#x27;#3f1cc1ff&#x27;, &#x27;#3f1cc1ff&#x27;, &#x27;#3f1cc1ff&#x27;, &#x27;#3f1cc1ff&#x27;, &#x27;#3f1cc1ff&#x27;, &#x27;#3f1cc1ff&#x27;, &#x27;#3f1cc1ff&#x27;, &#x27;#3f1cc1ff&#x27;, &#x27;#3f1cc1ff&#x27;, &#x27;#3f1cc1ff&#x27;, &#x27;#3f1cc1ff&#x27;, &#x27;#3f1cc1ff&#x27;, &#x27;#3f1cc1ff&#x27;, &#x27;#3f1cc1ff&#x27;, &#x27;#3f1cc1ff&#x27;, &#x27;#3f1cc1ff&#x27;, &#x27;#3f1cc1ff&#x27;, &#x27;#3f1cc1ff&#x27;, &#x27;#3f1cc1ff&#x27;, &#x27;#3f1cc1ff&#x27;, &#x27;#3f1cc1ff&#x27;, &#x27;#3f1cc1ff&#x27;, &#x27;#3f1cc1ff&#x27;, &#x27;#3f1cc1ff&#x27;, &#x27;#3f1cc1ff&#x27;, &#x27;#3f1cc1ff&#x27;, &#x27;#3f1cc1ff&#x27;, &#x27;#3f1cc1ff&#x27;, &#x27;#3f1cc1ff&#x27;, &#x27;#3f1cc1ff&#x27;, &#x27;#3f1cc1ff&#x27;, &#x27;#3f1cc1ff&#x27;, &#x27;#3f1cc1ff&#x27;, &#x27;#3f1cc1ff&#x27;, &#x27;#3f1cc1ff&#x27;, &#x27;#3f1cc1ff&#x27;, &#x27;#3f1cc1ff&#x27;, &#x27;#3f1cc1ff&#x27;, &#x27;#5b2799ff&#x27;, &#x27;#5b2799ff&#x27;, &#x27;#5b2799ff&#x27;, &#x27;#5b2799ff&#x27;, &#x27;#5b2799ff&#x27;, &#x27;#5b2799ff&#x27;, &#x27;#5b2799ff&#x27;, &#x27;#5b2799ff&#x27;, &#x27;#5b2799ff&#x27;, &#x27;#5b2799ff&#x27;, &#x27;#5b2799ff&#x27;, &#x27;#5b2799ff&#x27;, &#x27;#5b2799ff&#x27;, &#x27;#5b2799ff&#x27;, &#x27;#5b2799ff&#x27;, &#x27;#5b2799ff&#x27;, &#x27;#5b2799ff&#x27;, &#x27;#5b2799ff&#x27;, &#x27;#5b2799ff&#x27;, &#x27;#5b2799ff&#x27;, &#x27;#5b2799ff&#x27;, &#x27;#5b2799ff&#x27;, &#x27;#5b2799ff&#x27;, &#x27;#5b2799ff&#x27;, &#x27;#5b2799ff&#x27;, &#x27;#5b2799ff&#x27;, &#x27;#5b2799ff&#x27;, &#x27;#5b2799ff&#x27;, &#x27;#5b2799ff&#x27;, &#x27;#5b2799ff&#x27;, &#x27;#5b2799ff&#x27;, &#x27;#5b2799ff&#x27;, &#x27;#5b2799ff&#x27;, &#x27;#5b2799ff&#x27;, &#x27;#5b2799ff&#x27;, &#x27;#5b2799ff&#x27;, &#x27;#5b2799ff&#x27;, &#x27;#5b2799ff&#x27;, &#x27;#5b2799ff&#x27;, &#x27;#5b2799ff&#x27;, &#x27;#5b2799ff&#x27;, &#x27;#5b2799ff&#x27;]);\n",
       "    \n",
       "\n",
       "    color_map_102b797d761aef43b3457d9a04e3cc70.x = d3.scale.linear()\n",
       "              .domain([20.3, 21.5])\n",
       "              .range([0, 450 - 50]);\n",
       "\n",
       "    color_map_102b797d761aef43b3457d9a04e3cc70.legend = L.control({position: &#x27;topright&#x27;});\n",
       "    color_map_102b797d761aef43b3457d9a04e3cc70.legend.onAdd = function (map) {var div = L.DomUtil.create(&#x27;div&#x27;, &#x27;legend&#x27;); return div};\n",
       "    color_map_102b797d761aef43b3457d9a04e3cc70.legend.addTo(map_d6763a4a6b363bb0f0fbe38359630c97);\n",
       "\n",
       "    color_map_102b797d761aef43b3457d9a04e3cc70.xAxis = d3.svg.axis()\n",
       "        .scale(color_map_102b797d761aef43b3457d9a04e3cc70.x)\n",
       "        .orient(&quot;top&quot;)\n",
       "        .tickSize(1)\n",
       "        .tickValues([20.3, &#x27;&#x27;, 20.5, &#x27;&#x27;, 20.7, &#x27;&#x27;, 20.9, &#x27;&#x27;, 21.1, &#x27;&#x27;, 21.3, &#x27;&#x27;, 21.5, &#x27;&#x27;]);\n",
       "\n",
       "    color_map_102b797d761aef43b3457d9a04e3cc70.svg = d3.select(&quot;.legend.leaflet-control&quot;).append(&quot;svg&quot;)\n",
       "        .attr(&quot;id&quot;, &#x27;legend&#x27;)\n",
       "        .attr(&quot;width&quot;, 450)\n",
       "        .attr(&quot;height&quot;, 40);\n",
       "\n",
       "    color_map_102b797d761aef43b3457d9a04e3cc70.g = color_map_102b797d761aef43b3457d9a04e3cc70.svg.append(&quot;g&quot;)\n",
       "        .attr(&quot;class&quot;, &quot;key&quot;)\n",
       "        .attr(&quot;transform&quot;, &quot;translate(25,16)&quot;);\n",
       "\n",
       "    color_map_102b797d761aef43b3457d9a04e3cc70.g.selectAll(&quot;rect&quot;)\n",
       "        .data(color_map_102b797d761aef43b3457d9a04e3cc70.color.range().map(function(d, i) {\n",
       "          return {\n",
       "            x0: i ? color_map_102b797d761aef43b3457d9a04e3cc70.x(color_map_102b797d761aef43b3457d9a04e3cc70.color.domain()[i - 1]) : color_map_102b797d761aef43b3457d9a04e3cc70.x.range()[0],\n",
       "            x1: i &lt; color_map_102b797d761aef43b3457d9a04e3cc70.color.domain().length ? color_map_102b797d761aef43b3457d9a04e3cc70.x(color_map_102b797d761aef43b3457d9a04e3cc70.color.domain()[i]) : color_map_102b797d761aef43b3457d9a04e3cc70.x.range()[1],\n",
       "            z: d\n",
       "          };\n",
       "        }))\n",
       "      .enter().append(&quot;rect&quot;)\n",
       "        .attr(&quot;height&quot;, 40 - 30)\n",
       "        .attr(&quot;x&quot;, function(d) { return d.x0; })\n",
       "        .attr(&quot;width&quot;, function(d) { return d.x1 - d.x0; })\n",
       "        .style(&quot;fill&quot;, function(d) { return d.z; });\n",
       "\n",
       "    color_map_102b797d761aef43b3457d9a04e3cc70.g.call(color_map_102b797d761aef43b3457d9a04e3cc70.xAxis).append(&quot;text&quot;)\n",
       "        .attr(&quot;class&quot;, &quot;caption&quot;)\n",
       "        .attr(&quot;y&quot;, 21)\n",
       "        .text(&quot;&quot;);\n",
       "&lt;/script&gt;\n",
       "&lt;/html&gt;\" style=\"position:absolute;width:100%;height:100%;left:0;top:0;border:none !important;\" allowfullscreen webkitallowfullscreen mozallowfullscreen></iframe></div></div>"
      ],
      "text/plain": [
       "<folium.folium.Map at 0x1dc002ec760>"
      ]
     },
     "execution_count": 101,
     "metadata": {},
     "output_type": "execute_result"
    }
   ],
   "source": [
    "img = folium.raster_layers.ImageOverlay(\n",
    "        name=\"Mapa de color\",\n",
    "        image=Col,\n",
    "        bounds=[Esquina_sup_izq, Esquina_inf_dere],\n",
    "        mercator_project=False,\n",
    "      )\n",
    "img.add_to(geomap)\n",
    "geomap.add_child(cm)"
   ]
  },
  {
   "cell_type": "markdown",
   "metadata": {},
   "source": [
    "### Propiedades del mapa"
   ]
  },
  {
   "cell_type": "code",
   "execution_count": 102,
   "metadata": {
    "scrolled": true
   },
   "outputs": [
    {
     "name": "stdout",
     "output_type": "stream",
     "text": [
      "Altura: 16 píxeles\n",
      "Anchura: 29 píxeles\n"
     ]
    }
   ],
   "source": [
    "print('Altura: '+str(len(a))+' píxeles')\n",
    "print('Anchura: '+str(len(a[0]))+' píxeles')"
   ]
  },
  {
   "cell_type": "code",
   "execution_count": 103,
   "metadata": {
    "scrolled": true
   },
   "outputs": [
    {
     "name": "stdout",
     "output_type": "stream",
     "text": [
      "Máxima diferencia de magnitudes entre dos píxles contiguos: 0.7 mag\n"
     ]
    }
   ],
   "source": [
    "print('Máxima diferencia de magnitudes entre dos píxles contiguos: '+str(np.round(max(np.abs(a[:-1,:]-a[1:,:]).max(),np.abs(a[:,:-1]-a[:,1:]).max()),1))+' mag')"
   ]
  },
  {
   "cell_type": "markdown",
   "metadata": {},
   "source": [
    "### Tabla comparativa satelite y fotómetros"
   ]
  },
  {
   "cell_type": "markdown",
   "metadata": {},
   "source": [
    "Funcion para calcular distancias entre dos coordenadas"
   ]
  },
  {
   "cell_type": "code",
   "execution_count": 104,
   "metadata": {},
   "outputs": [],
   "source": [
    "def distancia(lat1, lon1, lat2, lon2):\n",
    "    rad=np.pi/180\n",
    "    dlat=lat2-lat1\n",
    "    dlon=lon2-lon1\n",
    "    R=6372.795477598\n",
    "    a=(np.sin(rad*dlat/2))**2 + np.cos(rad*lat1)*np.cos(rad*lat2)*(np.sin(rad*dlon/2))**2\n",
    "    distancia=2*R*np.arcsin(np.sqrt(a))\n",
    "    return distancia"
   ]
  },
  {
   "cell_type": "markdown",
   "metadata": {},
   "source": [
    "Generamos el dataset de comparación datos satélite y fotóemtros"
   ]
  },
  {
   "cell_type": "code",
   "execution_count": 105,
   "metadata": {},
   "outputs": [],
   "source": [
    "D1=[]\n",
    "Valor1=[]\n",
    "E=[]\n",
    "for i in range(0,len(Fot_Valverde)):\n",
    "    d=distancia(LATITUD,LONGITUD,Fot_Valverde['latitude'].values[i],Fot_Valverde['longitude'].values[i])\n",
    "    min1=[i[0] for i in np.where(d==d.min())]\n",
    "    \n",
    "    D1=D1+[d.min()]\n",
    "    Valor1=Valor1+[a[min1[0],min1[1]]]\n",
    "    E=E+[Errores[min1[0],min1[1]]]\n",
    "\n",
    "Fot_Valverde['D1']=D1\n",
    "Fot_Valverde['Valor1']=Valor1\n",
    "Fot_Valverde['E']=E"
   ]
  },
  {
   "cell_type": "code",
   "execution_count": 106,
   "metadata": {},
   "outputs": [
    {
     "name": "stderr",
     "output_type": "stream",
     "text": [
      "C:\\Users\\borja\\AppData\\Local\\Temp\\ipykernel_7472\\4171812197.py:3: SettingWithCopyWarning:\n",
      "\n",
      "\n",
      "A value is trying to be set on a copy of a slice from a DataFrame.\n",
      "Try using .loc[row_indexer,col_indexer] = value instead\n",
      "\n",
      "See the caveats in the documentation: https://pandas.pydata.org/pandas-docs/stable/user_guide/indexing.html#returning-a-view-versus-a-copy\n",
      "\n"
     ]
    }
   ],
   "source": [
    "Fot_Valverde2=Fot_Valverde[['name','mag','Q1','Q3','Valor1','E']]\n",
    "for i in list(Fot_Valverde2.columns.values[1:]):\n",
    "    Fot_Valverde2[i]=np.round(Fot_Valverde2[i],2)"
   ]
  },
  {
   "cell_type": "markdown",
   "metadata": {},
   "source": [
    "Tabla comprativa fotómetros y satelite, corresponde a la Tabla 4"
   ]
  },
  {
   "cell_type": "code",
   "execution_count": 107,
   "metadata": {},
   "outputs": [
    {
     "data": {
      "text/html": [
       "<div>\n",
       "<style scoped>\n",
       "    .dataframe tbody tr th:only-of-type {\n",
       "        vertical-align: middle;\n",
       "    }\n",
       "\n",
       "    .dataframe tbody tr th {\n",
       "        vertical-align: top;\n",
       "    }\n",
       "\n",
       "    .dataframe thead th {\n",
       "        text-align: right;\n",
       "    }\n",
       "</style>\n",
       "<table border=\"1\" class=\"dataframe\">\n",
       "  <thead>\n",
       "    <tr style=\"text-align: right;\">\n",
       "      <th></th>\n",
       "      <th>name</th>\n",
       "      <th>mag</th>\n",
       "      <th>Q1</th>\n",
       "      <th>Q3</th>\n",
       "      <th>Valor1</th>\n",
       "      <th>E</th>\n",
       "    </tr>\n",
       "  </thead>\n",
       "  <tbody>\n",
       "    <tr>\n",
       "      <th>10</th>\n",
       "      <td>LPL15_043</td>\n",
       "      <td>20.69</td>\n",
       "      <td>20.61</td>\n",
       "      <td>20.77</td>\n",
       "      <td>20.30</td>\n",
       "      <td>0.10</td>\n",
       "    </tr>\n",
       "    <tr>\n",
       "      <th>16</th>\n",
       "      <td>stars770</td>\n",
       "      <td>20.63</td>\n",
       "      <td>20.52</td>\n",
       "      <td>20.77</td>\n",
       "      <td>20.57</td>\n",
       "      <td>0.08</td>\n",
       "    </tr>\n",
       "    <tr>\n",
       "      <th>11</th>\n",
       "      <td>LPL15_045</td>\n",
       "      <td>20.50</td>\n",
       "      <td>20.43</td>\n",
       "      <td>20.54</td>\n",
       "      <td>20.57</td>\n",
       "      <td>0.08</td>\n",
       "    </tr>\n",
       "    <tr>\n",
       "      <th>15</th>\n",
       "      <td>stars767</td>\n",
       "      <td>20.70</td>\n",
       "      <td>20.60</td>\n",
       "      <td>20.76</td>\n",
       "      <td>20.57</td>\n",
       "      <td>0.08</td>\n",
       "    </tr>\n",
       "    <tr>\n",
       "      <th>9</th>\n",
       "      <td>LPL15_030</td>\n",
       "      <td>20.93</td>\n",
       "      <td>20.89</td>\n",
       "      <td>21.00</td>\n",
       "      <td>20.57</td>\n",
       "      <td>0.08</td>\n",
       "    </tr>\n",
       "    <tr>\n",
       "      <th>14</th>\n",
       "      <td>LPL15_057</td>\n",
       "      <td>20.86</td>\n",
       "      <td>20.79</td>\n",
       "      <td>20.92</td>\n",
       "      <td>20.64</td>\n",
       "      <td>0.08</td>\n",
       "    </tr>\n",
       "    <tr>\n",
       "      <th>7</th>\n",
       "      <td>LPL15_027</td>\n",
       "      <td>21.12</td>\n",
       "      <td>21.04</td>\n",
       "      <td>21.17</td>\n",
       "      <td>21.02</td>\n",
       "      <td>0.09</td>\n",
       "    </tr>\n",
       "    <tr>\n",
       "      <th>12</th>\n",
       "      <td>LPL15_046</td>\n",
       "      <td>21.08</td>\n",
       "      <td>21.01</td>\n",
       "      <td>21.14</td>\n",
       "      <td>21.08</td>\n",
       "      <td>0.09</td>\n",
       "    </tr>\n",
       "    <tr>\n",
       "      <th>2</th>\n",
       "      <td>LPL15_006</td>\n",
       "      <td>20.94</td>\n",
       "      <td>20.86</td>\n",
       "      <td>20.99</td>\n",
       "      <td>21.14</td>\n",
       "      <td>0.10</td>\n",
       "    </tr>\n",
       "    <tr>\n",
       "      <th>5</th>\n",
       "      <td>LPL15_011</td>\n",
       "      <td>21.17</td>\n",
       "      <td>21.10</td>\n",
       "      <td>21.21</td>\n",
       "      <td>21.14</td>\n",
       "      <td>0.10</td>\n",
       "    </tr>\n",
       "    <tr>\n",
       "      <th>8</th>\n",
       "      <td>LPL15_029</td>\n",
       "      <td>21.20</td>\n",
       "      <td>21.19</td>\n",
       "      <td>21.21</td>\n",
       "      <td>21.31</td>\n",
       "      <td>0.13</td>\n",
       "    </tr>\n",
       "    <tr>\n",
       "      <th>3</th>\n",
       "      <td>LPL15_007</td>\n",
       "      <td>21.10</td>\n",
       "      <td>21.03</td>\n",
       "      <td>21.14</td>\n",
       "      <td>21.31</td>\n",
       "      <td>0.13</td>\n",
       "    </tr>\n",
       "    <tr>\n",
       "      <th>1</th>\n",
       "      <td>LPL15_005</td>\n",
       "      <td>21.09</td>\n",
       "      <td>21.02</td>\n",
       "      <td>21.13</td>\n",
       "      <td>21.31</td>\n",
       "      <td>0.13</td>\n",
       "    </tr>\n",
       "    <tr>\n",
       "      <th>6</th>\n",
       "      <td>LPL15_022</td>\n",
       "      <td>21.13</td>\n",
       "      <td>21.09</td>\n",
       "      <td>21.17</td>\n",
       "      <td>21.31</td>\n",
       "      <td>0.13</td>\n",
       "    </tr>\n",
       "    <tr>\n",
       "      <th>4</th>\n",
       "      <td>LPL15_008</td>\n",
       "      <td>21.16</td>\n",
       "      <td>21.09</td>\n",
       "      <td>21.21</td>\n",
       "      <td>21.43</td>\n",
       "      <td>0.16</td>\n",
       "    </tr>\n",
       "    <tr>\n",
       "      <th>13</th>\n",
       "      <td>LPL15_055</td>\n",
       "      <td>21.18</td>\n",
       "      <td>21.11</td>\n",
       "      <td>21.23</td>\n",
       "      <td>21.43</td>\n",
       "      <td>0.16</td>\n",
       "    </tr>\n",
       "    <tr>\n",
       "      <th>0</th>\n",
       "      <td>LPL15_002</td>\n",
       "      <td>21.20</td>\n",
       "      <td>21.12</td>\n",
       "      <td>21.25</td>\n",
       "      <td>21.43</td>\n",
       "      <td>0.16</td>\n",
       "    </tr>\n",
       "  </tbody>\n",
       "</table>\n",
       "</div>"
      ],
      "text/plain": [
       "         name    mag     Q1     Q3  Valor1     E\n",
       "10  LPL15_043  20.69  20.61  20.77   20.30  0.10\n",
       "16   stars770  20.63  20.52  20.77   20.57  0.08\n",
       "11  LPL15_045  20.50  20.43  20.54   20.57  0.08\n",
       "15   stars767  20.70  20.60  20.76   20.57  0.08\n",
       "9   LPL15_030  20.93  20.89  21.00   20.57  0.08\n",
       "14  LPL15_057  20.86  20.79  20.92   20.64  0.08\n",
       "7   LPL15_027  21.12  21.04  21.17   21.02  0.09\n",
       "12  LPL15_046  21.08  21.01  21.14   21.08  0.09\n",
       "2   LPL15_006  20.94  20.86  20.99   21.14  0.10\n",
       "5   LPL15_011  21.17  21.10  21.21   21.14  0.10\n",
       "8   LPL15_029  21.20  21.19  21.21   21.31  0.13\n",
       "3   LPL15_007  21.10  21.03  21.14   21.31  0.13\n",
       "1   LPL15_005  21.09  21.02  21.13   21.31  0.13\n",
       "6   LPL15_022  21.13  21.09  21.17   21.31  0.13\n",
       "4   LPL15_008  21.16  21.09  21.21   21.43  0.16\n",
       "13  LPL15_055  21.18  21.11  21.23   21.43  0.16\n",
       "0   LPL15_002  21.20  21.12  21.25   21.43  0.16"
      ]
     },
     "execution_count": 107,
     "metadata": {},
     "output_type": "execute_result"
    }
   ],
   "source": [
    "Fot_Valverde2.sort_values(['Valor1'])"
   ]
  },
  {
   "cell_type": "markdown",
   "metadata": {},
   "source": [
    "### Diferencia entre valores satelite y fotómetros"
   ]
  },
  {
   "cell_type": "code",
   "execution_count": 108,
   "metadata": {},
   "outputs": [
    {
     "name": "stdout",
     "output_type": "stream",
     "text": [
      "Diferencia media todos los fotóemtros: 0.18 mag\n"
     ]
    }
   ],
   "source": [
    "print('Diferencia media todos los fotóemtros: '+str(np.round(sum(np.abs(Fot_Valverde2['mag']-Fot_Valverde2['Valor1']))/len(Fot_Valverde2),2))+' mag')"
   ]
  },
  {
   "cell_type": "code",
   "execution_count": 109,
   "metadata": {},
   "outputs": [
    {
     "name": "stdout",
     "output_type": "stream",
     "text": [
      "Diferencia máxima todos los fotóemtros: 0.39 mag\n"
     ]
    }
   ],
   "source": [
    "print('Diferencia máxima todos los fotóemtros: '+str(np.round(max(np.abs(Fot_Valverde2['mag']-Fot_Valverde2['Valor1'])),2))+' mag')"
   ]
  },
  {
   "cell_type": "code",
   "execution_count": 110,
   "metadata": {},
   "outputs": [],
   "source": [
    "fuera_rango=Fot_Valverde2[Fot_Valverde2['Valor1']>21.12]"
   ]
  },
  {
   "cell_type": "code",
   "execution_count": 111,
   "metadata": {},
   "outputs": [
    {
     "name": "stdout",
     "output_type": "stream",
     "text": [
      "Diferencia media fotómetros oscuros fuera del ajuste: 0.19 mag\n"
     ]
    }
   ],
   "source": [
    "print('Diferencia media fotómetros oscuros fuera del ajuste: '+str(np.round(sum(np.abs(fuera_rango['mag']-fuera_rango['Valor1']))/len(fuera_rango),2))+' mag')"
   ]
  },
  {
   "cell_type": "code",
   "execution_count": 112,
   "metadata": {},
   "outputs": [
    {
     "name": "stdout",
     "output_type": "stream",
     "text": [
      "Diferencia máxima fotómetros oscuros fuera del ajuste: 0.27 mag\n"
     ]
    }
   ],
   "source": [
    "print('Diferencia máxima fotómetros oscuros fuera del ajuste: '+str(np.round(max(np.abs(fuera_rango['mag']-fuera_rango['Valor1'])),2))+' mag')"
   ]
  },
  {
   "cell_type": "code",
   "execution_count": 113,
   "metadata": {},
   "outputs": [],
   "source": [
    "dentro_rango=Fot_Valverde2[Fot_Valverde2['Valor1']<21.12]"
   ]
  },
  {
   "cell_type": "code",
   "execution_count": 114,
   "metadata": {},
   "outputs": [
    {
     "name": "stdout",
     "output_type": "stream",
     "text": [
      "Diferencia media fotómetros dentro del ajuste: 0.17 mag\n"
     ]
    }
   ],
   "source": [
    "print('Diferencia media fotómetros dentro del ajuste: '+str(np.round(sum(np.abs(dentro_rango['mag']-dentro_rango['Valor1']))/len(dentro_rango),2))+' mag')"
   ]
  },
  {
   "cell_type": "code",
   "execution_count": 115,
   "metadata": {},
   "outputs": [
    {
     "name": "stdout",
     "output_type": "stream",
     "text": [
      "Diferencia máxima fotómetros dentro del ajuste: 0.39 mag\n"
     ]
    }
   ],
   "source": [
    "print('Diferencia máxima fotómetros dentro del ajuste: '+str(np.round(max(np.abs(dentro_rango['mag']-dentro_rango['Valor1'])),2))+' mag')"
   ]
  },
  {
   "cell_type": "markdown",
   "metadata": {},
   "source": [
    "# Curva de evolución de la incertidumbre satélite"
   ]
  },
  {
   "cell_type": "code",
   "execution_count": null,
   "metadata": {},
   "outputs": [
    {
     "data": {
      "text/plain": [
       "(0.0, 0.5)"
      ]
     },
     "execution_count": 310,
     "metadata": {},
     "output_type": "execute_result"
    },
    {
     "data": {
      "image/png": "[encoded data removed]",
      "text/plain": [
       "<Figure size 640x480 with 1 Axes>"
      ]
     },
     "metadata": {},
     "output_type": "display_data"
    }
   ],
   "source": [
    "VIIRS=np.array(range(1,1000))/10\n",
    "Y=np.sqrt(.1/(np.log(10)*VIIRS)**2+(ajus[3]*np.log10(VIIRS))**2+(ajus[4])**2)\n",
    "X=np.log10(VIIRS)*ajus[1]+ajus[2]\n",
    "plt.plot(X,Y)\n",
    "plt.ylim(0,.5)"
   ]
  }
 ],
 "metadata": {
  "kernelspec": {
   "display_name": "Python 3 (ipykernel)",
   "language": "python",
   "name": "python3"
  },
  "language_info": {
   "codemirror_mode": {
    "name": "ipython",
    "version": 3
   },
   "file_extension": ".py",
   "mimetype": "text/x-python",
   "name": "python",
   "nbconvert_exporter": "python",
   "pygments_lexer": "ipython3",
   "version": "3.8.10"
  }
 },
 "nbformat": 4,
 "nbformat_minor": 4
}
